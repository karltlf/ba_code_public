{
 "cells": [
  {
   "cell_type": "markdown",
   "metadata": {},
   "source": [
    "### Code used:"
   ]
  },
  {
   "cell_type": "markdown",
   "metadata": {},
   "source": [
    "```\n",
    "from src.models.clustering_optimization.optimize_optics import optimize_optics\n",
    "eps_range = np.arange(0.1, 5, 0.1)\n",
    "min_samples_range = np.arange(2, 30, 1)\n",
    "optimization_results = optimize_optics(np.array([first_last_x_coords, first_last_y_coords]).T, eps_range, min_samples_range, cluster_method='dbscan', metric='euclidean')\n",
    "print(optimization_results)\n",
    "```"
   ]
  },
  {
   "cell_type": "markdown",
   "metadata": {},
   "source": [
    "### Results\n",
    "{'silhouette': {'score': 0.6843503962753096, 'epsilon': 3.4000000000000004, 'min_samples': 4}, 'calinski_harabasz': {'score': 1027.5518114138165, 'epsilon': 3.6, 'min_samples': 3}, 'davies_bouldin': {'score': 1.340056594360169, 'epsilon': 3.4000000000000004, 'min_samples': 2}}\n"
   ]
  },
  {
   "cell_type": "markdown",
   "metadata": {},
   "source": []
  }
 ],
 "metadata": {
  "language_info": {
   "name": "python"
  }
 },
 "nbformat": 4,
 "nbformat_minor": 2
}
