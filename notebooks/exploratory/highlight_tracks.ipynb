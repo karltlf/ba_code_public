{
 "cells": [
  {
   "cell_type": "code",
   "execution_count": null,
   "metadata": {},
   "outputs": [],
   "source": [
    "import pandas as pd\n",
    "import ast\n",
    "from importable_functions.render_vehicle_tracks import render_vehicle_tracks_highlight_tracks"
   ]
  },
  {
   "cell_type": "code",
   "execution_count": null,
   "metadata": {},
   "outputs": [],
   "source": [
    "# ********************\n",
    "# ****** IMPORT ******\n",
    "# ********************\n",
    "df_k729_2022_cuid = pd.read_csv('./datasets/k729_2022_cuid.csv')\n",
    "df_k729_2022_cuid_grouped = pd.read_csv('./datasets/k729_2022_cuid_grouped.csv')\n",
    "df_k729_2022_cuid_grouped['x'] = df_k729_2022_cuid_grouped['x'].apply(lambda x: ast.literal_eval(x))\n",
    "df_k729_2022_cuid_grouped['y'] = df_k729_2022_cuid_grouped['y'].apply(lambda y: ast.literal_eval(y))\n",
    "df_k729_2022_cuid_grouped['vx'] = df_k729_2022_cuid_grouped['vx'].apply(lambda vx: ast.literal_eval(vx))\n",
    "df_k729_2022_cuid_grouped['vy'] = df_k729_2022_cuid_grouped['vy'].apply(lambda vy: ast.literal_eval(vy))\n",
    "df_k729_2022_cuid_grouped['v'] = df_k729_2022_cuid_grouped['v'].apply(lambda v: ast.literal_eval(v))\n",
    "\n",
    "df_k733_2020_cuid = pd.read_csv('./datasets/k733_2020_cuid.csv')\n",
    "df_k733_2020_cuid_grouped = pd.read_csv('./datasets/k733_2020_cuid_grouped.csv')\n",
    "df_k733_2020_cuid_grouped['x'] = df_k733_2020_cuid_grouped['x'].apply(lambda x: ast.literal_eval(x))\n",
    "df_k733_2020_cuid_grouped['y'] = df_k733_2020_cuid_grouped['y'].apply(lambda y: ast.literal_eval(y))\n",
    "\n",
    "df_k733_2018_cuid = pd.read_csv('./datasets/k733_2018_cuid.csv')\n",
    "df_k733_2018_cuid_grouped = pd.read_csv('./datasets/k733_2018_cuid_grouped.csv')\n",
    "df_k733_2018_cuid_grouped['x'] = df_k733_2018_cuid_grouped['x'].apply(lambda x: ast.literal_eval(x))\n",
    "df_k733_2018_cuid_grouped['y'] = df_k733_2018_cuid_grouped['y'].apply(lambda y: ast.literal_eval(y))\n",
    "df_k733_2018_cuid_grouped['vx'] = df_k733_2018_cuid_grouped['vx'].apply(lambda vx: ast.literal_eval(vx))\n",
    "df_k733_2018_cuid_grouped['vy'] = df_k733_2018_cuid_grouped['vy'].apply(lambda vy: ast.literal_eval(vy))"
   ]
  },
  {
   "cell_type": "code",
   "execution_count": null,
   "metadata": {},
   "outputs": [],
   "source": [
    "for i in range(len(df_k729_2022_cuid_grouped['x'])):\n",
    "    render_vehicle_tracks_highlight_tracks(df_k729_2022_cuid,df_k729_2022_cuid_grouped,[f'{i}'], 'Vehicle Track Highlighted', 'saved in <intersection>/vehicle_tracks/single_highlighted/', 'highlighted', 'k729_2022', 'vehicle_tracks/single_highglighted')"
   ]
  },
  {
   "cell_type": "code",
   "execution_count": null,
   "metadata": {},
   "outputs": [],
   "source": []
  }
 ],
 "metadata": {
  "kernelspec": {
   "display_name": "Python 3",
   "language": "python",
   "name": "python3"
  },
  "language_info": {
   "codemirror_mode": {
    "name": "ipython",
    "version": 3
   },
   "file_extension": ".py",
   "mimetype": "text/x-python",
   "name": "python",
   "nbconvert_exporter": "python",
   "pygments_lexer": "ipython3",
   "version": "3.12.2"
  }
 },
 "nbformat": 4,
 "nbformat_minor": 2
}
