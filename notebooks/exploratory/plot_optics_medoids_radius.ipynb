{
 "cells": [
  {
   "cell_type": "code",
   "execution_count": null,
   "metadata": {},
   "outputs": [],
   "source": [
    "# PASTE THIS TO THE FIRST CELL OF THE NOTEBOOK IN ORDER TO HAVE WORKING IMPORTS\n",
    "import sys\n",
    "import os\n",
    "current_dir = os.getcwd()\n",
    "parent_parent_dir = os.path.abspath(os.path.join(current_dir, '../..')) # tweak so that you get dir of code project\n",
    "\n",
    "sys.path.append(parent_parent_dir)\n",
    "print(f\"Added {parent_parent_dir} to sys.path\")"
   ]
  },
  {
   "cell_type": "code",
   "execution_count": null,
   "metadata": {},
   "outputs": [],
   "source": [
    "from sklearn.cluster import OPTICS\n",
    "import numpy as np\n",
    "import pandas as pd\n",
    "import ast\n",
    "import matplotlib.pyplot as plt"
   ]
  },
  {
   "cell_type": "markdown",
   "metadata": {},
   "source": [
    "## data import"
   ]
  },
  {
   "cell_type": "code",
   "execution_count": null,
   "metadata": {},
   "outputs": [],
   "source": [
    "from src.features.get_x_y_tuples import get_x_y_tuple_list\n",
    "from src.features.get_first_and_last_x_y_coordinates import get_first_and_last_x_y_coordinates \n",
    "from src.features.get_first_x_y_coordinates import get_first_x_y_coordinates\n",
    "from src.features.get_last_x_y_coordinates import get_last_x_y_coordinates\n",
    "def import_data(df_path):\n",
    "    df_cuid = pd.read_csv(df_path)\n",
    "    df_cuid_grouped_path = df_path.replace('.csv', '_grouped.csv')\n",
    "    df_cuid_grouped = pd.read_csv(df_cuid_grouped_path)\n",
    "    # 1.1 CONVERT FEATURES TO NUMBERS\n",
    "    df_cuid_grouped['x'] = df_cuid_grouped['x'].apply(lambda x: ast.literal_eval(x))\n",
    "    df_cuid_grouped['y'] = df_cuid_grouped['y'].apply(lambda y: ast.literal_eval(y))\n",
    "    list_x_y_tuples = get_x_y_tuple_list(df_cuid_grouped, ['x','y'])\n",
    "    first_last_x_coords, first_last_y_coords = get_first_and_last_x_y_coordinates(list_x_y_tuples)\n",
    "    X = np.array([first_last_x_coords, first_last_y_coords]).T\n",
    "\n",
    "    first_x_coords, first_y_coords = get_first_x_y_coordinates(list_x_y_tuples)\n",
    "    first_coordinates = np.array([first_x_coords, first_y_coords]).T\n",
    "\n",
    "    last_x_coords, last_y_coords = get_last_x_y_coordinates(list_x_y_tuples)\n",
    "    last_coordinates = np.array([last_x_coords, last_y_coords]).T\n",
    "    return df_cuid, df_cuid_grouped, X, first_coordinates, last_coordinates, list_x_y_tuples\n",
    "        "
   ]
  },
  {
   "cell_type": "code",
   "execution_count": null,
   "metadata": {},
   "outputs": [],
   "source": [
    "df_path_k729_2022 = f'{parent_parent_dir}/data/processed/k729_2022_cuid.csv'\n",
    "df_path_k733_2020 = f'{parent_parent_dir}/data/processed/k733_2020_cuid.csv'\n",
    "df_path_k733_2018 = f'{parent_parent_dir}/data/processed/k733_2018_cuid.csv'\n",
    "\n",
    "df_cuid_k729_2022, df_cuid_grouped_k729_2022, X_k729_2022, first_coordinates_k729_2022, last_coordinates_k729_2022, list_x_y_tuples_k729_2022 = import_data(df_path_k729_2022)\n",
    "df_cuid_k733_2020, df_cuid_grouped_k733_2020, X_k733_2020, first_coordinates_k733_2020, last_coordinates_k733_2020, list_x_y_tuples_k733_2020 = import_data(df_path_k733_2020)\n",
    "df_cuid_k733_2018, df_cuid_grouped_k733_2018, X_k733_2018, first_coordinates_k733_2018, last_coordinates_k733_2018, list_x_y_tuples_k733_2018 = import_data(df_path_k733_2018)"
   ]
  },
  {
   "cell_type": "code",
   "execution_count": null,
   "metadata": {},
   "outputs": [],
   "source": [
    "# import json from path\n",
    "import json\n",
    "def import_json(json_path):\n",
    "    with open(json_path, 'r') as f:\n",
    "        json_file = json.load(f)\n",
    "    return json_file\n",
    "k729_2022_optimized_optics_params = import_json(f'{parent_parent_dir}/src/models/optics/optimized_optics_clustering_parameters/k729_2022_optics_optimized.json')\n",
    "k733_2020_optimized_optics_params = import_json(f'{parent_parent_dir}/src/models/optics/optimized_optics_clustering_parameters/k733_2020_optics_optimized_w_max_eps.json')\n",
    "k733_2018_optimized_optics_params = import_json(f'{parent_parent_dir}/src/models/optics/optimized_optics_clustering_parameters/k733_2018_optics_optimized.json')"
   ]
  },
  {
   "cell_type": "code",
   "execution_count": null,
   "metadata": {},
   "outputs": [],
   "source": [
    "from src.models.ensure_distance_metric_params import ensure_distance_metric_params\n",
    "from src.models.DISTANCE_METRICS_WITH_ADDITIONAL_ARGS import DISTANCE_METRICS_WITH_ADDITIONAL_ARGS\n",
    "def get_optimized_model_from_eval_metric(X, eval_metric, optimized_params):\n",
    "    if optimized_params[eval_metric]['metric'] in DISTANCE_METRICS_WITH_ADDITIONAL_ARGS: \n",
    "        metric_params = ensure_distance_metric_params(X, [optimized_params[eval_metric]['metric']])[optimized_params[eval_metric]['metric']]\n",
    "    else:\n",
    "        metric_params = {}\n",
    "    xi_kwarg = {'xi': optimized_params[eval_metric]['xi']} if optimized_params[eval_metric]['xi'] is not None else {}\n",
    "    return OPTICS(max_eps=optimized_params[eval_metric]['epsilon'],\n",
    "                  min_samples=optimized_params[eval_metric]['min_samples'],\n",
    "                  metric=optimized_params[eval_metric]['metric'],\n",
    "                  cluster_method=optimized_params[eval_metric]['cluster_method'],\n",
    "                  metric_params=metric_params,\n",
    "                  **xi_kwarg)\n"
   ]
  },
  {
   "cell_type": "markdown",
   "metadata": {},
   "source": [
    "#### fit models"
   ]
  },
  {
   "cell_type": "code",
   "execution_count": null,
   "metadata": {},
   "outputs": [],
   "source": [
    "k729_2022_optics_model_optimized_silhouette = get_optimized_model_from_eval_metric(X_k729_2022, 'silhouette', k729_2022_optimized_optics_params)\n",
    "k729_2022_optics_model_optimized_silhouette.fit(X_k729_2022)"
   ]
  },
  {
   "cell_type": "code",
   "execution_count": null,
   "metadata": {},
   "outputs": [],
   "source": [
    "k733_2020_optics_model_optimized_silhouette = get_optimized_model_from_eval_metric(X_k733_2020, 'silhouette', k733_2020_optimized_optics_params)\n",
    "k733_2020_optics_model_optimized_silhouette.fit(X_k733_2020)"
   ]
  },
  {
   "cell_type": "code",
   "execution_count": null,
   "metadata": {},
   "outputs": [],
   "source": [
    "k733_2018_optics_model_optimized_silhouette = get_optimized_model_from_eval_metric(X_k733_2018, 'silhouette', k733_2018_optimized_optics_params)\n",
    "k733_2018_optics_model_optimized_silhouette.fit(X_k733_2018)"
   ]
  },
  {
   "cell_type": "markdown",
   "metadata": {},
   "source": [
    "#### calculate medoids"
   ]
  },
  {
   "cell_type": "code",
   "execution_count": null,
   "metadata": {},
   "outputs": [],
   "source": [
    "from src.models.optics.calculate_cluster_medoids import calculate_cluster_medoids\n",
    "k729_2022_optics_silhouette_medoids = calculate_cluster_medoids(X=X_k729_2022, optics_model=k729_2022_optics_model_optimized_silhouette)\n",
    "k733_2020_optics_silhouette_medoids = calculate_cluster_medoids(X=X_k733_2020, optics_model=k733_2020_optics_model_optimized_silhouette)\n",
    "k733_2018_optics_silhouette_medoids = calculate_cluster_medoids(X=X_k733_2018, optics_model=k733_2018_optics_model_optimized_silhouette)\n"
   ]
  },
  {
   "cell_type": "markdown",
   "metadata": {},
   "source": [
    "#### plot "
   ]
  },
  {
   "cell_type": "code",
   "execution_count": null,
   "metadata": {},
   "outputs": [],
   "source": [
    "from src.visualization.plot_vehicle_tracks_in_notebook import plot_vehicle_tracks_in_notebook\n",
    "import matplotlib.pyplot as plt\n",
    "import matplotlib\n",
    "\n",
    "plot_vehicle_tracks_in_notebook(plt.gca(), df_cuid_k729_2022, df_cuid_grouped_k729_2022, 'k729_2022 vehicle tracks and optics medoids', color='gray')\n",
    "plt.gca().scatter(k729_2022_optics_silhouette_medoids[:,0], k729_2022_optics_silhouette_medoids[:,1], c='red', s=100)\n",
    "# plot radius around medoids\n",
    "for medoid in k729_2022_optics_silhouette_medoids:\n",
    "    plt.gca().add_artist(plt.Circle(medoid, k729_2022_optics_model_optimized_silhouette.get_params()['max_eps'], color='red', fill=False))\n",
    "    # plt.gca().add_artist(matplotlib.patches.Ellipse(xy=medoid, width=k729_2022_optics_model_optimized_silhouette.get_params()['max_eps']*2, height=k729_2022_optics_model_optimized_silhouette.get_params()['max_eps']*1, color='red', fill=False))"
   ]
  },
  {
   "cell_type": "code",
   "execution_count": null,
   "metadata": {},
   "outputs": [],
   "source": [
    "plt.clf()\n",
    "plot_vehicle_tracks_in_notebook(plt.gca(), df_cuid_k733_2020, df_cuid_grouped_k733_2020, 'k733_2020 vehicle tracks and optics medoids', color='gray')\n",
    "plt.gca().scatter(k733_2020_optics_silhouette_medoids[:,0], k733_2020_optics_silhouette_medoids[:,1], c='red', s=100)\n",
    "# plot radius around medoids\n",
    "for medoid in k733_2020_optics_silhouette_medoids:\n",
    "    plt.gca().add_artist(plt.Circle(medoid, k733_2020_optics_model_optimized_silhouette.get_params()['max_eps']*15, color='red', fill=False))\n",
    "    # plt.gca().add_artist(matplotlib.patches.Ellipse(xy=medoid, width=k733_2020_optics_model_optimized_silhouette.get_params()['max_eps']*2, height=k733_2020_optics_model_optimized_silhouette.get_params()['max_eps']*1, color='red', fill=False))\n"
   ]
  },
  {
   "cell_type": "code",
   "execution_count": null,
   "metadata": {},
   "outputs": [],
   "source": [
    "plt.clf()\n",
    "plot_vehicle_tracks_in_notebook(plt.gca(), df_cuid_k733_2018, df_cuid_grouped_k733_2018, 'k733_2018 vehicle tracks and optics medoids', color='gray')\n",
    "plt.gca().scatter(k733_2018_optics_silhouette_medoids[:,0], k733_2018_optics_silhouette_medoids[:,1], c='red', s=100)\n",
    "# plot radius around medoids\n",
    "for medoid in k733_2018_optics_silhouette_medoids:\n",
    "    plt.gca().add_artist(plt.Circle(medoid, k733_2018_optics_model_optimized_silhouette.get_params()['max_eps']*15, color='red', fill=False))\n",
    "    # plt.gca().add_artist(matplotlib.patches.Ellipse(xy=medoid, width=k733_2018_optics_model_optimized_silhouette.get_params()['max_eps']*2, height=k733_2018_optics_model_optimized_silhouette.get_params()['max_eps']*1, color='red', fill=False))"
   ]
  },
  {
   "cell_type": "code",
   "execution_count": null,
   "metadata": {},
   "outputs": [],
   "source": []
  }
 ],
 "metadata": {
  "kernelspec": {
   "display_name": "ba_thesis",
   "language": "python",
   "name": "python3"
  },
  "language_info": {
   "codemirror_mode": {
    "name": "ipython",
    "version": 3
   },
   "file_extension": ".py",
   "mimetype": "text/x-python",
   "name": "python",
   "nbconvert_exporter": "python",
   "pygments_lexer": "ipython3",
   "version": "3.12.2"
  }
 },
 "nbformat": 4,
 "nbformat_minor": 2
}
