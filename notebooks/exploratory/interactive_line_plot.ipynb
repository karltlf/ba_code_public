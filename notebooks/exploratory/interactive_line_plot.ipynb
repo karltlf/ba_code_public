{
 "cells": [
  {
   "cell_type": "code",
   "execution_count": 1,
   "metadata": {},
   "outputs": [],
   "source": [
    "# PASTE THIS TO THE FIRST CELL OF THE NOTEBOOK IN ORDER TO HAVE WORKING IMPORTS\n",
    "import sys\n",
    "import os\n",
    "current_dir = os.getcwd()\n",
    "parent_parent_dir = os.path.abspath(os.path.join(current_dir, '../..')) # tweak so that you get dir of code project\n",
    "\n",
    "sys.path.append(parent_parent_dir)"
   ]
  },
  {
   "cell_type": "code",
   "execution_count": 2,
   "metadata": {},
   "outputs": [],
   "source": [
    "from sklearn.cluster import OPTICS\n",
    "import numpy as np\n",
    "import pandas as pd\n",
    "import ast"
   ]
  },
  {
   "cell_type": "markdown",
   "metadata": {},
   "source": [
    "## data import"
   ]
  },
  {
   "cell_type": "code",
   "execution_count": 3,
   "metadata": {},
   "outputs": [],
   "source": [
    "from src.features.get_x_y_tuples import get_x_y_tuple_list\n",
    "from src.features.get_first_and_last_x_y_coordinates import get_first_and_last_x_y_coordinates \n",
    "from src.features.get_first_x_y_coordinates import get_first_x_y_coordinates\n",
    "from src.features.get_last_x_y_coordinates import get_last_x_y_coordinates\n",
    "def import_data(df_path):\n",
    "    df_cuid = pd.read_csv(df_path)\n",
    "    df_cuid_grouped_path = df_path.replace('.csv', '_grouped.csv')\n",
    "    df_cuid_grouped = pd.read_csv(df_cuid_grouped_path)\n",
    "    # 1.1 CONVERT FEATURES TO NUMBERS\n",
    "    df_cuid_grouped['x'] = df_cuid_grouped['x'].apply(lambda x: ast.literal_eval(x))\n",
    "    df_cuid_grouped['y'] = df_cuid_grouped['y'].apply(lambda y: ast.literal_eval(y))\n",
    "    list_x_y_tuples = get_x_y_tuple_list(df_cuid_grouped, ['x','y'])\n",
    "    first_last_x_coords, first_last_y_coords = get_first_and_last_x_y_coordinates(list_x_y_tuples)\n",
    "    X = np.array([first_last_x_coords, first_last_y_coords]).T\n",
    "\n",
    "    first_x_coords, first_y_coords = get_first_x_y_coordinates(list_x_y_tuples)\n",
    "    first_coordinates = np.array([first_x_coords, first_y_coords]).T\n",
    "\n",
    "    last_x_coords, last_y_coords = get_last_x_y_coordinates(list_x_y_tuples)\n",
    "    last_coordinates = np.array([last_x_coords, last_y_coords]).T\n",
    "    return df_cuid, df_cuid_grouped, X, first_coordinates, last_coordinates\n",
    "        "
   ]
  },
  {
   "cell_type": "code",
   "execution_count": 4,
   "metadata": {},
   "outputs": [],
   "source": [
    "df_path_k729_2022 = f'{parent_parent_dir}/data/processed/k729_2022_cuid.csv'\n",
    "df_path_k733_2020 = f'{parent_parent_dir}/data/processed/k733_2020_cuid.csv'\n",
    "df_path_k733_2018 = f'{parent_parent_dir}/data/processed/k733_2018_cuid.csv'\n",
    "\n",
    "df_cuid_k729_2022, df_cuid_grouped_k729_2022, X_k729_2022, first_coordinates_k729_2022, last_coordinates_k729_2022 = import_data(df_path_k729_2022)\n",
    "df_cuid_k733_2020, df_cuid_grouped_k733_2020, X_k733_2020, first_coordinates_k733_2020, last_coordinates_k733_2020 = import_data(df_path_k733_2020)\n",
    "df_cuid_k733_2018, df_cuid_grouped_k733_2018, X_k733_2018, first_coordinates_k733_2018, last_coordinates_k733_2018 = import_data(df_path_k733_2018)"
   ]
  },
  {
   "cell_type": "code",
   "execution_count": 5,
   "metadata": {},
   "outputs": [],
   "source": [
    "from src.features.get_global_dataframe_limits import get_global_dataframe_limits\n",
    "k729_2022_x_y_limits = get_global_dataframe_limits(df_cuid_k729_2022, ['x','y'])"
   ]
  },
  {
   "cell_type": "code",
   "execution_count": 6,
   "metadata": {},
   "outputs": [
    {
     "name": "stdout",
     "output_type": "stream",
     "text": [
      "No points have been interpolated yet. Please finish drawing the line.\n",
      "No points have been interpolated yet. Please finish drawing the line.\n"
     ]
    },
    {
     "name": "stderr",
     "output_type": "stream",
     "text": [
      "2024-10-03 17:07:33.069 python[22846:7621875] +[IMKClient subclass]: chose IMKClient_Legacy\n",
      "2024-10-03 17:07:33.069 python[22846:7621875] +[IMKInputSession subclass]: chose IMKInputSession_Legacy\n"
     ]
    },
    {
     "name": "stdout",
     "output_type": "stream",
     "text": [
      "Interpolated X Coordinates: [ 0.69218949  0.88272583  1.07326217  1.2637985   1.45433484  1.64487118\n",
      "  1.83540751  2.02594385  2.21648019  2.40701653  2.60043709  2.79459085\n",
      "  2.98874461  3.18289837  3.37705212  3.57120588  3.76535964  3.9595134\n",
      "  4.16899792  4.42039264  4.67178737  4.92318209  5.17457682  5.41880468\n",
      "  5.59942091  5.78003714  5.96065337  6.1412696   6.32188583  6.50250206\n",
      "  6.68311829  6.86373452  7.04435075  7.2250603   7.40845679  7.59185327\n",
      "  7.77524975  7.95864623  8.14204271  8.3254392   8.50883568  8.67917351\n",
      "  8.84570541  9.01223731  9.17876921  9.3453011   9.511833    9.6783649\n",
      "  9.84489679 10.01142869]\n",
      "Interpolated Y Coordinates: [-10.48611454 -10.84671544 -11.20731635 -11.56791726 -11.92851816\n",
      " -12.28911907 -12.64971998 -13.01032088 -13.37092179 -13.7315227\n",
      " -14.09058101 -14.44924719 -14.80791337 -15.16657955 -15.52524573\n",
      " -15.8839119  -16.24257808 -16.60124426 -16.94986274 -17.27101348\n",
      " -17.59216423 -17.91331498 -18.23446572 -18.56012443 -18.92579489\n",
      " -19.29146536 -19.65713582 -20.02280628 -20.38847674 -20.75414721\n",
      " -21.11981767 -21.48548813 -21.85115859 -22.21678252 -22.58106653\n",
      " -22.94535054 -23.30963455 -23.67391856 -24.03820257 -24.40248657\n",
      " -24.76677058 -25.13725839 -25.50955429 -25.88185019 -26.25414609\n",
      " -26.62644199 -26.99873789 -27.37103379 -27.74332969 -28.11562559]\n"
     ]
    }
   ],
   "source": [
    "# Import the drawer tool from the module\n",
    "from src.visualization.interactive_path_drawer.interactive_drawer import launch_interactive_drawer\n",
    "\n",
    "%matplotlib qt\n",
    "\n",
    "\n",
    "background_lines = df_cuid_grouped_k729_2022\n",
    "xlim = (k729_2022_x_y_limits['x_min'], k729_2022_x_y_limits['x_max'])\n",
    "ylim = (k729_2022_x_y_limits['y_min'], k729_2022_x_y_limits['y_max'])\n",
    "\n",
    "# Launch the interactive line drawer and retrieve the object\n",
    "drawer = launch_interactive_drawer(xlim, ylim, background_lines, num_points=50, window_size=(12, 8))\n",
    "\n",
    "# After drawing a line and pressing the \"Finish Line\" button, you can retrieve the points like this:\n",
    "interpolated_points = drawer.get_interpolated_points()\n",
    "\n",
    "if interpolated_points is not None:\n",
    "    x_coords, y_coords = interpolated_points\n",
    "    print(\"X Coordinates:\", x_coords)\n",
    "    print(\"Y Coordinates:\", y_coords)\n",
    "else:\n",
    "    print(\"No points have been interpolated yet. Please finish drawing the line.\")\n",
    "\n",
    "\n"
   ]
  },
  {
   "cell_type": "code",
   "execution_count": null,
   "metadata": {},
   "outputs": [],
   "source": []
  }
 ],
 "metadata": {
  "kernelspec": {
   "display_name": "ba_thesis",
   "language": "python",
   "name": "python3"
  },
  "language_info": {
   "codemirror_mode": {
    "name": "ipython",
    "version": 3
   },
   "file_extension": ".py",
   "mimetype": "text/x-python",
   "name": "python",
   "nbconvert_exporter": "python",
   "pygments_lexer": "ipython3",
   "version": "3.12.2"
  }
 },
 "nbformat": 4,
 "nbformat_minor": 2
}
