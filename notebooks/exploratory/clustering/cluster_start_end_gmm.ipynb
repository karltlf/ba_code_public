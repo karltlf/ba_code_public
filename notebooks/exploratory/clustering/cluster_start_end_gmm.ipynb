{
 "cells": [
  {
   "cell_type": "code",
   "execution_count": null,
   "metadata": {},
   "outputs": [],
   "source": [
    "# PASTE THIS TO THE FIRST CELL OF THE NOTEBOOK IN ORDER TO HAVE WORKING IMPORTS\n",
    "import sys\n",
    "import os\n",
    "current_dir = os.getcwd()\n",
    "parent_parent_dir = os.path.abspath(os.path.join(current_dir, '../..')) # tweak so that you get the root project folder\n",
    "\n",
    "sys.path.append(parent_parent_dir)"
   ]
  },
  {
   "cell_type": "code",
   "execution_count": null,
   "metadata": {},
   "outputs": [],
   "source": [
    "import numpy as np\n",
    "import pandas as pd\n",
    "import matplotlib.pyplot as plt\n",
    "import ast\n",
    "from src.features.get_x_y_tuples import * \n",
    "from sklearn.cluster import OPTICS\n",
    "from src.models.clustering_optimization.optimize_optics import *\n",
    "from matplotlib.gridspec import GridSpec\n",
    "from src.visualization.get_cluster_colors import get_cluster_colors\n",
    "from src.visualization.get_cluster_legend_handles import get_cluster_legend_handles\n",
    "from sklearn.mixture._gaussian_mixture import GaussianMixture\n",
    "from src.models.clustering_optimization.optimize_gmm import *\n",
    "from src.visualization.format_optimization_input_params_to_text import *\n",
    "from src.visualization.format_clustering_parameter_dict_to_text import *\n"
   ]
  },
  {
   "cell_type": "code",
   "execution_count": null,
   "metadata": {},
   "outputs": [],
   "source": [
    "# 1. load into dataframe\n",
    "df_k729_2022_cuid = pd.read_csv('../../data/processed/k729_2022_cuid_lat_lon.csv')\n",
    "df_k729_2022_cuid_grouped = pd.read_csv('../../data/processed/k729_2022_cuid_grouped_lat_lon.csv')\n",
    "# 2. transform values to numbers\n",
    "df_k729_2022_cuid_grouped['x'] = df_k729_2022_cuid_grouped['x'].apply(lambda x: ast.literal_eval(x))\n",
    "df_k729_2022_cuid_grouped['y'] = df_k729_2022_cuid_grouped['y'].apply(lambda y: ast.literal_eval(y))\n",
    "\n",
    "# 3. create tuple lists\n",
    "list_k729_2022_x_y_tuples = get_x_y_tuple_list(df_k729_2022_cuid_grouped, ['x','y'])\n"
   ]
  },
  {
   "cell_type": "code",
   "execution_count": null,
   "metadata": {},
   "outputs": [],
   "source": [
    "from src.features.get_first_and_last_x_y_coordinates import *\n",
    "from src.features.get_first_coordinates import get_first_x_y_coordinates\n",
    "from src.features.get_last_coordinates import get_last_x_y_coordinates\n",
    "\n",
    "first_last_x_coords, first_last_y_coords = get_first_and_last_x_y_coordinates(list_k729_2022_x_y_tuples)\n",
    "X = np.array([first_last_x_coords, first_last_y_coords]).T\n"
   ]
  },
  {
   "cell_type": "markdown",
   "metadata": {},
   "source": [
    "# Gaussian Mixture Model Clustering"
   ]
  },
  {
   "cell_type": "markdown",
   "metadata": {},
   "source": [
    "### covariance type = full\n",
    "### components = 9"
   ]
  },
  {
   "cell_type": "code",
   "execution_count": null,
   "metadata": {},
   "outputs": [],
   "source": [
    "gmm = GaussianMixture(n_components=9, covariance_type='full', random_state=42)\n",
    "gmm.fit(X)\n",
    "labels = gmm.predict(X)\n",
    "centers = gmm.means_\n",
    "plt.figure(figsize=(8, 6))\n",
    "plt.scatter(X[:, 0], X[:, 1], c=labels, s=40, cmap='viridis', label='Clustered Data')\n",
    "plt.scatter(centers[:, 0], centers[:, 1], c='red', s=200, alpha=0.75, label='Cluster Centers')\n",
    "\n",
    "plt.title('GMM Clustering with 4 Components')\n",
    "plt.xlabel('Feature 1')\n",
    "plt.ylabel('Feature 2')\n",
    "plt.legend()\n",
    "plt.show()\n"
   ]
  },
  {
   "cell_type": "markdown",
   "metadata": {},
   "source": [
    "### covariance type = tied\n",
    "### components = 9"
   ]
  },
  {
   "cell_type": "code",
   "execution_count": null,
   "metadata": {},
   "outputs": [],
   "source": [
    "gmm = GaussianMixture(n_components=9, covariance_type='tied', random_state=42)\n",
    "gmm.fit(X)\n",
    "labels = gmm.predict(X)\n",
    "centers = gmm.means_\n",
    "plt.figure(figsize=(8, 6))\n",
    "plt.scatter(X[:, 0], X[:, 1], c=labels, s=40, cmap='viridis', label='Clustered Data')\n",
    "plt.scatter(centers[:, 0], centers[:, 1], c='red', s=200, alpha=0.75, label='Cluster Centers')\n",
    "\n",
    "plt.title('GMM Clustering with 9 Components')\n",
    "plt.xlabel('Feature 1')\n",
    "plt.ylabel('Feature 2')\n",
    "plt.legend()\n",
    "plt.show()\n"
   ]
  },
  {
   "cell_type": "markdown",
   "metadata": {},
   "source": [
    "### covariance type = full\n",
    "### components = 7"
   ]
  },
  {
   "cell_type": "code",
   "execution_count": null,
   "metadata": {},
   "outputs": [],
   "source": [
    "gmm = GaussianMixture(n_components=7, covariance_type='full', random_state=42)\n",
    "gmm.fit(X)\n",
    "labels = gmm.predict(X)\n",
    "centers = gmm.means_\n",
    "plt.figure(figsize=(8, 6))\n",
    "plt.scatter(X[:, 0], X[:, 1], c=labels, s=40, cmap='viridis', label='Clustered Data')\n",
    "plt.scatter(centers[:, 0], centers[:, 1], c='red', s=200, alpha=0.75, label='Cluster Centers')\n",
    "\n",
    "plt.title('GMM Clustering with 7 Components')\n",
    "plt.xlabel('Feature 1')\n",
    "plt.ylabel('Feature 2')\n",
    "plt.legend()\n",
    "plt.show()\n"
   ]
  },
  {
   "cell_type": "code",
   "execution_count": null,
   "metadata": {},
   "outputs": [],
   "source": []
  },
  {
   "cell_type": "markdown",
   "metadata": {},
   "source": [
    "### covariance type = full\n",
    "### components = 6"
   ]
  },
  {
   "cell_type": "code",
   "execution_count": null,
   "metadata": {},
   "outputs": [],
   "source": [
    "gmm = GaussianMixture(n_components=6, covariance_type='full', random_state=42)\n",
    "gmm.fit(X)\n",
    "labels = gmm.predict(X)\n",
    "centers = gmm.means_\n",
    "plt.figure(figsize=(8, 6))\n",
    "plt.scatter(X[:, 0], X[:, 1], c=labels, s=40, cmap='viridis', label='Clustered Data')\n",
    "plt.scatter(centers[:, 0], centers[:, 1], c='red', s=200, alpha=0.75, label='Cluster Centers')\n",
    "\n",
    "plt.title('GMM Clustering with 6 Components')\n",
    "plt.xlabel('Feature 1')\n",
    "plt.ylabel('Feature 2')\n",
    "plt.legend()\n",
    "plt.show()\n"
   ]
  },
  {
   "cell_type": "code",
   "execution_count": null,
   "metadata": {},
   "outputs": [],
   "source": []
  },
  {
   "cell_type": "markdown",
   "metadata": {},
   "source": [
    "### covariance type = full\n",
    "### components = 5"
   ]
  },
  {
   "cell_type": "code",
   "execution_count": null,
   "metadata": {},
   "outputs": [],
   "source": [
    "gmm = GaussianMixture(n_components=5, covariance_type='full', random_state=42)\n",
    "gmm.fit(X)\n",
    "labels = gmm.predict(X)\n",
    "centers = gmm.means_\n",
    "plt.figure(figsize=(8, 6))\n",
    "plt.scatter(X[:, 0], X[:, 1], c=labels, s=40, cmap='viridis', label='Clustered Data')\n",
    "plt.scatter(centers[:, 0], centers[:, 1], c='red', s=200, alpha=0.75, label='Cluster Centers')\n",
    "\n",
    "plt.title('GMM Clustering with 5 Components')\n",
    "plt.xlabel('Feature 1')\n",
    "plt.ylabel('Feature 2')\n",
    "plt.legend()\n",
    "plt.show()\n"
   ]
  },
  {
   "cell_type": "code",
   "execution_count": null,
   "metadata": {},
   "outputs": [],
   "source": []
  },
  {
   "cell_type": "markdown",
   "metadata": {},
   "source": [
    "### covariance type = full\n",
    "### components = 6"
   ]
  },
  {
   "cell_type": "code",
   "execution_count": null,
   "metadata": {},
   "outputs": [],
   "source": [
    "gmm = GaussianMixture(n_components=6, covariance_type='full', random_state=55)\n",
    "gmm.fit(X)\n",
    "labels = gmm.predict(X)\n",
    "centers = gmm.means_\n",
    "plt.figure(figsize=(8, 6))\n",
    "plt.scatter(X[:, 0], X[:, 1], c=labels, s=40, cmap='viridis', label='Clustered Data')\n",
    "plt.scatter(centers[:, 0], centers[:, 1], c='red', s=200, alpha=0.75, label='Cluster Centers')\n",
    "\n",
    "plt.title('GMM Clustering with 6 Components')\n",
    "plt.xlabel('Feature 1')\n",
    "plt.ylabel('Feature 2')\n",
    "plt.legend()\n",
    "plt.show()\n"
   ]
  },
  {
   "cell_type": "code",
   "execution_count": null,
   "metadata": {},
   "outputs": [],
   "source": []
  },
  {
   "cell_type": "markdown",
   "metadata": {},
   "source": [
    "### covariance type = full\n",
    "### components = 5"
   ]
  },
  {
   "cell_type": "code",
   "execution_count": null,
   "metadata": {},
   "outputs": [],
   "source": [
    "gmm = GaussianMixture(n_components=5, covariance_type='full', random_state=42)\n",
    "gmm.fit(X)\n",
    "labels = gmm.predict(X)\n",
    "centers = gmm.means_\n",
    "plt.figure(figsize=(8, 6))\n",
    "plt.scatter(X[:, 0], X[:, 1], c=labels, s=40, cmap='viridis', label='Clustered Data')\n",
    "plt.scatter(centers[:, 0], centers[:, 1], c='red', s=200, alpha=0.75, label='Cluster Centers')\n",
    "\n",
    "plt.title('GMM Clustering with 5 Components')\n",
    "plt.xlabel('Feature 1')\n",
    "plt.ylabel('Feature 2')\n",
    "plt.legend()\n",
    "plt.show()\n"
   ]
  },
  {
   "cell_type": "markdown",
   "metadata": {},
   "source": [
    "# GMM OPTIMIZATION 1"
   ]
  },
  {
   "cell_type": "markdown",
   "metadata": {},
   "source": [
    "### optimization params"
   ]
  },
  {
   "cell_type": "code",
   "execution_count": null,
   "metadata": {},
   "outputs": [],
   "source": [
    "\n",
    "n_cluster_range = range(5, 11)\n",
    "covariance_types = ['full', 'tied', 'diag', 'spherical']\n",
    "init_params = ['kmeans', 'k-means++', 'random', 'random_from_data']\n",
    "random_states = range(1, 30)\n",
    "n_init_range = range(9, 10)\n",
    "iter_range = range(100, 101)"
   ]
  },
  {
   "cell_type": "markdown",
   "metadata": {},
   "source": [
    "### optimize"
   ]
  },
  {
   "cell_type": "code",
   "execution_count": null,
   "metadata": {},
   "outputs": [],
   "source": [
    "# gmm_optimization_results = optimize_gmm(X, n_cluster_range, covariance_types, n_init_range, init_params, iter_range, random_states)"
   ]
  },
  {
   "cell_type": "markdown",
   "metadata": {},
   "source": [
    "### manual optimization results to not run it everytime"
   ]
  },
  {
   "cell_type": "code",
   "execution_count": null,
   "metadata": {},
   "outputs": [],
   "source": [
    "gmm_optimization_results = {'silhouette': {'score': 0.684973238568242, 'n_clusters': 5, 'covariance_type': 'tied', 'n_init': 9, 'max_iter': 100}, 'calinski_harabasz': {'score': 1270.8743651226287, 'n_clusters': 7, 'covariance_type': 'tied', 'n_init': 9, 'max_iter': 100}, 'davies_bouldin': {'score': 0.4068355714168149, 'n_clusters': 5, 'covariance_type': 'diag', 'n_init': 9, 'max_iter': 100}, 'bic': {'score': 3437.3652628177997, 'n_clusters': 9, 'covariance_type': 'full', 'n_init': 9, 'max_iter': 100}, 'aic': {'score': 3228.691073016553, 'n_clusters': 10, 'covariance_type': 'full', 'n_init': 9, 'max_iter': 100}}"
   ]
  },
  {
   "cell_type": "markdown",
   "metadata": {},
   "source": [
    "### Cluster with the optimized params"
   ]
  },
  {
   "cell_type": "code",
   "execution_count": null,
   "metadata": {},
   "outputs": [],
   "source": [
    "# take the the optimized optics parameters for each score and cluster the start and end points\n",
    "from numpy import cov\n",
    "\n",
    "\n",
    "score_optimized_silhouette = gmm_optimization_results['silhouette']['score']\n",
    "n_cluster_optimized_silhouette = gmm_optimization_results['silhouette']['n_clusters']\n",
    "covariance_type_optimized_silhouette = gmm_optimization_results['silhouette']['covariance_type']\n",
    "n_init_optimized_silhouette = gmm_optimization_results['silhouette']['n_init']\n",
    "max_iter_optimized_silhouette = gmm_optimization_results['silhouette']['max_iter']\n",
    "\n",
    "score_optimized_calinski_harabasz = gmm_optimization_results['calinski_harabasz']['score']\n",
    "n_cluster_optimized_calinski_harabasz = gmm_optimization_results['calinski_harabasz']['n_clusters']\n",
    "covariance_type_optimized_calinski_harabasz = gmm_optimization_results['calinski_harabasz']['covariance_type']\n",
    "n_init_optimized_calinski_harabasz = gmm_optimization_results['calinski_harabasz']['n_init']\n",
    "max_iter_optimized_calinski_harabasz = gmm_optimization_results['calinski_harabasz']['max_iter']\n",
    "\n",
    "\n",
    "score_optimized_davies_bouldin = gmm_optimization_results['davies_bouldin']['score']\n",
    "n_cluster_optimized_davies_bouldin = gmm_optimization_results['davies_bouldin']['n_clusters']\n",
    "covariance_type_optimized_davies_bouldin = gmm_optimization_results['davies_bouldin']['covariance_type']\n",
    "n_init_optimized_bic = gmm_optimization_results['davies_bouldin']['n_init']\n",
    "max_iter_optimized_bic = gmm_optimization_results['davies_bouldin']['max_iter']\n",
    "\n",
    "score_optimized_bic = gmm_optimization_results['bic']['score']\n",
    "n_cluster_optimized_bic = gmm_optimization_results['bic']['n_clusters']\n",
    "covariance_type_optimized_bic = gmm_optimization_results['bic']['covariance_type']\n",
    "n_init_optimized_bic = gmm_optimization_results['bic']['n_init']\n",
    "max_iter_optimized_bic = gmm_optimization_results['bic']['max_iter']\n",
    "\n",
    "score_optimized_aic = gmm_optimization_results['aic']['score']\n",
    "n_cluster_optimized_aic = gmm_optimization_results['aic']['n_clusters']\n",
    "covariance_type_optimized_aic = gmm_optimization_results['aic']['covariance_type']\n",
    "n_init_optimized_aic = gmm_optimization_results['aic']['n_init']\n",
    "max_iter_optimized_aic = gmm_optimization_results['aic']['max_iter']\n",
    "\n",
    "\n",
    "gmm_optimized_silhouette = GaussianMixture(n_components=n_cluster_optimized_silhouette, covariance_type=covariance_type_optimized_silhouette, n_init=n_init_optimized_silhouette, max_iter=max_iter_optimized_silhouette, random_state=42)\n",
    "gmm_optimized_silhouette.fit(X)\n",
    "labels_silhouette = gmm_optimized_silhouette.predict(X)\n",
    "centers_silhouette = gmm_optimized_silhouette.means_\n",
    "\n",
    "gmm_optimized_calinski_harabasz = GaussianMixture(n_components=n_cluster_optimized_calinski_harabasz, covariance_type=covariance_type_optimized_calinski_harabasz, n_init=n_init_optimized_calinski_harabasz, max_iter=max_iter_optimized_calinski_harabasz, random_state=42)\n",
    "gmm_optimized_calinski_harabasz.fit(X)\n",
    "labels_calinski_harabasz = gmm_optimized_calinski_harabasz.predict(X)\n",
    "centers_calinski_harabasz = gmm_optimized_calinski_harabasz.means_\n",
    "\n",
    "gmm_optimized_davies_bouldin = GaussianMixture(n_components=n_cluster_optimized_davies_bouldin, covariance_type=covariance_type_optimized_davies_bouldin, n_init=n_init_optimized_bic, max_iter=max_iter_optimized_bic, random_state=42)\n",
    "gmm_optimized_davies_bouldin.fit(X)\n",
    "labels_davies_bouldin = gmm_optimized_davies_bouldin.predict(X)\n",
    "centers_davies_bouldin = gmm_optimized_davies_bouldin.means_\n",
    "\n",
    "gmm_optimized_bic = GaussianMixture(n_components=n_cluster_optimized_bic, covariance_type=covariance_type_optimized_bic, n_init=n_init_optimized_bic, max_iter=max_iter_optimized_bic, random_state=42)\n",
    "gmm_optimized_bic.fit(X)\n",
    "labels_bic = gmm_optimized_bic.predict(X)\n",
    "centers_bic = gmm_optimized_bic.means_\n",
    "\n",
    "gmm_optimized_aic = GaussianMixture(n_components=n_cluster_optimized_aic, covariance_type=covariance_type_optimized_aic, n_init=n_init_optimized_aic, max_iter=max_iter_optimized_aic, random_state=42)\n",
    "gmm_optimized_aic.fit(X)\n",
    "labels_aic = gmm_optimized_aic.predict(X)\n",
    "centers_aic = gmm_optimized_aic.means_\n"
   ]
  },
  {
   "cell_type": "markdown",
   "metadata": {},
   "source": [
    "### create legend handles + colors"
   ]
  },
  {
   "cell_type": "code",
   "execution_count": null,
   "metadata": {},
   "outputs": [],
   "source": [
    "# plot the optimized optics cluster with the silhouette parameters\n",
    "from src.visualization.get_cluster_colors import get_cluster_colors\n",
    "from src.visualization.get_cluster_legend_handles import get_cluster_legend_handles\n",
    "\n",
    "\n",
    "point_colors_start_end_silhouette_optimized, colors_start_end_silhouette_optimized = get_cluster_colors(labels_silhouette)\n",
    "legend_handles_start_end_silhouette_optimized = get_cluster_legend_handles(colors_start_end_silhouette_optimized, labels_silhouette)\n",
    "\n",
    "point_colors_start_end_calinski_harabasz_optimized, colors_start_end_calinski_harabasz_optimized = get_cluster_colors(labels_calinski_harabasz)\n",
    "legend_handles_start_end_calinski_harabasz_optimized = get_cluster_legend_handles(colors_start_end_calinski_harabasz_optimized, labels_calinski_harabasz)\n",
    "\n",
    "point_colors_start_end_davies_bouldin_optimized, colors_start_end_davies_bouldin_optimized = get_cluster_colors(labels_davies_bouldin)\n",
    "legend_handles_start_end_davies_bouldin_optimized = get_cluster_legend_handles(colors_start_end_davies_bouldin_optimized, labels_davies_bouldin)\n",
    "\n",
    "point_colors_start_end_bic_optimized, colors_start_end_bic_optimized = get_cluster_colors(labels_bic)\n",
    "legend_handles_start_end_bic_optimized = get_cluster_legend_handles(colors_start_end_bic_optimized, labels_bic)\n",
    "\n",
    "point_colors_start_end_aic_optimized, colors_start_end_aic_optimized = get_cluster_colors(labels_aic)\n",
    "legend_handles_start_end_aic_optimized = get_cluster_legend_handles(colors_start_end_aic_optimized, labels_aic)"
   ]
  },
  {
   "cell_type": "markdown",
   "metadata": {},
   "source": [
    "### create description texts"
   ]
  },
  {
   "cell_type": "code",
   "execution_count": null,
   "metadata": {},
   "outputs": [],
   "source": [
    "from src.visualization.format_clustering_parameter_dict_to_text import format_clustering_parameter_dict_to_text\n",
    "\n",
    "optimization_parameters_description = format_optimization_input_params_to_text(n_cluster_range=n_cluster_range, covariance_types=covariance_types, n_init_range=n_init_range, init_params=init_params, iter_range=iter_range, random_states=random_states)\n",
    "clustering_description = format_clustering_parameter_dict_to_text(gmm_optimization_results)"
   ]
  },
  {
   "cell_type": "code",
   "execution_count": null,
   "metadata": {},
   "outputs": [],
   "source": [
    "from matplotlib.gridspec import GridSpec\n",
    "\n",
    "fig = plt.figure(figsize=(30, 7))\n",
    "gs = GridSpec(1, 5, figure=fig)\n",
    "\n",
    "ax1 = fig.add_subplot(gs[0, 0]) \n",
    "ax1.scatter(first_last_x_coords, first_last_y_coords, c=point_colors_start_end_silhouette_optimized)\n",
    "ax1.scatter(centers_silhouette[:, 0], centers_silhouette[:, 1], c='red', s=200, alpha=0.75, label='Cluster Centers')\n",
    "ax1.set_title(f'Silhouette optimized clustering', fontsize=15)\n",
    "ax1.set_xlabel(\"X-axis\")\n",
    "ax1.set_ylabel(\"Y-axis\")\n",
    "ax1.legend(handles=legend_handles_start_end_silhouette_optimized)\n",
    "\n",
    "ax2 = fig.add_subplot(gs[0, 1])\n",
    "ax2.scatter(first_last_x_coords, first_last_y_coords, c=point_colors_start_end_calinski_harabasz_optimized)\n",
    "ax2.scatter(centers_calinski_harabasz[:, 0], centers_calinski_harabasz[:, 1], c='red', s=200, alpha=0.75, label='Cluster Centers')\n",
    "ax2.set_title(f'Calinski-Harabasz optimized clustering', fontsize=15)\n",
    "ax2.set_xlabel(\"X-axis\")\n",
    "ax2.set_ylabel(\"Y-axis\")\n",
    "ax2.legend(handles=legend_handles_start_end_calinski_harabasz_optimized)\n",
    "\n",
    "# Create the bottom right plot\n",
    "ax3 = fig.add_subplot(gs[0, 2])  # Bottom right\n",
    "ax3.scatter(first_last_x_coords, first_last_y_coords, c=point_colors_start_end_davies_bouldin_optimized)\n",
    "ax3.scatter(centers_davies_bouldin[:, 0], centers_davies_bouldin[:, 1], c='red', s=200, alpha=0.75, label='Cluster Centers')\n",
    "ax3.set_title(f'Davies-Bouldin optimized clustering', fontsize=15)\n",
    "ax3.set_xlabel(\"X-axis\")\n",
    "ax3.set_ylabel(\"Y-axis\")\n",
    "ax3.legend(handles=legend_handles_start_end_davies_bouldin_optimized)\n",
    "\n",
    "ax4 = fig.add_subplot(gs[0, 3])  # Bottom right\n",
    "ax4.scatter(first_last_x_coords, first_last_y_coords, c=point_colors_start_end_bic_optimized)\n",
    "ax4.scatter(centers_bic[:, 0], centers_bic[:, 1], c='red', s=200, alpha=0.75, label='Cluster Centers')\n",
    "ax4.set_title(f'BIC optimized clustering', fontsize=15)\n",
    "ax4.set_xlabel(\"X-axis\")\n",
    "ax4.set_ylabel(\"Y-axis\")\n",
    "ax4.legend(handles=legend_handles_start_end_bic_optimized)\n",
    "\n",
    "ax5 = fig.add_subplot(gs[0, 4])  # Bottom right\n",
    "ax5.scatter(first_last_x_coords, first_last_y_coords, c=point_colors_start_end_aic_optimized)\n",
    "ax5.scatter(centers_aic[:, 0], centers_aic[:, 1], c='red', s=200, alpha=0.75, label='Cluster Centers')\n",
    "ax5.set_title(f'AIC optimized clustering', fontsize=15)\n",
    "ax5.set_xlabel(\"X-axis\")\n",
    "ax5.set_ylabel(\"Y-axis\")\n",
    "ax5.legend(handles=legend_handles_start_end_aic_optimized)\n",
    "\n",
    "props_results = dict(boxstyle='square', facecolor='green', alpha=0.15)\n",
    "fig.text(0.012,-0.3,f'{clustering_description}', fontsize=12, bbox=props_results)\n",
    "props_optimization_parameters = dict(boxstyle='square', facecolor='blue', alpha=0.15)\n",
    "fig.text(0.012,-0.55,f'Optimization Parameters\\n{optimization_parameters_description}', fontsize=12, bbox=props_optimization_parameters)\n",
    "plt.suptitle(f'Optimized clustering w/ noise', fontsize=20)\n",
    "\n",
    "\n",
    "# Display the plots\n",
    "plt.tight_layout()\n",
    "plt.show()"
   ]
  },
  {
   "cell_type": "markdown",
   "metadata": {},
   "source": [
    "# GMM OPTIMIZATION 2"
   ]
  },
  {
   "cell_type": "markdown",
   "metadata": {},
   "source": [
    "### optimization params"
   ]
  },
  {
   "cell_type": "code",
   "execution_count": null,
   "metadata": {},
   "outputs": [],
   "source": [
    "\n",
    "n_cluster_range = range(1, 5)\n",
    "covariance_types = ['full', 'tied', 'diag', 'spherical']\n",
    "init_params = ['kmeans', 'k-means++', 'random', 'random_from_data']\n",
    "random_states = range(1, 30)\n",
    "n_init_range = range(10, 20)\n",
    "iter_range = range(100, 101)"
   ]
  },
  {
   "cell_type": "markdown",
   "metadata": {},
   "source": [
    "### optimize"
   ]
  },
  {
   "cell_type": "code",
   "execution_count": null,
   "metadata": {},
   "outputs": [],
   "source": [
    "gmm_optimization_results = optimize_gmm(X, n_cluster_range, covariance_types, n_init_range, init_params, iter_range, random_states)\n",
    "print(gmm_optimization_results)"
   ]
  },
  {
   "cell_type": "markdown",
   "metadata": {},
   "source": [
    "### manual optimization results to not run it everytime"
   ]
  },
  {
   "cell_type": "code",
   "execution_count": null,
   "metadata": {},
   "outputs": [],
   "source": [
    "# gmm_optimization_results = NO RESUTLS YET"
   ]
  },
  {
   "cell_type": "markdown",
   "metadata": {},
   "source": [
    "### Cluster with the optimized params"
   ]
  },
  {
   "cell_type": "code",
   "execution_count": null,
   "metadata": {},
   "outputs": [],
   "source": [
    "# take the the optimized optics parameters for each score and cluster the start and end points\n",
    "from numpy import cov\n",
    "\n",
    "\n",
    "score_optimized_silhouette = gmm_optimization_results['silhouette']['score']\n",
    "n_cluster_optimized_silhouette = gmm_optimization_results['silhouette']['n_clusters']\n",
    "covariance_type_optimized_silhouette = gmm_optimization_results['silhouette']['covariance_type']\n",
    "n_init_optimized_silhouette = gmm_optimization_results['silhouette']['n_init']\n",
    "max_iter_optimized_silhouette = gmm_optimization_results['silhouette']['max_iter']\n",
    "\n",
    "score_optimized_calinski_harabasz = gmm_optimization_results['calinski_harabasz']['score']\n",
    "n_cluster_optimized_calinski_harabasz = gmm_optimization_results['calinski_harabasz']['n_clusters']\n",
    "covariance_type_optimized_calinski_harabasz = gmm_optimization_results['calinski_harabasz']['covariance_type']\n",
    "n_init_optimized_calinski_harabasz = gmm_optimization_results['calinski_harabasz']['n_init']\n",
    "max_iter_optimized_calinski_harabasz = gmm_optimization_results['calinski_harabasz']['max_iter']\n",
    "\n",
    "\n",
    "score_optimized_davies_bouldin = gmm_optimization_results['davies_bouldin']['score']\n",
    "n_cluster_optimized_davies_bouldin = gmm_optimization_results['davies_bouldin']['n_clusters']\n",
    "covariance_type_optimized_davies_bouldin = gmm_optimization_results['davies_bouldin']['covariance_type']\n",
    "n_init_optimized_bic = gmm_optimization_results['davies_bouldin']['n_init']\n",
    "max_iter_optimized_bic = gmm_optimization_results['davies_bouldin']['max_iter']\n",
    "\n",
    "score_optimized_bic = gmm_optimization_results['bic']['score']\n",
    "n_cluster_optimized_bic = gmm_optimization_results['bic']['n_clusters']\n",
    "covariance_type_optimized_bic = gmm_optimization_results['bic']['covariance_type']\n",
    "n_init_optimized_bic = gmm_optimization_results['bic']['n_init']\n",
    "max_iter_optimized_bic = gmm_optimization_results['bic']['max_iter']\n",
    "\n",
    "score_optimized_aic = gmm_optimization_results['aic']['score']\n",
    "n_cluster_optimized_aic = gmm_optimization_results['aic']['n_clusters']\n",
    "covariance_type_optimized_aic = gmm_optimization_results['aic']['covariance_type']\n",
    "n_init_optimized_aic = gmm_optimization_results['aic']['n_init']\n",
    "max_iter_optimized_aic = gmm_optimization_results['aic']['max_iter']\n",
    "\n",
    "\n",
    "gmm_optimized_silhouette = GaussianMixture(n_components=n_cluster_optimized_silhouette, covariance_type=covariance_type_optimized_silhouette, n_init=n_init_optimized_silhouette, max_iter=max_iter_optimized_silhouette, random_state=42)\n",
    "gmm_optimized_silhouette.fit(X)\n",
    "labels_silhouette = gmm_optimized_silhouette.predict(X)\n",
    "centers_silhouette = gmm_optimized_silhouette.means_\n",
    "\n",
    "gmm_optimized_calinski_harabasz = GaussianMixture(n_components=n_cluster_optimized_calinski_harabasz, covariance_type=covariance_type_optimized_calinski_harabasz, n_init=n_init_optimized_calinski_harabasz, max_iter=max_iter_optimized_calinski_harabasz, random_state=42)\n",
    "gmm_optimized_calinski_harabasz.fit(X)\n",
    "labels_calinski_harabasz = gmm_optimized_calinski_harabasz.predict(X)\n",
    "centers_calinski_harabasz = gmm_optimized_calinski_harabasz.means_\n",
    "\n",
    "gmm_optimized_davies_bouldin = GaussianMixture(n_components=n_cluster_optimized_davies_bouldin, covariance_type=covariance_type_optimized_davies_bouldin, n_init=n_init_optimized_bic, max_iter=max_iter_optimized_bic, random_state=42)\n",
    "gmm_optimized_davies_bouldin.fit(X)\n",
    "labels_davies_bouldin = gmm_optimized_davies_bouldin.predict(X)\n",
    "centers_davies_bouldin = gmm_optimized_davies_bouldin.means_\n",
    "\n",
    "gmm_optimized_bic = GaussianMixture(n_components=n_cluster_optimized_bic, covariance_type=covariance_type_optimized_bic, n_init=n_init_optimized_bic, max_iter=max_iter_optimized_bic, random_state=42)\n",
    "gmm_optimized_bic.fit(X)\n",
    "labels_bic = gmm_optimized_bic.predict(X)\n",
    "centers_bic = gmm_optimized_bic.means_\n",
    "\n",
    "gmm_optimized_aic = GaussianMixture(n_components=n_cluster_optimized_aic, covariance_type=covariance_type_optimized_aic, n_init=n_init_optimized_aic, max_iter=max_iter_optimized_aic, random_state=42)\n",
    "gmm_optimized_aic.fit(X)\n",
    "labels_aic = gmm_optimized_aic.predict(X)\n",
    "centers_aic = gmm_optimized_aic.means_\n"
   ]
  },
  {
   "cell_type": "markdown",
   "metadata": {},
   "source": [
    "### create legend handles + colors"
   ]
  },
  {
   "cell_type": "code",
   "execution_count": null,
   "metadata": {},
   "outputs": [],
   "source": [
    "# plot the optimized optics cluster with the silhouette parameters\n",
    "from src.visualization.get_cluster_colors import get_cluster_colors\n",
    "from src.visualization.get_cluster_legend_handles import get_cluster_legend_handles\n",
    "\n",
    "\n",
    "point_colors_start_end_silhouette_optimized, colors_start_end_silhouette_optimized = get_cluster_colors(labels_silhouette)\n",
    "legend_handles_start_end_silhouette_optimized = get_cluster_legend_handles(colors_start_end_silhouette_optimized, labels_silhouette)\n",
    "\n",
    "point_colors_start_end_calinski_harabasz_optimized, colors_start_end_calinski_harabasz_optimized = get_cluster_colors(labels_calinski_harabasz)\n",
    "legend_handles_start_end_calinski_harabasz_optimized = get_cluster_legend_handles(colors_start_end_calinski_harabasz_optimized, labels_calinski_harabasz)\n",
    "\n",
    "point_colors_start_end_davies_bouldin_optimized, colors_start_end_davies_bouldin_optimized = get_cluster_colors(labels_davies_bouldin)\n",
    "legend_handles_start_end_davies_bouldin_optimized = get_cluster_legend_handles(colors_start_end_davies_bouldin_optimized, labels_davies_bouldin)\n",
    "\n",
    "point_colors_start_end_bic_optimized, colors_start_end_bic_optimized = get_cluster_colors(labels_bic)\n",
    "legend_handles_start_end_bic_optimized = get_cluster_legend_handles(colors_start_end_bic_optimized, labels_bic)\n",
    "\n",
    "point_colors_start_end_aic_optimized, colors_start_end_aic_optimized = get_cluster_colors(labels_aic)\n",
    "legend_handles_start_end_aic_optimized = get_cluster_legend_handles(colors_start_end_aic_optimized, labels_aic)"
   ]
  },
  {
   "cell_type": "markdown",
   "metadata": {},
   "source": [
    "### create description texts"
   ]
  },
  {
   "cell_type": "code",
   "execution_count": null,
   "metadata": {},
   "outputs": [],
   "source": [
    "from src.visualization.format_clustering_parameter_dict_to_text import format_clustering_parameter_dict_to_text\n",
    "\n",
    "optimization_parameters_description = format_optimization_input_params_to_text(n_cluster_range=n_cluster_range, covariance_types=covariance_types, n_init_range=n_init_range, init_params=init_params, iter_range=iter_range, random_states=random_states)\n",
    "clustering_description = format_clustering_parameter_dict_to_text(gmm_optimization_results)"
   ]
  },
  {
   "cell_type": "code",
   "execution_count": null,
   "metadata": {},
   "outputs": [],
   "source": [
    "from matplotlib.gridspec import GridSpec\n",
    "\n",
    "fig = plt.figure(figsize=(30, 7))\n",
    "gs = GridSpec(1, 5, figure=fig)\n",
    "\n",
    "ax1 = fig.add_subplot(gs[0, 0]) \n",
    "ax1.scatter(first_last_x_coords, first_last_y_coords, c=point_colors_start_end_silhouette_optimized)\n",
    "ax1.scatter(centers_silhouette[:, 0], centers_silhouette[:, 1], c='red', s=200, alpha=0.75, label='Cluster Centers')\n",
    "ax1.set_title(f'Silhouette optimized clustering', fontsize=15)\n",
    "ax1.set_xlabel(\"X-axis\")\n",
    "ax1.set_ylabel(\"Y-axis\")\n",
    "ax1.legend(handles=legend_handles_start_end_silhouette_optimized)\n",
    "\n",
    "ax2 = fig.add_subplot(gs[0, 1])\n",
    "ax2.scatter(first_last_x_coords, first_last_y_coords, c=point_colors_start_end_calinski_harabasz_optimized)\n",
    "ax2.scatter(centers_calinski_harabasz[:, 0], centers_calinski_harabasz[:, 1], c='red', s=200, alpha=0.75, label='Cluster Centers')\n",
    "ax2.set_title(f'Calinski-Harabasz optimized clustering', fontsize=15)\n",
    "ax2.set_xlabel(\"X-axis\")\n",
    "ax2.set_ylabel(\"Y-axis\")\n",
    "ax2.legend(handles=legend_handles_start_end_calinski_harabasz_optimized)\n",
    "\n",
    "# Create the bottom right plot\n",
    "ax3 = fig.add_subplot(gs[0, 2])  # Bottom right\n",
    "ax3.scatter(first_last_x_coords, first_last_y_coords, c=point_colors_start_end_davies_bouldin_optimized)\n",
    "ax3.scatter(centers_davies_bouldin[:, 0], centers_davies_bouldin[:, 1], c='red', s=200, alpha=0.75, label='Cluster Centers')\n",
    "ax3.set_title(f'Davies-Bouldin optimized clustering', fontsize=15)\n",
    "ax3.set_xlabel(\"X-axis\")\n",
    "ax3.set_ylabel(\"Y-axis\")\n",
    "ax3.legend(handles=legend_handles_start_end_davies_bouldin_optimized)\n",
    "\n",
    "ax4 = fig.add_subplot(gs[0, 3])  # Bottom right\n",
    "ax4.scatter(first_last_x_coords, first_last_y_coords, c=point_colors_start_end_bic_optimized)\n",
    "ax4.scatter(centers_bic[:, 0], centers_bic[:, 1], c='red', s=200, alpha=0.75, label='Cluster Centers')\n",
    "ax4.set_title(f'BIC optimized clustering', fontsize=15)\n",
    "ax4.set_xlabel(\"X-axis\")\n",
    "ax4.set_ylabel(\"Y-axis\")\n",
    "ax4.legend(handles=legend_handles_start_end_bic_optimized)\n",
    "\n",
    "ax5 = fig.add_subplot(gs[0, 4])  # Bottom right\n",
    "ax5.scatter(first_last_x_coords, first_last_y_coords, c=point_colors_start_end_aic_optimized)\n",
    "ax5.scatter(centers_aic[:, 0], centers_aic[:, 1], c='red', s=200, alpha=0.75, label='Cluster Centers')\n",
    "ax5.set_title(f'AIC optimized clustering', fontsize=15)\n",
    "ax5.set_xlabel(\"X-axis\")\n",
    "ax5.set_ylabel(\"Y-axis\")\n",
    "ax5.legend(handles=legend_handles_start_end_aic_optimized)\n",
    "\n",
    "props_results = dict(boxstyle='square', facecolor='green', alpha=0.15)\n",
    "fig.text(0.012,-0.3,f'{clustering_description}', fontsize=12, bbox=props_results)\n",
    "props_optimization_parameters = dict(boxstyle='square', facecolor='blue', alpha=0.15)\n",
    "fig.text(0.012,-0.55,f'Optimization Parameters\\n{optimization_parameters_description}', fontsize=12, bbox=props_optimization_parameters)\n",
    "plt.suptitle(f'Optimized clustering w/ noise', fontsize=20)\n",
    "\n",
    "\n",
    "# Display the plots\n",
    "plt.tight_layout()\n",
    "plt.show()"
   ]
  },
  {
   "cell_type": "code",
   "execution_count": null,
   "metadata": {},
   "outputs": [],
   "source": []
  },
  {
   "cell_type": "markdown",
   "metadata": {},
   "source": [
    "# GMM OPTIMIZATION 3"
   ]
  },
  {
   "cell_type": "markdown",
   "metadata": {},
   "source": [
    "### optimization params"
   ]
  },
  {
   "cell_type": "code",
   "execution_count": null,
   "metadata": {},
   "outputs": [],
   "source": [
    "\n",
    "n_cluster_range = range(5, 11)\n",
    "covariance_types = ['full', 'tied', 'diag', 'spherical']\n",
    "init_params = ['kmeans', 'k-means++', 'random', 'random_from_data']\n",
    "random_states = range(1, 30)\n",
    "n_init_range = range(10, 20)\n",
    "iter_range = range(100, 101)"
   ]
  },
  {
   "cell_type": "markdown",
   "metadata": {},
   "source": [
    "### optimize"
   ]
  },
  {
   "cell_type": "code",
   "execution_count": null,
   "metadata": {},
   "outputs": [],
   "source": [
    "gmm_optimization_results = optimize_gmm(X, n_cluster_range, covariance_types, n_init_range, init_params, iter_range, random_states)\n",
    "print(gmm_optimization_results)"
   ]
  },
  {
   "cell_type": "markdown",
   "metadata": {},
   "source": [
    "### manual optimization results to not run it everytime"
   ]
  },
  {
   "cell_type": "code",
   "execution_count": null,
   "metadata": {},
   "outputs": [],
   "source": [
    "# gmm_optimization_results = {'silhouette': {'score': 0.684973238568242, 'n_clusters': 5, 'covariance_type': 'tied', 'n_init': 10, 'max_iter': 100}, 'calinski_harabasz': {'score': 1270.8743651226287, 'n_clusters': 7, 'covariance_type': 'tied', 'n_init': 10, 'max_iter': 100}, 'davies_bouldin': {'score': 0.4068355714168149, 'n_clusters': 5, 'covariance_type': 'diag', 'n_init': 10, 'max_iter': 100}, 'bic': {'score': 3425.2804855645863, 'n_clusters': 10, 'covariance_type': 'full', 'n_init': 15, 'max_iter': 100}, 'aic': {'score': 3207.1519698607676, 'n_clusters': 10, 'covariance_type': 'full', 'n_init': 15, 'max_iter': 100}}\n"
   ]
  },
  {
   "cell_type": "markdown",
   "metadata": {},
   "source": [
    "### Cluster with the optimized params"
   ]
  },
  {
   "cell_type": "code",
   "execution_count": null,
   "metadata": {},
   "outputs": [],
   "source": [
    "# take the the optimized optics parameters for each score and cluster the start and end points\n",
    "\n",
    "score_optimized_silhouette = gmm_optimization_results['silhouette']['score']\n",
    "n_cluster_optimized_silhouette = gmm_optimization_results['silhouette']['n_clusters']\n",
    "covariance_type_optimized_silhouette = gmm_optimization_results['silhouette']['covariance_type']\n",
    "n_init_optimized_silhouette = gmm_optimization_results['silhouette']['n_init']\n",
    "max_iter_optimized_silhouette = gmm_optimization_results['silhouette']['max_iter']\n",
    "\n",
    "score_optimized_calinski_harabasz = gmm_optimization_results['calinski_harabasz']['score']\n",
    "n_cluster_optimized_calinski_harabasz = gmm_optimization_results['calinski_harabasz']['n_clusters']\n",
    "covariance_type_optimized_calinski_harabasz = gmm_optimization_results['calinski_harabasz']['covariance_type']\n",
    "n_init_optimized_calinski_harabasz = gmm_optimization_results['calinski_harabasz']['n_init']\n",
    "max_iter_optimized_calinski_harabasz = gmm_optimization_results['calinski_harabasz']['max_iter']\n",
    "\n",
    "\n",
    "score_optimized_davies_bouldin = gmm_optimization_results['davies_bouldin']['score']\n",
    "n_cluster_optimized_davies_bouldin = gmm_optimization_results['davies_bouldin']['n_clusters']\n",
    "covariance_type_optimized_davies_bouldin = gmm_optimization_results['davies_bouldin']['covariance_type']\n",
    "n_init_optimized_bic = gmm_optimization_results['davies_bouldin']['n_init']\n",
    "max_iter_optimized_bic = gmm_optimization_results['davies_bouldin']['max_iter']\n",
    "\n",
    "score_optimized_bic = gmm_optimization_results['bic']['score']\n",
    "n_cluster_optimized_bic = gmm_optimization_results['bic']['n_clusters']\n",
    "covariance_type_optimized_bic = gmm_optimization_results['bic']['covariance_type']\n",
    "n_init_optimized_bic = gmm_optimization_results['bic']['n_init']\n",
    "max_iter_optimized_bic = gmm_optimization_results['bic']['max_iter']\n",
    "\n",
    "score_optimized_aic = gmm_optimization_results['aic']['score']\n",
    "n_cluster_optimized_aic = gmm_optimization_results['aic']['n_clusters']\n",
    "covariance_type_optimized_aic = gmm_optimization_results['aic']['covariance_type']\n",
    "n_init_optimized_aic = gmm_optimization_results['aic']['n_init']\n",
    "max_iter_optimized_aic = gmm_optimization_results['aic']['max_iter']\n",
    "\n",
    "\n",
    "gmm_optimized_silhouette = GaussianMixture(n_components=n_cluster_optimized_silhouette, covariance_type=covariance_type_optimized_silhouette, n_init=n_init_optimized_silhouette, max_iter=max_iter_optimized_silhouette, random_state=42)\n",
    "gmm_optimized_silhouette.fit(X)\n",
    "labels_silhouette = gmm_optimized_silhouette.predict(X)\n",
    "centers_silhouette = gmm_optimized_silhouette.means_\n",
    "\n",
    "gmm_optimized_calinski_harabasz = GaussianMixture(n_components=n_cluster_optimized_calinski_harabasz, covariance_type=covariance_type_optimized_calinski_harabasz, n_init=n_init_optimized_calinski_harabasz, max_iter=max_iter_optimized_calinski_harabasz, random_state=42)\n",
    "gmm_optimized_calinski_harabasz.fit(X)\n",
    "labels_calinski_harabasz = gmm_optimized_calinski_harabasz.predict(X)\n",
    "centers_calinski_harabasz = gmm_optimized_calinski_harabasz.means_\n",
    "\n",
    "gmm_optimized_davies_bouldin = GaussianMixture(n_components=n_cluster_optimized_davies_bouldin, covariance_type=covariance_type_optimized_davies_bouldin, n_init=n_init_optimized_bic, max_iter=max_iter_optimized_bic, random_state=42)\n",
    "gmm_optimized_davies_bouldin.fit(X)\n",
    "labels_davies_bouldin = gmm_optimized_davies_bouldin.predict(X)\n",
    "centers_davies_bouldin = gmm_optimized_davies_bouldin.means_\n",
    "\n",
    "gmm_optimized_bic = GaussianMixture(n_components=n_cluster_optimized_bic, covariance_type=covariance_type_optimized_bic, n_init=n_init_optimized_bic, max_iter=max_iter_optimized_bic, random_state=42)\n",
    "gmm_optimized_bic.fit(X)\n",
    "labels_bic = gmm_optimized_bic.predict(X)\n",
    "centers_bic = gmm_optimized_bic.means_\n",
    "\n",
    "gmm_optimized_aic = GaussianMixture(n_components=n_cluster_optimized_aic, covariance_type=covariance_type_optimized_aic, n_init=n_init_optimized_aic, max_iter=max_iter_optimized_aic, random_state=42)\n",
    "gmm_optimized_aic.fit(X)\n",
    "labels_aic = gmm_optimized_aic.predict(X)\n",
    "centers_aic = gmm_optimized_aic.means_\n"
   ]
  },
  {
   "cell_type": "markdown",
   "metadata": {},
   "source": [
    "### create legend handles + colors"
   ]
  },
  {
   "cell_type": "code",
   "execution_count": null,
   "metadata": {},
   "outputs": [],
   "source": [
    "# plot the optimized optics cluster with the silhouette parameters\n",
    "from src.visualization.get_cluster_colors import get_cluster_colors\n",
    "from src.visualization.get_cluster_legend_handles import get_cluster_legend_handles\n",
    "\n",
    "\n",
    "point_colors_start_end_silhouette_optimized, colors_start_end_silhouette_optimized = get_cluster_colors(labels_silhouette)\n",
    "legend_handles_start_end_silhouette_optimized = get_cluster_legend_handles(colors_start_end_silhouette_optimized, labels_silhouette)\n",
    "\n",
    "point_colors_start_end_calinski_harabasz_optimized, colors_start_end_calinski_harabasz_optimized = get_cluster_colors(labels_calinski_harabasz)\n",
    "legend_handles_start_end_calinski_harabasz_optimized = get_cluster_legend_handles(colors_start_end_calinski_harabasz_optimized, labels_calinski_harabasz)\n",
    "\n",
    "point_colors_start_end_davies_bouldin_optimized, colors_start_end_davies_bouldin_optimized = get_cluster_colors(labels_davies_bouldin)\n",
    "legend_handles_start_end_davies_bouldin_optimized = get_cluster_legend_handles(colors_start_end_davies_bouldin_optimized, labels_davies_bouldin)\n",
    "\n",
    "point_colors_start_end_bic_optimized, colors_start_end_bic_optimized = get_cluster_colors(labels_bic)\n",
    "legend_handles_start_end_bic_optimized = get_cluster_legend_handles(colors_start_end_bic_optimized, labels_bic)\n",
    "\n",
    "point_colors_start_end_aic_optimized, colors_start_end_aic_optimized = get_cluster_colors(labels_aic)\n",
    "legend_handles_start_end_aic_optimized = get_cluster_legend_handles(colors_start_end_aic_optimized, labels_aic)"
   ]
  },
  {
   "cell_type": "markdown",
   "metadata": {},
   "source": [
    "### create description texts"
   ]
  },
  {
   "cell_type": "code",
   "execution_count": null,
   "metadata": {},
   "outputs": [],
   "source": [
    "from src.visualization.format_clustering_parameter_dict_to_text import format_clustering_parameter_dict_to_text\n",
    "\n",
    "optimization_parameters_description = format_optimization_input_params_to_text(n_cluster_range=n_cluster_range, covariance_types=covariance_types, n_init_range=n_init_range, init_params=init_params, iter_range=iter_range, random_states=random_states)\n",
    "clustering_description = format_clustering_parameter_dict_to_text(gmm_optimization_results)"
   ]
  },
  {
   "cell_type": "code",
   "execution_count": null,
   "metadata": {},
   "outputs": [],
   "source": [
    "from matplotlib.gridspec import GridSpec\n",
    "\n",
    "fig = plt.figure(figsize=(30, 7))\n",
    "gs = GridSpec(1, 5, figure=fig)\n",
    "\n",
    "ax1 = fig.add_subplot(gs[0, 0]) \n",
    "ax1.scatter(first_last_x_coords, first_last_y_coords, c=point_colors_start_end_silhouette_optimized)\n",
    "ax1.scatter(centers_silhouette[:, 0], centers_silhouette[:, 1], c='red', s=200, alpha=0.75, label='Cluster Centers')\n",
    "ax1.set_title(f'Silhouette optimized clustering', fontsize=15)\n",
    "ax1.set_xlabel(\"X-axis\")\n",
    "ax1.set_ylabel(\"Y-axis\")\n",
    "ax1.legend(handles=legend_handles_start_end_silhouette_optimized)\n",
    "\n",
    "ax2 = fig.add_subplot(gs[0, 1])\n",
    "ax2.scatter(first_last_x_coords, first_last_y_coords, c=point_colors_start_end_calinski_harabasz_optimized)\n",
    "ax2.scatter(centers_calinski_harabasz[:, 0], centers_calinski_harabasz[:, 1], c='red', s=200, alpha=0.75, label='Cluster Centers')\n",
    "ax2.set_title(f'Calinski-Harabasz optimized clustering', fontsize=15)\n",
    "ax2.set_xlabel(\"X-axis\")\n",
    "ax2.set_ylabel(\"Y-axis\")\n",
    "ax2.legend(handles=legend_handles_start_end_calinski_harabasz_optimized)\n",
    "\n",
    "# Create the bottom right plot\n",
    "ax3 = fig.add_subplot(gs[0, 2])  # Bottom right\n",
    "ax3.scatter(first_last_x_coords, first_last_y_coords, c=point_colors_start_end_davies_bouldin_optimized)\n",
    "ax3.scatter(centers_davies_bouldin[:, 0], centers_davies_bouldin[:, 1], c='red', s=200, alpha=0.75, label='Cluster Centers')\n",
    "ax3.set_title(f'Davies-Bouldin optimized clustering', fontsize=15)\n",
    "ax3.set_xlabel(\"X-axis\")\n",
    "ax3.set_ylabel(\"Y-axis\")\n",
    "ax3.legend(handles=legend_handles_start_end_davies_bouldin_optimized)\n",
    "\n",
    "ax4 = fig.add_subplot(gs[0, 3])  # Bottom right\n",
    "ax4.scatter(first_last_x_coords, first_last_y_coords, c=point_colors_start_end_bic_optimized)\n",
    "ax4.scatter(centers_bic[:, 0], centers_bic[:, 1], c='red', s=200, alpha=0.75, label='Cluster Centers')\n",
    "ax4.set_title(f'BIC optimized clustering', fontsize=15)\n",
    "ax4.set_xlabel(\"X-axis\")\n",
    "ax4.set_ylabel(\"Y-axis\")\n",
    "ax4.legend(handles=legend_handles_start_end_bic_optimized)\n",
    "\n",
    "ax5 = fig.add_subplot(gs[0, 4])  # Bottom right\n",
    "ax5.scatter(first_last_x_coords, first_last_y_coords, c=point_colors_start_end_aic_optimized)\n",
    "ax5.scatter(centers_aic[:, 0], centers_aic[:, 1], c='red', s=200, alpha=0.75, label='Cluster Centers')\n",
    "ax5.set_title(f'AIC optimized clustering', fontsize=15)\n",
    "ax5.set_xlabel(\"X-axis\")\n",
    "ax5.set_ylabel(\"Y-axis\")\n",
    "ax5.legend(handles=legend_handles_start_end_aic_optimized)\n",
    "\n",
    "props_results = dict(boxstyle='square', facecolor='green', alpha=0.15)\n",
    "fig.text(0.012,-0.3,f'{clustering_description}', fontsize=12, bbox=props_results)\n",
    "props_optimization_parameters = dict(boxstyle='square', facecolor='blue', alpha=0.15)\n",
    "fig.text(0.012,-0.55,f'Optimization Parameters\\n{optimization_parameters_description}', fontsize=12, bbox=props_optimization_parameters)\n",
    "plt.suptitle(f'Optimized clustering w/ noise', fontsize=20)\n",
    "\n",
    "\n",
    "# Display the plots\n",
    "plt.tight_layout()\n",
    "plt.show()"
   ]
  },
  {
   "cell_type": "code",
   "execution_count": null,
   "metadata": {},
   "outputs": [],
   "source": []
  }
 ],
 "metadata": {
  "kernelspec": {
   "display_name": "ba_thesis",
   "language": "python",
   "name": "python3"
  },
  "language_info": {
   "codemirror_mode": {
    "name": "ipython",
    "version": 3
   },
   "file_extension": ".py",
   "mimetype": "text/x-python",
   "name": "python",
   "nbconvert_exporter": "python",
   "pygments_lexer": "ipython3",
   "version": "3.12.2"
  }
 },
 "nbformat": 4,
 "nbformat_minor": 2
}
