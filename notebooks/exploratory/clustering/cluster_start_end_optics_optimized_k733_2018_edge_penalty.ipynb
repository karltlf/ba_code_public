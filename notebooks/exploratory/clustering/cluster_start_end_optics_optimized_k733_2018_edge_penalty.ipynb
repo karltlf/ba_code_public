{
 "cells": [
  {
   "cell_type": "markdown",
   "metadata": {},
   "source": [
    "# imports"
   ]
  },
  {
   "cell_type": "code",
   "execution_count": 5,
   "metadata": {},
   "outputs": [],
   "source": [
    "# PASTE THIS TO THE FIRST CELL OF THE NOTEBOOK IN ORDER TO HAVE WORKING IMPORTS\n",
    "import sys\n",
    "import os\n",
    "current_dir = os.getcwd()\n",
    "parent_parent_dir = os.path.abspath(os.path.join(current_dir, '../..')) # tweak so that you get the root project folder\n",
    "\n",
    "sys.path.append(parent_parent_dir)"
   ]
  },
  {
   "cell_type": "code",
   "execution_count": 6,
   "metadata": {},
   "outputs": [],
   "source": [
    "import numpy as np\n",
    "import pandas as pd\n",
    "import matplotlib.pyplot as plt\n",
    "import ast\n",
    "from src.features.get_x_y_tuples import * \n",
    "from sklearn.cluster import OPTICS\n",
    "from src.models.clustering_optimization.optimize_optics import *\n",
    "from matplotlib.gridspec import GridSpec\n",
    "from src.visualization.get_cluster_colors import get_cluster_colors\n",
    "from src.visualization.get_cluster_legend_handles import get_cluster_legend_handles\n",
    "from src.visualization.format_optimization_input_params_to_text import *\n",
    "from src.visualization.format_clustering_parameter_dict_to_text import *\n",
    "from src.models.clustering_optimization.optimize_optics_parallelized import *\n",
    "from src.models.clustering_optimization.optimize_optics_parallelized_punish_non_edge_points import *\n",
    "\n"
   ]
  },
  {
   "cell_type": "code",
   "execution_count": 7,
   "metadata": {},
   "outputs": [],
   "source": [
    "# 1. load into dataframe\n",
    "df_cuid = pd.read_csv('../../data/processed/k733_2018_cuid.csv')\n",
    "df_cuid_grouped = pd.read_csv('../../data/processed/k733_2018_cuid_grouped.csv')\n",
    "\n",
    "# 2. transform values to numbers\n",
    "# df_cuid['x'] = df_cuid['x'].apply(lambda x: ast.literal_eval(x))\n",
    "# df_cuid['y'] = df_cuid['y'].apply(lambda y: ast.literal_eval(y))\n",
    "df_cuid_grouped['x'] = df_cuid_grouped['x'].apply(lambda x: ast.literal_eval(x))\n",
    "df_cuid_grouped['y'] = df_cuid_grouped['y'].apply(lambda y: ast.literal_eval(y))\n",
    "\n",
    "# 3. create tuple lists\n",
    "list_x_y_tuples = get_x_y_tuple_list(df_cuid_grouped, ['x','y'])\n"
   ]
  },
  {
   "cell_type": "code",
   "execution_count": 8,
   "metadata": {},
   "outputs": [],
   "source": [
    "from src.features.get_first_and_last_x_y_coordinates import *\n",
    "from src.features.get_first_coordinates import get_first_x_y_coordinates\n",
    "from src.features.get_last_coordinates import get_last_x_y_coordinates\n",
    "\n",
    "first_last_x_coords, first_last_y_coords = get_first_and_last_x_y_coordinates(list_x_y_tuples)\n",
    "X = np.array([first_last_x_coords, first_last_y_coords]).T\n"
   ]
  },
  {
   "cell_type": "markdown",
   "metadata": {},
   "source": [
    "# OPTICS OPTIMIZATION PARALLEL WITH EDGE PENALTY MIN_SAMPLES=2"
   ]
  },
  {
   "cell_type": "markdown",
   "metadata": {},
   "source": [
    "### 1. optimization params"
   ]
  },
  {
   "cell_type": "code",
   "execution_count": 9,
   "metadata": {},
   "outputs": [],
   "source": [
    "max_eps_range = np.arange(0.1, 5, 0.1)\n",
    "min_samples_range = np.arange(2, 30, 1)\n",
    "metric='euclidean'\n",
    "cluster_method = 'dbscan'\n",
    "xi=0.05"
   ]
  },
  {
   "cell_type": "code",
   "execution_count": 10,
   "metadata": {},
   "outputs": [],
   "source": [
    "x_min, x_max, y_min, y_max = df_cuid['x'].min(), df_cuid['x'].max(), df_cuid['y'].min(), df_cuid['y'].max()\n",
    "x_range, y_range = x_max - x_min, y_max - y_min\n",
    "edge_factor = .2\n",
    "x_non_edge_range, y_non_edge_range = [x_min + edge_factor*x_range, x_max - edge_factor*x_range], [y_min + edge_factor*y_range, y_max - edge_factor*y_range]\n",
    "punishment_factor = 10000\n",
    "punishment_type = 'add'"
   ]
  },
  {
   "cell_type": "markdown",
   "metadata": {},
   "source": [
    "### 2. create optimization parameter description"
   ]
  },
  {
   "cell_type": "code",
   "execution_count": 11,
   "metadata": {},
   "outputs": [],
   "source": [
    "# Formatting optimization input parameters for OPTICS, including xi only if cluster_method is 'xi'\n",
    "optimization_parameters_description = format_optimization_input_params_to_text(\n",
    "    max_eps_range=max_eps_range, \n",
    "    min_samples_range=min_samples_range, \n",
    "    metric=metric, \n",
    "    cluster_method=cluster_method, \n",
    "    xi=xi if cluster_method == 'xi' else 'not applicable',\n",
    "    punishment_factor = 10000,\n",
    "    punishment_type = 'add',\n",
    "    x_penalty_range = x_non_edge_range,\n",
    "    y_penalty_range = y_non_edge_range\n",
    ")"
   ]
  },
  {
   "cell_type": "markdown",
   "metadata": {},
   "source": [
    "### 3. optimize"
   ]
  },
  {
   "cell_type": "code",
   "execution_count": 12,
   "metadata": {},
   "outputs": [],
   "source": [
    "optics_optimization_results = optimize_optics_parallelized_punish_non_edge_points(X, max_eps_range, min_samples_range, x_non_edge_range, y_non_edge_range, punishment_factor, punishment_type, metric, cluster_method)"
   ]
  },
  {
   "cell_type": "markdown",
   "metadata": {},
   "source": [
    "### 4. manual optimization results to not run it everytime"
   ]
  },
  {
   "cell_type": "code",
   "execution_count": 13,
   "metadata": {},
   "outputs": [],
   "source": [
    "# optics_optimization_results = tbd"
   ]
  },
  {
   "cell_type": "markdown",
   "metadata": {},
   "source": [
    "### 5. Cluster with the optimized params"
   ]
  },
  {
   "cell_type": "code",
   "execution_count": 14,
   "metadata": {},
   "outputs": [],
   "source": [
    "# Extracting all optimized scores in a more concise way\n",
    "score_optimized_silhouette, epsilon_optimized_silhouette, min_samples_optimized_silhouette = optics_optimization_results['silhouette'].values()\n",
    "score_optimized_calinski_harabasz, epsilon_optimized_calinski_harabasz, min_samples_optimized_calinski_harabasz = optics_optimization_results['calinski_harabasz'].values()\n",
    "score_optimized_davies_bouldin, epsilon_optimized_davies_bouldin, min_samples_optimized_davies_bouldin = optics_optimization_results['davies_bouldin'].values()\n",
    "score_optimized_bic, epsilon_optimized_bic, min_samples_optimized_bic = optics_optimization_results['bic'].values()\n",
    "score_optimized_aic, epsilon_optimized_aic, min_samples_optimized_aic = optics_optimization_results['aic'].values()"
   ]
  },
  {
   "cell_type": "code",
   "execution_count": 15,
   "metadata": {},
   "outputs": [],
   "source": [
    "# Helper function to fit OPTICS model and calculate labels and cluster centers\n",
    "def fit_optics(epsilon, min_samples, X):\n",
    "    optics = OPTICS(eps=epsilon, min_samples=min_samples, metric='euclidean', cluster_method='dbscan')\n",
    "    optics.fit(X)\n",
    "    labels = optics.labels_\n",
    "    unique_labels = np.unique(labels[labels != -1])\n",
    "    centers = np.array([X[labels == label].mean(axis=0) for label in unique_labels])\n",
    "    return labels, centers\n",
    "\n",
    "# Silhouette-based optimized OPTICS model\n",
    "labels_silhouette, centers_silhouette = fit_optics(epsilon_optimized_silhouette, min_samples_optimized_silhouette, X)\n",
    "\n",
    "# Calinski-Harabasz-based optimized OPTICS model\n",
    "labels_calinski_harabasz, centers_calinski_harabasz = fit_optics(epsilon_optimized_calinski_harabasz, min_samples_optimized_calinski_harabasz, X)\n",
    "\n",
    "# Davies-Bouldin-based optimized OPTICS model\n",
    "labels_davies_bouldin, centers_davies_bouldin = fit_optics(epsilon_optimized_davies_bouldin, min_samples_optimized_davies_bouldin, X)\n",
    "\n",
    "# BIC-based optimized OPTICS model\n",
    "labels_bic, centers_bic = fit_optics(epsilon_optimized_bic, min_samples_optimized_bic, X)\n",
    "\n",
    "# AIC-based optimized OPTICS model\n",
    "labels_aic, centers_aic = fit_optics(epsilon_optimized_aic, min_samples_optimized_aic, X)\n"
   ]
  },
  {
   "cell_type": "markdown",
   "metadata": {},
   "source": [
    "### 6. create legend handles + colors"
   ]
  },
  {
   "cell_type": "code",
   "execution_count": 16,
   "metadata": {},
   "outputs": [],
   "source": [
    "# plot the optimized optics cluster with the silhouette parameters\n",
    "from src.visualization.get_cluster_colors import get_cluster_colors\n",
    "from src.visualization.get_cluster_legend_handles import get_cluster_legend_handles\n",
    "\n",
    "\n",
    "point_colors_start_end_silhouette_optimized, colors_start_end_silhouette_optimized = get_cluster_colors(labels_silhouette)\n",
    "legend_handles_start_end_silhouette_optimized = get_cluster_legend_handles(colors_start_end_silhouette_optimized, labels_silhouette)\n",
    "\n",
    "point_colors_start_end_calinski_harabasz_optimized, colors_start_end_calinski_harabasz_optimized = get_cluster_colors(labels_calinski_harabasz)\n",
    "legend_handles_start_end_calinski_harabasz_optimized = get_cluster_legend_handles(colors_start_end_calinski_harabasz_optimized, labels_calinski_harabasz)\n",
    "\n",
    "point_colors_start_end_davies_bouldin_optimized, colors_start_end_davies_bouldin_optimized = get_cluster_colors(labels_davies_bouldin)\n",
    "legend_handles_start_end_davies_bouldin_optimized = get_cluster_legend_handles(colors_start_end_davies_bouldin_optimized, labels_davies_bouldin)\n",
    "\n",
    "point_colors_start_end_bic_optimized, colors_start_end_bic_optimized = get_cluster_colors(labels_bic)\n",
    "legend_handles_start_end_bic_optimized = get_cluster_legend_handles(colors_start_end_bic_optimized, labels_bic)\n",
    "\n",
    "point_colors_start_end_aic_optimized, colors_start_end_aic_optimized = get_cluster_colors(labels_aic)\n",
    "legend_handles_start_end_aic_optimized = get_cluster_legend_handles(colors_start_end_aic_optimized, labels_aic)"
   ]
  },
  {
   "cell_type": "markdown",
   "metadata": {},
   "source": [
    "### 7. create optimized clustering results description"
   ]
  },
  {
   "cell_type": "code",
   "execution_count": 17,
   "metadata": {},
   "outputs": [],
   "source": [
    "# Formatting clustering description for OPTICS optimization results\n",
    "clustering_description = format_clustering_parameter_dict_to_text(optics_optimization_results)\n"
   ]
  },
  {
   "cell_type": "markdown",
   "metadata": {},
   "source": [
    "### 8. plot"
   ]
  },
  {
   "cell_type": "code",
   "execution_count": null,
   "metadata": {},
   "outputs": [],
   "source": [
    "from matplotlib.gridspec import GridSpec\n",
    "\n",
    "fig = plt.figure(figsize=(30, 7))\n",
    "gs = GridSpec(1, 5, figure=fig)\n",
    "\n",
    "ax1 = fig.add_subplot(gs[0, 0]) \n",
    "ax1.scatter(first_last_x_coords, first_last_y_coords, c=point_colors_start_end_silhouette_optimized)\n",
    "ax1.scatter(centers_silhouette[:, 0], centers_silhouette[:, 1], c='red', s=200, alpha=0.75, label='Cluster Centers')\n",
    "ax1.set_title(f'Silhouette optimized clustering', fontsize=15)\n",
    "ax1.set_xlabel(\"X-axis\")\n",
    "ax1.set_ylabel(\"Y-axis\")\n",
    "ax1.legend(handles=legend_handles_start_end_silhouette_optimized)\n",
    "\n",
    "ax2 = fig.add_subplot(gs[0, 1])\n",
    "ax2.scatter(first_last_x_coords, first_last_y_coords, c=point_colors_start_end_calinski_harabasz_optimized)\n",
    "ax2.scatter(centers_calinski_harabasz[:, 0], centers_calinski_harabasz[:, 1], c='red', s=200, alpha=0.75, label='Cluster Centers')\n",
    "ax2.set_title(f'Calinski-Harabasz optimized clustering', fontsize=15)\n",
    "ax2.set_xlabel(\"X-axis\")\n",
    "ax2.set_ylabel(\"Y-axis\")\n",
    "ax2.legend(handles=legend_handles_start_end_calinski_harabasz_optimized)\n",
    "\n",
    "# Create the bottom right plot\n",
    "ax3 = fig.add_subplot(gs[0, 2])  # Bottom right\n",
    "ax3.scatter(first_last_x_coords, first_last_y_coords, c=point_colors_start_end_davies_bouldin_optimized)\n",
    "ax3.scatter(centers_davies_bouldin[:, 0], centers_davies_bouldin[:, 1], c='red', s=200, alpha=0.75, label='Cluster Centers')\n",
    "ax3.set_title(f'Davies-Bouldin optimized clustering', fontsize=15)\n",
    "ax3.set_xlabel(\"X-axis\")\n",
    "ax3.set_ylabel(\"Y-axis\")\n",
    "ax3.legend(handles=legend_handles_start_end_davies_bouldin_optimized)\n",
    "\n",
    "ax4 = fig.add_subplot(gs[0, 3])  # Bottom right\n",
    "ax4.scatter(first_last_x_coords, first_last_y_coords, c=point_colors_start_end_bic_optimized)\n",
    "ax4.scatter(centers_bic[:, 0], centers_bic[:, 1], c='red', s=200, alpha=0.75, label='Cluster Centers')\n",
    "ax4.set_title(f'BIC optimized clustering', fontsize=15)\n",
    "ax4.set_xlabel(\"X-axis\")\n",
    "ax4.set_ylabel(\"Y-axis\")\n",
    "ax4.legend(handles=legend_handles_start_end_bic_optimized)\n",
    "\n",
    "ax5 = fig.add_subplot(gs[0, 4])  # Bottom right\n",
    "ax5.scatter(first_last_x_coords, first_last_y_coords, c=point_colors_start_end_aic_optimized)\n",
    "ax5.scatter(centers_aic[:, 0], centers_aic[:, 1], c='red', s=200, alpha=0.75, label='Cluster Centers')\n",
    "ax5.set_title(f'AIC optimized clustering', fontsize=15)\n",
    "ax5.set_xlabel(\"X-axis\")\n",
    "ax5.set_ylabel(\"Y-axis\")\n",
    "ax5.legend(handles=legend_handles_start_end_aic_optimized)\n",
    "\n",
    "props_results = dict(boxstyle='square', facecolor='green', alpha=0.15)\n",
    "fig.text(0.012,-0.3,f'{clustering_description}', fontsize=12, bbox=props_results)\n",
    "props_optimization_parameters = dict(boxstyle='square', facecolor='blue', alpha=0.15)\n",
    "fig.text(0.012,-0.65,f'Optimization Parameters\\n{optimization_parameters_description}', fontsize=12, bbox=props_optimization_parameters)\n",
    "plt.suptitle(f'Optimized clustering w/ noise', fontsize=20)\n",
    "\n",
    "\n",
    "# Display the plots\n",
    "plt.tight_layout()\n",
    "plt.show()"
   ]
  }
 ],
 "metadata": {
  "kernelspec": {
   "display_name": "ba_thesis",
   "language": "python",
   "name": "python3"
  },
  "language_info": {
   "codemirror_mode": {
    "name": "ipython",
    "version": 3
   },
   "file_extension": ".py",
   "mimetype": "text/x-python",
   "name": "python",
   "nbconvert_exporter": "python",
   "pygments_lexer": "ipython3",
   "version": "3.12.2"
  }
 },
 "nbformat": 4,
 "nbformat_minor": 2
}
