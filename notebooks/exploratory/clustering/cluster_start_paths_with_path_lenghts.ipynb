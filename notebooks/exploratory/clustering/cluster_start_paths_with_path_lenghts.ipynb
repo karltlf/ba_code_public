{
 "cells": [
  {
   "cell_type": "code",
   "execution_count": null,
   "metadata": {},
   "outputs": [],
   "source": [
    "# PASTE THIS TO THE FIRST CELL OF THE NOTEBOOK IN ORDER TO HAVE WORKING IMPORTS\n",
    "import sys\n",
    "import os\n",
    "current_dir = os.getcwd()\n",
    "print(f\"Current dir is {current_dir}\")\n",
    "parent_parent_dir = os.path.abspath(os.path.join(current_dir, '../../..')) # tweak so that you get dir of code project\n",
    "\n",
    "sys.path.append(parent_parent_dir)\n",
    "print(f\"Added {parent_parent_dir} to sys.path\")"
   ]
  },
  {
   "cell_type": "code",
   "execution_count": null,
   "metadata": {},
   "outputs": [],
   "source": [
    "from sklearn.cluster import OPTICS\n",
    "import numpy as np\n",
    "import pandas as pd\n",
    "import ast\n",
    "import matplotlib.pyplot as plt"
   ]
  },
  {
   "cell_type": "markdown",
   "metadata": {},
   "source": [
    "## data import"
   ]
  },
  {
   "cell_type": "code",
   "execution_count": null,
   "metadata": {},
   "outputs": [],
   "source": [
    "from src.features.get_x_y_tuples import get_x_y_tuple_list\n",
    "from src.features.get_first_and_last_x_y_coordinates import get_first_and_last_x_y_coordinates \n",
    "from src.features.get_first_x_y_coordinates import get_first_x_y_coordinates\n",
    "from src.features.get_last_x_y_coordinates import get_last_x_y_coordinates\n",
    "def import_data(df_path):\n",
    "    df_cuid = pd.read_csv(df_path)\n",
    "    df_cuid_grouped_path = df_path.replace('.csv', '_grouped.csv')\n",
    "    df_cuid_grouped = pd.read_csv(df_cuid_grouped_path)\n",
    "    # 1.1 CONVERT FEATURES TO NUMBERS\n",
    "    df_cuid_grouped['x'] = df_cuid_grouped['x'].apply(lambda x: ast.literal_eval(x))\n",
    "    df_cuid_grouped['y'] = df_cuid_grouped['y'].apply(lambda y: ast.literal_eval(y))\n",
    "    list_x_y_tuples = get_x_y_tuple_list(df_cuid_grouped, ['x','y'])\n",
    "    first_last_x_coords, first_last_y_coords = get_first_and_last_x_y_coordinates(list_x_y_tuples)\n",
    "    X = np.array([first_last_x_coords, first_last_y_coords]).T\n",
    "\n",
    "    first_x_coords, first_y_coords = get_first_x_y_coordinates(list_x_y_tuples)\n",
    "    first_coordinates = np.array([first_x_coords, first_y_coords]).T\n",
    "\n",
    "    last_x_coords, last_y_coords = get_last_x_y_coordinates(list_x_y_tuples)\n",
    "    last_coordinates = np.array([last_x_coords, last_y_coords]).T\n",
    "    return df_cuid, df_cuid_grouped, X, first_coordinates, last_coordinates, list_x_y_tuples\n",
    "        "
   ]
  },
  {
   "cell_type": "code",
   "execution_count": null,
   "metadata": {},
   "outputs": [],
   "source": [
    "df_path_k729_2022 = f'{parent_parent_dir}/data/processed/k729_2022_cuid.csv'\n",
    "df_path_k733_2020 = f'{parent_parent_dir}/data/processed/k733_2020_cuid.csv'\n",
    "df_path_k733_2018 = f'{parent_parent_dir}/data/processed/k733_2018_cuid.csv'\n",
    "\n",
    "df_cuid_k729_2022, df_cuid_grouped_k729_2022, X_k729_2022, first_coordinates_k729_2022, last_coordinates_k729_2022, list_x_y_tuples_k729_2022 = import_data(df_path_k729_2022)\n",
    "df_cuid_k733_2020, df_cuid_grouped_k733_2020, X_k733_2020, first_coordinates_k733_2020, last_coordinates_k733_2020, list_x_y_tuples_k733_2020 = import_data(df_path_k733_2020)\n",
    "df_cuid_k733_2018, df_cuid_grouped_k733_2018, X_k733_2018, first_coordinates_k733_2018, last_coordinates_k733_2018, list_x_y_tuples_k733_2018 = import_data(df_path_k733_2018)"
   ]
  },
  {
   "cell_type": "code",
   "execution_count": null,
   "metadata": {},
   "outputs": [],
   "source": [
    "import numpy as np\n",
    "import pandas as pd\n",
    "import matplotlib.pyplot as plt\n",
    "\n",
    "# Function to interpolate a list of x-y coordinates to a fixed number of points\n",
    "def interpolate_path(x, y, num_points=100):\n",
    "    # Calculate the cumulative distances between points\n",
    "    distances = np.cumsum(np.sqrt(np.diff(x)**2 + np.diff(y)**2))\n",
    "    distances = np.insert(distances, 0, 0)  # Insert 0 at the beginning (distance for the first point)\n",
    "\n",
    "    # Create a uniform set of distances (from 0 to total length) to interpolate to\n",
    "    uniform_distances = np.linspace(0, distances[-1], num_points)\n",
    "\n",
    "    # Interpolate x and y coordinates at these uniform distances\n",
    "    x_interpolated = np.interp(uniform_distances, distances, x)\n",
    "    y_interpolated = np.interp(uniform_distances, distances, y)\n",
    "\n",
    "    return x_interpolated, y_interpolated\n"
   ]
  },
  {
   "cell_type": "code",
   "execution_count": null,
   "metadata": {},
   "outputs": [],
   "source": [
    "num_points_interpolation = 40\n",
    "def get_interpolated_df_grouped(df_grouped):\n",
    "    interpolated_paths = []\n",
    "    x = df_grouped['x']\n",
    "    y = df_grouped['y']\n",
    "    for i in range(len(x)):\n",
    "        x_interpolated, y_interpolated = interpolate_path(x[i], y[i], num_points=num_points_interpolation)\n",
    "        interpolated_paths.append({\n",
    "        'x': x_interpolated,\n",
    "        'y': y_interpolated\n",
    "    })\n",
    "    interpolated_df = pd.DataFrame(interpolated_paths)\n",
    "    return interpolated_df"
   ]
  },
  {
   "cell_type": "code",
   "execution_count": null,
   "metadata": {},
   "outputs": [],
   "source": [
    "df_interpolated_k729_2022 = get_interpolated_df_grouped(df_cuid_grouped_k729_2022)\n",
    "df_interpolated_k733_2020 = get_interpolated_df_grouped(df_cuid_grouped_k733_2020)\n",
    "df_interpolated_k733_2018 = get_interpolated_df_grouped(df_cuid_grouped_k733_2018)"
   ]
  },
  {
   "cell_type": "code",
   "execution_count": null,
   "metadata": {},
   "outputs": [],
   "source": [
    "# insert indices into dataframe for track_id column\n",
    "df_interpolated_k729_2022.insert(0, 'track_id', df_cuid_grouped_k729_2022['track_id'])\n",
    "df_interpolated_k733_2020.insert(0, 'track_id', df_cuid_grouped_k733_2020['track_id'])\n",
    "df_interpolated_k733_2018.insert(0, 'track_id', df_cuid_grouped_k733_2018['track_id'])"
   ]
  },
  {
   "cell_type": "code",
   "execution_count": null,
   "metadata": {},
   "outputs": [],
   "source": [
    "%matplotlib qt\n",
    "from src.visualization.plot_vehicle_tracks_in_notebook import plot_vehicle_tracks_in_notebook\n",
    "plot_vehicle_tracks_in_notebook(plt.gca(), df_cuid_k729_2022, df_interpolated_k729_2022, 'k729_2022 interpolated vehicle paths', linestyle='-', alpha=0.1)\n",
    "plot_vehicle_tracks_in_notebook(plt.gca(), df_cuid_k729_2022, df_cuid_grouped_k729_2022, 'k729_2022 interpolated vehicle paths', linestyle=':', color='gray', alpha=0.2)"
   ]
  },
  {
   "cell_type": "code",
   "execution_count": null,
   "metadata": {},
   "outputs": [],
   "source": [
    "plot_vehicle_tracks_in_notebook(plt.gca(), df_cuid_k733_2020, df_interpolated_k733_2020, 'k733_2020 interpolated vehicle paths', linestyle='-', alpha=0.1)\n",
    "plot_vehicle_tracks_in_notebook(plt.gca(), df_cuid_k733_2020, df_cuid_grouped_k733_2020, 'k733_2020 interpolated vehicle paths', linestyle=':', color='gray', alpha=0.2)"
   ]
  },
  {
   "cell_type": "code",
   "execution_count": null,
   "metadata": {},
   "outputs": [],
   "source": [
    "plot_vehicle_tracks_in_notebook(plt.gca(), df_cuid_k733_2018, df_interpolated_k733_2018, 'k733_2018 interpolated vehicle paths', linestyle='-', alpha=0.1)\n",
    "plot_vehicle_tracks_in_notebook(plt.gca(), df_cuid_k733_2018, df_cuid_grouped_k733_2018, 'k733_2018 interpolated vehicle paths', linestyle=':', color='gray', alpha=0.2)"
   ]
  },
  {
   "cell_type": "code",
   "execution_count": null,
   "metadata": {},
   "outputs": [],
   "source": [
    "from src.features.calculate_path_length import calculate_path_length\n",
    "path_lengths_k729_2022 = calculate_path_length(list_x_y_tuples_k729_2022)\n",
    "path_lengths_k733_2020 = calculate_path_length(list_x_y_tuples_k733_2020)\n",
    "path_lengths_k733_2018 = calculate_path_length(list_x_y_tuples_k733_2018)"
   ]
  },
  {
   "cell_type": "code",
   "execution_count": null,
   "metadata": {},
   "outputs": [],
   "source": [
    "path_lengths_k729_2022 = [[len]*num_points_interpolation for len in path_lengths_k729_2022]\n",
    "path_lengths_k733_2020 = [[len]*num_points_interpolation for len in path_lengths_k733_2020]\n",
    "path_lengths_k733_2018 = [[len]*num_points_interpolation for len in path_lengths_k733_2018]"
   ]
  },
  {
   "cell_type": "code",
   "execution_count": null,
   "metadata": {},
   "outputs": [],
   "source": [
    "df_interpolated_k729_2022['path_length'] = path_lengths_k729_2022\n",
    "df_interpolated_k733_2020['path_length'] = path_lengths_k733_2020\n",
    "df_interpolated_k733_2018['path_length'] = path_lengths_k733_2018"
   ]
  },
  {
   "cell_type": "code",
   "execution_count": null,
   "metadata": {},
   "outputs": [],
   "source": [
    "x = [val for sublist in df_interpolated_k729_2022['x'] for val in sublist]\n",
    "y = [val for sublist in df_interpolated_k729_2022['y'] for val in sublist]\n",
    "length = [val for sublist in df_interpolated_k729_2022['path_length'] for val in sublist]\n",
    "X_k729_2022 = np.array([x, y, length]).T\n",
    "\n",
    "x = [val for sublist in df_interpolated_k733_2020['x'] for val in sublist]\n",
    "y = [val for sublist in df_interpolated_k733_2020['y'] for val in sublist]\n",
    "length = [val for sublist in df_interpolated_k733_2020['path_length'] for val in sublist]\n",
    "X_k733_2020 = np.array([x, y, length]).T\n",
    "\n",
    "x = [val for sublist in df_interpolated_k733_2018['x'] for val in sublist]\n",
    "y = [val for sublist in df_interpolated_k733_2018['y'] for val in sublist]\n",
    "length = [val for sublist in df_interpolated_k733_2018['path_length'] for val in sublist]\n",
    "X_k733_2018 = np.array([x, y, length]).T"
   ]
  },
  {
   "cell_type": "code",
   "execution_count": null,
   "metadata": {},
   "outputs": [],
   "source": [
    "\n",
    "import json\n",
    "with open(f'{parent_parent_dir}/src/models/optics/optimized_optics_clustering_parameters/optimization_parameters_clustering_start_end_report_notebook.json') as f:\n",
    "        optics_params = json.load(f)\n"
   ]
  },
  {
   "cell_type": "code",
   "execution_count": null,
   "metadata": {},
   "outputs": [],
   "source": [
    "max_eps_range = np.arange(1, 10, 1)\n",
    "min_samples_range = np.arange(5, 10, 1)\n",
    "metrics = [\n",
    "    #'cosine', \n",
    "    'euclidean', \n",
    "    'manhattan', \n",
    "    #'braycurtis', \n",
    "    # 'canberra', \n",
    "    'chebyshev', \n",
    "    #'correlation', \n",
    "    'mahalanobis', \n",
    "    'minkowski', \n",
    "    #'seuclidean', \n",
    "    #'sqeuclidean'\n",
    "]\n",
    "# xis = np.arange(0.01, 0.1, 0.01)\n",
    "# cluster_methods = ['dbscan', 'xi']\n",
    "xis = np.arange(0, 0.1, 0.1)\n",
    "cluster_methods = ['dbscan']"
   ]
  },
  {
   "cell_type": "markdown",
   "metadata": {},
   "source": [
    "#### k729_2022"
   ]
  },
  {
   "cell_type": "markdown",
   "metadata": {},
   "source": [
    "##### optics"
   ]
  },
  {
   "cell_type": "code",
   "execution_count": null,
   "metadata": {},
   "outputs": [],
   "source": [
    "from src.models.optics.optimize_optics_parallelized_no_aic_bic import optimize_optics_parallelized_no_aic_bic\n",
    "# optimization_results_k729_2022 = optimize_optics_parallelized_no_aic_bic(X=X_k729_2022, \n",
    "#                                                                          max_eps_range=optics_params['max_eps_range'], \n",
    "#                                                                          min_samples_range=optics_params['min_samples_range'], \n",
    "#                                                                          metrics=optics_params['metrics'],\n",
    "#                                                                          cluster_methods=optics_params['cluster_methods'],\n",
    "#                                                                          xis=optics_params['xis'])\n",
    "# optimization_results_k729_2022 = optimize_optics_parallelized_no_aic_bic(X=X_k729_2022, \n",
    "#                                                                          max_eps_range=max_eps_range, \n",
    "#                                                                          min_samples_range=min_samples_range, \n",
    "#                                                                          metrics=metrics,\n",
    "#                                                                          cluster_methods=cluster_methods,\n",
    "#                                                                          xis=xis)\n",
    "\n",
    "optimization_results_k729_2022 = {'silhouette': {'score': 0.3233328226747606,\n",
    "  'epsilon': 6,\n",
    "  'min_samples': 5,\n",
    "  'metric': 'chebyshev',\n",
    "  'cluster_method': 'dbscan',\n",
    "  'xi': None},\n",
    " 'calinski_harabasz': {'score': 899.1044953202556,\n",
    "  'epsilon': 6,\n",
    "  'min_samples': 5,\n",
    "  'metric': 'chebyshev',\n",
    "  'cluster_method': 'dbscan',\n",
    "  'xi': None},\n",
    " 'davies_bouldin': {'score': 0.5555195559992916,\n",
    "  'epsilon': 5,\n",
    "  'min_samples': 5,\n",
    "  'metric': 'chebyshev',\n",
    "  'cluster_method': 'dbscan',\n",
    "  'xi': None}}"
   ]
  },
  {
   "cell_type": "code",
   "execution_count": null,
   "metadata": {},
   "outputs": [],
   "source": [
    "from sklearn.cluster import OPTICS\n",
    "optics_optimized_silhouette_k729_2022 = OPTICS(min_samples=optimization_results_k729_2022['silhouette']['min_samples'],\n",
    "                                               max_eps=optimization_results_k729_2022['silhouette']['epsilon'],\n",
    "                                               metric=optimization_results_k729_2022['silhouette']['metric'],\n",
    "                                               cluster_method=optimization_results_k729_2022['silhouette']['cluster_method']\n",
    "\n",
    "                                               ).fit(X_k729_2022)\n",
    "optics_optimized_silhouette_k729_2022"
   ]
  },
  {
   "cell_type": "code",
   "execution_count": null,
   "metadata": {},
   "outputs": [],
   "source": [
    "%matplotlib qt\n",
    "from mpl_toolkits.mplot3d import Axes3D  # Import the 3D plotting tools\n",
    "\n",
    "labels_silhouette_k729_2022 = optics_optimized_silhouette_k729_2022.labels_\n",
    "unique_labels = set(labels_silhouette_k729_2022)\n",
    "colors = plt.cm.get_cmap('viridis', len(unique_labels)) \n",
    "\n",
    "fig_optics_k729_2022 = plt.figure()\n",
    "ax = fig_optics_k729_2022.add_subplot(111, projection='3d')\n",
    "\n",
    "# Plot each cluster with a unique color\n",
    "for label in unique_labels:\n",
    "    if label == -1:\n",
    "        # Noise points (label == -1)\n",
    "        color = 'gray'  # Color for noise points (black, transparent)\n",
    "    else:\n",
    "        color = colors(label)  # Assign a color from the colormap\n",
    "\n",
    "    # Select points belonging to the current label\n",
    "    cluster_points = X_k729_2022[labels_silhouette_k729_2022 == label]\n",
    "\n",
    "    # Plot the points in the cluster\n",
    "    ax.plot(X_k729_2022[:,0], X_k729_2022[:,1], zs=0, zdir='z', color='gray', alpha=0.6)\n",
    "    ax.scatter(cluster_points[:, 0], cluster_points[:, 1], cluster_points[:,2], c=[color], label=f'Cluster {label}')\n",
    "\n",
    "# Step 4: Add legend and titles\n",
    "ax.set_title('OPTICS Clustering of Vehicle Paths')\n",
    "ax.set_xlabel('X Coordinate')\n",
    "ax.set_ylabel('Y Coordinate')\n",
    "ax.legend(loc='best')\n",
    "\n",
    "plt.show()"
   ]
  },
  {
   "cell_type": "markdown",
   "metadata": {},
   "source": [
    "##### svm"
   ]
  },
  {
   "cell_type": "code",
   "execution_count": null,
   "metadata": {},
   "outputs": [],
   "source": [
    "import numpy as np\n",
    "import pandas as pd\n",
    "import matplotlib.pyplot as plt\n",
    "from sklearn.svm import OneClassSVM\n",
    "from mpl_toolkits.mplot3d import Axes3D  # Import the 3D plotting tools\n",
    "\n",
    "# Step 2: Apply One-Class SVM for outlier detection\n",
    "svm_model = OneClassSVM(kernel='rbf', gamma='auto', nu=0.01)  # You can adjust the nu parameter for controlling the outlier ratio\n",
    "svm_model.fit(X_k729_2022)\n",
    "\n",
    "# Step 3: Get the labels (-1 for outliers, 1 for inliers)\n",
    "labels = svm_model.predict(X_k729_2022)"
   ]
  },
  {
   "cell_type": "code",
   "execution_count": null,
   "metadata": {},
   "outputs": [],
   "source": [
    "%matplotlib qt\n",
    "\n",
    "fig_svm_k729_2022 = plt.figure()\n",
    "ax = fig_svm_k729_2022.add_subplot(111, projection='3d')\n",
    "\n",
    "# Use 'viridis' colormap for inliers and a specific color for outliers\n",
    "colors = plt.cm.viridis(np.linspace(0, 1, len(X_k729_2022)))\n",
    "\n",
    "# Plot background gray lines for all paths\n",
    "ax.plot(X_k729_2022[:, 0], X_k729_2022[:, 1], zs=0, zdir='z', color='gray', alpha=0.6)\n",
    "\n",
    "# Collect inliers and outliers for later plotting\n",
    "inliers = X_k729_2022[labels == 1]   # Inliers\n",
    "outliers = X_k729_2022[labels == -1] # Outliers\n",
    "\n",
    "# Plot inliers (green)\n",
    "ax.scatter(inliers[:, 0], inliers[:, 1], inliers[:, 2], c='green', label='Inlier')\n",
    "\n",
    "# Plot outliers (red)\n",
    "ax.scatter(outliers[:, 0], outliers[:, 1], outliers[:, 2], c='red', label='Outlier')\n",
    "\n",
    "# Add legend and titles\n",
    "ax.set_title('One-Class SVM Outlier Detection (3D)')\n",
    "ax.set_xlabel('X Coordinate')\n",
    "ax.set_ylabel('Y Coordinate')\n",
    "ax.set_zlabel('Z Coordinate (Path Length)')\n",
    "ax.legend(loc='best')\n",
    "\n",
    "plt.show()\n"
   ]
  },
  {
   "cell_type": "markdown",
   "metadata": {},
   "source": [
    "##### pca k means"
   ]
  },
  {
   "cell_type": "code",
   "execution_count": null,
   "metadata": {},
   "outputs": [],
   "source": [
    "import numpy as np\n",
    "import pandas as pd\n",
    "import matplotlib.pyplot as plt\n",
    "from sklearn.decomposition import PCA\n",
    "from sklearn.cluster import KMeans\n",
    "from mpl_toolkits.mplot3d import Axes3D\n",
    "\n",
    "# Step 2: Apply PCA for dimensionality reduction\n",
    "pca = PCA(n_components=2)  # Reduce to 2 dimensions for visualization\n",
    "X_k729_2022_pca = pca.fit_transform(X_k729_2022)\n",
    "\n",
    "# Step 3: Apply KMeans Clustering on PCA-reduced data\n",
    "kmeans = KMeans(n_clusters=3)  # Specify the number of clusters\n",
    "kmeans.fit(X_k729_2022_pca)\n",
    "labels = kmeans.labels_\n",
    "\n",
    "fig_pca_k729_2022 = plt.figure()\n",
    "ax = fig_pca_k729_2022.add_subplot(111, projection='3d')\n",
    "\n",
    "# Use 'viridis' colormap for clusters\n",
    "colors = plt.cm.viridis(np.linspace(0, 1, len(set(labels))))\n",
    "\n",
    "for label in set(labels):\n",
    "    cluster_points = X_k729_2022_pca[labels == label]\n",
    "    ax.scatter(cluster_points[:, 0], cluster_points[:, 1], color=colors[label], label=f'Cluster {label}')\n",
    "\n",
    "# Add legend and titles\n",
    "ax.set_title('PCA + KMeans Clustering')\n",
    "ax.set_xlabel('Principal Component 1')\n",
    "ax.set_ylabel('Principal Component 2')\n",
    "ax.legend(loc='best')\n",
    "\n",
    "plt.show()\n"
   ]
  },
  {
   "cell_type": "markdown",
   "metadata": {},
   "source": [
    "##### pca optics"
   ]
  },
  {
   "cell_type": "code",
   "execution_count": null,
   "metadata": {},
   "outputs": [],
   "source": [
    "import numpy as np\n",
    "import pandas as pd\n",
    "import matplotlib.pyplot as plt\n",
    "from sklearn.decomposition import PCA\n",
    "from sklearn.cluster import KMeans\n",
    "from mpl_toolkits.mplot3d import Axes3D\n",
    "\n",
    "# Step 2: Apply PCA for dimensionality reduction\n",
    "pca = PCA(n_components=2)  # Reduce to 2 dimensions for visualization\n",
    "X_k729_2022_pca = pca.fit_transform(X_k729_2022)\n",
    "\n",
    "# Step 3: Apply KMeans Clustering on PCA-reduced data\n",
    "optics = OPTICS(min_samples=5, max_eps=3, metric='chebyshev', cluster_method='dbscan')  # Reduce to 2 dimensions for visualization\n",
    "optics.fit(X_k729_2022_pca)\n",
    "labels = optics.labels_\n",
    "\n",
    "fig_pca_optics_k729_2022 = plt.figure()\n",
    "ax = fig_pca_optics_k729_2022.add_subplot(111, projection='3d')\n",
    "\n",
    "# Use 'viridis' colormap for clusters\n",
    "colors = plt.cm.viridis(np.linspace(0, 1, len(set(labels))))\n",
    "\n",
    "for label in set(labels):\n",
    "    cluster_points = X_k729_2022[labels == label]\n",
    "    ax.scatter(cluster_points[:, 0], cluster_points[:, 1], color=colors[label], label=f'Cluster {label}')\n",
    "\n",
    "# Add legend and titles\n",
    "ax.set_title('PCA + KMeans Clustering')\n",
    "ax.set_xlabel('Principal Component 1')\n",
    "ax.set_ylabel('Principal Component 2')\n",
    "ax.legend(loc='best')\n",
    "\n",
    "plt.show()\n"
   ]
  },
  {
   "cell_type": "markdown",
   "metadata": {},
   "source": [
    "##### pca dbscan"
   ]
  },
  {
   "cell_type": "code",
   "execution_count": null,
   "metadata": {},
   "outputs": [],
   "source": [
    "import numpy as np\n",
    "import pandas as pd\n",
    "import matplotlib.pyplot as plt\n",
    "from sklearn.decomposition import PCA\n",
    "from sklearn.cluster import KMeans\n",
    "from mpl_toolkits.mplot3d import Axes3D\n",
    "\n",
    "# Step 2: Apply PCA for dimensionality reduction\n",
    "pca = PCA(n_components=2)  # Reduce to 2 dimensions for visualization\n",
    "X_k729_2022_pca = pca.fit_transform(X_k729_2022)\n",
    "\n",
    "# Step 3: Apply KMeans Clustering on PCA-reduced data\n",
    "dbscan_model = OPTICS(min_samples=5, max_eps=6, metric='chebyshev', cluster_method='dbscan')  # Reduce to 2 dimensions for visualization\n",
    "optics.fit(X_k729_2022)\n",
    "labels = optics.labels_\n",
    "\n",
    "fig_pca_optics_k729_2022 = plt.figure()\n",
    "ax = fig_pca_optics_k729_2022.add_subplot(111, projection='3d')\n",
    "\n",
    "# Use 'viridis' colormap for clusters\n",
    "colors = plt.cm.viridis(np.linspace(0, 1, len(set(labels))))\n",
    "\n",
    "for label in set(labels):\n",
    "    cluster_points = X_k729_2022[labels == label]\n",
    "    ax.scatter(cluster_points[:, 0], cluster_points[:, 1], color=colors[label], label=f'Cluster {label}')\n",
    "\n",
    "# Add legend and titles\n",
    "ax.set_title('PCA + OPTICS Clustering')\n",
    "ax.set_xlabel('Principal Component 1')\n",
    "ax.set_ylabel('Principal Component 2')\n",
    "ax.legend(loc='best')\n",
    "\n",
    "plt.show()\n"
   ]
  },
  {
   "cell_type": "markdown",
   "metadata": {},
   "source": [
    "#### k733_2020"
   ]
  },
  {
   "cell_type": "markdown",
   "metadata": {},
   "source": [
    "##### optics"
   ]
  },
  {
   "cell_type": "code",
   "execution_count": null,
   "metadata": {},
   "outputs": [],
   "source": [
    "from src.models.optics.optimize_optics_parallelized_no_aic_bic import optimize_optics_parallelized_no_aic_bic\n",
    "\n",
    "optimization_results_k733_2020 = optimize_optics_parallelized_no_aic_bic(X=X_k733_2020, \n",
    "                                                                         max_eps_range=max_eps_range, \n",
    "                                                                         min_samples_range=min_samples_range, \n",
    "                                                                         metrics=metrics,\n",
    "                                                                         cluster_methods=cluster_methods,\n",
    "                                                                         xis=xis)\n",
    "optimization_results_k733_2020"
   ]
  },
  {
   "cell_type": "code",
   "execution_count": null,
   "metadata": {},
   "outputs": [],
   "source": [
    "from scipy import linalg\n",
    "from sklearn.cluster import OPTICS\n",
    "optics_optimized_silhouette_k733_2020 = OPTICS(min_samples=optimization_results_k733_2020['silhouette']['min_samples'],\n",
    "                                               max_eps=optimization_results_k733_2020['silhouette']['epsilon'],\n",
    "                                               metric=optimization_results_k733_2020['silhouette']['metric'],\n",
    "                                               cluster_method=optimization_results_k733_2020['silhouette']['cluster_method'],\n",
    "                                                metric_params={'VI': np.linalg.inv(np.cov(X_k733_2020.T))}\n",
    "                                               ).fit(X_k733_2020)\n",
    "optics_optimized_silhouette_k733_2020"
   ]
  },
  {
   "cell_type": "code",
   "execution_count": null,
   "metadata": {},
   "outputs": [],
   "source": [
    "%matplotlib qt\n",
    "from mpl_toolkits.mplot3d import Axes3D  # Import the 3D plotting tools\n",
    "\n",
    "labels_silhouette_k733_2020 = optics_optimized_silhouette_k733_2020.labels_\n",
    "unique_labels = set(labels_silhouette_k733_2020)\n",
    "colors = plt.cm.get_cmap('viridis', len(unique_labels)) \n",
    "\n",
    "fig_optics_k733_2020 = plt.figure()\n",
    "ax = fig_optics_k733_2020.add_subplot(111, projection='3d')\n",
    "\n",
    "# Plot each cluster with a unique color\n",
    "for label in unique_labels:\n",
    "    if label == -1:\n",
    "        # Noise points (label == -1)\n",
    "        color = 'gray'  # Color for noise points (black, transparent)\n",
    "    else:\n",
    "        color = colors(label)  # Assign a color from the colormap\n",
    "\n",
    "    # Select points belonging to the current label\n",
    "    cluster_points = X_k733_2020[labels_silhouette_k733_2020 == label]\n",
    "\n",
    "    # Plot the points in the cluster\n",
    "    ax.plot(X_k733_2020[:,0], X_k733_2020[:,1], zs=0, zdir='z', color='gray', alpha=0.6)\n",
    "    ax.scatter(cluster_points[:, 0], cluster_points[:, 1], cluster_points[:,2], c=[color], label=f'Cluster {label}')\n",
    "\n",
    "# Step 4: Add legend and titles\n",
    "ax.set_title('OPTICS Clustering of Vehicle Paths')\n",
    "ax.set_xlabel('X Coordinate')\n",
    "ax.set_ylabel('Y Coordinate')\n",
    "ax.legend(loc='best')\n",
    "\n",
    "plt.show()"
   ]
  },
  {
   "cell_type": "markdown",
   "metadata": {},
   "source": [
    "##### svm"
   ]
  },
  {
   "cell_type": "code",
   "execution_count": null,
   "metadata": {},
   "outputs": [],
   "source": [
    "import numpy as np\n",
    "import pandas as pd\n",
    "import matplotlib.pyplot as plt\n",
    "from sklearn.svm import OneClassSVM\n",
    "from mpl_toolkits.mplot3d import Axes3D  # Import the 3D plotting tools\n",
    "\n",
    "# Step 2: Apply One-Class SVM for outlier detection\n",
    "svm_model = OneClassSVM(kernel='rbf', gamma='auto', nu=0.01)  # You can adjust the nu parameter for controlling the outlier ratio\n",
    "svm_model.fit(X_k733_2020)\n",
    "\n",
    "# Step 3: Get the labels (-1 for outliers, 1 for inliers)\n",
    "labels = svm_model.predict(X_k733_2020)"
   ]
  },
  {
   "cell_type": "code",
   "execution_count": null,
   "metadata": {},
   "outputs": [],
   "source": [
    "%matplotlib qt\n",
    "\n",
    "fig_svm_k733_2020 = plt.figure()\n",
    "ax = fig_svm_k733_2020.add_subplot(111, projection='3d')\n",
    "\n",
    "# Use 'viridis' colormap for inliers and a specific color for outliers\n",
    "colors = plt.cm.viridis(np.linspace(0, 1, len(X_k733_2020)))\n",
    "\n",
    "# Plot background gray lines for all paths\n",
    "ax.plot(X_k733_2020[:, 0], X_k733_2020[:, 1], zs=0, zdir='z', color='gray', alpha=0.6)\n",
    "\n",
    "# Collect inliers and outliers for later plotting\n",
    "inliers = X_k733_2020[labels == 1]   # Inliers\n",
    "outliers = X_k733_2020[labels == -1] # Outliers\n",
    "\n",
    "# Plot inliers (green)\n",
    "ax.scatter(inliers[:, 0], inliers[:, 1], inliers[:, 2], c='green', label='Inlier')\n",
    "\n",
    "# Plot outliers (red)\n",
    "ax.scatter(outliers[:, 0], outliers[:, 1], outliers[:, 2], c='red', label='Outlier')\n",
    "\n",
    "# Add legend and titles\n",
    "ax.set_title('One-Class SVM Outlier Detection (3D)')\n",
    "ax.set_xlabel('X Coordinate')\n",
    "ax.set_ylabel('Y Coordinate')\n",
    "ax.set_zlabel('Z Coordinate (Path Length)')\n",
    "ax.legend(loc='best')\n",
    "\n",
    "plt.show()\n"
   ]
  },
  {
   "cell_type": "markdown",
   "metadata": {},
   "source": [
    "#### k733_2018"
   ]
  },
  {
   "cell_type": "markdown",
   "metadata": {},
   "source": [
    "##### optics"
   ]
  },
  {
   "cell_type": "code",
   "execution_count": null,
   "metadata": {},
   "outputs": [],
   "source": [
    "from src.models.optics.optimize_optics_parallelized_no_aic_bic import optimize_optics_parallelized_no_aic_bic\n",
    "\n",
    "optimization_results_k733_2018 = optimize_optics_parallelized_no_aic_bic(X=X_k733_2018, \n",
    "                                                                         max_eps_range=max_eps_range, \n",
    "                                                                         min_samples_range=min_samples_range, \n",
    "                                                                         metrics=metrics,\n",
    "                                                                         cluster_methods=cluster_methods,\n",
    "                                                                         xis=xis)\n",
    "optimization_results_k733_2018"
   ]
  },
  {
   "cell_type": "code",
   "execution_count": null,
   "metadata": {},
   "outputs": [],
   "source": [
    "from scipy import linalg\n",
    "from sklearn.cluster import OPTICS\n",
    "optics_optimized_silhouette_k733_2018 = OPTICS(min_samples=optimization_results_k733_2018['silhouette']['min_samples'],\n",
    "                                               max_eps=optimization_results_k733_2018['silhouette']['epsilon'],\n",
    "                                               metric=optimization_results_k733_2018['silhouette']['metric'],\n",
    "                                               cluster_method=optimization_results_k733_2018['silhouette']['cluster_method']\n",
    "                                               ).fit(X_k733_2018)\n",
    "optics_optimized_silhouette_k733_2018"
   ]
  },
  {
   "cell_type": "code",
   "execution_count": null,
   "metadata": {},
   "outputs": [],
   "source": [
    "%matplotlib qt\n",
    "from mpl_toolkits.mplot3d import Axes3D  # Import the 3D plotting tools\n",
    "\n",
    "labels_silhouette_k733_2018 = optics_optimized_silhouette_k733_2018.labels_\n",
    "unique_labels = set(labels_silhouette_k733_2018)\n",
    "colors = plt.cm.get_cmap('viridis', len(unique_labels)) \n",
    "\n",
    "fig_optics_k733_2018 = plt.figure()\n",
    "ax = fig_optics_k733_2018.add_subplot(111, projection='3d')\n",
    "\n",
    "# Plot each cluster with a unique color\n",
    "for label in unique_labels:\n",
    "    if label == -1:\n",
    "        # Noise points (label == -1)\n",
    "        color = 'gray'\n",
    "    else:\n",
    "        color = colors(label)  # Assign a color from the colormap\n",
    "\n",
    "    # Select points belonging to the current label\n",
    "    cluster_points = X_k733_2018[labels_silhouette_k733_2018 == label]\n",
    "\n",
    "    # Plot the points in the cluster\n",
    "    ax.plot(X_k733_2018[:,0], X_k733_2018[:,1], zs=0, zdir='z', color='gray', alpha=0.6)\n",
    "    ax.scatter(cluster_points[:, 0], cluster_points[:, 1], cluster_points[:,2], c=[color], label=f'Cluster {label}')\n",
    "\n",
    "# Step 4: Add legend and titles\n",
    "ax.set_title('OPTICS Clustering of Vehicle Paths')\n",
    "ax.set_xlabel('X Coordinate')\n",
    "ax.set_ylabel('Y Coordinate')\n",
    "ax.legend(loc='best')\n",
    "\n",
    "plt.show()"
   ]
  },
  {
   "cell_type": "markdown",
   "metadata": {},
   "source": [
    "##### one class svm"
   ]
  },
  {
   "cell_type": "code",
   "execution_count": null,
   "metadata": {},
   "outputs": [],
   "source": [
    "import numpy as np\n",
    "import pandas as pd\n",
    "import matplotlib.pyplot as plt\n",
    "from sklearn.svm import OneClassSVM\n",
    "from mpl_toolkits.mplot3d import Axes3D  # Import the 3D plotting tools\n",
    "\n",
    "# Step 2: Apply One-Class SVM for outlier detection\n",
    "svm_model = OneClassSVM(kernel='rbf', gamma='auto', nu=0.01)  # You can adjust the nu parameter for controlling the outlier ratio\n",
    "svm_model.fit(X_k733_2020)\n",
    "\n",
    "# Step 3: Get the labels (-1 for outliers, 1 for inliers)\n",
    "labels = svm_model.predict(X_k733_2020)"
   ]
  },
  {
   "cell_type": "code",
   "execution_count": null,
   "metadata": {},
   "outputs": [],
   "source": [
    "%matplotlib qt\n",
    "\n",
    "fig_svm_k733_2020 = plt.figure()\n",
    "ax = fig_svm_k733_2020.add_subplot(111, projection='3d')\n",
    "\n",
    "# Use 'viridis' colormap for inliers and a specific color for outliers\n",
    "colors = plt.cm.viridis(np.linspace(0, 1, len(X_k733_2020)))\n",
    "\n",
    "# Plot background gray lines for all paths\n",
    "ax.plot(X_k733_2020[:, 0], X_k733_2020[:, 1], zs=0, zdir='z', color='gray', alpha=0.6)\n",
    "\n",
    "# Collect inliers and outliers for later plotting\n",
    "inliers = X_k733_2020[labels == 1]   # Inliers\n",
    "outliers = X_k733_2020[labels == -1] # Outliers\n",
    "\n",
    "# Plot inliers (green)\n",
    "ax.scatter(inliers[:, 0], inliers[:, 1], inliers[:, 2], c='green', label='Inlier')\n",
    "\n",
    "# Plot outliers (red)\n",
    "ax.scatter(outliers[:, 0], outliers[:, 1], outliers[:, 2], c='red', label='Outlier')\n",
    "\n",
    "# Add legend and titles\n",
    "ax.set_title('One-Class SVM Outlier Detection (3D)')\n",
    "ax.set_xlabel('X Coordinate')\n",
    "ax.set_ylabel('Y Coordinate')\n",
    "ax.set_zlabel('Z Coordinate (Path Length)')\n",
    "ax.legend(loc='best')\n",
    "\n",
    "plt.show()\n"
   ]
  }
 ],
 "metadata": {
  "kernelspec": {
   "display_name": "ba_thesis",
   "language": "python",
   "name": "python3"
  },
  "language_info": {
   "codemirror_mode": {
    "name": "ipython",
    "version": 3
   },
   "file_extension": ".py",
   "mimetype": "text/x-python",
   "name": "python",
   "nbconvert_exporter": "python",
   "pygments_lexer": "ipython3",
   "version": "3.12.2"
  }
 },
 "nbformat": 4,
 "nbformat_minor": 2
}
