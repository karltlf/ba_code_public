{
 "cells": [
  {
   "cell_type": "code",
   "execution_count": 3,
   "metadata": {},
   "outputs": [],
   "source": [
    "import numpy as np\n",
    "import pandas as pd\n",
    "import ast\n",
    "import matplotlib.pyplot as plt\n",
    "from tslearn.metrics import dtw_path_from_metric\n",
    "import random\n",
    "\n",
    "\n",
    "\n",
    "# ********************\n",
    "# ****** IMPORT ******\n",
    "# ********************\n",
    "df_k729_2022_cuid = pd.read_csv('./datasets/k729_2022_cuid.csv')\n",
    "df_k729_2022_cuid_grouped = pd.read_csv('./datasets/k729_2022_cuid_grouped.csv')\n",
    "df_k729_2022_cuid_grouped['x'] = df_k729_2022_cuid_grouped['x'].apply(lambda x: ast.literal_eval(x))\n",
    "df_k729_2022_cuid_grouped['y'] = df_k729_2022_cuid_grouped['y'].apply(lambda y: ast.literal_eval(y))\n",
    "df_k729_2022_cuid_grouped['vx'] = df_k729_2022_cuid_grouped['vx'].apply(lambda vx: ast.literal_eval(vx))\n",
    "df_k729_2022_cuid_grouped['vy'] = df_k729_2022_cuid_grouped['vy'].apply(lambda vy: ast.literal_eval(vy))\n",
    "df_k729_2022_cuid_grouped['v'] = df_k729_2022_cuid_grouped['v'].apply(lambda v: ast.literal_eval(v))\n",
    "\n",
    "df_k733_2020_cuid = pd.read_csv('./datasets/k733_2020_cuid.csv')\n",
    "df_k733_2020_cuid_grouped = pd.read_csv('./datasets/k733_2020_cuid_grouped.csv')\n",
    "df_k733_2020_cuid_grouped['x'] = df_k733_2020_cuid_grouped['x'].apply(lambda x: ast.literal_eval(x))\n",
    "df_k733_2020_cuid_grouped['y'] = df_k733_2020_cuid_grouped['y'].apply(lambda y: ast.literal_eval(y))\n",
    "\n",
    "df_k733_2018_cuid = pd.read_csv('./datasets/k733_2018_cuid.csv')\n",
    "df_k733_2018_cuid_grouped = pd.read_csv('./datasets/k733_2018_cuid_grouped.csv')\n",
    "df_k733_2018_cuid_grouped['x'] = df_k733_2018_cuid_grouped['x'].apply(lambda x: ast.literal_eval(x))\n",
    "df_k733_2018_cuid_grouped['y'] = df_k733_2018_cuid_grouped['y'].apply(lambda y: ast.literal_eval(y))\n",
    "df_k733_2018_cuid_grouped['vx'] = df_k733_2018_cuid_grouped['vx'].apply(lambda vx: ast.literal_eval(vx))\n",
    "df_k733_2018_cuid_grouped['vy'] = df_k733_2018_cuid_grouped['vy'].apply(lambda vy: ast.literal_eval(vy))"
   ]
  },
  {
   "cell_type": "code",
   "execution_count": 4,
   "metadata": {},
   "outputs": [],
   "source": [
    "# create x,y coordinate vectors\n",
    "def get_x_y_tuple_list(df_cuid_grouped, x_y_feature: list) -> list:\n",
    "    '''\n",
    "    Returns a list of [x,y] element lists for each entry in a grouped dataframe\n",
    "\n",
    "    :param df_cuid_grouped: Grouped dataframe\n",
    "    :param x_y_feature: List of two features as strings, supported strings: 'x','y','vx','vy'\n",
    "    '''\n",
    "    list_all_tuples = []\n",
    "    list_individual_tuples = []\n",
    "    x_feature = x_y_feature[0]\n",
    "    y_feature = x_y_feature[1]\n",
    "    for i in range(len(df_cuid_grouped[x_feature])):\n",
    "        for j in range(len(df_cuid_grouped[x_feature][i])): # iterate over all measurements for one track_id\n",
    "            list_item = [df_cuid_grouped[x_feature][i][j], df_cuid_grouped[y_feature][i][j]] # create x-y tuples for each measumerement point\n",
    "            list_individual_tuples.append(list_item) # add tuple to list for individual track_id\n",
    "        list_all_tuples.append(list_individual_tuples) # add tuple list to list for all track_ids\n",
    "        list_individual_tuples = []\n",
    "\n",
    "    return list_all_tuples"
   ]
  },
  {
   "cell_type": "code",
   "execution_count": 10,
   "metadata": {},
   "outputs": [],
   "source": [
    "def compute_dtw_matrix(data, metric:str='euclidean',sakoe_chiba_radius:float=1,**metric_parameters):\n",
    "    \"\"\"Compute the DTW distance matrix for all pairs of vectors.\"\"\"\n",
    "\n",
    "    n = len(data)\n",
    "    distances = np.zeros((n, n))\n",
    "\n",
    "    for i in range(n):\n",
    "        for j in range(i + 1, n):\n",
    "            path, dist = dtw_path_from_metric(data[i], data[j], sakoe_chiba_radius=sakoe_chiba_radius, metric=metric, **metric_parameters)\n",
    "            distances[i][j] = dist\n",
    "            distances[j][i] = dist"
   ]
  },
  {
   "cell_type": "code",
   "execution_count": 11,
   "metadata": {},
   "outputs": [],
   "source": [
    "def find_clusters(dtw_matrix, threshold, paths_per_cluster):\n",
    "    \"\"\"Find clusters where all DTW distances are below or equal to the threshold.\"\"\"\n",
    "    n = len(dtw_matrix)\n",
    "    clusters = []\n",
    "    visited_paths = [False] * n\n",
    "    \n",
    "    for i in range(n):\n",
    "        if visited_paths[i]:\n",
    "            continue\n",
    "        \n",
    "        # check dtw distance to all other paths\n",
    "        cluster = [i]\n",
    "        for j in range(n):\n",
    "            if i != j and not visited_paths[j] and dtw_matrix[i, j] <= threshold:\n",
    "                cluster.append(j)\n",
    "        \n",
    "        # Check if the cluster size is at least paths_per_cluster\n",
    "        if len(cluster) >= paths_per_cluster:\n",
    "            clusters.append(cluster)\n",
    "            for idx in cluster:\n",
    "                visited_paths[idx] = True\n",
    "\n",
    "    return clusters"
   ]
  },
  {
   "cell_type": "code",
   "execution_count": 12,
   "metadata": {},
   "outputs": [],
   "source": [
    "def dtw_clustering(vectors, paths_per_cluster, max_threshold=10.0, step=0.5):\n",
    "    \"\"\"Perform clustering using DTW distance with increasing threshold.\"\"\"\n",
    "    dtw_matrix = compute_dtw_matrix(vectors)\n",
    "    \n",
    "    # Find clusters for varying thresholds\n",
    "    for threshold in np.arange(0, max_threshold, step):\n",
    "        clusters = find_clusters(dtw_matrix, threshold, paths_per_cluster)\n",
    "        # Check if we can find a cluster with at least 10 vectors\n",
    "        large_clusters = [cluster for cluster in clusters if len(cluster) >= 10]\n",
    "        if large_clusters:\n",
    "            print(f\"Found clusters with at least 10 vectors at threshold {threshold}\")\n",
    "            return large_clusters, threshold\n",
    "\n",
    "    print(\"No suitable cluster found.\")\n",
    "    return None, None"
   ]
  },
  {
   "cell_type": "code",
   "execution_count": 13,
   "metadata": {},
   "outputs": [
    {
     "ename": "TypeError",
     "evalue": "object of type 'NoneType' has no len()",
     "output_type": "error",
     "traceback": [
      "\u001b[0;31m---------------------------------------------------------------------------\u001b[0m",
      "\u001b[0;31mTypeError\u001b[0m                                 Traceback (most recent call last)",
      "Cell \u001b[0;32mIn[13], line 3\u001b[0m\n\u001b[1;32m      1\u001b[0m k729_2022_vectors \u001b[38;5;241m=\u001b[39m get_x_y_tuple_list(df_k729_2022_cuid_grouped,[\u001b[38;5;124m'\u001b[39m\u001b[38;5;124mx\u001b[39m\u001b[38;5;124m'\u001b[39m,\u001b[38;5;124m'\u001b[39m\u001b[38;5;124my\u001b[39m\u001b[38;5;124m'\u001b[39m])\n\u001b[1;32m      2\u001b[0m \u001b[38;5;66;03m# Perform DTW clustering with at least 10 vectors per cluster\u001b[39;00m\n\u001b[0;32m----> 3\u001b[0m clusters, threshold \u001b[38;5;241m=\u001b[39m dtw_clustering(k729_2022_vectors, paths_per_cluster\u001b[38;5;241m=\u001b[39m\u001b[38;5;241m10\u001b[39m)\n\u001b[1;32m      5\u001b[0m \u001b[38;5;66;03m# If clusters are found, display them\u001b[39;00m\n\u001b[1;32m      6\u001b[0m \u001b[38;5;28;01mif\u001b[39;00m clusters:\n",
      "Cell \u001b[0;32mIn[12], line 7\u001b[0m, in \u001b[0;36mdtw_clustering\u001b[0;34m(vectors, paths_per_cluster, max_threshold, step)\u001b[0m\n\u001b[1;32m      5\u001b[0m \u001b[38;5;66;03m# Find clusters for varying thresholds\u001b[39;00m\n\u001b[1;32m      6\u001b[0m \u001b[38;5;28;01mfor\u001b[39;00m threshold \u001b[38;5;129;01min\u001b[39;00m np\u001b[38;5;241m.\u001b[39marange(\u001b[38;5;241m0\u001b[39m, max_threshold, step):\n\u001b[0;32m----> 7\u001b[0m     clusters \u001b[38;5;241m=\u001b[39m find_clusters(dtw_matrix, threshold, paths_per_cluster)\n\u001b[1;32m      8\u001b[0m     \u001b[38;5;66;03m# Check if we can find a cluster with at least 10 vectors\u001b[39;00m\n\u001b[1;32m      9\u001b[0m     large_clusters \u001b[38;5;241m=\u001b[39m [cluster \u001b[38;5;28;01mfor\u001b[39;00m cluster \u001b[38;5;129;01min\u001b[39;00m clusters \u001b[38;5;28;01mif\u001b[39;00m \u001b[38;5;28mlen\u001b[39m(cluster) \u001b[38;5;241m>\u001b[39m\u001b[38;5;241m=\u001b[39m \u001b[38;5;241m10\u001b[39m]\n",
      "Cell \u001b[0;32mIn[11], line 3\u001b[0m, in \u001b[0;36mfind_clusters\u001b[0;34m(dtw_matrix, threshold, paths_per_cluster)\u001b[0m\n\u001b[1;32m      1\u001b[0m \u001b[38;5;28;01mdef\u001b[39;00m \u001b[38;5;21mfind_clusters\u001b[39m(dtw_matrix, threshold, paths_per_cluster):\n\u001b[1;32m      2\u001b[0m \u001b[38;5;250m    \u001b[39m\u001b[38;5;124;03m\"\"\"Find clusters where all DTW distances are below or equal to the threshold.\"\"\"\u001b[39;00m\n\u001b[0;32m----> 3\u001b[0m     n \u001b[38;5;241m=\u001b[39m \u001b[38;5;28mlen\u001b[39m(dtw_matrix)\n\u001b[1;32m      4\u001b[0m     clusters \u001b[38;5;241m=\u001b[39m []\n\u001b[1;32m      5\u001b[0m     visited_paths \u001b[38;5;241m=\u001b[39m [\u001b[38;5;28;01mFalse\u001b[39;00m] \u001b[38;5;241m*\u001b[39m n\n",
      "\u001b[0;31mTypeError\u001b[0m: object of type 'NoneType' has no len()"
     ]
    }
   ],
   "source": [
    "\n",
    "k729_2022_vectors = get_x_y_tuple_list(df_k729_2022_cuid_grouped,['x','y'])\n",
    "# Perform DTW clustering with at least 10 vectors per cluster\n",
    "clusters, threshold = dtw_clustering(k729_2022_vectors, paths_per_cluster=10)\n",
    "\n",
    "# If clusters are found, display them\n",
    "if clusters:\n",
    "    print(f\"Clusters found at DTW threshold {threshold}:\")\n",
    "    for i, cluster in enumerate(clusters):\n",
    "        print(f\"Cluster {i + 1}: {cluster}\")\n",
    "\n",
    "    # Optionally visualize some trajectories in a cluster\n",
    "    plt.figure(figsize=(10, 6))\n",
    "    for idx in clusters[0][:5]:  # Visualize up to 5 trajectories from the first cluster\n",
    "        trajectory = k729_2022_vectors[idx]\n",
    "        plt.plot(trajectory[:, 0], trajectory[:, 1], marker='o', label=f'Trajectory {idx}')\n",
    "    plt.legend()\n",
    "    plt.title(f\"Trajectories in Cluster 1 (Threshold: {threshold})\")\n",
    "    plt.show()\n"
   ]
  },
  {
   "cell_type": "code",
   "execution_count": null,
   "metadata": {},
   "outputs": [],
   "source": []
  }
 ],
 "metadata": {
  "kernelspec": {
   "display_name": "Python 3",
   "language": "python",
   "name": "python3"
  },
  "language_info": {
   "codemirror_mode": {
    "name": "ipython",
    "version": 3
   },
   "file_extension": ".py",
   "mimetype": "text/x-python",
   "name": "python",
   "nbconvert_exporter": "python",
   "pygments_lexer": "ipython3",
   "version": "3.12.2"
  }
 },
 "nbformat": 4,
 "nbformat_minor": 2
}
