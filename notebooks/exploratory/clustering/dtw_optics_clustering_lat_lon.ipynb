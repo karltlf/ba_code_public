{
 "cells": [
  {
   "cell_type": "code",
   "execution_count": 12,
   "metadata": {},
   "outputs": [],
   "source": [
    "import sys\n",
    "import os\n",
    "current_dir = os.getcwd()\n",
    "parent_parent_dir = os.path.abspath(os.path.join(current_dir, '../..'))\n",
    "\n",
    "sys.path.append(parent_parent_dir)\n"
   ]
  },
  {
   "cell_type": "code",
   "execution_count": 11,
   "metadata": {},
   "outputs": [],
   "source": [
    "from ba_code_project.importable_functions.optics_functions import *\n",
    "from ba_code_project.import_scripts.get_x_y_tuples import *\n",
    "from ba_code_project.importable_functions.render_vehicle_tracks import *\n",
    "import pandas as pd\n",
    "from sklearn.cluster import OPTICS\n",
    "from tslearn.metrics import dtw_path_from_metric\n",
    "import numpy as np\n",
    "import ast"
   ]
  },
  {
   "cell_type": "code",
   "execution_count": 3,
   "metadata": {},
   "outputs": [],
   "source": [
    "df_k729_2022_cuid = pd.read_csv('../datasets/k729_2022_cuid_lat_lon.csv')\n",
    "df_k729_2022_cuid_grouped = pd.read_csv('../datasets/k729_2022_cuid_grouped_lat_lon.csv')\n",
    "df_k729_2022_cuid_grouped['x'] = df_k729_2022_cuid_grouped['x'].apply(lambda x: ast.literal_eval(x))\n",
    "df_k729_2022_cuid_grouped['y'] = df_k729_2022_cuid_grouped['y'].apply(lambda y: ast.literal_eval(y))\n",
    "df_k729_2022_cuid_grouped['vx'] = df_k729_2022_cuid_grouped['vx'].apply(lambda vx: ast.literal_eval(vx))\n",
    "df_k729_2022_cuid_grouped['vy'] = df_k729_2022_cuid_grouped['vy'].apply(lambda vy: ast.literal_eval(vy))\n",
    "df_k729_2022_cuid_grouped['lat'] = df_k729_2022_cuid_grouped['lat'].apply(lambda lat: ast.literal_eval(lat))\n",
    "df_k729_2022_cuid_grouped['lon'] = df_k729_2022_cuid_grouped['lon'].apply(lambda lon: ast.literal_eval(lon))\n",
    "list_k729_2022_x_y_tuples = get_x_y_tuple_list(df_k729_2022_cuid_grouped, ['x','y'])\n",
    "k729_2022_vx_vy_tuples = get_x_y_tuple_list(df_k729_2022_cuid_grouped, ['vx','vy'])\n",
    "k729_2022_lat_lon_tuples = get_x_y_tuple_list(df_k729_2022_cuid_grouped,['lat','lon'])"
   ]
  },
  {
   "cell_type": "code",
   "execution_count": 4,
   "metadata": {},
   "outputs": [],
   "source": [
    "def calculate_dtw_distance_matrix(data:list[list], **dtw_metrics):\n",
    "    '''\n",
    "\n",
    "    :param data: List of lists, where each sublist contains list-entries of x-y tuples, e.g. [sublist_1,...,sublist_n] = [[[x_11,y_11],...,[x_1m,y_1m]],...,[[x_n1,y_n1],...,[x_nk,y_nk]]]\n",
    "    :param **dtw_metrics: One or multiple of the following: `sakoe_chiba_radius`, `metric`, `itakura_max_slope`, `global_constraint`\n",
    "    '''\n",
    "    n = len(data)\n",
    "    dtw_matrix = np.zeros((n, n))\n",
    "    for i in range(n):\n",
    "        for j in range(i+1,n):\n",
    "            path, distance  = dtw_path_from_metric(data[i], data[j], **dtw_metrics)\n",
    "            dtw_matrix[i][j] = distance\n",
    "            dtw_matrix[j][i] = distance\n",
    "\n",
    "    return dtw_matrix"
   ]
  },
  {
   "cell_type": "code",
   "execution_count": 5,
   "metadata": {},
   "outputs": [],
   "source": [
    "dtw_distance_matrix = calculate_dtw_distance_matrix(k729_2022_lat_lon_tuples)"
   ]
  },
  {
   "cell_type": "code",
   "execution_count": 8,
   "metadata": {},
   "outputs": [],
   "source": [
    "%%capture\n",
    "run_no = 6\n",
    "min_samples = 6\n",
    "max_eps = 0.0005\n",
    "metric='precomputed'\n",
    "cluster_method = 'dbscan'\n",
    "xi = 0.05\n",
    "if cluster_method != 'dbscan':\n",
    "    metrics_description = f'with min samples: {min_samples}\\nmax_eps: {max_eps}\\nmetric: DTW\\nclustermethod: {cluster_method}\\nxi: {xi}'\n",
    "else:\n",
    "    metrics_description = f'with min samples: {min_samples}\\nmax_eps: {max_eps}\\nmetric: DTW\\nclustermethod: {cluster_method}'\n",
    "\n",
    "\n",
    "optics_clustering = OPTICS(min_samples=min_samples,\n",
    "                           max_eps=max_eps,\n",
    "                           cluster_method=cluster_method,\n",
    "                           metric=metric,\n",
    "                           ).fit(dtw_distance_matrix)\n",
    "\n",
    "clusters = get_clusters_from_optics(optics_clustering.labels_)\n",
    "\n",
    "\n",
    "render_vehicle_tracks_clusters_lat_lon(df_k729_2022_cuid,\n",
    "                                       df_k729_2022_cuid_grouped,\n",
    "                                       clusters,\n",
    "                                       'Clusters w/ OPTICS', \n",
    "                                       metrics_description,\n",
    "                                       f'optics_run_{run_no}_{cluster_method}',\n",
    "                                       'k729_2022_lat_lon',\n",
    "                                       f'clustering/optics/')"
   ]
  },
  {
   "cell_type": "code",
   "execution_count": null,
   "metadata": {},
   "outputs": [],
   "source": []
  }
 ],
 "metadata": {
  "kernelspec": {
   "display_name": "ba_thesis",
   "language": "python",
   "name": "python3"
  },
  "language_info": {
   "codemirror_mode": {
    "name": "ipython",
    "version": 3
   },
   "file_extension": ".py",
   "mimetype": "text/x-python",
   "name": "python",
   "nbconvert_exporter": "python",
   "pygments_lexer": "ipython3",
   "version": "3.12.2"
  }
 },
 "nbformat": 4,
 "nbformat_minor": 2
}
