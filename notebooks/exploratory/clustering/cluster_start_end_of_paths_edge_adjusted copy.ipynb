{
 "cells": [
  {
   "cell_type": "code",
   "execution_count": null,
   "metadata": {},
   "outputs": [],
   "source": [
    "# PASTE THIS TO THE FIRST CELL OF THE NOTEBOOK IN ORDER TO HAVE WORKING IMPORTS\n",
    "import sys\n",
    "import os\n",
    "current_dir = os.getcwd()\n",
    "parent_parent_dir = os.path.abspath(os.path.join(current_dir, '../..')) # tweak so that you get the root project folder\n",
    "\n",
    "sys.path.append(parent_parent_dir)"
   ]
  },
  {
   "cell_type": "code",
   "execution_count": null,
   "metadata": {},
   "outputs": [],
   "source": [
    "import numpy as np\n",
    "import pandas as pd\n",
    "import matplotlib.pyplot as plt\n",
    "import ast\n",
    "from src.features.get_x_y_tuples import * \n",
    "from sklearn.cluster import OPTICS\n",
    "from src.models.clustering_optimization.optimize_optics import *\n",
    "from matplotlib.gridspec import GridSpec\n",
    "from src.visualization.get_cluster_colors import get_cluster_colors\n",
    "from src.visualization.get_cluster_legend_handles import get_cluster_legend_handles"
   ]
  },
  {
   "cell_type": "code",
   "execution_count": null,
   "metadata": {},
   "outputs": [],
   "source": [
    "# 1. load into dataframe\n",
    "df_k729_2022_cuid = pd.read_csv('../../data/processed/k729_2022_cuid_lat_lon.csv')\n",
    "df_k729_2022_cuid_grouped = pd.read_csv('../../data/processed/k729_2022_cuid_grouped_lat_lon.csv')\n",
    "# 2. transform values to numbers\n",
    "df_k729_2022_cuid_grouped['x'] = df_k729_2022_cuid_grouped['x'].apply(lambda x: ast.literal_eval(x))\n",
    "df_k729_2022_cuid_grouped['y'] = df_k729_2022_cuid_grouped['y'].apply(lambda y: ast.literal_eval(y))\n",
    "\n",
    "# 3. create tuple lists\n",
    "list_k729_2022_x_y_tuples = get_x_y_tuple_list(df_k729_2022_cuid_grouped, ['x','y'])\n"
   ]
  },
  {
   "cell_type": "code",
   "execution_count": null,
   "metadata": {},
   "outputs": [],
   "source": [
    "from src.features.get_first_and_last_x_y_coordinates import *\n",
    "from src.features.get_first_coordinates import get_first_x_y_coordinates\n",
    "from src.features.get_last_coordinates import get_last_x_y_coordinates\n",
    "\n",
    "first_last_x_coords, first_last_y_coords = get_first_and_last_x_y_coordinates(list_k729_2022_x_y_tuples)\n"
   ]
  },
  {
   "cell_type": "code",
   "execution_count": null,
   "metadata": {},
   "outputs": [],
   "source": [
    "x_width = max(first_last_x_coords) - min(first_last_x_coords)\n",
    "y_width = max(first_last_y_coords) - min(first_last_y_coords)\n",
    "\n",
    "# make the penalty range between 10% and 90% of the width\n",
    "x_range = (min(first_last_x_coords) + 0.1*x_width, max(first_last_x_coords) - 0.1*x_width)\n",
    "y_range =  (min(first_last_y_coords) + 0.1*y_width, max(first_last_y_coords) - 0.1*y_width)"
   ]
  },
  {
   "cell_type": "code",
   "execution_count": null,
   "metadata": {},
   "outputs": [],
   "source": [
    "cluster_method = 'dbscan'\n",
    "metric='euclidean'"
   ]
  },
  {
   "cell_type": "code",
   "execution_count": null,
   "metadata": {},
   "outputs": [],
   "source": [
    "x_min, x_max = df_k729_2022_cuid['x'].min(), df_k729_2022_cuid['x'].max()\n",
    "y_min, y_max = df_k729_2022_cuid['y'].min(), df_k729_2022_cuid['y'].max()\n",
    "x_width = x_max - x_min\n",
    "y_width = y_max - y_min\n",
    "\n",
    "spectrum_factor = 0.3\n",
    "\n",
    "# make the penalty range between 10% and 90% of the width\n",
    "x_range = [x_min + spectrum_factor * x_width, x_max - spectrum_factor * x_width]\n",
    "y_range = [y_min + spectrum_factor * y_width, y_max - spectrum_factor * y_width]"
   ]
  },
  {
   "cell_type": "code",
   "execution_count": null,
   "metadata": {},
   "outputs": [],
   "source": [
    "cluster_method = 'dbscan'\n",
    "metric='euclidean'"
   ]
  },
  {
   "cell_type": "markdown",
   "metadata": {},
   "source": [
    "# OPTIMIZATION EDGE ADJUSTED CLUSTER MEMBERS ACCUMULATED"
   ]
  },
  {
   "cell_type": "code",
   "execution_count": null,
   "metadata": {},
   "outputs": [],
   "source": [
    "cluster_method = 'dbscan'\n",
    "metric='euclidean'"
   ]
  },
  {
   "cell_type": "code",
   "execution_count": null,
   "metadata": {},
   "outputs": [],
   "source": [
    "from src.models.clustering_optimization.optimize_optics import *\n",
    "penalty_factor = 1000000000\n",
    "eps_range = np.arange(0.1, 5, 0.1)\n",
    "min_samples_range = np.arange(2, 30, 1)\n",
    "optimization_results = optimize_optics_mediod_edge_adjusted_cluster_members_accumulating(np.array([first_last_x_coords, first_last_y_coords]).T, eps_range, min_samples_range, x_range, y_range, penalty=penalty_factor, cluster_method='dbscan', metric='euclidean')\n",
    "print(optimization_results)"
   ]
  },
  {
   "cell_type": "code",
   "execution_count": null,
   "metadata": {},
   "outputs": [],
   "source": [
    "# take the the optimized optics parameters for each score and cluster the start and end points\n",
    "score_optimized_silhouette = optimization_results['silhouette']['score']\n",
    "max_eps_optimized_silhouette = optimization_results['silhouette']['epsilon']\n",
    "min_samples_optimized_silhouette = optimization_results['silhouette']['min_samples']\n",
    "penalty_factor_silhouette = optimization_results['silhouette']['penalty_factor']\n",
    "\n",
    "score_optimized_calinski_harabasz = optimization_results['calinski_harabasz']['score']\n",
    "max_eps_optimized_calinski_harabasz = optimization_results['calinski_harabasz']['epsilon']\n",
    "min_samples_optimized_calinski_harabasz = optimization_results['calinski_harabasz']['min_samples']\n",
    "penalty_factor_calinski_harabasz = optimization_results['calinski_harabasz']['penalty_factor']\n",
    "\n",
    "score_optimized_davies_bouldin = optimization_results['davies_bouldin']['score']\n",
    "max_eps_optimized_davies_bouldin = optimization_results['davies_bouldin']['epsilon']\n",
    "min_samples_optimized_davies_bouldin = optimization_results['davies_bouldin']['min_samples']\n",
    "penalty_factor_davies_bouldin = optimization_results['davies_bouldin']['penalty_factor']\n",
    "\n",
    "\n",
    "\n",
    "optics_clustering_start_end_silhouette = OPTICS(min_samples=min_samples_optimized_silhouette,\n",
    "                            max_eps=max_eps_optimized_silhouette,\n",
    "                            cluster_method=cluster_method,\n",
    "                            metric=metric,\n",
    "                            ).fit(np.array([first_last_x_coords, first_last_y_coords]).T)\n",
    "\n",
    "optics_clustering_start_end_calinski_harabasz = OPTICS(min_samples=min_samples_optimized_calinski_harabasz,\n",
    "                            max_eps=max_eps_optimized_calinski_harabasz,\n",
    "                            cluster_method=cluster_method,\n",
    "                            metric=metric,\n",
    "                            ).fit(np.array([first_last_x_coords, first_last_y_coords]).T)\n",
    "\n",
    "optics_clustering_start_end_davies_bouldin = OPTICS(min_samples=min_samples_optimized_davies_bouldin,\n",
    "                            max_eps=max_eps_optimized_davies_bouldin,\n",
    "                            cluster_method=cluster_method,\n",
    "                            metric=metric,\n",
    "                            ).fit(np.array([first_last_x_coords, first_last_y_coords]).T)\n"
   ]
  },
  {
   "cell_type": "code",
   "execution_count": null,
   "metadata": {},
   "outputs": [],
   "source": [
    "# plot the optimized optics cluster with the silhouette parameters\n",
    "from src.visualization.get_cluster_colors import get_cluster_colors\n",
    "from src.visualization.get_cluster_legend_handles import get_cluster_legend_handles\n",
    "\n",
    "\n",
    "point_colors_start_end_silhouette_optimized, colors_start_end_silhouette_optimized = get_cluster_colors(optics_clustering_start_end_silhouette.labels_)\n",
    "legend_handles_start_end_silhouette_optimized = get_cluster_legend_handles(colors_start_end_silhouette_optimized, optics_clustering_start_end_silhouette.labels_)\n",
    "metrics_description_optics_silhouette_optimized = f'min samples: {min_samples_optimized_silhouette}      max eps: {max_eps_optimized_silhouette}      metric: {metric}        clustermethod: {cluster_method}'\n",
    "# make the f string parts of the above string italic to use in a plot\n",
    "metrics_description_optics_silhouette_optimized = metrics_description_optics_silhouette_optimized.replace(\"min samples\", r\"$\\bf{min \\; samples}$\")\n",
    "metrics_description_optics_silhouette_optimized = metrics_description_optics_silhouette_optimized.replace(\"max eps\", r\"$\\bf{max \\; \\epsilon}$\")\n",
    "metrics_description_optics_silhouette_optimized = metrics_description_optics_silhouette_optimized.replace(\"metric\", r\"$\\bf{metric}$\")\n",
    "metrics_description_optics_silhouette_optimized = metrics_description_optics_silhouette_optimized.replace(\"clustermethod\", r\"$\\bf{clustermethod}$\")\n",
    "\n",
    "# plot the optimized optics cluster with the calinski harabasz parameters\n",
    "point_colors_start_end_calinski_harabasz_optimized, colors_start_end_calinski_harabasz_optimized = get_cluster_colors(optics_clustering_start_end_calinski_harabasz.labels_)\n",
    "legend_handles_start_end_calinski_harabasz_optimized = get_cluster_legend_handles(colors_start_end_calinski_harabasz_optimized, optics_clustering_start_end_calinski_harabasz.labels_)\n",
    "metrics_description_optics_calinski_harabasz_optimized = f'min samples: {min_samples_optimized_calinski_harabasz}      max eps: {max_eps_optimized_calinski_harabasz}      metric: {metric}        clustermethod: {cluster_method}'\n",
    "# make the f string parts of the above string italic to use in a plot\n",
    "metrics_description_optics_calinski_harabasz_optimized = metrics_description_optics_calinski_harabasz_optimized.replace(\"min samples\", r\"$\\bf{min \\; samples}$\")\n",
    "metrics_description_optics_calinski_harabasz_optimized = metrics_description_optics_calinski_harabasz_optimized.replace(\"max eps\", r\"$\\bf{max \\; \\epsilon}$\")\n",
    "metrics_description_optics_calinski_harabasz_optimized = metrics_description_optics_calinski_harabasz_optimized.replace(\"metric\", r\"$\\bf{metric}$\")\n",
    "metrics_description_optics_calinski_harabasz_optimized = metrics_description_optics_calinski_harabasz_optimized.replace(\"clustermethod\", r\"$\\bf{clustermethod}$\")\n",
    "\n",
    "# plot the optimized optics cluster with the davies bouldin parameters\n",
    "point_colors_start_end_davies_bouldin_optimized, colors_start_end_davies_bouldin_optimized = get_cluster_colors(optics_clustering_start_end_davies_bouldin.labels_)\n",
    "legend_handles_start_end_davies_bouldin_optimized = get_cluster_legend_handles(colors_start_end_davies_bouldin_optimized, optics_clustering_start_end_davies_bouldin.labels_)\n",
    "metrics_description_optics_davies_bouldin_optimized = f'min samples: {min_samples_optimized_davies_bouldin}      max eps: {max_eps_optimized_davies_bouldin}      metric: {metric}        clustermethod: {cluster_method}'\n",
    "# make the f string parts of the above string italic to use in a plot\n",
    "metrics_description_optics_davies_bouldin_optimized = metrics_description_optics_davies_bouldin_optimized.replace(\"min samples\", r\"$\\bf{min \\; samples}$\")\n",
    "metrics_description_optics_davies_bouldin_optimized = metrics_description_optics_davies_bouldin_optimized.replace(\"max eps\", r\"$\\bf{max \\; \\epsilon}$\")\n",
    "metrics_description_optics_davies_bouldin_optimized = metrics_description_optics_davies_bouldin_optimized.replace(\"metric\", r\"$\\bf{metric}$\")\n",
    "metrics_description_optics_davies_bouldin_optimized = metrics_description_optics_davies_bouldin_optimized.replace(\"clustermethod\", r\"$\\bf{clustermethod}$\")\n"
   ]
  },
  {
   "cell_type": "code",
   "execution_count": null,
   "metadata": {},
   "outputs": [],
   "source": [
    "# create a text where in each row the optimized parameters are shown\n",
    "text = f'Silhouette Optimized: \\n'\n",
    "text += f'Score: {score_optimized_silhouette}       '\n",
    "text += f'EPS: {max_eps_optimized_silhouette}       '\n",
    "text += f'Min Samples: {min_samples_optimized_silhouette}'\n",
    "text += f'Penalty: {penalty_factor_silhouette}\\n'\n",
    "text += f'Calinski Harabasz Optimized: \\n'\n",
    "text += f'Score: {score_optimized_calinski_harabasz}       '\n",
    "text += f'EPS: {max_eps_optimized_calinski_harabasz}       '\n",
    "text += f'Min Samples: {min_samples_optimized_calinski_harabasz}'\n",
    "text += f'Penalty: {penalty_factor_calinski_harabasz}\\n'\n",
    "text += f'Davies-Bouldin Optimized: \\n'\n",
    "text += f'Score: {score_optimized_davies_bouldin}       '\n",
    "text += f'EPS: {max_eps_optimized_davies_bouldin}       '\n",
    "text += f'Min Samples: {min_samples_optimized_davies_bouldin}'\n",
    "text += f'Penalty: {penalty_factor_davies_bouldin}\\n'\n",
    "text += f'Penalized for clusters inside the penalty range: \\n'\n",
    "text += f'Penalty Range: {x_range} x {y_range}\\n'\n",
    "\n",
    "# BELOW DOES NOT WORK IDK SOME BOLD FORMATTING SHIT -> STRING CANNOT BE PARSED RIGHT\n",
    "# # make text bold\n",
    "# text = text.replace(\"Score\", r\"$\\bf{Score}$\")\n",
    "# text = text.replace(\"EPS\", r\"$\\bf{EPS}$\")\n",
    "# text = text.replace(\"Min Samples\", r\"$\\bf{Min \\; Samples}$\")\n",
    "# text = text.replace(\"Silhouette Optimized\", r\"$\\bf{Silhouette \\; Optimized}$\")\n",
    "# text = text.replace(\"Calinski Harabasz Optimized\", r\"$\\bf{Calinski \\; Harabasz \\; Optimized}$\")\n",
    "# text = text.replace(\"Davies-Bouldin Optimized\", r\"$\\bf{Davies-Bouldin \\; Optimized}$\")\n",
    "# text = text.replace(\"Penalized for clusters inside the penalty range\", r\"$\\bf{Penalized \\; for \\; clusters \\; inside \\; the \\; penalty \\; range}$\")\n",
    "# text = text.replace(\"Penalty\", r\"$\\bf{Penalty}$\")\n",
    "# text = text.replace(\"Range\", r\"$\\bf{\\;Range}$\")\n",
    "# text = text.replace(\"Score\", r\"$\\bf{\\;Score}$\")\n",
    "# make titles bold\n",
    "\n",
    "metrics_description_optimzation = text"
   ]
  },
  {
   "cell_type": "code",
   "execution_count": null,
   "metadata": {},
   "outputs": [],
   "source": [
    "from matplotlib.gridspec import GridSpec\n",
    "\n",
    "fig = plt.figure(figsize=(19, 7))\n",
    "gs = GridSpec(1, 3, figure=fig)\n",
    "\n",
    "ax1 = fig.add_subplot(gs[0, 0]) \n",
    "ax1.scatter(first_last_x_coords, first_last_y_coords, c=point_colors_start_end_silhouette_optimized)\n",
    "ax1.set_title(f'Silhouette optimized clustering', fontsize=15)\n",
    "ax1.set_xlabel(\"X-axis\")\n",
    "ax1.set_ylabel(\"Y-axis\")\n",
    "ax1.legend(handles=legend_handles_start_end_silhouette_optimized)\n",
    "\n",
    "ax2 = fig.add_subplot(gs[0, 1])\n",
    "ax2.scatter(first_last_x_coords, first_last_y_coords, c=point_colors_start_end_calinski_harabasz_optimized)\n",
    "ax2.set_title(f'Calinski-Harabasz optimized clustering', fontsize=15)\n",
    "ax2.set_xlabel(\"X-axis\")\n",
    "ax2.set_ylabel(\"Y-axis\")\n",
    "ax2.legend(handles=legend_handles_start_end_calinski_harabasz_optimized)\n",
    "\n",
    "# Create the bottom right plot\n",
    "ax3 = fig.add_subplot(gs[0, 2])  # Bottom right\n",
    "ax3.scatter(first_last_x_coords, first_last_y_coords, c=point_colors_start_end_davies_bouldin_optimized)\n",
    "# ax3.text(0.5, 1.4, \"End Point Clusters\", fontsize=16, ha='center', transform=ax3.transAxes)\n",
    "ax3.set_title(f'Davies-Bouldin optimized clustering', fontsize=15)\n",
    "ax3.set_xlabel(\"X-axis\")\n",
    "ax3.set_ylabel(\"Y-axis\")\n",
    "ax3.legend(handles=legend_handles_start_end_davies_bouldin_optimized)\n",
    "\n",
    "props = dict(boxstyle='square', facecolor='green', alpha=0.15)\n",
    "fig.text(0.012,-0.3,f'{metrics_description_optimzation}', fontsize=12, bbox=props)\n",
    "plt.suptitle(f'Optimized clustering accumulating penalty {penalty_factor}', fontsize=20)\n",
    "\n",
    "# Display the plots\n",
    "plt.tight_layout()\n",
    "plt.show()"
   ]
  },
  {
   "cell_type": "code",
   "execution_count": null,
   "metadata": {},
   "outputs": [],
   "source": []
  }
 ],
 "metadata": {
  "kernelspec": {
   "display_name": "ba_thesis",
   "language": "python",
   "name": "python3"
  },
  "language_info": {
   "codemirror_mode": {
    "name": "ipython",
    "version": 3
   },
   "file_extension": ".py",
   "mimetype": "text/x-python",
   "name": "python",
   "nbconvert_exporter": "python",
   "pygments_lexer": "ipython3",
   "version": "3.12.2"
  }
 },
 "nbformat": 4,
 "nbformat_minor": 2
}
