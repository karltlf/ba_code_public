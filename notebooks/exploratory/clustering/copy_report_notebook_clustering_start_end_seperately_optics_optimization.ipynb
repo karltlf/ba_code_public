{
 "cells": [
  {
   "cell_type": "code",
   "execution_count": null,
   "metadata": {},
   "outputs": [],
   "source": [
    "# PASTE THIS TO THE FIRST CELL OF THE NOTEBOOK IN ORDER TO HAVE WORKING IMPORTS\n",
    "import sys\n",
    "import os\n",
    "current_dir = os.getcwd()\n",
    "parent_parent_dir = os.path.abspath(os.path.join(current_dir, '../../..')) # tweak so that you get the root project folder\n",
    "\n",
    "sys.path.append(parent_parent_dir)\n"
   ]
  },
  {
   "cell_type": "code",
   "execution_count": null,
   "metadata": {},
   "outputs": [],
   "source": [
    "from src.visualization.plot_optics_optimized_start_or_end_only import plot_optics_optimized_start_or_end_only\n",
    "from src.models.clustering_optimization.ensure_distance_metric_params import ensure_distance_metric_params\n",
    "from src.features.get_first_x_y_coordinates import get_first_x_y_coordinates\n",
    "import numpy as np"
   ]
  },
  {
   "cell_type": "code",
   "execution_count": null,
   "metadata": {},
   "outputs": [],
   "source": [
    "path_df_k733_2020 = '../../../data/processed/k733_2020_cuid.csv'\n",
    "path_df_k729_2022 = '../../../data/processed/k729_2022_cuid.csv'\n",
    "path_df_k733_2018 = '../../../data/processed/k733_2018_cuid.csv'"
   ]
  },
  {
   "cell_type": "code",
   "execution_count": null,
   "metadata": {},
   "outputs": [],
   "source": [
    "max_eps_range = np.arange(0.1, 10, 0.1)\n",
    "min_samples_range = np.arange(5, 10, 1)\n",
    "metrics = [\n",
    "    #'cosine', \n",
    "    'euclidean', \n",
    "    'manhattan', \n",
    "    'braycurtis', \n",
    "    'canberra', \n",
    "    'chebyshev', \n",
    "    'correlation', \n",
    "    'mahalanobis', \n",
    "    'minkowski', \n",
    "    'seuclidean', \n",
    "    'sqeuclidean'\n",
    "]\n",
    "xis = np.arange(0.01, 0.1, 0.01)\n",
    "cluster_methods = ['dbscan', 'xi']"
   ]
  },
  {
   "cell_type": "code",
   "execution_count": null,
   "metadata": {},
   "outputs": [],
   "source": [
    "# from src.data.save_optimization_parameters_in_json_file import save_optimization_parameters_in_json_file\n",
    "# save_optimization_parameters_in_json_file(f'{parent_parent_dir}/src/models/optimized_optics_clustering_parameters/optimization_parameters_clustering_start_end_report_notebook.json', \n",
    "#                                           max_eps_range=max_eps_range,\n",
    "#                                           min_samples_range=min_samples_range,\n",
    "#                                           metrics=metrics,\n",
    "#                                           xis=xis,\n",
    "#                                           cluster_methods=cluster_methods)"
   ]
  },
  {
   "cell_type": "code",
   "execution_count": null,
   "metadata": {},
   "outputs": [],
   "source": [
    "k729_2022_optics_optimized = plot_optics_optimized_start_or_end_only(df_path=path_df_k729_2022, \n",
    "                                                                     max_eps_range=max_eps_range, \n",
    "                                                                     min_samples_range=min_samples_range, \n",
    "                                                                     metrics=metrics, \n",
    "                                                                     cluster_methods=cluster_methods, \n",
    "                                                                     xis=xis, \n",
    "                                                                     get_first_or_last_coords_function=get_first_x_y_coordinates,\n",
    "                                                                        p=2)\n",
    "print(k729_2022_optics_optimized)"
   ]
  },
  {
   "cell_type": "code",
   "execution_count": null,
   "metadata": {},
   "outputs": [],
   "source": [
    "k733_2020_optics_optimized = plot_optics_optimized_start_or_end_only(df_path=path_df_k733_2020, \n",
    "                                                                     max_eps_range=max_eps_range, \n",
    "                                                                     min_samples_range=min_samples_range, \n",
    "                                                                     metrics=metrics, \n",
    "                                                                     cluster_methods=cluster_methods, \n",
    "                                                                     xis=xis, \n",
    "                                                                     get_first_or_last_coords_function=get_first_x_y_coordinates,\n",
    "                                                                        p=2)\n",
    "print(k733_2020_optics_optimized)"
   ]
  },
  {
   "cell_type": "code",
   "execution_count": null,
   "metadata": {},
   "outputs": [],
   "source": [
    "k733_2018_optics_optimized = plot_optics_optimized_start_or_end_only(df_path=path_df_k733_2018, \n",
    "                                                                     max_eps_range=max_eps_range, \n",
    "                                                                     min_samples_range=min_samples_range, \n",
    "                                                                     metrics=metrics, \n",
    "                                                                     cluster_methods=cluster_methods, \n",
    "                                                                     xis=xis, \n",
    "                                                                     get_first_or_last_coords_function=get_first_x_y_coordinates,\n",
    "                                                                        p=2)\n",
    "print(k733_2018_optics_optimized)"
   ]
  },
  {
   "cell_type": "code",
   "execution_count": null,
   "metadata": {},
   "outputs": [],
   "source": [
    "# from src.data.save_dict_to_json import save_dict_to_json\n",
    "# save_dict_to_json(f'{parent_parent_dir}/src/models/optimized_optics_clustering_parameters/k729_2022_optics_optimized.json', k729_2022_optics_optimized)\n",
    "# save_dict_to_json(f'{parent_parent_dir}/src/models/optimized_optics_clustering_parameters/k733_2020_optics_optimized.json', k733_2020_optics_optimized)\n",
    "# save_dict_to_json(f'{parent_parent_dir}/src/models/optimized_optics_clustering_parameters/k733_2018_optics_optimized.json', k733_2018_optics_optimized)"
   ]
  },
  {
   "cell_type": "code",
   "execution_count": null,
   "metadata": {},
   "outputs": [],
   "source": [
    "from src.features.get_last_x_y_coordinates import get_last_x_y_coordinates"
   ]
  },
  {
   "cell_type": "code",
   "execution_count": null,
   "metadata": {},
   "outputs": [],
   "source": [
    "k729_2022_optics_optimized = plot_optics_optimized_start_or_end_only(df_path=path_df_k729_2022, \n",
    "                                                                     max_eps_range=max_eps_range, \n",
    "                                                                     min_samples_range=min_samples_range, \n",
    "                                                                     metrics=metrics, \n",
    "                                                                     cluster_methods=cluster_methods, \n",
    "                                                                     xis=xis, \n",
    "                                                                     get_first_or_last_coords_function=get_last_x_y_coordinates,\n",
    "                                                                        p=2)\n",
    "print(k729_2022_optics_optimized)"
   ]
  },
  {
   "cell_type": "code",
   "execution_count": null,
   "metadata": {},
   "outputs": [],
   "source": [
    "k733_2020_optics_optimized = plot_optics_optimized_start_or_end_only(df_path=path_df_k733_2020, \n",
    "                                                                     max_eps_range=max_eps_range, \n",
    "                                                                     min_samples_range=min_samples_range, \n",
    "                                                                     metrics=metrics, \n",
    "                                                                     cluster_methods=cluster_methods, \n",
    "                                                                     xis=xis, \n",
    "                                                                     get_first_or_last_coords_function=get_last_x_y_coordinates,\n",
    "                                                                        p=2)\n",
    "print(k733_2020_optics_optimized)"
   ]
  },
  {
   "cell_type": "code",
   "execution_count": null,
   "metadata": {},
   "outputs": [],
   "source": [
    "k733_2018_optics_optimized = plot_optics_optimized_start_or_end_only(df_path=path_df_k733_2018, \n",
    "                                                                     max_eps_range=max_eps_range, \n",
    "                                                                     min_samples_range=min_samples_range, \n",
    "                                                                     metrics=metrics, \n",
    "                                                                     cluster_methods=cluster_methods, \n",
    "                                                                     xis=xis, \n",
    "                                                                     get_first_or_last_coords_function=get_last_x_y_coordinates,\n",
    "                                                                        p=2)\n",
    "print(k733_2018_optics_optimized)"
   ]
  },
  {
   "cell_type": "code",
   "execution_count": null,
   "metadata": {},
   "outputs": [],
   "source": [
    "k729_2022_optics_optimized_first_coords = {'silhouette': {'score': 0.7625271118072153, 'epsilon': 9.1, 'min_samples': 5, 'metric': 'euclidean', 'cluster_method': 'dbscan', 'xi': None}, 'calinski_harabasz': {'score': 804.8014207399987, 'epsilon': 9.1, 'min_samples': 5, 'metric': 'euclidean', 'cluster_method': 'dbscan', 'xi': None}, 'davies_bouldin': {'score': 0.30110371744361303, 'epsilon': 8.200000000000001, 'min_samples': 7, 'metric': 'chebyshev', 'cluster_method': 'dbscan', 'xi': None}}\n",
    "k733_2020_optics_optimized_first_coords = {'silhouette': {'score': 0.771472340672501, 'epsilon': 0.8, 'min_samples': 5, 'metric': 'mahalanobis', 'cluster_method': 'dbscan', 'xi': None}, 'calinski_harabasz': {'score': 469.7292392039741, 'epsilon': 0.6000000000000001, 'min_samples': 5, 'metric': 'seuclidean', 'cluster_method': 'dbscan', 'xi': None}, 'davies_bouldin': {'score': 0.3304440940401398, 'epsilon': 0.1, 'min_samples': 8, 'metric': 'chebyshev', 'cluster_method': 'xi', 'xi': 0.03}}\n",
    "k733_2018_optics_optimized_first_coords = {'silhouette': {'score': 0.7331583832702588, 'epsilon': 0.6000000000000001, 'min_samples': 6, 'metric': 'seuclidean', 'cluster_method': 'dbscan', 'xi': None}, 'calinski_harabasz': {'score': 753.8979283461236, 'epsilon': 0.30000000000000004, 'min_samples': 5, 'metric': 'seuclidean', 'cluster_method': 'dbscan', 'xi': None}, 'davies_bouldin': {'score': 0.3104916585826967, 'epsilon': 8.9, 'min_samples': 6, 'metric': 'chebyshev', 'cluster_method': 'dbscan', 'xi': None}}\n",
    "k729_2022_optics_optimized_last_coords = {'silhouette': {'score': 0.7511378581769649, 'epsilon': 8.200000000000001, 'min_samples': 7, 'metric': 'euclidean', 'cluster_method': 'dbscan', 'xi': None}, 'calinski_harabasz': {'score': 776.7173650754686, 'epsilon': 5.6000000000000005, 'min_samples': 6, 'metric': 'manhattan', 'cluster_method': 'dbscan', 'xi': None}, 'davies_bouldin': {'score': 0.27578176579175506, 'epsilon': 6.0, 'min_samples': 5, 'metric': 'chebyshev', 'cluster_method': 'dbscan', 'xi': None}}\n",
    "k733_2020_optics_optimized_last_coords = {'silhouette': {'score': 0.6431570482229705, 'epsilon': 0.1, 'min_samples': 6, 'metric': 'chebyshev', 'cluster_method': 'xi', 'xi': 0.09}, 'calinski_harabasz': {'score': 194.02041041756945, 'epsilon': 0.1, 'min_samples': 6, 'metric': 'chebyshev', 'cluster_method': 'xi', 'xi': 0.09}, 'davies_bouldin': {'score': 0.5422249353232413, 'epsilon': 0.1, 'min_samples': 6, 'metric': 'chebyshev', 'cluster_method': 'xi', 'xi': 0.09}}\n",
    "k733_2018_optics_optimized_last_coords = {'silhouette': {'score': 0.8178309143747722, 'epsilon': 0.2, 'min_samples': 9, 'metric': 'braycurtis', 'cluster_method': 'dbscan', 'xi': None}, 'calinski_harabasz': {'score': 1180.8046602897732, 'epsilon': 0.2, 'min_samples': 9, 'metric': 'braycurtis', 'cluster_method': 'dbscan', 'xi': None}, 'davies_bouldin': {'score': 0.23142322660317127, 'epsilon': 0.6000000000000001, 'min_samples': 5, 'metric': 'mahalanobis', 'cluster_method': 'dbscan', 'xi': None}}\n"
   ]
  },
  {
   "cell_type": "code",
   "execution_count": null,
   "metadata": {},
   "outputs": [],
   "source": [
    "from src.data.save_dict_to_json import save_dict_to_json\n",
    "save_dict_to_json(f'{parent_parent_dir}/src/models/optimized_optics_clustering_parameters/k729_2022_optics_optimized_start_points_clustering.json', k729_2022_optics_optimized_first_coords)\n",
    "save_dict_to_json(f'{parent_parent_dir}/src/models/optimized_optics_clustering_parameters/k733_2020_optics_optimized_start_points_clustering.json', k733_2020_optics_optimized_first_coords)\n",
    "save_dict_to_json(f'{parent_parent_dir}/src/models/optimized_optics_clustering_parameters/k733_2018_optics_optimized_start_points_clustering.json', k733_2018_optics_optimized_first_coords)\n",
    "save_dict_to_json(f'{parent_parent_dir}/src/models/optimized_optics_clustering_parameters/k729_2022_optics_optimized_end_points_clustering.json', k729_2022_optics_optimized_last_coords)\n",
    "save_dict_to_json(f'{parent_parent_dir}/src/models/optimized_optics_clustering_parameters/k733_2020_optics_optimized_end_points_clustering.json', k733_2020_optics_optimized_last_coords)\n",
    "save_dict_to_json(f'{parent_parent_dir}/src/models/optimized_optics_clustering_parameters/k733_2018_optics_optimized_end_points_clustering.json', k733_2018_optics_optimized_last_coords)"
   ]
  },
  {
   "cell_type": "code",
   "execution_count": null,
   "metadata": {},
   "outputs": [],
   "source": []
  }
 ],
 "metadata": {
  "kernelspec": {
   "display_name": "ba_thesis",
   "language": "python",
   "name": "python3"
  },
  "language_info": {
   "codemirror_mode": {
    "name": "ipython",
    "version": 3
   },
   "file_extension": ".py",
   "mimetype": "text/x-python",
   "name": "python",
   "nbconvert_exporter": "python",
   "pygments_lexer": "ipython3",
   "version": "3.12.2"
  }
 },
 "nbformat": 4,
 "nbformat_minor": 2
}
