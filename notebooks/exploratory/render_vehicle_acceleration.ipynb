{
 "cells": [
  {
   "cell_type": "code",
   "execution_count": null,
   "metadata": {},
   "outputs": [],
   "source": [
    "from tslearn.metrics import dtw, dtw_path, dtw_path_from_metric\n",
    "import pandas as pd\n",
    "import numpy as np\n",
    "import ast\n",
    "import matplotlib.pyplot as plt\n",
    "from importable_functions.render_vehicle_tracks import *\n",
    "from importable_functions.get_velocities import *\n",
    "from importable_functions.get_global_dataframe_limits import *"
   ]
  },
  {
   "cell_type": "code",
   "execution_count": null,
   "metadata": {},
   "outputs": [],
   "source": [
    "# ********************\n",
    "# ****** IMPORT ******\n",
    "# ********************\n",
    "df_k729_2022_cuid = pd.read_csv('./datasets/k729_2022_cuid.csv')\n",
    "df_k729_2022_cuid_grouped = pd.read_csv('./datasets/k729_2022_cuid_grouped.csv')\n",
    "df_k729_2022_cuid_grouped['x'] = df_k729_2022_cuid_grouped['x'].apply(lambda x: ast.literal_eval(x))\n",
    "df_k729_2022_cuid_grouped['y'] = df_k729_2022_cuid_grouped['y'].apply(lambda y: ast.literal_eval(y))\n",
    "df_k729_2022_cuid_grouped['vx'] = df_k729_2022_cuid_grouped['vx'].apply(lambda vx: ast.literal_eval(vx))\n",
    "df_k729_2022_cuid_grouped['vy'] = df_k729_2022_cuid_grouped['vy'].apply(lambda vy: ast.literal_eval(vy))\n",
    "\n",
    "df_k733_2020_cuid = pd.read_csv('./datasets/k733_2020_cuid.csv')\n",
    "df_k733_2020_cuid_grouped = pd.read_csv('./datasets/k733_2020_cuid_grouped.csv')\n",
    "df_k733_2020_cuid_grouped['x'] = df_k733_2020_cuid_grouped['x'].apply(lambda x: ast.literal_eval(x))\n",
    "df_k733_2020_cuid_grouped['y'] = df_k733_2020_cuid_grouped['y'].apply(lambda y: ast.literal_eval(y))\n",
    "\n",
    "df_k733_2018_cuid = pd.read_csv('./datasets/k733_2018_cuid.csv')\n",
    "df_k733_2018_cuid_grouped = pd.read_csv('./datasets/k733_2018_cuid_grouped.csv')\n",
    "df_k733_2018_cuid_grouped['x'] = df_k733_2018_cuid_grouped['x'].apply(lambda x: ast.literal_eval(x))\n",
    "df_k733_2018_cuid_grouped['y'] = df_k733_2018_cuid_grouped['y'].apply(lambda y: ast.literal_eval(y))"
   ]
  },
  {
   "cell_type": "code",
   "execution_count": null,
   "metadata": {},
   "outputs": [],
   "source": [
    "def filter_array_indices(list_of_arrays, threshold):\n",
    "    # List to store indices of arrays where any value is greater than the threshold\n",
    "    indices = []\n",
    "\n",
    "    # Iterate through each array in the list\n",
    "    for i, array in enumerate(list_of_arrays):\n",
    "        # Convert the array to a NumPy array if it's not already\n",
    "        np_array = np.array(array)\n",
    "\n",
    "        # Check if any value in the array is greater than the threshold\n",
    "        if np.any(np_array > threshold):\n",
    "            # Append the index of the array to the result list\n",
    "            indices.append(i)\n",
    "\n",
    "    return indices"
   ]
  },
  {
   "cell_type": "code",
   "execution_count": null,
   "metadata": {},
   "outputs": [],
   "source": [
    "\n",
    "velocities_calculated_km_h = get_velocities_in_kmh(df_k729_2022_cuid_grouped)\n",
    "\n",
    "limits = get_global_dataframe_limits(df_k729_2022_cuid, ['x','y','vx','vy'])\n",
    "print(limits)"
   ]
  },
  {
   "cell_type": "code",
   "execution_count": null,
   "metadata": {},
   "outputs": [],
   "source": [
    "indices_velocities_filtered_above_60_kmh = filter_array_indices(velocities_calculated_km_h, 60)\n",
    "print(indices_velocities_filtered_above_60_kmh)"
   ]
  },
  {
   "cell_type": "code",
   "execution_count": null,
   "metadata": {},
   "outputs": [],
   "source": [
    "%matplotlib qt\n",
    "fig, axs = plt.subplots(5*15,2, figsize=(15,16*15))\n",
    "try:\n",
    "    for i, ax in enumerate(axs.flat):\n",
    "        ax.scatter(np.arange(0, len(velocities_calculated_km_h[i])), velocities_calculated_km_h[i])\n",
    "        ax.set_title(f'velocity distribution for index #{i}')\n",
    "except IndexError as e:\n",
    "    print(f'Maybe not enough velocity data to display for last plot? \\n Error: {e}')\n",
    "    \n",
    "plt.tight_layout()\n",
    "plt.show()"
   ]
  },
  {
   "cell_type": "code",
   "execution_count": null,
   "metadata": {},
   "outputs": [],
   "source": [
    "# render_single_vehicle_velocities(x, y, velocities_calculated, intersection_name='k729_2022', file_path='velocities', file_name='velocity', limits=limits)\n",
    "render_all_vehicle_velocities(x, y, velocities_calculated_km_h, intersection_name='k729_2022', file_path='velocities', file_name='velocity', limits=limits)"
   ]
  }
 ],
 "metadata": {
  "kernelspec": {
   "display_name": "ba_thesis",
   "language": "python",
   "name": "python3"
  },
  "language_info": {
   "codemirror_mode": {
    "name": "ipython",
    "version": 3
   },
   "file_extension": ".py",
   "mimetype": "text/x-python",
   "name": "python",
   "nbconvert_exporter": "python",
   "pygments_lexer": "ipython3",
   "version": "3.12.2"
  }
 },
 "nbformat": 4,
 "nbformat_minor": 2
}
