{
 "cells": [
  {
   "cell_type": "code",
   "execution_count": null,
   "metadata": {},
   "outputs": [],
   "source": [
    "# PASTE THIS TO THE FIRST CELL OF THE NOTEBOOK IN ORDER TO HAVE WORKING IMPORTS\n",
    "import sys\n",
    "import os\n",
    "current_dir = os.getcwd()\n",
    "parent_parent_dir = os.path.abspath(os.path.join(current_dir, '../..')) # tweak so that you get the root project folder\n",
    "\n",
    "sys.path.append(parent_parent_dir)"
   ]
  },
  {
   "cell_type": "code",
   "execution_count": null,
   "metadata": {},
   "outputs": [],
   "source": [
    "import numpy as np\n",
    "import pandas as pd\n",
    "from src.features.get_x_y_tuples import *\n",
    "import ast\n",
    "from sklearn.cluster import OPTICS\n",
    "from src.models.optics_functions import get_clusters_from_optics\n",
    "from src.visualization.render_vehicle_track_clusters import *\n",
    "from src.features.calculate_path_length import *\n",
    "from src.visualization.render_vehicle_tracks import render_vehicle_tracks_highlight_tracks"
   ]
  },
  {
   "cell_type": "code",
   "execution_count": null,
   "metadata": {},
   "outputs": [],
   "source": [
    "# 1. load into dataframe\n",
    "df_k729_2022_cuid = pd.read_csv('../../data/processed/k729_2022_cuid_lat_lon.csv')\n",
    "df_k729_2022_cuid_grouped = pd.read_csv('../../data/processed/k729_2022_cuid_grouped_lat_lon.csv')\n",
    "# 2. transform values to numbers\n",
    "df_k729_2022_cuid_grouped['x'] = df_k729_2022_cuid_grouped['x'].apply(lambda x: ast.literal_eval(x))\n",
    "df_k729_2022_cuid_grouped['y'] = df_k729_2022_cuid_grouped['y'].apply(lambda y: ast.literal_eval(y))\n",
    "df_k729_2022_cuid_grouped['vx'] = df_k729_2022_cuid_grouped['vx'].apply(lambda vx: ast.literal_eval(vx))\n",
    "df_k729_2022_cuid_grouped['vy'] = df_k729_2022_cuid_grouped['vy'].apply(lambda vy: ast.literal_eval(vy))\n",
    "df_k729_2022_cuid_grouped['lat'] = df_k729_2022_cuid_grouped['lat'].apply(lambda lat: ast.literal_eval(lat))\n",
    "df_k729_2022_cuid_grouped['lon'] = df_k729_2022_cuid_grouped['lon'].apply(lambda lon: ast.literal_eval(lon))\n",
    "# 3. create tuple lists\n",
    "list_k729_2022_x_y_tuples = get_x_y_tuple_list(df_k729_2022_cuid_grouped, ['x','y'])\n",
    "k729_2022_vx_vy_tuples = get_x_y_tuple_list(df_k729_2022_cuid_grouped, ['vx','vy'])\n",
    "k729_2022_lat_lon_tuples = get_x_y_tuple_list(df_k729_2022_cuid_grouped,['lat','lon'])"
   ]
  },
  {
   "cell_type": "code",
   "execution_count": null,
   "metadata": {},
   "outputs": [],
   "source": [
    "path_lenghts=calculate_path_length(list_k729_2022_x_y_tuples)"
   ]
  },
  {
   "cell_type": "code",
   "execution_count": null,
   "metadata": {},
   "outputs": [],
   "source": [
    "# make a table with the index of the path and the path length\n",
    "df_path_lengths = pd.DataFrame(path_lenghts, columns=['path_length'])\n",
    "df_path_lengths['path_length'] = df_path_lengths['path_length'].astype(float)\n",
    "# plot the path length distribution\n",
    "plt.figure(figsize=(10, 6))\n",
    "plt.hist(df_path_lengths['path_length'], bins=20)\n",
    "plt.xlabel('Path Length')\n",
    "plt.ylabel('Frequency')\n",
    "plt.title('Path Length Distribution')\n",
    "plt.show()\n",
    "plt.clf()\n",
    "\n",
    "# visualize the whole table with plt\n",
    "plt.figure(figsize=(10, 6))\n",
    "plt.bar(np.arange(0,len(df_path_lengths['path_length'])), df_path_lengths['path_length'])\n",
    "plt.xlabel('Path Index')\n",
    "plt.ylabel('Path Length')\n",
    "plt.title('Path Lengths of the paths in the dataset')\n",
    "plt.show()"
   ]
  },
  {
   "cell_type": "code",
   "execution_count": null,
   "metadata": {},
   "outputs": [],
   "source": [
    "# get indices where the path length is smaller than the threshold\n",
    "path_length_threshold = 10\n",
    "indices = np.where(df_path_lengths['path_length'] < path_length_threshold)[0]\n",
    "# make the indices strings\n",
    "indices = [str(index) for index in indices]\n",
    "\n",
    "# plot paths according to the indices using the render_vehicle_tracks_highlight_tracks function\n",
    "render_vehicle_tracks_highlight_tracks(df_k729_2022_cuid, df_k729_2022_cuid_grouped, indices, 'k729_2022: Paths lenghts', f'Paths with length < {path_length_threshold}', 'path_length', 'k729_2022', '/path_lengths_visualization')\n"
   ]
  },
  {
   "cell_type": "code",
   "execution_count": null,
   "metadata": {},
   "outputs": [],
   "source": []
  }
 ],
 "metadata": {
  "kernelspec": {
   "display_name": "ba_thesis",
   "language": "python",
   "name": "python3"
  },
  "language_info": {
   "codemirror_mode": {
    "name": "ipython",
    "version": 3
   },
   "file_extension": ".py",
   "mimetype": "text/x-python",
   "name": "python",
   "nbconvert_exporter": "python",
   "pygments_lexer": "ipython3",
   "version": "3.12.2"
  }
 },
 "nbformat": 4,
 "nbformat_minor": 2
}
