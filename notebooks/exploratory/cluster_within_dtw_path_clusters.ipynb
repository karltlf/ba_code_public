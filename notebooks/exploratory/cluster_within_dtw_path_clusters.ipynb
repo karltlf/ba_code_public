{
 "cells": [
  {
   "cell_type": "code",
   "execution_count": null,
   "metadata": {},
   "outputs": [],
   "source": [
    "import os\n",
    "import sys\n",
    "import matplotlib.pyplot as plt\n",
    "current_dir = os.getcwd()\n",
    "parent_parent_dir = os.path.abspath(os.path.join(current_dir, '../..')) # tweak so that you get dir of code project\n",
    "\n",
    "sys.path.append(parent_parent_dir)\n",
    "print(f'Appending to sys.path: {parent_parent_dir}')"
   ]
  },
  {
   "cell_type": "code",
   "execution_count": null,
   "metadata": {},
   "outputs": [],
   "source": [
    "import json\n",
    "import pandas as pd\n",
    "import numpy as np\n",
    "import ast\n",
    "from sklearn.cluster import OPTICS\n",
    "# %matplotlib qt5\n",
    "%matplotlib inline"
   ]
  },
  {
   "cell_type": "code",
   "execution_count": null,
   "metadata": {},
   "outputs": [],
   "source": [
    "from src.features.get_x_y_tuple_list import get_x_y_tuple_list\n",
    "from src.visualization.render_vehicle_track_cluster_in_notebook import render_vehicle_track_cluster_in_notebook\n",
    "from src.models.optics.get_clusters_from_optics_labels import get_clusters_from_optics_labels\n",
    "from src.visualization.plot_vehicle_tracks_in_notebook import plot_vehicle_tracks_in_notebook\n",
    "\n",
    "\n",
    "def plot_within_cluster_optics(intersection_name, params_uid, cluster_label, eval_metric, within_cluster_params_uid=None):\n",
    "\n",
    "    print(f'------------------------within CLUSTER #{cluster_label} for INTERSECTION {intersection_name}------------------------')\n",
    "\n",
    "    # get data\n",
    "    data_path = f'{parent_parent_dir}/data/processed/{intersection_name}_cuid.csv'\n",
    "    df_cuid = pd.read_csv(data_path)\n",
    "    df_cuid_grouped_path = data_path.replace('.csv', '_grouped.csv')\n",
    "    df_cuid_grouped = pd.read_csv(df_cuid_grouped_path)\n",
    "    df_cuid_grouped['x'] = df_cuid_grouped['x'].apply(lambda x: ast.literal_eval(x))\n",
    "    df_cuid_grouped['y'] = df_cuid_grouped['y'].apply(lambda y: ast.literal_eval(y))\n",
    "    list_x_y_tuples = get_x_y_tuple_list(df_cuid_grouped, ['x','y'])\n",
    "\n",
    "    # ----------------- UNDERLYING OPTICS -----------------\n",
    "    def get_optics_params(optics_params, metric):\n",
    "        optics_params = optics_params[metric]\n",
    "        dtw_dist_matrix_key = optics_params['dtw_key']\n",
    "        max_eps = optics_params['epsilon']\n",
    "        min_samples = optics_params['min_samples']\n",
    "        cluster_method = optics_params['cluster_method']\n",
    "        xi = optics_params['xi']\n",
    "        kwargs = {\n",
    "            'max_eps': max_eps,\n",
    "            'min_samples': min_samples,\n",
    "            'cluster_method': cluster_method,\n",
    "            'xi': xi\n",
    "        }\n",
    "        filtered_kwargs = {k: v for k, v in kwargs.items() if v is not None}\n",
    "        return dtw_dist_matrix_key, filtered_kwargs\n",
    "    \n",
    "    # check for params uid\n",
    "    if params_uid is not None:\n",
    "        opt_params_path = f'{parent_parent_dir}/data/processed/{intersection_name}_optics_vehicle_paths_optimized_params_{params_uid}.json'\n",
    "    else:\n",
    "        opt_params_path = f'{parent_parent_dir}/data/processed/{intersection_name}_optics_vehicle_paths_optimized_params.json'\n",
    "    with open(opt_params_path, 'r') as f:\n",
    "        optics_params = json.load(f)\n",
    "\n",
    "    # import optimized parameters\n",
    "    dtw_matrix_key, kwargs_acc_score = get_optics_params(optics_params, eval_metric)\n",
    "\n",
    "    # import dtw distance matrix\n",
    "    dtw_distance_matrix_path = f'{parent_parent_dir}/data/processed/{intersection_name}_diff_itakura_slope_dtw_matrices.json'\n",
    "    with open(dtw_distance_matrix_path) as f:\n",
    "        dtw_distance_matrices_dict = json.load(f)\n",
    "\n",
    "    # get the distance matrix\n",
    "    dtw_distance_matrix = dtw_distance_matrices_dict[dtw_matrix_key]\n",
    "\n",
    "    # create optics model\n",
    "    optics_model = OPTICS(metric='precomputed', **kwargs_acc_score).fit(dtw_distance_matrix)\n",
    "\n",
    "    # get labels for big models\n",
    "    labels = get_clusters_from_optics_labels(optics_model.labels_)\n",
    "\n",
    "    \n",
    "\n",
    "\n",
    "\n",
    "    # ----------------- WITHIN CLUSTER OPTICS -----------------\n",
    "    # path to optimized within cluster optics params\n",
    "    path_optimized_in_cluster_optics_params = f'{parent_parent_dir}/data/processed/within_cluster_clustering_optimization/{intersection_name}_optics_optimized_vehicle_paths_{params_uid}_{eval_metric}_within_cluster_{cluster_label}_optimized_params_{within_cluster_params_uid}.json'\n",
    "\n",
    "    # load optimized within cluster optics params\n",
    "    try:\n",
    "        with open(path_optimized_in_cluster_optics_params, 'r') as f:\n",
    "            within_cluster_optics_params = json.load(f)\n",
    "    except FileNotFoundError as e:\n",
    "        print(f'File not found: {path_optimized_in_cluster_optics_params}')\n",
    "        _, ax = plt.subplots(1, 1, figsize=(10,10))\n",
    "        # filter labels to include whole cluster\n",
    "        render_vehicle_track_cluster_in_notebook(ax, df_cuid, df_cuid_grouped, {'0': labels[cluster_label]})\n",
    "        plot_vehicle_tracks_in_notebook(ax, df_cuid, df_cuid_grouped, color='gray', alpha=0.5, title=f'Intersection: {intersection_name} \\n No within cluster optimization found for cluster #{cluster_label}')\n",
    "        return\n",
    "    \n",
    "    # extract within cluster optics params according to eval metric\n",
    "    within_cluster_optics_params = within_cluster_optics_params[eval_metric]\n",
    "\n",
    "    # extract within cluster optics params\n",
    "    within_cluster_max_eps = within_cluster_optics_params['epsilon']\n",
    "    within_cluster_min_samples = within_cluster_optics_params['min_samples']\n",
    "    within_cluster_cluster_method = within_cluster_optics_params['cluster_method']\n",
    "    within_cluster_xi = within_cluster_optics_params['xi'] if within_cluster_optics_params['xi'] is not None else 0.05\n",
    "    within_cluster_dtw_key = within_cluster_optics_params['dtw_key']\n",
    "\n",
    "    # create filtered data using certain cluster\n",
    "    df_grouped_within_cluster_filtered = df_cuid_grouped.loc[optics_model.labels_ == cluster_label] \n",
    "\n",
    "    # extract optimized within cluster dtw distance matrix\n",
    "    within_cluster_dtw_distance_matrix = dtw_distance_matrices_dict[within_cluster_dtw_key]\n",
    "\n",
    "    # create within cluster dtw distance matrices by filtering only for the cluster\n",
    "    within_cluster_dtw_distance_matrix = np.array(within_cluster_dtw_distance_matrix)\n",
    "    filtered_rows = within_cluster_dtw_distance_matrix[optics_model.labels_ == cluster_label]\n",
    "    within_cluster_dtw_distance_matrix = filtered_rows[:, optics_model.labels_ == cluster_label]\n",
    "\n",
    "    # fit new within cluster optics model\n",
    "    optics_within_cluster = OPTICS(metric='precomputed', \n",
    "                                   max_eps=within_cluster_max_eps, \n",
    "                                   min_samples=within_cluster_min_samples, \n",
    "                                   cluster_method=within_cluster_cluster_method, \n",
    "                                   xi=within_cluster_xi\n",
    "                                   ).fit(within_cluster_dtw_distance_matrix)\n",
    "\n",
    "    # get labels for within cluster model\n",
    "    labels_within_cluster = get_clusters_from_optics_labels(optics_within_cluster.labels_)\n",
    "\n",
    "\n",
    "    # plot within cluster clusters\n",
    "    fig, axs = plt.subplots(1, 1, figsize=(10,10))\n",
    "    fig.suptitle(f'Intersection: {intersection_name}')\n",
    "    title_str = f'OPTICS within Cluster #{cluster_label}' + '\\n'\\\n",
    "        + f'Optimization init ID: {params_uid if params_uid is not None else \"n/a\"}' + '\\n' + \\\n",
    "        f'Optimization within cluster ID: {within_cluster_params_uid if within_cluster_params_uid is not None else \"n/a\"}'\n",
    "    render_vehicle_track_cluster_in_notebook(axs, df_cuid, df_grouped_within_cluster_filtered, labels_within_cluster)\n",
    "    plot_vehicle_tracks_in_notebook(axs, df_cuid, df_cuid_grouped, title_str, color='gray', alpha=0.5)"
   ]
  },
  {
   "cell_type": "code",
   "execution_count": null,
   "metadata": {},
   "outputs": [],
   "source": [
    "def create_three_letter_uid(max_eps_range, min_samples_range, xi_range):\n",
    "    \"\"\"\n",
    "    Create a 3-letter unique ID based on optimization parameters.\n",
    "    \"\"\"\n",
    "    # Take the first letter of 'max_eps', 'min_samples', and 'xi' ranges for uniqueness\n",
    "    max_eps_id = chr(65 + int(max(max_eps_range)) % 26)  # Convert max_eps to a letter\n",
    "    min_samples_id = chr(65 + int(min(min_samples_range)) % 26)  # Convert min_samples to a letter\n",
    "    xi_id = chr(65 + int(min(xi_range) * 100) % 26)  # Convert xi to a letter based on its percentage\n",
    "\n",
    "    # Combine them to form a 3-letter ID\n",
    "    uid = f\"{max_eps_id}{min_samples_id}{xi_id}\"\n",
    "    return uid"
   ]
  },
  {
   "cell_type": "code",
   "execution_count": null,
   "metadata": {},
   "outputs": [],
   "source": [
    "from src.data.load_dtw_matrices_from_json import load_dtw_matrices_from_json\n",
    "from src.models.optics.optimize_optics_for_precomputed_dtw import optimize_optics_for_precomputed_dtw\n",
    "from src.data.save_optimization_parameters_in_json_file import save_optimization_parameters_in_json_file\n",
    "\n",
    "\n",
    "def launch_within_cluster_optimization(intersection_name, params_uid, cluster_label, eval_metric='silhouette', within_cluster_params_uid=None, optimization_params=None):\n",
    "\n",
    "    # get data\n",
    "    data_path = f'{parent_parent_dir}/data/processed/{intersection_name}_cuid.csv'\n",
    "    df_cuid = pd.read_csv(data_path)\n",
    "    df_cuid_grouped_path = data_path.replace('.csv', '_grouped.csv')\n",
    "    df_cuid_grouped = pd.read_csv(df_cuid_grouped_path)\n",
    "    df_cuid_grouped['x'] = df_cuid_grouped['x'].apply(lambda x: ast.literal_eval(x))\n",
    "    df_cuid_grouped['y'] = df_cuid_grouped['y'].apply(lambda y: ast.literal_eval(y))\n",
    "    list_x_y_tuples = get_x_y_tuple_list(df_cuid_grouped, ['x','y'])\n",
    "\n",
    "\n",
    "\n",
    "\n",
    "    # ------------------- build underlying optics model to get all clusters -------------------\n",
    "    def get_optics_params(optics_params, metric):\n",
    "        optics_params = optics_params[metric]\n",
    "        dtw_dist_matrix_key = optics_params['dtw_key']\n",
    "        max_eps = optics_params['epsilon']\n",
    "        min_samples = optics_params['min_samples']\n",
    "        cluster_method = optics_params['cluster_method']\n",
    "        xi = optics_params['xi']\n",
    "        kwargs = {\n",
    "            'max_eps': max_eps,\n",
    "            'min_samples': min_samples,\n",
    "            'cluster_method': cluster_method,\n",
    "            'xi': xi\n",
    "        }\n",
    "        filtered_kwargs = {k: v for k, v in kwargs.items() if v is not None}\n",
    "        return dtw_dist_matrix_key, filtered_kwargs\n",
    "\n",
    "    # get optics parameters from a json file according to optimization init uid\n",
    "    if params_uid is not None:\n",
    "        opt_params_path = f'{parent_parent_dir}/data/processed/{intersection_name}_optics_vehicle_paths_optimized_params_{params_uid}.json'\n",
    "    else:\n",
    "        opt_params_path = f'{parent_parent_dir}/data/processed/{intersection_name}_optics_vehicle_paths_optimized_params.json'\n",
    "    \n",
    "    # load optimized parameters\n",
    "    with open(opt_params_path, 'r') as f:\n",
    "        intersection_optics_params_dict = json.load(f)\n",
    "\n",
    "    # extract optimized parameters\n",
    "    dtw_matrix_key, kwargs_optimized_params = get_optics_params(intersection_optics_params_dict, eval_metric)\n",
    "\n",
    "    # load all dtw distance matrices\n",
    "    dtw_distance_matrix_path = f'{parent_parent_dir}/data/processed/{intersection_name}_diff_itakura_slope_dtw_matrices.json'\n",
    "    with open(dtw_distance_matrix_path) as f:\n",
    "        dtw_distance_matrix_dict = json.load(f)\n",
    "\n",
    "    # extract optimized dtw distance matrix\n",
    "    dtw_distance_matrix = dtw_distance_matrix_dict[dtw_matrix_key]\n",
    "\n",
    "    # create optics model\n",
    "    optics_model = OPTICS(metric='precomputed', **kwargs_optimized_params).fit(dtw_distance_matrix)\n",
    "\n",
    "\n",
    "\n",
    "\n",
    "\n",
    "\n",
    "    # ------------------- build small model for specific cluster -------------------\n",
    "    # filter all dtw matrices for specific cluster\n",
    "    dtw_matrices_dict_filtered = {}\n",
    "    for key, dtw_matrix in dtw_distance_matrix_dict.items():\n",
    "        dtw_matrix = np.array(dtw_matrix)\n",
    "        filtered_rows = dtw_matrix[optics_model.labels_ == cluster_label]\n",
    "        dtw_matrices_dict_filtered[key] = filtered_rows[:, optics_model.labels_ == cluster_label]\n",
    "    \n",
    "    #  handle optimization init params\n",
    "    if within_cluster_params_uid is not None:\n",
    "        # load optimization parameters\n",
    "        path_optimized_in_cluster_optics_params = f'{parent_parent_dir}/data/processed/within_cluster_clustering_optimization/within_cluster_optimization_parameters_{within_cluster_params_uid}.json'\n",
    "        with open(path_optimized_in_cluster_optics_params, 'r') as f:\n",
    "            optimized_in_cluster_optics_params = json.load(f)\n",
    "            optimization_params = {k: v for k, v in optimized_in_cluster_optics_params.items() if k in ['max_eps_range', 'min_samples_range', 'cluster_methods', 'xis']}\n",
    "            unique_id = within_cluster_params_uid\n",
    "\n",
    "    # else use optimization params from args\n",
    "    else:\n",
    "        # create unique id for optimization parameters range\n",
    "        unique_id = create_three_letter_uid(optimization_params['max_eps_range'], \n",
    "                                            optimization_params['min_samples_range'], \n",
    "                                            optimization_params['xis'])\n",
    "        save_optimization_parameters_in_json_file(f'{parent_parent_dir}/data/processed/within_cluster_clustering_optimization/within_cluster_optimization_parameters_{unique_id}', **optimization_params)\n",
    "\n",
    "    # check if cluster only has two samples: if so, skip cluster\n",
    "    num_samples_in_cluster = np.sum(optics_model.labels_ == cluster_label)\n",
    "    if num_samples_in_cluster < 2:\n",
    "        print(f'Cluster #{cluster_label} has less than 2 samples. Skipping optimization.')\n",
    "        return\n",
    "\n",
    "    # check if min_samples may exceed no of samples in cluster\n",
    "    if max(optimization_params['min_samples_range']) > num_samples_in_cluster:\n",
    "        optimization_params['min_samples_range'] = range(2, num_samples_in_cluster+1)\n",
    "\n",
    "    # optimize optics for precomputed dtw filtered for specific cluster\n",
    "    try:\n",
    "        optimization_results_optics_within_cluster = optimize_optics_for_precomputed_dtw(dtw_matrices_dict_filtered,\n",
    "                                                                                        **optimization_params,\n",
    "                                                                                        n_jobs=-1)\n",
    "    except ValueError as e:\n",
    "        print(f'Error: {e}')\n",
    "        return\n",
    "    print(optimization_results_optics_within_cluster)\n",
    "\n",
    "    # save optimization results\n",
    "    unique_filename = f'{intersection_name}_optics_optimized_vehicle_paths_{params_uid}_{eval_metric}_within_cluster_{cluster_label}_optimized_params_{unique_id}'\n",
    "    optimization_results_optics_within_cluster['unique_id'] = unique_id\n",
    "    optimization_results_optics_within_cluster['underlying_optics_model'] = {'cluster_label': cluster_label, 'params_uid': params_uid, 'eval_metric': eval_metric}\n",
    "\n",
    "    # save optimization results: save in file\n",
    "    save_optimization_parameters_in_json_file(f'{parent_parent_dir}/data/processed/within_cluster_clustering_optimization/{unique_filename}.json', **optimization_results_optics_within_cluster)"
   ]
  },
  {
   "cell_type": "markdown",
   "metadata": {},
   "source": [
    "## run 1"
   ]
  },
  {
   "cell_type": "code",
   "execution_count": null,
   "metadata": {},
   "outputs": [],
   "source": [
    "optimization_params_k729_2022 = {'max_eps_range': np.arange(1,100,5),\n",
    "                        'min_samples_range': np.arange(3, 11, 1),\n",
    "                        'xis': np.arange(0.01, 0.1, 0.01)}"
   ]
  },
  {
   "cell_type": "code",
   "execution_count": null,
   "metadata": {},
   "outputs": [],
   "source": [
    "optimization_params_k733 = {'max_eps_range': np.arange(1,100,5),\n",
    "                        'min_samples_range': np.arange(3, 11, 1),\n",
    "                        'xis': np.arange(0.01, 0.1, 0.01)}"
   ]
  },
  {
   "cell_type": "code",
   "execution_count": null,
   "metadata": {},
   "outputs": [],
   "source": [
    "intersection_name_k729_2022 = 'k729_2022'\n",
    "params_uid_k729_2022 = 'WDB'\n",
    "cluster_label_k729_2022 = 0\n",
    "eval_metric_k729_2022 = 'silhouette'\n",
    "within_cluster_params_uid_k729_2022 = 'SDB'"
   ]
  },
  {
   "cell_type": "code",
   "execution_count": null,
   "metadata": {},
   "outputs": [],
   "source": [
    "intersection_name_k733_2020 = 'k733_2020'\n",
    "params_uid_k733_2020 = None\n",
    "cluster_label_k733_2020 = 2\n",
    "eval_metric_k733_2020 = 'silhouette'\n",
    "within_cluster_params_uid_k733_2020 = 'SDB'"
   ]
  },
  {
   "cell_type": "code",
   "execution_count": null,
   "metadata": {},
   "outputs": [],
   "source": [
    "intersection_name_k733_2018='k733_2018'\n",
    "params_uid_k733_2018 = None\n",
    "cluster_label_k733_2018 = 2\n",
    "eval_metric_k733_2018 = 'silhouette'\n",
    "within_cluster_params_uid_k733_2018 = 'SDB'"
   ]
  },
  {
   "cell_type": "code",
   "execution_count": null,
   "metadata": {},
   "outputs": [],
   "source": [
    "# launch_within_cluster_optimization(intersection_name_k733_2018, params_uid_k733_2018, cluster_label_k733_2018, optimization_params_k733, eval_metric_k733_2018)\n",
    "# launch_within_cluster_optimization(intersection_name_k733_2020, params_uid_k733_2020, cluster_label_k733_2020, optimization_params_k733, eval_metric_k733_2020)\n",
    "# launch_within_cluster_optimization(intersection_name_k729_2022, params_uid_k729_2022, cluster_label_k729_2022, optimization_params_k729_2022, eval_metric_k729_2022)    "
   ]
  },
  {
   "cell_type": "code",
   "execution_count": null,
   "metadata": {},
   "outputs": [],
   "source": [
    "# plot_within_cluster_optics(intersection_name_k733_2018, params_uid_k733_2018, cluster_label_k733_2018, eval_metric_k733_2018, within_cluster_params_uid_k733_2018)\n",
    "# plot_within_cluster_optics(intersection_name_k733_2020, params_uid_k733_2020, cluster_label_k733_2020, eval_metric_k733_2020, within_cluster_params_uid_k733_2020)\n",
    "# plot_within_cluster_optics(intersection_name_k729_2022, params_uid_k729_2022, cluster_label_k729_2022, eval_metric_k729_2022, within_cluster_params_uid_k729_2022)"
   ]
  },
  {
   "cell_type": "markdown",
   "metadata": {},
   "source": [
    "## run 2, different clusters for k729, different opt params for k733 "
   ]
  },
  {
   "cell_type": "code",
   "execution_count": null,
   "metadata": {},
   "outputs": [],
   "source": [
    "optimization_params_k729_2022 = {'max_eps_range': np.arange(1,100,5),\n",
    "                        'min_samples_range': np.arange(3, 11, 1),\n",
    "                        'xis': np.arange(0.01, 0.1, 0.01)}"
   ]
  },
  {
   "cell_type": "code",
   "execution_count": null,
   "metadata": {},
   "outputs": [],
   "source": [
    "optimization_params_k733 = {'max_eps_range': np.arange(50,200,5),\n",
    "                        'min_samples_range': np.arange(2, 11, 1),\n",
    "                        'xis': np.arange(0.01, 0.1, 0.01)}"
   ]
  },
  {
   "cell_type": "code",
   "execution_count": null,
   "metadata": {},
   "outputs": [],
   "source": [
    "intersection_name_k733_2018='k733_2018'\n",
    "params_uid_k733_2018 = None\n",
    "cluster_label_k733_2018 = 2\n",
    "eval_metric_k733_2018 = 'silhouette'\n",
    "within_cluster_params_uid_k733_2018 = 'NCB'"
   ]
  },
  {
   "cell_type": "code",
   "execution_count": null,
   "metadata": {},
   "outputs": [],
   "source": [
    "intersection_name_k733_2020 = 'k733_2020'\n",
    "params_uid_k733_2020 = None\n",
    "cluster_label_k733_2020 = 2\n",
    "eval_metric_k733_2020 = 'silhouette'\n",
    "within_cluster_params_uid_k733_2020 = 'NCB'"
   ]
  },
  {
   "cell_type": "code",
   "execution_count": null,
   "metadata": {},
   "outputs": [],
   "source": [
    "intersection_name_k729_2022 = 'k729_2022'\n",
    "params_uid_k729_2022 = 'WDB'\n",
    "cluster_label_k729_2022 = 2\n",
    "eval_metric_k729_2022 = 'silhouette'\n",
    "within_cluster_params_uid_k729_2022 = 'SDB'"
   ]
  },
  {
   "cell_type": "code",
   "execution_count": null,
   "metadata": {},
   "outputs": [],
   "source": [
    "# launch_within_cluster_optimization(intersection_name_k733_2018, params_uid_k733_2018, cluster_label_k733_2018, optimization_params_k733, eval_metric_k733_2018)\n",
    "# launch_within_cluster_optimization(intersection_name_k733_2020, params_uid_k733_2020, cluster_label_k733_2020, optimization_params_k733, eval_metric_k733_2020)\n",
    "# launch_within_cluster_optimization(intersection_name_k729_2022, params_uid_k729_2022, cluster_label_k729_2022, optimization_params_k729_2022, eval_metric_k729_2022)    "
   ]
  },
  {
   "cell_type": "code",
   "execution_count": null,
   "metadata": {},
   "outputs": [],
   "source": [
    "# plot_within_cluster_optics(intersection_name_k733_2018, params_uid_k733_2018, cluster_label_k733_2018, eval_metric_k733_2018, within_cluster_params_uid_k733_2018)\n",
    "# plot_within_cluster_optics(intersection_name_k733_2020, params_uid_k733_2020, cluster_label_k733_2020, eval_metric_k733_2020, within_cluster_params_uid_k733_2020)\n",
    "# plot_within_cluster_optics(intersection_name_k729_2022, params_uid_k729_2022, cluster_label_k729_2022, eval_metric_k729_2022, within_cluster_params_uid_k729_2022)"
   ]
  },
  {
   "cell_type": "markdown",
   "metadata": {},
   "source": [
    "## optimize, plot for each cluster"
   ]
  },
  {
   "cell_type": "markdown",
   "metadata": {},
   "source": [
    "#### k729_2022"
   ]
  },
  {
   "cell_type": "code",
   "execution_count": null,
   "metadata": {},
   "outputs": [],
   "source": [
    "within_cluster_optimization_init_params_id = 'SDB'\n",
    "intersection_name_k729_2022 = 'k729_2022'\n",
    "intersection_optics_params_uid_k729_2022 = 'WDB'\n",
    "eval_metric_k729_2022 = 'silhouette'"
   ]
  },
  {
   "cell_type": "code",
   "execution_count": null,
   "metadata": {},
   "outputs": [],
   "source": [
    "# # k729_2022: 10 clusters\n",
    "# for cluster_label in range(0,10):\n",
    "#     launch_within_cluster_optimization(intersection_name_k729_2022, intersection_optics_params_uid_k729_2022, cluster_label, eval_metric_k729_2022, within_cluster_params_uid=within_cluster_optimization_init_params_id)    "
   ]
  },
  {
   "cell_type": "code",
   "execution_count": null,
   "metadata": {},
   "outputs": [],
   "source": [
    "for cluster_label in range(0,10):\n",
    "    plot_within_cluster_optics(intersection_name_k729_2022, params_uid_k729_2022, cluster_label, eval_metric_k729_2022, within_cluster_params_uid_k729_2022)"
   ]
  },
  {
   "cell_type": "markdown",
   "metadata": {},
   "source": [
    "#### k733_2018 + k733_2020"
   ]
  },
  {
   "cell_type": "code",
   "execution_count": null,
   "metadata": {},
   "outputs": [],
   "source": [
    "within_cluster_optimization_init_params_id_k733_2018 = 'NCB'\n",
    "intersection_name_k733_2018 = 'k733_2018'\n",
    "intersection_optics_params_uid_k733_2018 = None\n",
    "eval_metric_k733_2018 = 'silhouette'"
   ]
  },
  {
   "cell_type": "code",
   "execution_count": null,
   "metadata": {},
   "outputs": [],
   "source": [
    "within_cluster_optimization_init_params_id_k733_2020 = 'NCB'\n",
    "intersection_name_k733_2020 = 'k733_2020'\n",
    "intersection_optics_params_uid_k733_2020 = None\n",
    "eval_metric_k733_2020 = 'silhouette'"
   ]
  },
  {
   "cell_type": "code",
   "execution_count": null,
   "metadata": {},
   "outputs": [],
   "source": [
    "for cluster_label in range(0,5):\n",
    "    plot_within_cluster_optics(intersection_name_k733_2020, intersection_optics_params_uid_k733_2020, cluster_label, eval_metric_k733_2020, within_cluster_optimization_init_params_id_k733_2020)"
   ]
  },
  {
   "cell_type": "code",
   "execution_count": null,
   "metadata": {},
   "outputs": [],
   "source": [
    "for cluster_label in range(0,7):\n",
    "    plot_within_cluster_optics(intersection_name_k733_2018, intersection_optics_params_uid_k733_2018, cluster_label, eval_metric_k733_2018, within_cluster_optimization_init_params_id_k733_2018)"
   ]
  }
 ],
 "metadata": {
  "kernelspec": {
   "display_name": "ba_thesis",
   "language": "python",
   "name": "python3"
  },
  "language_info": {
   "codemirror_mode": {
    "name": "ipython",
    "version": 3
   },
   "file_extension": ".py",
   "mimetype": "text/x-python",
   "name": "python",
   "nbconvert_exporter": "python",
   "pygments_lexer": "ipython3",
   "version": "3.12.2"
  }
 },
 "nbformat": 4,
 "nbformat_minor": 2
}
