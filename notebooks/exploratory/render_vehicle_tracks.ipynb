{
 "cells": [
  {
   "cell_type": "code",
   "execution_count": null,
   "metadata": {},
   "outputs": [],
   "source": [
    "import pandas as pd\n",
    "import ast\n",
    "import numpy as np\n",
    "import matplotlib.pyplot as plt\n",
    "import os\n"
   ]
  },
  {
   "cell_type": "code",
   "execution_count": null,
   "metadata": {},
   "outputs": [],
   "source": [
    "\n",
    "df_k729_2022_cuid_grouped = pd.read_csv('./datasets/k729_2022_cuid_grouped.csv')\n",
    "print(df_k729_2022_cuid_grouped['x'].dtype)\n",
    "df_k729_2022_cuid_grouped['x'] = df_k729_2022_cuid_grouped['x'].apply(lambda x: ast.literal_eval(x))\n",
    "df_k729_2022_cuid_grouped['y'] = df_k729_2022_cuid_grouped['y'].apply(lambda y: ast.literal_eval(y))\n",
    "\n",
    "df_k729_2022_cuid = pd.read_csv('./datasets/k729_2022_cuid.csv')\n",
    "x_k729_2022 = df_k729_2022_cuid['x']\n",
    "y_k729_2022 = df_k729_2022_cuid['y']"
   ]
  },
  {
   "cell_type": "code",
   "execution_count": null,
   "metadata": {},
   "outputs": [],
   "source": [
    "def render_vehicle_tracks(df_cuid:pd.DataFrame, df_cuid_grouped:pd.DataFrame, intersection_name:str='undefined_intersection', create_slideshow:bool=False):\n",
    "\n",
    "    min_x = df_cuid['x'].min()\n",
    "    max_x = df_cuid['x'].max()\n",
    "\n",
    "    min_y = df_cuid['y'].min()\n",
    "    max_y = df_cuid['y'].max()\n",
    "\n",
    "    colors = ['#1f77b4',  # Blue\n",
    "            '#ff7f0e',  # Orange\n",
    "            '#2ca02c',  # Green\n",
    "            '#d62728',  # Red\n",
    "            '#9467bd',  # Purple\n",
    "            '#8c564b',  # Brown\n",
    "            '#e377c2',  # Pink\n",
    "            '#7f7f7f',  # Gray\n",
    "            '#bcbd22',  # Olive\n",
    "            '#17becf']  # Cyan\n",
    "\n",
    "    # Set limits for the plot\n",
    "    plt.xlim(min_x, max_x)\n",
    "    plt.ylim(min_y, max_y)\n",
    "\n",
    "    # List of all track IDs\n",
    "    track_ids = df_cuid_grouped['track_id'].unique()\n",
    "\n",
    "    path_dir_save_imgs = os.path.expanduser(f'~/Pictures/thesis/{intersection_name}/vehicle_tracks')\n",
    "\n",
    "\n",
    "    try:\n",
    "        os.makedirs(path_dir_save_imgs)\n",
    "        print(f'Created directory {path_dir_save_imgs}')\n",
    "    except Exception as e:\n",
    "        print(f'Directory creation went wrong w/ error: {type(e)}')\n",
    "\n",
    "\n",
    "    if create_slideshow:\n",
    "\n",
    "        for i in range(len(track_ids)):\n",
    "\n",
    "            x_vals = df_cuid_grouped['x'].loc[df_cuid_grouped['track_id'] == track_ids[i]].values[0]\n",
    "            y_vals = df_cuid_grouped['y'].loc[df_cuid_grouped['track_id'] == track_ids[i]].values[0]    \n",
    "            \n",
    "\n",
    "            for j in range(i): # plot all prev lines in gray\n",
    "                x_vals_prev = df_cuid_grouped['x'].loc[df_cuid_grouped['track_id'] == track_ids[j]].values[0]\n",
    "                y_vals_prev = df_cuid_grouped['y'].loc[df_cuid_grouped['track_id'] == track_ids[j]].values[0]\n",
    "                plt.plot(x_vals_prev, y_vals_prev, color='gray', linestyle='--')\n",
    "\n",
    "\n",
    "            plt.plot(x_vals, y_vals, color='red', linestyle='--') # highlight current line\n",
    "\n",
    "            plt.suptitle(f'#{i} Vehicle path for {intersection_name}', fontweight='bold')\n",
    "\n",
    "            plt.savefig(os.path.expanduser(path_dir_save_imgs + f'/vehicle_path_{i}.jpg'))\n",
    "            \n",
    "            plt.plot(x_vals, y_vals, color='gray', linestyle='--') \n",
    "\n",
    "\n",
    "    elif not create_slideshow:\n",
    "\n",
    "        plt.suptitle(f'All vehicle paths for {intersection_name}', fontweight='bold')\n",
    "\n",
    "\n",
    "        for i in range(len(track_ids)):\n",
    "\n",
    "            x_vals = df_cuid_grouped['x'].loc[df_cuid_grouped['track_id'] == track_ids[i]].values[0]\n",
    "            y_vals = df_cuid_grouped['y'].loc[df_cuid_grouped['track_id'] == track_ids[i]].values[0]    \n",
    "\n",
    "            plt.plot(x_vals, y_vals, color='gray', linestyle='--')\n",
    "\n",
    "\n",
    "        plt.savefig(path_dir_save_imgs + f'/all_vehicle_paths.jpg')\n",
    "        \n",
    "    # Clear the plot after finishing\n",
    "    plt.clf()\n",
    "\n",
    "    print('***All vehicle tracks rendered succesfully***')"
   ]
  },
  {
   "cell_type": "code",
   "execution_count": null,
   "metadata": {},
   "outputs": [],
   "source": [
    "df_k733_2018_cuid = pd.read_csv('./datasets/k733_2018_cuid.csv')\n",
    "df_k733_2018_cuid_grouped = pd.read_csv('./datasets/k733_2018_cuid_grouped.csv')\n",
    "df_k733_2018_cuid_grouped['x'] = df_k733_2018_cuid_grouped['x'].apply(lambda x: ast.literal_eval(x))\n",
    "df_k733_2018_cuid_grouped['y'] = df_k733_2018_cuid_grouped['y'].apply(lambda y: ast.literal_eval(y))\n",
    "render_vehicle_tracks(df_k733_2018_cuid, df_k733_2018_cuid_grouped, 'k733_2018')"
   ]
  },
  {
   "cell_type": "code",
   "execution_count": null,
   "metadata": {},
   "outputs": [],
   "source": [
    "render_vehicle_tracks(df_k729_2022_cuid, df_k729_2022_cuid_grouped,'k729_2022')"
   ]
  },
  {
   "cell_type": "code",
   "execution_count": null,
   "metadata": {},
   "outputs": [],
   "source": [
    "def render_vehicle_tracks_highlight_tracks(df_cuid:pd.DataFrame, df_cuid_grouped:pd.DataFrame, index_list:list, intersection_name:str='undefined_intersection'):\n",
    "\n",
    "    min_x = df_cuid['x'].min()\n",
    "    max_x = df_cuid['x'].max()\n",
    "\n",
    "    min_y = df_cuid['y'].min()\n",
    "    max_y = df_cuid['y'].max()\n",
    "\n",
    "    colors = ['#1f77b4',  # Blue\n",
    "            '#d62728',  # Red\n",
    "            '#ff7f0e',  # Orange\n",
    "            '#2ca02c',  # Green\n",
    "            '#9467bd',  # Purple\n",
    "            '#8c564b',  # Brown\n",
    "            '#e377c2',  # Pink\n",
    "            '#7f7f7f',  # Gray\n",
    "            '#bcbd22',  # Olive\n",
    "            '#17becf']  # Cyan\n",
    "\n",
    "    # Set limits for the plot\n",
    "    plt.xlim(min_x, max_x)\n",
    "    plt.ylim(min_y, max_y)\n",
    "\n",
    "    # List of all track IDs\n",
    "    track_ids = df_cuid_grouped['track_id'].unique()\n",
    "\n",
    "    path_dir_save_imgs = os.path.expanduser(f'~/Pictures/thesis/{intersection_name}')\n",
    "\n",
    "\n",
    "    try:\n",
    "        os.makedirs(path_dir_save_imgs)\n",
    "        print(f'Created directory {path_dir_save_imgs}')\n",
    "    except Exception as e:\n",
    "        print(f'Directory creation went wrong w/ error: {type(e)}')\n",
    "\n",
    "\n",
    "\n",
    "    plt.suptitle(f'All vehicle paths for {intersection_name}', fontweight='bold')\n",
    "\n",
    "\n",
    "    for i in range(len(track_ids)):\n",
    "\n",
    "        x_vals = df_cuid_grouped['x'].loc[df_cuid_grouped['track_id'] == track_ids[i]].values[0]\n",
    "        y_vals = df_cuid_grouped['y'].loc[df_cuid_grouped['track_id'] == track_ids[i]].values[0]    \n",
    "\n",
    "        if(str(i) in index_list):\n",
    "            plt.plot(x_vals, y_vals, color=colors[index_list.index(str(i))], linestyle='--', label=f'vehicle index #{i}', zorder=1000-i)\n",
    "            plt.legend()\n",
    "        else:\n",
    "            plt.plot(x_vals, y_vals, color='gray', linestyle='--', alpha=0.5, zorder=0)\n",
    "\n",
    "\n",
    "    indexes_higlighted = ''\n",
    "    for index in index_list:\n",
    "        indexes_higlighted = indexes_higlighted + '_' + index\n",
    "    \n",
    "    path = path_dir_save_imgs + f'/all_vehicle_paths_highlighted{indexes_higlighted}.jpg'\n",
    "    plt.savefig(path)\n",
    "    \n",
    "    # Clear the plot after finishing\n",
    "    plt.clf()\n",
    "\n",
    "    print('***All vehicle tracks rendered succesfully***')\n",
    "    print(f'***Saved in {path}***')"
   ]
  },
  {
   "cell_type": "code",
   "execution_count": null,
   "metadata": {},
   "outputs": [],
   "source": [
    "render_vehicle_tracks_highlight_tracks(df_k729_2022_cuid, df_k729_2022_cuid_grouped,['71'],'k729_2022' )"
   ]
  },
  {
   "cell_type": "code",
   "execution_count": null,
   "metadata": {},
   "outputs": [],
   "source": [
    "# highlight 87 and 38\n",
    "render_vehicle_tracks_highlight_tracks(df_k729_2022_cuid, df_k729_2022_cuid_grouped,['38', '87'],'k729_2022' )"
   ]
  },
  {
   "cell_type": "code",
   "execution_count": null,
   "metadata": {},
   "outputs": [],
   "source": [
    "render_vehicle_tracks_highlight_tracks(df_k729_2022_cuid, df_k729_2022_cuid_grouped,['38', '96'],'k729_2022' )"
   ]
  },
  {
   "cell_type": "code",
   "execution_count": null,
   "metadata": {},
   "outputs": [],
   "source": [
    "render_vehicle_tracks_highlight_tracks(df_k729_2022_cuid, df_k729_2022_cuid_grouped,['117', '136'],'k729_2022' )"
   ]
  },
  {
   "cell_type": "code",
   "execution_count": null,
   "metadata": {},
   "outputs": [],
   "source": [
    "render_vehicle_tracks_highlight_tracks(df_k729_2022_cuid, df_k729_2022_cuid_grouped,['10', '136'],'k729_2022' )"
   ]
  },
  {
   "cell_type": "code",
   "execution_count": null,
   "metadata": {},
   "outputs": [],
   "source": [
    "list_outliers=[str(x) for x in [2, 4, 9, 12, 17, 54, 69, 70, 124, 139]]\n",
    "render_vehicle_tracks_highlight_tracks(df_k729_2022_cuid, df_k729_2022_cuid_grouped,list_outliers,'k729_2022' )"
   ]
  },
  {
   "cell_type": "code",
   "execution_count": null,
   "metadata": {},
   "outputs": [],
   "source": [
    "for ind in list_outliers:\n",
    "    render_vehicle_tracks_highlight_tracks(df_k729_2022_cuid, df_k729_2022_cuid_grouped,[ind],'k729_2022' )"
   ]
  },
  {
   "cell_type": "code",
   "execution_count": null,
   "metadata": {},
   "outputs": [],
   "source": []
  }
 ],
 "metadata": {
  "kernelspec": {
   "display_name": "ba_thesis",
   "language": "python",
   "name": "python3"
  },
  "language_info": {
   "codemirror_mode": {
    "name": "ipython",
    "version": 3
   },
   "file_extension": ".py",
   "mimetype": "text/x-python",
   "name": "python",
   "nbconvert_exporter": "python",
   "pygments_lexer": "ipython3",
   "version": "3.12.2"
  }
 },
 "nbformat": 4,
 "nbformat_minor": 2
}
