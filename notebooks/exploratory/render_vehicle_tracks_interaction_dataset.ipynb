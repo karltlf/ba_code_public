{
 "cells": [
  {
   "cell_type": "code",
   "execution_count": null,
   "metadata": {},
   "outputs": [],
   "source": [
    "import pandas as pd\n",
    "import numpy as np\n",
    "import os\n",
    "from import_scripts.import_single_csv_as_dataframe import *\n",
    "from import_scripts.PATHS import *\n",
    "from importable_functions.render_vehicle_tracks import *"
   ]
  },
  {
   "cell_type": "code",
   "execution_count": null,
   "metadata": {},
   "outputs": [],
   "source": [
    "csv_path = 'INTERACTION-Dataset-DR-single-v1_2/test_single-agent/DR_CHN_Merging_ZS0_obs.csv'\n",
    "(df_single_CHN_ZSO,df_single_CHN_ZSO_grouped)  = import_single_csv_as_workable_dataframe(LOCAL_THESIS + csv_path,'case_id')"
   ]
  },
  {
   "cell_type": "code",
   "execution_count": null,
   "metadata": {},
   "outputs": [],
   "source": [
    "render_vehicle_tracks(df_single_CHN_ZSO, df_single_CHN_ZSO_grouped,'single_single_non_conditional_CHN_ZS0', False, 'all_vehicle_paths')"
   ]
  },
  {
   "cell_type": "code",
   "execution_count": null,
   "metadata": {},
   "outputs": [],
   "source": [
    "csv_path = 'INTERACTION-Dataset-DR-multi-v1_2/train/DR_DEU_Roundabout_OF_train.csv'\n",
    "path = LOCAL_THESIS + csv_path\n",
    "(df_train_DEU_roundabout, df_train_DEU_roundabout_grouped) = import_single_csv_as_workable_dataframe(path,'case_id')"
   ]
  },
  {
   "cell_type": "code",
   "execution_count": null,
   "metadata": {},
   "outputs": [],
   "source": [
    "render_vehicle_tracks(df_train_DEU_roundabout, df_train_DEU_roundabout_grouped,'train_DEU_roundabout', False, 'all_vehicle_paths')"
   ]
  },
  {
   "cell_type": "code",
   "execution_count": null,
   "metadata": {},
   "outputs": [],
   "source": [
    "render_vehicle_tracks(df_train_DEU_roundabout, df_train_DEU_roundabout_grouped,'train_DEU_roundabout', False, 'all_vehicle_paths')\n",
    "render_vehicle_tracks_highlight_tracks(df_train_DEU_roundabout, df_train_DEU_roundabout_grouped,['0','1','2','3','4','5'], intersection_name='train_DEU_roundabout',file_path='all_vehicle_paths', file_name='vehicle_tracks_highlighted')"
   ]
  },
  {
   "cell_type": "code",
   "execution_count": null,
   "metadata": {},
   "outputs": [],
   "source": []
  }
 ],
 "metadata": {
  "kernelspec": {
   "display_name": "ba_thesis",
   "language": "python",
   "name": "python3"
  },
  "language_info": {
   "codemirror_mode": {
    "name": "ipython",
    "version": 3
   },
   "file_extension": ".py",
   "mimetype": "text/x-python",
   "name": "python",
   "nbconvert_exporter": "python",
   "pygments_lexer": "ipython3",
   "version": "3.12.2"
  }
 },
 "nbformat": 4,
 "nbformat_minor": 2
}
