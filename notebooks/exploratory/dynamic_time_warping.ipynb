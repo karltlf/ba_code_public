{
 "cells": [
  {
   "cell_type": "code",
   "execution_count": 37,
   "metadata": {},
   "outputs": [],
   "source": [
    "from tslearn.metrics import dtw, dtw_path\n",
    "import pandas as pd\n",
    "import numpy as np\n",
    "import ast\n",
    "import matplotlib.pyplot as plt\n",
    "import os"
   ]
  },
  {
   "cell_type": "code",
   "execution_count": 38,
   "metadata": {},
   "outputs": [],
   "source": [
    "# create x,y coordinate vectors\n",
    "def get_x_y_tuple_list(df_cuid_grouped) -> list:\n",
    "    list_all_tuples = []\n",
    "    list_individual_tuples = []\n",
    "    for i in range(len(df_cuid_grouped['x'])):\n",
    "        for j in range(len(df_cuid_grouped['x'][i])): # iterate over all measurements for one track_id\n",
    "            list_item = [df_cuid_grouped['x'][i][j], df_cuid_grouped['y'][i][j]] # create x-y tuples for each measumerement point\n",
    "            list_individual_tuples.append(list_item) # add tuple to list for individual track_id\n",
    "        list_all_tuples.append(list_individual_tuples) # add tuple list to list for all track_ids\n",
    "        list_individual_tuples = []\n",
    "\n",
    "    return list_all_tuples"
   ]
  },
  {
   "cell_type": "code",
   "execution_count": 55,
   "metadata": {},
   "outputs": [],
   "source": [
    "# display tracks and compute their dtw distance measure\n",
    "def dtw_rendering(df_cuid:pd.DataFrame, df_cuid_grouped:pd.DataFrame, list_x_y_tuples:list, template_index:int=None, intersection_name:str='intersection not defined'):\n",
    "\n",
    "    if template_index == None:\n",
    "        index_min = df_cuid_grouped['track_id'].min()\n",
    "        index_max = df_cuid_grouped['track_id'].max()\n",
    "        template_index = int(input(f'Choose index between {index_min} and {index_max}'))\n",
    "\n",
    "    template = list_x_y_tuples[template_index]\n",
    "    template_x_vals = df_cuid_grouped['x'][template_index]\n",
    "    template_y_vals = df_cuid_grouped['y'][template_index]\n",
    "\n",
    "    min_x = df_cuid['x'].min()\n",
    "    max_x = df_cuid['x'].max()\n",
    "    min_y = df_cuid['y'].min()\n",
    "    max_y = df_cuid['y'].max()\n",
    "\n",
    "    plt.xlim(min_x, max_x)\n",
    "    plt.ylim(min_y, max_y)\n",
    "\n",
    "    path_dir_save_imgs = os.path.expanduser(f'~/Pictures/thesis/{intersection_name}/compared_to_index_{template_index}')\n",
    "\n",
    "    try:\n",
    "        os.makedirs(path_dir_save_imgs)\n",
    "    except:\n",
    "        print(f'directory {path_dir_save_imgs} already exists')\n",
    "\n",
    "    for i in range(len(list_x_y_tuples)):\n",
    "\n",
    "\n",
    "\n",
    "        if i == template_index:\n",
    "            continue\n",
    "\n",
    "        plt.xlim(min_x, max_x)\n",
    "        plt.ylim(min_y, max_y)\n",
    "\n",
    "        x_vals = df_cuid_grouped['x'][i]\n",
    "        y_vals = df_cuid_grouped['y'][i]\n",
    "\n",
    "        plt.plot(template_x_vals, template_y_vals, color='black', linestyle='--', label='Template line')\n",
    "        plt.plot(x_vals, y_vals, color='red', linestyle='--', label='Comparison line')\n",
    "\n",
    "        path, dist = dtw_path(template, list_x_y_tuples[i])\n",
    "\n",
    "        plt.title(f'DTW distance measure: {dist}')\n",
    "\n",
    "        plt.legend()\n",
    "\n",
    "        plt.suptitle(f'Intersection {intersection_name} vehicle path #{template_index} vs #{i}', fontweight=\"bold\")\n",
    "\n",
    "        plt.savefig(path_dir_save_imgs + f'/vehicle_path_dtw_comparison_{i}.jpg')\n",
    "\n",
    "        plt.clf()\n",
    "\n",
    "    print('*****DTW RENDERING SUCCESSFUL*****')\n",
    "    "
   ]
  },
  {
   "cell_type": "code",
   "execution_count": 49,
   "metadata": {},
   "outputs": [],
   "source": [
    "df_k729_2022_cuid = pd.read_csv('./datasets/k729_2022_cuid.csv')\n",
    "df_k729_2022_cuid_grouped = pd.read_csv('./datasets/k729_2022_cuid_grouped.csv')\n",
    "df_k729_2022_cuid_grouped['x'] = df_k729_2022_cuid_grouped['x'].apply(lambda x: ast.literal_eval(x))\n",
    "df_k729_2022_cuid_grouped['y'] = df_k729_2022_cuid_grouped['y'].apply(lambda y: ast.literal_eval(y))"
   ]
  },
  {
   "cell_type": "code",
   "execution_count": 57,
   "metadata": {},
   "outputs": [
    {
     "name": "stdout",
     "output_type": "stream",
     "text": [
      "*****DTW RENDERING SUCCESSFUL*****\n"
     ]
    },
    {
     "data": {
      "text/plain": [
       "<Figure size 640x480 with 0 Axes>"
      ]
     },
     "metadata": {},
     "output_type": "display_data"
    }
   ],
   "source": [
    "list_k729_2022_x_y_tuples = get_x_y_tuple_list(df_k729_2022_cuid_grouped)\n",
    "dtw_rendering(df_k729_2022_cuid, df_k729_2022_cuid_grouped, list_k729_2022_x_y_tuples, 19, 'k729_2022')"
   ]
  },
  {
   "cell_type": "code",
   "execution_count": null,
   "metadata": {},
   "outputs": [],
   "source": [
    "print(f'# observations index 0: {len(list_k729_2022_x_y_tuples[0])}')\n",
    "print(f'# observations index 0: {len(list_k729_2022_x_y_tuples[0])}')"
   ]
  },
  {
   "cell_type": "code",
   "execution_count": 51,
   "metadata": {},
   "outputs": [
    {
     "name": "stdout",
     "output_type": "stream",
     "text": [
      "*****DTW RENDERING SUCCESSFUL*****\n"
     ]
    },
    {
     "data": {
      "text/plain": [
       "<Figure size 640x480 with 0 Axes>"
      ]
     },
     "metadata": {},
     "output_type": "display_data"
    }
   ],
   "source": [
    "df_k733_2020_cuid = pd.read_csv('./datasets/k733_2020_cuid.csv')\n",
    "df_k733_2020_cuid_grouped = pd.read_csv('./datasets/k733_2020_cuid_grouped.csv')\n",
    "df_k733_2020_cuid_grouped['x'] = df_k733_2020_cuid_grouped['x'].apply(lambda x: ast.literal_eval(x))\n",
    "df_k733_2020_cuid_grouped['y'] = df_k733_2020_cuid_grouped['y'].apply(lambda y: ast.literal_eval(y))\n",
    "list_k733_2020_x_y_tuples = get_x_y_tuple_list(df_k733_2020_cuid_grouped)\n",
    "dtw_rendering(df_k733_2020_cuid, df_k733_2020_cuid_grouped,list_k733_2020_x_y_tuples,intersection_name='k733_2020')"
   ]
  },
  {
   "cell_type": "code",
   "execution_count": 53,
   "metadata": {},
   "outputs": [
    {
     "name": "stdout",
     "output_type": "stream",
     "text": [
      "*****DTW RENDERING SUCCESSFUL*****\n"
     ]
    },
    {
     "data": {
      "text/plain": [
       "<Figure size 640x480 with 0 Axes>"
      ]
     },
     "metadata": {},
     "output_type": "display_data"
    }
   ],
   "source": [
    "df_k733_2018_cuid = pd.read_csv('./datasets/k733_2018_cuid.csv')\n",
    "df_k733_2018_cuid_grouped = pd.read_csv('./datasets/k733_2018_cuid_grouped.csv')\n",
    "df_k733_2018_cuid_grouped['x'] = df_k733_2018_cuid_grouped['x'].apply(lambda x: ast.literal_eval(x))\n",
    "df_k733_2018_cuid_grouped['y'] = df_k733_2018_cuid_grouped['y'].apply(lambda y: ast.literal_eval(y))\n",
    "list_k733_2018_x_y_tuples = get_x_y_tuple_list(df_k733_2018_cuid_grouped)\n",
    "dtw_rendering(df_k733_2018_cuid, df_k733_2018_cuid_grouped,list_k733_2018_x_y_tuples,intersection_name='k733_2018')"
   ]
  },
  {
   "cell_type": "code",
   "execution_count": 58,
   "metadata": {},
   "outputs": [
    {
     "name": "stdout",
     "output_type": "stream",
     "text": [
      "*****DTW RENDERING SUCCESSFUL*****\n"
     ]
    },
    {
     "data": {
      "text/plain": [
       "<Figure size 640x480 with 0 Axes>"
      ]
     },
     "metadata": {},
     "output_type": "display_data"
    }
   ],
   "source": [
    "dtw_rendering(df_k729_2022_cuid, df_k729_2022_cuid_grouped, list_k729_2022_x_y_tuples, 117, 'k729_2022') # check 70"
   ]
  },
  {
   "cell_type": "code",
   "execution_count": 59,
   "metadata": {},
   "outputs": [
    {
     "name": "stdout",
     "output_type": "stream",
     "text": [
      "*****DTW RENDERING SUCCESSFUL*****\n"
     ]
    },
    {
     "data": {
      "text/plain": [
       "<Figure size 640x480 with 0 Axes>"
      ]
     },
     "metadata": {},
     "output_type": "display_data"
    }
   ],
   "source": [
    "dtw_rendering(df_k729_2022_cuid, df_k729_2022_cuid_grouped, list_k729_2022_x_y_tuples, 71, 'k729_2022') # check 70"
   ]
  },
  {
   "cell_type": "code",
   "execution_count": 60,
   "metadata": {},
   "outputs": [
    {
     "name": "stdout",
     "output_type": "stream",
     "text": [
      "*****DTW RENDERING SUCCESSFUL*****\n"
     ]
    },
    {
     "data": {
      "text/plain": [
       "<Figure size 640x480 with 0 Axes>"
      ]
     },
     "metadata": {},
     "output_type": "display_data"
    }
   ],
   "source": [
    "dtw_rendering(df_k729_2022_cuid, df_k729_2022_cuid_grouped, list_k729_2022_x_y_tuples, 38, 'k729_2022') # check 70"
   ]
  },
  {
   "cell_type": "code",
   "execution_count": 61,
   "metadata": {},
   "outputs": [
    {
     "name": "stdout",
     "output_type": "stream",
     "text": [
      "*****DTW RENDERING SUCCESSFUL*****\n"
     ]
    },
    {
     "data": {
      "text/plain": [
       "<Figure size 640x480 with 0 Axes>"
      ]
     },
     "metadata": {},
     "output_type": "display_data"
    }
   ],
   "source": [
    "dtw_rendering(df_k729_2022_cuid, df_k729_2022_cuid_grouped, list_k729_2022_x_y_tuples, 136, 'k729_2022') # check 70"
   ]
  },
  {
   "cell_type": "code",
   "execution_count": null,
   "metadata": {},
   "outputs": [],
   "source": []
  }
 ],
 "metadata": {
  "kernelspec": {
   "display_name": "ba_thesis",
   "language": "python",
   "name": "python3"
  },
  "language_info": {
   "codemirror_mode": {
    "name": "ipython",
    "version": 3
   },
   "file_extension": ".py",
   "mimetype": "text/x-python",
   "name": "python",
   "nbconvert_exporter": "python",
   "pygments_lexer": "ipython3",
   "version": "3.12.2"
  }
 },
 "nbformat": 4,
 "nbformat_minor": 2
}
