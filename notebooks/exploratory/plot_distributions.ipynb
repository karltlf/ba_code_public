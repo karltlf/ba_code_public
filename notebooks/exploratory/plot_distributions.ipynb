{
 "cells": [
  {
   "cell_type": "code",
   "execution_count": null,
   "metadata": {},
   "outputs": [],
   "source": [
    "import matplotlib.pyplot as plt\n",
    "import numpy as np\n",
    "import pandas as pd\n",
    "import ast"
   ]
  },
  {
   "cell_type": "code",
   "execution_count": null,
   "metadata": {},
   "outputs": [],
   "source": [
    "df_k729_2022_cuid = pd.read_csv('./datasets/k729_2022_cuid.csv')\n",
    "df_k729_2022_cuid_grouped = pd.read_csv('./datasets/k729_2022_cuid_grouped.csv')"
   ]
  },
  {
   "cell_type": "code",
   "execution_count": null,
   "metadata": {},
   "outputs": [],
   "source": [
    "\n",
    "n_bins = 100\n",
    "\n",
    "\n",
    "x_k729_2022 = df_k729_2022_cuid['x']\n",
    "y_k729_2022 = df_k729_2022_cuid['y']\n",
    "\n",
    "fig, axs = plt.subplots(1, 2)\n",
    "fig.suptitle('Intersection k729 x and y values')\n",
    "\n",
    "axs[0].hist(x_k729_2022, bins=n_bins)\n",
    "axs[0].set_title(\"x histogram\")\n",
    "axs[1].hist(y_k729_2022, bins=n_bins)\n",
    "axs[1].set_title('y histogram')\n",
    "\n",
    "plt.show()"
   ]
  },
  {
   "cell_type": "code",
   "execution_count": null,
   "metadata": {},
   "outputs": [],
   "source": [
    "n_bins = 100\n",
    "\n",
    "\n",
    "vx_k729_2022 = df_k729_2022_cuid['vx']\n",
    "vy_k729_2022 = df_k729_2022_cuid['vy']\n",
    "\n",
    "fig, axs = plt.subplots(1, 2)\n",
    "fig.suptitle('Intersection k729 vx and vy values')\n",
    "\n",
    "axs[0].hist(vx_k729_2022, bins=n_bins)\n",
    "axs[0].set_title(\"vx histogram\")\n",
    "axs[1].hist(vy_k729_2022, bins=n_bins)\n",
    "axs[1].set_title('vy histogram')\n",
    "\n",
    "plt.show()"
   ]
  },
  {
   "cell_type": "code",
   "execution_count": null,
   "metadata": {},
   "outputs": [],
   "source": [
    "df_k729_2022_cuid_grouped = pd.read_csv('./datasets/k729_2022_cuid_grouped.csv')\n",
    "print(df_k729_2022_cuid_grouped['x'].dtype)\n",
    "df_k729_2022_cuid_grouped['x'] = df_k729_2022_cuid_grouped['x'].apply(lambda x: ast.literal_eval(x))\n",
    "df_k729_2022_cuid_grouped['y'] = df_k729_2022_cuid_grouped['y'].apply(lambda y: ast.literal_eval(y))\n",
    "print(df_k729_2022_cuid_grouped['x'].dtype)\n",
    "print(df_k729_2022_cuid_grouped['y'].dtype)\n",
    "\n",
    "df_k729_2022_cuid = pd.read_csv('./datasets/k729_2022_cuid.csv')\n",
    "x_k729_2022 = df_k729_2022_cuid['x']\n",
    "y_k729_2022 = df_k729_2022_cuid['y']"
   ]
  },
  {
   "cell_type": "code",
   "execution_count": null,
   "metadata": {},
   "outputs": [],
   "source": [
    "\n",
    "min_x = x_k729_2022.min()\n",
    "max_x = x_k729_2022.max()\n",
    "\n",
    "min_y = y_k729_2022.min()\n",
    "max_y = y_k729_2022.max()\n",
    "\n",
    "colors = ['#1f77b4',  # Blue\n",
    "          '#ff7f0e',  # Orange\n",
    "          '#2ca02c',  # Green\n",
    "          '#d62728',  # Red\n",
    "          '#9467bd',  # Purple\n",
    "          '#8c564b',  # Brown\n",
    "          '#e377c2',  # Pink\n",
    "          '#7f7f7f',  # Gray\n",
    "          '#bcbd22',  # Olive\n",
    "          '#17becf']  # Cyan\n",
    "\n",
    "# Set limits for the plot\n",
    "plt.xlim(min_x, max_x)\n",
    "plt.ylim(min_y, max_y)\n",
    "\n",
    "# List of all track IDs\n",
    "track_ids = df_k729_2022_cuid_grouped['track_id'].unique()\n",
    "\n",
    "for i in range(len(track_ids)):\n",
    "# for i in range(10):\n",
    "\n",
    "    x_vals = df_k729_2022_cuid_grouped['x'].loc[df_k729_2022_cuid_grouped['track_id'] == track_ids[i]].values[0]\n",
    "    y_vals = df_k729_2022_cuid_grouped['y'].loc[df_k729_2022_cuid_grouped['track_id'] == track_ids[i]].values[0]\n",
    "\n",
    "    plot_col = ''\n",
    "    if i<10:\n",
    "        plot_col =  colors[i]\n",
    "    else: \n",
    "        plot_col = 'gray'  \n",
    "    \n",
    "\n",
    "    plt.plot(x_vals, y_vals, color=plot_col, linestyle=':') # highlight current line\n",
    "\n",
    "    plt.title(f'#{i} Vehicle path for intersection k729_grouped')\n",
    "    \n",
    "\n"
   ]
  },
  {
   "cell_type": "code",
   "execution_count": null,
   "metadata": {},
   "outputs": [],
   "source": [
    "## DATA ANALYSIS\n",
    "\n",
    "# MEAN PATH LENGTH IN VALUES IN LIST\n",
    "x_list_lengths = df_k729_2022_cuid_grouped['x'].apply(lambda x: len(x)).tolist()\n",
    "y_list_lengths = df_k729_2022_cuid_grouped['y'].apply(lambda y: len(y)).tolist()\n",
    "plt.hist(x_list_lengths, bins=100)\n",
    "plt.suptitle('# of observations per vehicle, intersection k729_2022')\n",
    "plt.show()\n"
   ]
  },
  {
   "cell_type": "code",
   "execution_count": null,
   "metadata": {},
   "outputs": [],
   "source": [
    "plt.xlim(0,100)\n",
    "plt.hist(y_list_lengths, bins=100)\n",
    "plt.show()"
   ]
  },
  {
   "cell_type": "code",
   "execution_count": null,
   "metadata": {},
   "outputs": [],
   "source": [
    "sus_tid = [i for i in range(len(x_list_lengths)) if x_list_lengths[i] > 100]\n",
    "sus_tid"
   ]
  },
  {
   "cell_type": "code",
   "execution_count": null,
   "metadata": {},
   "outputs": [],
   "source": [
    "\n",
    "# Set limits for the plot\n",
    "plt.xlim(min_x, max_x)\n",
    "plt.ylim(min_y, max_y)\n",
    "\n",
    "# List of all track IDs\n",
    "\n",
    "for i in range(len(sus_tid)):\n",
    "# for i in range(10):\n",
    "\n",
    "    x_vals = df_k729_2022_cuid_grouped['x'].loc[df_k729_2022_cuid_grouped['track_id'] == sus_tid[i]].values[0]\n",
    "    y_vals = df_k729_2022_cuid_grouped['y'].loc[df_k729_2022_cuid_grouped['track_id'] == sus_tid[i]].values[0]\n",
    "\n",
    "    \n",
    "\n",
    "    plt.plot(x_vals, y_vals, color='gray', linestyle=':') # highlight current line\n",
    "\n",
    "    plt.title(f'#{sus_tid[i]} Vehicle path for intersection k729_grouped')\n",
    "\n",
    "plt.show()\n",
    "    \n",
    "\n"
   ]
  },
  {
   "cell_type": "code",
   "execution_count": null,
   "metadata": {},
   "outputs": [],
   "source": []
  }
 ],
 "metadata": {
  "kernelspec": {
   "display_name": "ba_thesis",
   "language": "python",
   "name": "python3"
  },
  "language_info": {
   "codemirror_mode": {
    "name": "ipython",
    "version": 3
   },
   "file_extension": ".py",
   "mimetype": "text/x-python",
   "name": "python",
   "nbconvert_exporter": "python",
   "pygments_lexer": "ipython3",
   "version": "3.12.4"
  }
 },
 "nbformat": 4,
 "nbformat_minor": 2
}
