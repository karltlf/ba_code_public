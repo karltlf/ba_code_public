{
 "cells": [
  {
   "cell_type": "code",
   "execution_count": null,
   "metadata": {},
   "outputs": [],
   "source": [
    "import os\n",
    "import sys\n",
    "current_dir = os.getcwd()\n",
    "parent_parent_dir = os.path.abspath(os.path.join(current_dir, '../..')) # tweak so that you get dir of code project\n",
    "\n",
    "sys.path.append(parent_parent_dir)"
   ]
  },
  {
   "cell_type": "code",
   "execution_count": null,
   "metadata": {},
   "outputs": [],
   "source": [
    "import numpy as np\n",
    "import pandas as pd\n",
    "import ast\n",
    "from sklearn.cluster import OPTICS\n",
    "from src.features.get_first_and_last_x_y_coordinates import get_first_and_last_x_y_coordinates\n",
    "from src.features.get_x_y_tuples import get_x_y_tuple_list\n",
    "%matplotlib qt5"
   ]
  },
  {
   "cell_type": "code",
   "execution_count": null,
   "metadata": {},
   "outputs": [],
   "source": [
    "# to access while testing\n",
    "intersection_name = 'k729_2022'\n",
    "data_path = f'{parent_parent_dir}/data/processed/{intersection_name}_cuid.csv'\n",
    "\n",
    "df_cuid = pd.read_csv(data_path)\n",
    "df_cuid_grouped_path = data_path.replace('.csv', '_grouped.csv')\n",
    "df_cuid_grouped = pd.read_csv(df_cuid_grouped_path)\n",
    "df_cuid_grouped['x'] = df_cuid_grouped['x'].apply(lambda x: ast.literal_eval(x))\n",
    "df_cuid_grouped['y'] = df_cuid_grouped['y'].apply(lambda y: ast.literal_eval(y))\n",
    "list_x_y_tuples = get_x_y_tuple_list(df_cuid_grouped, ['x','y'])\n",
    "first_last_x_coords, first_last_y_coords = get_first_and_last_x_y_coordinates(list_x_y_tuples)\n",
    "X = np.array([first_last_x_coords, first_last_y_coords]).T"
   ]
  },
  {
   "cell_type": "code",
   "execution_count": null,
   "metadata": {},
   "outputs": [],
   "source": [
    "# create dtw matrices with differing itakura parallelogram constraints\n",
    "from src.data.create_diff_itakura_slope_dtw_matrices_parallelized import create_diff_itakura_slope_dtw_matrices_parallelized\n",
    "\n",
    "dtw_metrics_no_add_params = ['euclidean', 'sqeuclidean', 'chebyshev', 'manhattan']\n",
    "itakura_max_slope_range = np.arange(1, 5.1, 0.1)\n",
    "\n",
    "results, dtw_matrix_dict = create_diff_itakura_slope_dtw_matrices_parallelized(list_x_y_tuples, dtw_metrics_no_add_params, itakura_max_slope_range, results_file_path=f'{parent_parent_dir}/data/processed/{intersection_name}_diff_itakura_slope_dtw_matrices.json')\n"
   ]
  },
  {
   "cell_type": "code",
   "execution_count": null,
   "metadata": {},
   "outputs": [],
   "source": []
  }
 ],
 "metadata": {
  "kernelspec": {
   "display_name": "ba_thesis",
   "language": "python",
   "name": "python3"
  },
  "language_info": {
   "codemirror_mode": {
    "name": "ipython",
    "version": 3
   },
   "file_extension": ".py",
   "mimetype": "text/x-python",
   "name": "python",
   "nbconvert_exporter": "python",
   "pygments_lexer": "ipython3",
   "version": "3.12.2"
  }
 },
 "nbformat": 4,
 "nbformat_minor": 2
}
