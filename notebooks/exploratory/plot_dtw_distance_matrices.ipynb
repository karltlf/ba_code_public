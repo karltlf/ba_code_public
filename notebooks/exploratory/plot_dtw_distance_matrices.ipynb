{
 "cells": [
  {
   "cell_type": "code",
   "execution_count": null,
   "metadata": {},
   "outputs": [],
   "source": [
    "import os\n",
    "import sys\n",
    "import matplotlib.pyplot as plt\n",
    "current_dir = os.getcwd()\n",
    "parent_parent_dir = os.path.abspath(os.path.join(current_dir, '../..')) # tweak so that you get dir of code project\n",
    "\n",
    "sys.path.append(parent_parent_dir)"
   ]
  },
  {
   "cell_type": "code",
   "execution_count": null,
   "metadata": {},
   "outputs": [],
   "source": [
    "import json\n",
    "import numpy as np\n",
    "import pandas as pd\n",
    "import ast\n",
    "import seaborn as sns\n",
    "%matplotlib inline"
   ]
  },
  {
   "cell_type": "code",
   "execution_count": null,
   "metadata": {},
   "outputs": [],
   "source": [
    "from src.models.optics.get_clusters_from_optics_labels import get_clusters_from_optics_labels\n",
    "from src.visualization.render_vehicle_track_cluster_in_notebook import render_vehicle_track_cluster_in_notebook\n",
    "\n",
    "def plot_dtw_distance_matrix_heatmap(intersection_name, params_uid=None):\n",
    "\n",
    "    print(f'NORMAL {intersection_name}')\n",
    "\n",
    "    # get data\n",
    "    data_path = f'{parent_parent_dir}/data/processed/{intersection_name}_cuid.csv'\n",
    "    df_cuid = pd.read_csv(data_path)\n",
    "    df_cuid_grouped_path = data_path.replace('.csv', '_grouped.csv')\n",
    "    df_cuid_grouped = pd.read_csv(df_cuid_grouped_path)\n",
    "    df_cuid_grouped['x'] = df_cuid_grouped['x'].apply(lambda x: ast.literal_eval(x))\n",
    "    df_cuid_grouped['y'] = df_cuid_grouped['y'].apply(lambda y: ast.literal_eval(y))\n",
    "\n",
    "\n",
    "    def get_optics_params_from_metric(optics_params, metric):\n",
    "        optics_params = optics_params[metric]\n",
    "        dtw_dist_matrix_key = optics_params['dtw_key']\n",
    "        max_eps = optics_params['epsilon']\n",
    "        min_samples = optics_params['min_samples']\n",
    "        cluster_method = optics_params['cluster_method']\n",
    "        xi = optics_params['xi']\n",
    "        kwargs = {\n",
    "            'max_eps': max_eps,\n",
    "            'min_samples': min_samples,\n",
    "            'cluster_method': cluster_method,\n",
    "            'xi': xi\n",
    "        }\n",
    "        filtered_kwargs = {k: v for k, v in kwargs.items() if v is not None}\n",
    "        return dtw_dist_matrix_key, filtered_kwargs\n",
    "    \n",
    "    # check for params uid \n",
    "    if params_uid is not None:\n",
    "        opt_params_path = f'{parent_parent_dir}/data/processed/{intersection_name}_optics_vehicle_paths_optimized_params_{params_uid}.json'\n",
    "    else:\n",
    "        opt_params_path = f'{parent_parent_dir}/data/processed/{intersection_name}_optics_vehicle_paths_optimized_params.json'\n",
    "    with open(opt_params_path, 'r') as f:\n",
    "        optics_params = json.load(f)\n",
    "\n",
    "    # define optics params, dtw distance matrix key\n",
    "    dtw_key_silhouette, kwargs_silhouette = get_optics_params_from_metric(optics_params, 'silhouette')\n",
    "    dtw_key_davies_bouldin, kwargs_davies_bouldin = get_optics_params_from_metric(optics_params, 'davies_bouldin')\n",
    "    dtw_key_calinski_harabasz, kwargs_calinski_harabasz = get_optics_params_from_metric(optics_params, 'calinski_harabasz')\n",
    "\n",
    "    # import dtw distance matrix\n",
    "    dtw_distance_matrix_path = f'{parent_parent_dir}/data/processed/{intersection_name}_diff_itakura_slope_dtw_matrices.json'\n",
    "    with open(dtw_distance_matrix_path) as f:\n",
    "        dtw_distance_matrix = json.load(f)\n",
    "\n",
    "    # get the distance matrix\n",
    "    dtw_dist_matrix_silhouette = dtw_distance_matrix[dtw_key_silhouette]\n",
    "    dtw_dist_matrix_davies_bouldin = dtw_distance_matrix[dtw_key_davies_bouldin]\n",
    "    dtw_dist_matrix_calinski_harabasz = dtw_distance_matrix[dtw_key_calinski_harabasz]\n",
    "    print(f'Silhouette Distance Matrix: {dtw_dist_matrix_silhouette}')\n",
    "    print(f'Davies Bouldin Distance Matrix: {dtw_dist_matrix_davies_bouldin}')\n",
    "    print(f'Calinski Harabasz Distance Matrix: {dtw_dist_matrix_calinski_harabasz}')\n",
    "    \n",
    "\n",
    "    # plot models next to each other\n",
    "    fig, axs = plt.subplots(1, 3, figsize=(30,10))\n",
    "    fig.suptitle(f'Intersection: {intersection_name}')\n",
    "\n",
    "    # Plot the matrix on the provided Axes object using imshow\n",
    "    dtw_dist_matrix_silhouette = np.array(dtw_dist_matrix_silhouette)\n",
    "    dtw_dist_matrix_calinski_harabasz = np.array(dtw_dist_matrix_calinski_harabasz)\n",
    "    dtw_dist_matrix_davies_bouldin = np.array(dtw_dist_matrix_davies_bouldin)\n",
    "    np.fill_diagonal(dtw_dist_matrix_silhouette, np.nan)\n",
    "    np.fill_diagonal(dtw_dist_matrix_calinski_harabasz, np.nan)\n",
    "    np.fill_diagonal(dtw_dist_matrix_davies_bouldin, np.nan)\n",
    "    cax = axs[0].imshow(dtw_dist_matrix_silhouette, cmap='coolwarm', vmin=0, vmax=500)\n",
    "    fig.colorbar(cax, ax=axs[0])\n",
    "    cax = axs[1].imshow(dtw_dist_matrix_davies_bouldin, cmap='coolwarm', vmin=0, vmax=500)\n",
    "    fig.colorbar(cax, ax=axs[1])\n",
    "    cax = axs[2].imshow(dtw_dist_matrix_calinski_harabasz, cmap='coolwarm', vmin=0, vmax=500)\n",
    "    fig.colorbar(cax, ax=axs[2])\n",
    "\n",
    "    dtw_dist_matrices_keys = [dtw_key_silhouette, dtw_key_davies_bouldin, dtw_key_calinski_harabasz]\n",
    "    for i, optics_eval_metric_key in enumerate(['silhouette', 'davies_bouldin', 'calinski_harabasz']):\n",
    "        axs[i].set_title(f'{optics_eval_metric_key}' + '\\n' + f'{dtw_dist_matrices_keys[i]}' + '\\n' + f'{params_uid if params_uid is not None else \"\"}')"
   ]
  },
  {
   "cell_type": "code",
   "execution_count": null,
   "metadata": {},
   "outputs": [],
   "source": [
    "# define intersectoin names\n",
    "intersection_names = ['k729_2022', 'k733_2020', 'k733_2018']"
   ]
  },
  {
   "cell_type": "code",
   "execution_count": null,
   "metadata": {},
   "outputs": [],
   "source": [
    "for intersection_name in intersection_names:\n",
    "    plot_dtw_distance_matrix_heatmap(intersection_name)"
   ]
  },
  {
   "cell_type": "code",
   "execution_count": null,
   "metadata": {},
   "outputs": [],
   "source": [
    "# choose 5 random dtw distance matrices to plot\n",
    "intersection_name = 'k729_2022'\n",
    "dtw_distance_matrix_path = f'{parent_parent_dir}/data/processed/{intersection_name}_diff_itakura_slope_dtw_matrices.json'\n",
    "with open(dtw_distance_matrix_path) as f:\n",
    "    dtw_distance_matrix = json.load(f)\n",
    "\n",
    "dtw_keys = list(dtw_distance_matrix.keys())\n",
    "dtw_keys = np.random.choice(dtw_keys, 5)\n",
    "# plot models next to each other\n",
    "fig, axs = plt.subplots(2, 3, figsize=(30,10))\n",
    "fig.suptitle(f'Intersection: {intersection_name}')\n",
    "\n",
    "for i, dtw_key in enumerate(dtw_keys):\n",
    "    dtw_dist_matrix = np.array(dtw_distance_matrix[dtw_key])\n",
    "    np.fill_diagonal(dtw_dist_matrix, np.nan)\n",
    "    cax = axs[i//3, i%3].imshow(dtw_dist_matrix, cmap='coolwarm', vmin=0, vmax=500)\n",
    "    fig.colorbar(cax, ax=axs[i//3, i%3])\n",
    "    axs[i//3, i%3].set_title(f'{dtw_key}')"
   ]
  },
  {
   "cell_type": "code",
   "execution_count": null,
   "metadata": {},
   "outputs": [],
   "source": []
  }
 ],
 "metadata": {
  "kernelspec": {
   "display_name": "ba_thesis",
   "language": "python",
   "name": "python3"
  },
  "language_info": {
   "codemirror_mode": {
    "name": "ipython",
    "version": 3
   },
   "file_extension": ".py",
   "mimetype": "text/x-python",
   "name": "python",
   "nbconvert_exporter": "python",
   "pygments_lexer": "ipython3",
   "version": "3.12.2"
  }
 },
 "nbformat": 4,
 "nbformat_minor": 2
}
