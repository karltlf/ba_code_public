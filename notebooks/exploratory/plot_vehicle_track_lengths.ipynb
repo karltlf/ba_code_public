{
 "cells": [
  {
   "cell_type": "code",
   "execution_count": null,
   "metadata": {},
   "outputs": [],
   "source": [
    "# PASTE THIS TO THE FIRST CELL OF THE NOTEBOOK IN ORDER TO HAVE WORKING IMPORTS\n",
    "import sys\n",
    "import os\n",
    "current_dir = os.getcwd()\n",
    "parent_parent_dir = os.path.abspath(os.path.join(current_dir, '../..')) # tweak so that you get dir of code project\n",
    "\n",
    "sys.path.append(parent_parent_dir)\n",
    "print(f\"Added {parent_parent_dir} to sys.path\")"
   ]
  },
  {
   "cell_type": "code",
   "execution_count": null,
   "metadata": {},
   "outputs": [],
   "source": [
    "from sklearn.cluster import OPTICS\n",
    "import numpy as np\n",
    "import pandas as pd\n",
    "import ast\n",
    "import matplotlib.pyplot as plt"
   ]
  },
  {
   "cell_type": "markdown",
   "metadata": {},
   "source": [
    "## data import"
   ]
  },
  {
   "cell_type": "code",
   "execution_count": null,
   "metadata": {},
   "outputs": [],
   "source": [
    "from src.features.get_x_y_tuples import get_x_y_tuple_list\n",
    "from src.features.get_first_and_last_x_y_coordinates import get_first_and_last_x_y_coordinates \n",
    "from src.features.get_first_x_y_coordinates import get_first_x_y_coordinates\n",
    "from src.features.get_last_x_y_coordinates import get_last_x_y_coordinates\n",
    "def import_data(df_path):\n",
    "    df_cuid = pd.read_csv(df_path)\n",
    "    df_cuid_grouped_path = df_path.replace('.csv', '_grouped.csv')\n",
    "    df_cuid_grouped = pd.read_csv(df_cuid_grouped_path)\n",
    "    # 1.1 CONVERT FEATURES TO NUMBERS\n",
    "    df_cuid_grouped['x'] = df_cuid_grouped['x'].apply(lambda x: ast.literal_eval(x))\n",
    "    df_cuid_grouped['y'] = df_cuid_grouped['y'].apply(lambda y: ast.literal_eval(y))\n",
    "    list_x_y_tuples = get_x_y_tuple_list(df_cuid_grouped, ['x','y'])\n",
    "    first_last_x_coords, first_last_y_coords = get_first_and_last_x_y_coordinates(list_x_y_tuples)\n",
    "    X = np.array([first_last_x_coords, first_last_y_coords]).T\n",
    "\n",
    "    first_x_coords, first_y_coords = get_first_x_y_coordinates(list_x_y_tuples)\n",
    "    first_coordinates = np.array([first_x_coords, first_y_coords]).T\n",
    "\n",
    "    last_x_coords, last_y_coords = get_last_x_y_coordinates(list_x_y_tuples)\n",
    "    last_coordinates = np.array([last_x_coords, last_y_coords]).T\n",
    "    return df_cuid, df_cuid_grouped, X, first_coordinates, last_coordinates, list_x_y_tuples\n",
    "        "
   ]
  },
  {
   "cell_type": "code",
   "execution_count": null,
   "metadata": {},
   "outputs": [],
   "source": [
    "df_path_k729_2022 = f'{parent_parent_dir}/data/processed/k729_2022_cuid.csv'\n",
    "df_path_k733_2020 = f'{parent_parent_dir}/data/processed/k733_2020_cuid.csv'\n",
    "df_path_k733_2018 = f'{parent_parent_dir}/data/processed/k733_2018_cuid.csv'\n",
    "\n",
    "df_cuid_k729_2022, df_cuid_grouped_k729_2022, X_k729_2022, first_coordinates_k729_2022, last_coordinates_k729_2022, list_xy_tuples_k729_2022 = import_data(df_path_k729_2022)\n",
    "df_cuid_k733_2020, df_cuid_grouped_k733_2020, X_k733_2020, first_coordinates_k733_2020, last_coordinates_k733_2020, list_xy_tuples_k733_2020 = import_data(df_path_k733_2020)\n",
    "df_cuid_k733_2018, df_cuid_grouped_k733_2018, X_k733_2018, first_coordinates_k733_2018, last_coordinates_k733_2018, list_xy_tuples_k733_2018 = import_data(df_path_k733_2018)"
   ]
  },
  {
   "cell_type": "code",
   "execution_count": null,
   "metadata": {},
   "outputs": [],
   "source": [
    "import math\n",
    "\n",
    "def calculate_path_lengths(data_structure):\n",
    "    \"\"\"\n",
    "    This function calculates the total length of each path in the given data structure.\n",
    "    \n",
    "    Parameters:\n",
    "    data_structure (list of lists): A list where each element is a sublist containing [x, y] coordinates.\n",
    "    \n",
    "    Returns:\n",
    "    list: A list of floats representing the length of each path.\n",
    "    \"\"\"\n",
    "    path_lengths = []\n",
    "    \n",
    "    for path in data_structure:\n",
    "        total_length = 0\n",
    "        # Iterate over consecutive points in the path\n",
    "        for i in range(1, len(path)):\n",
    "            x1, y1 = path[i - 1]\n",
    "            x2, y2 = path[i]\n",
    "            # Calculate Euclidean distance between consecutive points\n",
    "            distance = math.sqrt((x2 - x1)**2 + (y2 - y1)**2)\n",
    "            total_length += distance\n",
    "        path_lengths.append(total_length)\n",
    "    \n",
    "    return path_lengths"
   ]
  },
  {
   "cell_type": "code",
   "execution_count": null,
   "metadata": {},
   "outputs": [],
   "source": [
    "path_lengths_k729_2022 = calculate_path_lengths(list_xy_tuples_k729_2022)\n",
    "path_lengths_k733_2020 = calculate_path_lengths(list_xy_tuples_k733_2020)\n",
    "path_lengths_k733_2018 = calculate_path_lengths(list_xy_tuples_k733_2018)"
   ]
  },
  {
   "cell_type": "code",
   "execution_count": null,
   "metadata": {},
   "outputs": [],
   "source": [
    "plt.hist(path_lengths_k729_2022, bins=50, alpha=0.5, label='k729_2022')"
   ]
  },
  {
   "cell_type": "code",
   "execution_count": null,
   "metadata": {},
   "outputs": [],
   "source": [
    "# get indices of paths shorter than i\n",
    "i = 20\n",
    "indices_short_paths = [index for index, path_length in enumerate(path_lengths_k729_2022) if path_length < i]\n",
    "print(f'Number of paths shorter than {i}: {len(indices_short_paths)}')\n",
    "# filter dataframe for indices\n",
    "df_cuid_grouped_k729_2022_short_paths = df_cuid_grouped_k729_2022.iloc[indices_short_paths]\n",
    "# plot short paths\n",
    "from src.visualization.plot_vehicle_tracks_in_notebook import plot_vehicle_tracks_in_notebook\n",
    "plot_vehicle_tracks_in_notebook(plt.gca(), df_cuid_k729_2022, df_cuid_grouped_k729_2022_short_paths, 'k729_2022_short_paths')"
   ]
  },
  {
   "cell_type": "code",
   "execution_count": null,
   "metadata": {},
   "outputs": [],
   "source": [
    "# get indices of paths shorter than i\n",
    "plt.cla()\n",
    "plt.clf()\n",
    "i = 10\n",
    "indices_short_paths = [index for index, path_length in enumerate(path_lengths_k729_2022) if path_length < i]\n",
    "print(f'Number of paths shorter than {i}: {len(indices_short_paths)}')\n",
    "# filter dataframe for indices\n",
    "df_cuid_grouped_k729_2022_short_paths = df_cuid_grouped_k729_2022.iloc[indices_short_paths]\n",
    "# plot short paths\n",
    "from src.visualization.plot_vehicle_tracks_in_notebook import plot_vehicle_tracks_in_notebook\n",
    "from src.features.get_global_dataframe_limits import get_global_dataframe_limits\n",
    "plot_vehicle_tracks_in_notebook(plt.gca(), df_cuid_k729_2022, df_cuid_grouped_k729_2022_short_paths, f'paths shorter than length {i}')\n",
    "plt.suptitle('intersection k729_2022', fontweight='bold')\n",
    "plt.show()"
   ]
  },
  {
   "cell_type": "markdown",
   "metadata": {},
   "source": [
    "#### k733_2020"
   ]
  },
  {
   "cell_type": "code",
   "execution_count": null,
   "metadata": {},
   "outputs": [],
   "source": [
    "plt.hist(path_lengths_k733_2020, bins=50, alpha=0.5, label='k729_2022')\n",
    "plt.xticks(range(0, int(max(path_lengths_k733_2020)), 10))\n",
    "plt.grid(True, which='both', axis='both', linestyle='--', linewidth=0.5)"
   ]
  },
  {
   "cell_type": "code",
   "execution_count": null,
   "metadata": {},
   "outputs": [],
   "source": [
    "# get indices of paths shorter than i\n",
    "plt.cla()\n",
    "plt.clf()\n",
    "i = 10\n",
    "indices_short_paths = [index for index, path_length in enumerate(path_lengths_k733_2020) if path_length < i]\n",
    "print(f'Number of paths shorter than {i}: {len(indices_short_paths)}')\n",
    "# filter dataframe for indices\n",
    "df_cuid_grouped_k733_2020_short_paths = df_cuid_grouped_k733_2020.iloc[indices_short_paths]\n",
    "# plot short paths\n",
    "from src.visualization.plot_vehicle_tracks_in_notebook import plot_vehicle_tracks_in_notebook\n",
    "from src.features.get_global_dataframe_limits import get_global_dataframe_limits\n",
    "plot_vehicle_tracks_in_notebook(plt.gca(), df_cuid_k733_2020, df_cuid_grouped_k733_2020_short_paths, f'paths shorter than {i}')\n",
    "plt.suptitle('intersection k733_2020', fontweight='bold')\n",
    "plt.show()"
   ]
  },
  {
   "cell_type": "code",
   "execution_count": null,
   "metadata": {},
   "outputs": [],
   "source": [
    "# get indices of paths shorter than i\n",
    "plt.cla()\n",
    "plt.clf()\n",
    "i = 10\n",
    "indices_short_paths = [index for index, path_length in enumerate(path_lengths_k733_2018) if path_length < i]\n",
    "print(f'Number of paths shorter than {i}: {len(indices_short_paths)}')\n",
    "# filter dataframe for indices\n",
    "df_cuid_grouped_k733_2018_short_paths = df_cuid_grouped_k733_2018.iloc[indices_short_paths]\n",
    "# plot short paths\n",
    "from src.visualization.plot_vehicle_tracks_in_notebook import plot_vehicle_tracks_in_notebook\n",
    "from src.features.get_global_dataframe_limits import get_global_dataframe_limits\n",
    "plot_vehicle_tracks_in_notebook(plt.gca(), df_cuid_k733_2018, df_cuid_grouped_k733_2018_short_paths, f'paths shorter than {i}')\n",
    "plt.suptitle('intersection k733_2018', fontweight='bold')\n",
    "plt.show()"
   ]
  },
  {
   "cell_type": "code",
   "execution_count": null,
   "metadata": {},
   "outputs": [],
   "source": [
    "no_filtered_per_path_length_k733_2020 = []\n",
    "no_filtered_per_path_length_k729_2022 = []\n",
    "no_filtered_per_path_length_k733_2018 = []\n",
    "j = 80\n",
    "for i in range(0, j):\n",
    "    indices_short_paths_k729_2022 = [index for index, path_length in enumerate(path_lengths_k729_2022) if path_length < i]\n",
    "    no_filtered_per_path_length_k729_2022.append(len(indices_short_paths_k729_2022))\n",
    "    indices_short_paths_k733_2020 = [index for index, path_length in enumerate(path_lengths_k733_2020) if path_length < i]\n",
    "    no_filtered_per_path_length_k733_2020.append(len(indices_short_paths_k733_2020))\n",
    "    indices_short_paths_k733_2018 = [index for index, path_length in enumerate(path_lengths_k733_2018) if path_length < i]\n",
    "    no_filtered_per_path_length_k733_2018.append(len(indices_short_paths_k733_2018))\n",
    "\n",
    "plt.plot(range(0,len(no_filtered_per_path_length_k733_2020)),no_filtered_per_path_length_k733_2020, alpha=0.5, label='k733_2020')\n",
    "plt.plot(range(0,len(no_filtered_per_path_length_k729_2022)),no_filtered_per_path_length_k729_2022, color='red', alpha=0.5, label='k729_2022')\n",
    "plt.plot(range(0,len(no_filtered_per_path_length_k733_2018)),no_filtered_per_path_length_k733_2018, color='green', alpha=0.5, label='k733_2018')\n",
    "plt.title('Number of paths shorter than length i')\n",
    "plt.xlabel(\"length i\")\n",
    "plt.ylabel(\"Number of paths with length < i\")\n",
    "# make the y axis numbers more frequent\n",
    "plt.xticks(range(0, j, 5))\n",
    "plt.yticks(range(0, 151, 10))\n",
    "# add a grid\n",
    "plt.grid(True, which='both', axis='both', linestyle='--', linewidth=0.5)\n",
    "plt.legend()\n",
    "plt.gca().figure.set_size_inches(10,5)"
   ]
  },
  {
   "cell_type": "code",
   "execution_count": null,
   "metadata": {},
   "outputs": [],
   "source": []
  }
 ],
 "metadata": {
  "kernelspec": {
   "display_name": "ba_thesis",
   "language": "python",
   "name": "python3"
  },
  "language_info": {
   "codemirror_mode": {
    "name": "ipython",
    "version": 3
   },
   "file_extension": ".py",
   "mimetype": "text/x-python",
   "name": "python",
   "nbconvert_exporter": "python",
   "pygments_lexer": "ipython3",
   "version": "3.12.2"
  }
 },
 "nbformat": 4,
 "nbformat_minor": 2
}
