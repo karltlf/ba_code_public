{
 "cells": [
  {
   "cell_type": "code",
   "execution_count": null,
   "metadata": {},
   "outputs": [],
   "source": [
    "import pandas as pd\n",
    "import numpy as np\n",
    "import ast\n",
    "import matplotlib.pyplot as plt\n",
    "import os"
   ]
  },
  {
   "cell_type": "code",
   "execution_count": null,
   "metadata": {},
   "outputs": [],
   "source": [
    "# ********************\n",
    "# ****** IMPORT ******\n",
    "# ********************\n",
    "df_k729_2022_cuid = pd.read_csv('./datasets/k729_2022_cuid.csv')\n",
    "df_k729_2022_cuid_grouped = pd.read_csv('./datasets/k729_2022_cuid_grouped.csv')\n",
    "df_k729_2022_cuid_grouped['x'] = df_k729_2022_cuid_grouped['x'].apply(lambda x: ast.literal_eval(x))\n",
    "df_k729_2022_cuid_grouped['y'] = df_k729_2022_cuid_grouped['y'].apply(lambda y: ast.literal_eval(y))\n",
    "df_k729_2022_cuid_grouped['vx'] = df_k729_2022_cuid_grouped['vx'].apply(lambda vx: ast.literal_eval(vx))\n",
    "df_k729_2022_cuid_grouped['vy'] = df_k729_2022_cuid_grouped['vy'].apply(lambda vy: ast.literal_eval(vy))\n",
    "df_k729_2022_cuid_grouped['v'] = df_k729_2022_cuid_grouped['v'].apply(lambda v: ast.literal_eval(v))\n",
    "\n",
    "df_k733_2020_cuid = pd.read_csv('./datasets/k733_2020_cuid.csv')\n",
    "df_k733_2020_cuid_grouped = pd.read_csv('./datasets/k733_2020_cuid_grouped.csv')\n",
    "df_k733_2020_cuid_grouped['x'] = df_k733_2020_cuid_grouped['x'].apply(lambda x: ast.literal_eval(x))\n",
    "df_k733_2020_cuid_grouped['y'] = df_k733_2020_cuid_grouped['y'].apply(lambda y: ast.literal_eval(y))\n",
    "\n",
    "df_k733_2018_cuid = pd.read_csv('./datasets/k733_2018_cuid.csv')\n",
    "df_k733_2018_cuid_grouped = pd.read_csv('./datasets/k733_2018_cuid_grouped.csv')\n",
    "df_k733_2018_cuid_grouped['x'] = df_k733_2018_cuid_grouped['x'].apply(lambda x: ast.literal_eval(x))\n",
    "df_k733_2018_cuid_grouped['y'] = df_k733_2018_cuid_grouped['y'].apply(lambda y: ast.literal_eval(y))"
   ]
  },
  {
   "cell_type": "code",
   "execution_count": null,
   "metadata": {},
   "outputs": [],
   "source": [
    "fig, axs = plt.subplots(5*10,2, figsize=(10,15*10))\n",
    "for i, ax in enumerate(axs.flat):\n",
    "    x = df_k729_2022_cuid_grouped['x'][i]\n",
    "    y = [vx*3.6 for vx in df_k729_2022_cuid_grouped['vx'][i]]\n",
    "    ax.scatter(x,y)\n",
    "    ax.set_xlabel('x coordinate')\n",
    "    ax.set_ylabel('acceleration in x direction \\n km/h')\n",
    "    ax.set_title(f'x vs vx for track_id {i}')\n",
    "\n",
    "plt.tight_layout()\n",
    "plt.show()\n"
   ]
  },
  {
   "cell_type": "code",
   "execution_count": null,
   "metadata": {},
   "outputs": [],
   "source": [
    "from importable_functions.render_vehicle_tracks import render_single_vehicle_velocities\n",
    "from importable_functions.get_velocities import get_velocities_in_kmh\n",
    "from importable_functions.get_global_dataframe_limits import get_global_dataframe_limits\n",
    "i=6\n",
    "render_single_vehicle_velocities(np.array(df_k729_2022_cuid_grouped['x'][i]), np.array(df_k729_2022_cuid_grouped['y'][i]), np.array(df_k729_2022_cuid_grouped['v'][i])*3.6,'k729_2022','single_velocities', f'single_velocity_track_id_{i}', get_global_dataframe_limits(df_k729_2022_cuid, ['x','y','v']))"
   ]
  },
  {
   "cell_type": "code",
   "execution_count": null,
   "metadata": {},
   "outputs": [],
   "source": [
    "from importable_functions.render_vehicle_tracks import render_single_vehicle_velocities\n",
    "from importable_functions.get_velocities import get_velocities_in_kmh\n",
    "from importable_functions.get_global_dataframe_limits import get_global_dataframe_limits\n",
    "i=16\n",
    "render_single_vehicle_velocities(np.array(df_k729_2022_cuid_grouped['x'][i]), np.array(df_k729_2022_cuid_grouped['y'][i]), np.array(df_k729_2022_cuid_grouped['v'][i])*3.6,'k729_2022','single_velocities', f'single_velocity_track_id_{i}', get_global_dataframe_limits(df_k729_2022_cuid, ['x','y','v']))"
   ]
  },
  {
   "cell_type": "code",
   "execution_count": null,
   "metadata": {},
   "outputs": [],
   "source": [
    "interesting_accel_profiles = [74,76,72,23,49,69,47,62,65]\n",
    "for i in interesting_accel_profiles:\n",
    "    render_single_vehicle_velocities(np.array(df_k729_2022_cuid_grouped['x'][i]), np.array(df_k729_2022_cuid_grouped['y'][i]), np.array(df_k729_2022_cuid_grouped['v'][i])*3.6,'k729_2022','single_velocities', f'single_velocity_track_id_{i}', get_global_dataframe_limits(df_k729_2022_cuid, ['x','y','v']))"
   ]
  },
  {
   "cell_type": "code",
   "execution_count": null,
   "metadata": {},
   "outputs": [],
   "source": [
    "from importable_functions.render_vehicle_tracks import plot_multicolor_line\n",
    "from importable_functions.get_global_dataframe_limits import *\n",
    "import os\n",
    "def render_accel_lines_and_x_vx_scatter(df,df_grouped, indices_to_render, intersection_name, file_path, file_name):\n",
    "\n",
    "    # create dir \n",
    "    path = os.path.expanduser(f'~/Pictures/thesis/{intersection_name}/{file_path}')\n",
    "\n",
    "    try:\n",
    "        os.makedirs(path)\n",
    "        print(f'Created directory {path}')\n",
    "    except Exception as e:\n",
    "        print(f'Directory creation went wrong w/ error: {type(e)}')\n",
    "\n",
    "    for i in indices_to_render:\n",
    "\n",
    "        # create first subplot: scatter plot\n",
    "        # fig = plt.figure(figsize=(16,9))\n",
    "        # ax1 = fig.add_subplot(111)\n",
    "        fig, (ax1, ax2) = plt.subplots(2, 1, figsize=(16, 16))\n",
    "\n",
    "        x = df_grouped['x'][i]\n",
    "        y = [vx*3.6 for vx in df_grouped['vx'][i]]\n",
    "        ax1.scatter(x,y)\n",
    "        ax1.set_xlabel('x coordinate')\n",
    "        ax1.set_ylabel('acceleration in x direction in km/h')\n",
    "        ax1.set_title(f'Scatter plot of x vs vx for track_id {i}')\n",
    "\n",
    "        # create second subplot: vehicle path w/ acceleration colored\n",
    "        # ax2 = fig.add_subplot(121)\n",
    "        x = np.array(df_grouped['x'][i])\n",
    "        y = np.array(df_grouped['y'][i])\n",
    "        v = np.array(df_grouped['v'][i])\n",
    "        im = plot_multicolor_line(x, y, v, get_global_dataframe_limits(df, ['x','y','v']))\n",
    "        cbar = fig.colorbar(im)\n",
    "        cbar.ax.set_ylabel('velocity in km/h', rotation=270)\n",
    "        ax2.set_title(f'Velocity in vehicle path for vehicle #{i}')\n",
    "        plt.tight_layout()\n",
    "\n",
    "        plt.savefig(f'{path}/{file_name}_track_id_{i}.jpg')\n",
    "        plt.clf()"
   ]
  },
  {
   "cell_type": "code",
   "execution_count": null,
   "metadata": {},
   "outputs": [],
   "source": [
    "group_r = [0,1,28,44,78]\n",
    "group_j = [37,20,73,57]\n",
    "group_l = [64,49,88,43]\n",
    "group_c = [74,72,61,25,69]\n",
    "group_special = [90]\n",
    "\n",
    "render_accel_lines_and_x_vx_scatter(df_k729_2022_cuid, df_k729_2022_cuid_grouped, group_r, 'k729_2022', 'velocity_x_vx_comparison_group_r', 'v_x_vx_compare')"
   ]
  },
  {
   "cell_type": "code",
   "execution_count": null,
   "metadata": {},
   "outputs": [],
   "source": [
    "for i in range(len(df_k729_2022_cuid_grouped['track_id'])):\n",
    "    render_accel_lines_and_x_vx_scatter(df_k729_2022_cuid, df_k729_2022_cuid_grouped, [i], 'k729_2022', 'velocity_x_vx_comparison_all', f'v_x_vx_compare_track_id_{i}')"
   ]
  },
  {
   "cell_type": "code",
   "execution_count": null,
   "metadata": {},
   "outputs": [],
   "source": [
    "# calculate Pearson's R for x and vx\n"
   ]
  },
  {
   "cell_type": "code",
   "execution_count": null,
   "metadata": {},
   "outputs": [],
   "source": []
  }
 ],
 "metadata": {
  "kernelspec": {
   "display_name": "ba_thesis",
   "language": "python",
   "name": "python3"
  },
  "language_info": {
   "codemirror_mode": {
    "name": "ipython",
    "version": 3
   },
   "file_extension": ".py",
   "mimetype": "text/x-python",
   "name": "python",
   "nbconvert_exporter": "python",
   "pygments_lexer": "ipython3",
   "version": "3.12.2"
  }
 },
 "nbformat": 4,
 "nbformat_minor": 2
}
