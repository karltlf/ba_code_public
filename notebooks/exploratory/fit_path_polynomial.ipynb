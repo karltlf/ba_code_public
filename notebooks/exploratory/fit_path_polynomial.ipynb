{
 "cells": [
  {
   "cell_type": "code",
   "execution_count": null,
   "metadata": {},
   "outputs": [],
   "source": [
    "import numpy as np\n",
    "import pandas as pd\n",
    "import matplotlib.pyplot as plt\n",
    "from scipy.optimize import curve_fit\n",
    "import ast\n",
    "from importable_functions.get_global_dataframe_limits import *\n",
    "from importable_functions.polynomial_fitting import *\n",
    "import random\n",
    "import os"
   ]
  },
  {
   "cell_type": "code",
   "execution_count": null,
   "metadata": {},
   "outputs": [],
   "source": [
    "# ********************\n",
    "# ****** IMPORT ******\n",
    "# ********************\n",
    "df_k729_2022_cuid = pd.read_csv('./datasets/k729_2022_cuid.csv')\n",
    "df_k729_2022_cuid_grouped = pd.read_csv('./datasets/k729_2022_cuid_grouped.csv')\n",
    "df_k729_2022_cuid_grouped['x'] = df_k729_2022_cuid_grouped['x'].apply(lambda x: ast.literal_eval(x))\n",
    "df_k729_2022_cuid_grouped['y'] = df_k729_2022_cuid_grouped['y'].apply(lambda y: ast.literal_eval(y))\n",
    "df_k729_2022_cuid_grouped['vx'] = df_k729_2022_cuid_grouped['vx'].apply(lambda vx: ast.literal_eval(vx))\n",
    "df_k729_2022_cuid_grouped['vy'] = df_k729_2022_cuid_grouped['vy'].apply(lambda vy: ast.literal_eval(vy))\n",
    "df_k729_2022_cuid_grouped['v'] = df_k729_2022_cuid_grouped['v'].apply(lambda v: ast.literal_eval(v))\n",
    "\n",
    "df_k733_2020_cuid = pd.read_csv('./datasets/k733_2020_cuid.csv')\n",
    "df_k733_2020_cuid_grouped = pd.read_csv('./datasets/k733_2020_cuid_grouped.csv')\n",
    "df_k733_2020_cuid_grouped['x'] = df_k733_2020_cuid_grouped['x'].apply(lambda x: ast.literal_eval(x))\n",
    "df_k733_2020_cuid_grouped['y'] = df_k733_2020_cuid_grouped['y'].apply(lambda y: ast.literal_eval(y))\n",
    "\n",
    "df_k733_2018_cuid = pd.read_csv('./datasets/k733_2018_cuid.csv')\n",
    "df_k733_2018_cuid_grouped = pd.read_csv('./datasets/k733_2018_cuid_grouped.csv')\n",
    "df_k733_2018_cuid_grouped['x'] = df_k733_2018_cuid_grouped['x'].apply(lambda x: ast.literal_eval(x))\n",
    "df_k733_2018_cuid_grouped['y'] = df_k733_2018_cuid_grouped['y'].apply(lambda y: ast.literal_eval(y))\n",
    "df_k733_2018_cuid_grouped['vx'] = df_k733_2018_cuid_grouped['vx'].apply(lambda vx: ast.literal_eval(vx))\n",
    "df_k733_2018_cuid_grouped['vy'] = df_k733_2018_cuid_grouped['vy'].apply(lambda vy: ast.literal_eval(vy))"
   ]
  },
  {
   "cell_type": "code",
   "execution_count": null,
   "metadata": {},
   "outputs": [],
   "source": [
    "x = np.array(df_k729_2022_cuid_grouped['x'][0])\n",
    "y = np.array(df_k729_2022_cuid_grouped['y'][0])\n",
    "params, covariance = curve_fit(quadratic, x, y)\n",
    "y_fit = quadratic(x, *params)"
   ]
  },
  {
   "cell_type": "code",
   "execution_count": null,
   "metadata": {},
   "outputs": [],
   "source": [
    "limits = get_global_dataframe_limits(df_k729_2022_cuid, ['x','y'])"
   ]
  },
  {
   "cell_type": "code",
   "execution_count": null,
   "metadata": {},
   "outputs": [],
   "source": [
    "i = 69\n",
    "x_i = np.array(df_k729_2022_cuid_grouped['x'][i])\n",
    "y_fit_i = quadratic(x_i, *params)\n",
    "y_i = np.array(df_k729_2022_cuid_grouped['y'][i])\n",
    "plt.scatter(x_i, y_i, label='Data')\n",
    "plt.xlim(limits['x_min'], limits['x_max'])\n",
    "plt.ylim(limits['y_min'], limits['y_max'])\n",
    "plt.plot(x_i, y_fit_i, color='red', label=f'Fit: $y={params[0]:.2f}x^2 + {params[1]:.2f}x + {params[2]:.2f}$')\n",
    "plt.legend()\n",
    "plt.show()"
   ]
  },
  {
   "cell_type": "code",
   "execution_count": null,
   "metadata": {},
   "outputs": [],
   "source": [
    "group = group_D\n",
    "params, covariance = fit_polynomial_for_group(df_k729_2022_cuid_grouped,group,quadratic)\n",
    "i = random.randint(0,len(group)) # specific x,y for checking w the plot\n",
    "i = group[i]\n",
    "x_i = np.array(df_k729_2022_cuid_grouped['x'][i])\n",
    "y_i = np.array(df_k729_2022_cuid_grouped['y'][i])\n",
    "\n",
    "y_i_fit = quadratic(x_i, *params)\n",
    "\n",
    "plt.scatter(x_i, y_i, label='True Path')\n",
    "plt.xlim(limits['x_min'], limits['x_max'])\n",
    "plt.ylim(limits['y_min'], limits['y_max'])\n",
    "plt.plot(x_i, y_i_fit, color='red', label=f'Fit: $y={params[0]:.2f}x^2 + {params[1]:.2f}x + {params[2]:.2f}$')\n",
    "plt.legend()\n",
    "plt.title('Lane A model fit')\n",
    "plt.show()"
   ]
  },
  {
   "cell_type": "code",
   "execution_count": null,
   "metadata": {},
   "outputs": [],
   "source": [
    "group_A = [8,13,15,45,46,47]\n",
    "group_B = [18,79,80,81,83]\n",
    "group_C = [16,21,23,25,74,72]\n",
    "group_D = [2,4]\n",
    "group_1 = [3,28,30,34,98,105]\n",
    "group_2 = [7,14,35,41,42,48]\n",
    "group_3 = [0,1,5,11,27,29,32,33]\n",
    "group_5 = [9,10,136,135,70,71]\n",
    "group_7 = [19,22,26,57,76,77,84]\n",
    "group_9 = [24,31,36,37,38,50,51,52]\n",
    "all_groups = [group_A,group_B,group_C,group_D,group_1,group_2,group_3,group_5,group_7,group_9]\n",
    "all_groups_names = ['Group A', 'Group B', 'Group C', 'Group D', 'Group 1', 'Group 2', 'Group 3', 'Group 5', 'Group 7', 'Group 9']"
   ]
  },
  {
   "cell_type": "code",
   "execution_count": null,
   "metadata": {},
   "outputs": [],
   "source": [
    "# train model for each group\n",
    "# for every vehicle: \n",
    "#                   fit y values \n",
    "#                   plot fit vs real values\n",
    "#                   calculate R_sq\n",
    "for j, group in enumerate(all_groups):\n",
    "    # fit model\n",
    "    params, covariance = fit_polynomial_for_group(df_k729_2022_cuid_grouped,group,quadratic)\n",
    "\n",
    "    # create dir to save images in \n",
    "    path_dir_save_imgs = os.path.expanduser(f'~/Pictures/thesis/k729_2022/vehicle_tracks_polynomial_fitting/{all_groups_names[j]}/')\n",
    "    try:\n",
    "        os.makedirs(path_dir_save_imgs)\n",
    "        print(f'Created directory {path_dir_save_imgs}')\n",
    "    except Exception as e:\n",
    "        print(f'Directory creation went wrong w/ error: {type(e)}')\n",
    "\n",
    "    # plot predicted vs real path for each vehicle\n",
    "    for i in range(len(df_k729_2022_cuid_grouped['track_id'])):\n",
    "        \n",
    "        x = np.array(df_k729_2022_cuid_grouped['x'][i])\n",
    "        y = np.array(df_k729_2022_cuid_grouped['y'][i])\n",
    "        y_hat = quadratic(x, *params)\n",
    "\n",
    "        r_sq = get_R_squared(y,y_hat)\n",
    "\n",
    "        plt.scatter(x, y, label='True Path')\n",
    "        plt.xlim(limits['x_min'], limits['x_max'])\n",
    "        plt.ylim(limits['y_min'], limits['y_max'])\n",
    "        plt.plot(x, y_hat, color='red', label=f'Fit: $y={params[0]:.2f}x^2 + {params[1]:.2f}x + {params[2]:.2f}$')\n",
    "        plt.legend()\n",
    "        plt.suptitle(f'Predicted Path for Vehicle #{i} with model from {all_groups_names[j]}', fontweight='bold')\n",
    "        plt.title(f'With $R^2={r_sq}$')\n",
    "        plt.savefig(f'{path_dir_save_imgs}/polynomial_fit_track_id_{i}')\n",
    "        plt.clf()"
   ]
  },
  {
   "cell_type": "code",
   "execution_count": null,
   "metadata": {},
   "outputs": [],
   "source": [
    "group = group_3\n",
    "params, covariance = fit_polynomial_for_group(df_k729_2022_cuid_grouped,group,quadratic)\n",
    "\n",
    "x = np.array(df_k729_2022_cuid_grouped['x'][40])\n",
    "y = np.array(df_k729_2022_cuid_grouped['y'][40])\n",
    "y_hat = quadratic(x,*params)\n",
    "y_mean = np.mean(y)\n",
    "y_mean_hat = np.mean(y_hat)\n",
    "print(f'y: {y}')\n",
    "print(f'y_hat: {y_hat}')\n",
    "print(f'y_mean: {y_mean}')\n",
    "print(f'y_mean_hat: {y_mean_hat}')"
   ]
  },
  {
   "cell_type": "code",
   "execution_count": null,
   "metadata": {},
   "outputs": [],
   "source": []
  }
 ],
 "metadata": {
  "kernelspec": {
   "display_name": "Python 3",
   "language": "python",
   "name": "python3"
  },
  "language_info": {
   "codemirror_mode": {
    "name": "ipython",
    "version": 3
   },
   "file_extension": ".py",
   "mimetype": "text/x-python",
   "name": "python",
   "nbconvert_exporter": "python",
   "pygments_lexer": "ipython3",
   "version": "3.12.2"
  }
 },
 "nbformat": 4,
 "nbformat_minor": 2
}
