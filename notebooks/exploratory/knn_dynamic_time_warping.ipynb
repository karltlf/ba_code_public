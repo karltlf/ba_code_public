{
 "cells": [
  {
   "cell_type": "code",
   "execution_count": 6,
   "metadata": {},
   "outputs": [],
   "source": [
    "from tslearn.metrics import dtw, dtw_path, dtw_path_from_metric\n",
    "import pandas as pd\n",
    "import numpy as np\n",
    "import ast\n",
    "import matplotlib.pyplot as plt\n",
    "from importable_functions.render_vehicle_tracks import *\n",
    "from import_scripts.get_x_y_tuples import *"
   ]
  },
  {
   "cell_type": "code",
   "execution_count": 4,
   "metadata": {},
   "outputs": [],
   "source": [
    "# ********************\n",
    "# ****** IMPORT ******\n",
    "# ********************\n",
    "df_k729_2022_cuid = pd.read_csv('./datasets/k729_2022_cuid.csv')\n",
    "df_k729_2022_cuid_grouped = pd.read_csv('./datasets/k729_2022_cuid_grouped.csv')\n",
    "df_k729_2022_cuid_grouped['x'] = df_k729_2022_cuid_grouped['x'].apply(lambda x: ast.literal_eval(x))\n",
    "df_k729_2022_cuid_grouped['y'] = df_k729_2022_cuid_grouped['y'].apply(lambda y: ast.literal_eval(y))\n",
    "df_k729_2022_cuid_grouped['vx'] = df_k729_2022_cuid_grouped['vx'].apply(lambda vx: ast.literal_eval(vx))\n",
    "df_k729_2022_cuid_grouped['vy'] = df_k729_2022_cuid_grouped['vy'].apply(lambda vy: ast.literal_eval(vy))\n",
    "list_k729_2022_x_y_tuples = get_x_y_tuple_list(df_k729_2022_cuid_grouped, ['x','y'])\n",
    "k729_2022_vx_vy_tuples = get_x_y_tuple_list(df_k729_2022_cuid_grouped, ['vx','vy'])\n",
    "\n",
    "df_k733_2020_cuid = pd.read_csv('./datasets/k733_2020_cuid.csv')\n",
    "df_k733_2020_cuid_grouped = pd.read_csv('./datasets/k733_2020_cuid_grouped.csv')\n",
    "df_k733_2020_cuid_grouped['x'] = df_k733_2020_cuid_grouped['x'].apply(lambda x: ast.literal_eval(x))\n",
    "df_k733_2020_cuid_grouped['y'] = df_k733_2020_cuid_grouped['y'].apply(lambda y: ast.literal_eval(y))\n",
    "list_k733_2020_x_y_tuples = get_x_y_tuple_list(df_k733_2020_cuid_grouped, ['x','y'])\n",
    "\n",
    "df_k733_2018_cuid = pd.read_csv('./datasets/k733_2018_cuid.csv')\n",
    "df_k733_2018_cuid_grouped = pd.read_csv('./datasets/k733_2018_cuid_grouped.csv')\n",
    "df_k733_2018_cuid_grouped['x'] = df_k733_2018_cuid_grouped['x'].apply(lambda x: ast.literal_eval(x))\n",
    "df_k733_2018_cuid_grouped['y'] = df_k733_2018_cuid_grouped['y'].apply(lambda y: ast.literal_eval(y))\n",
    "list_k733_2018_x_y_tuples = get_x_y_tuple_list(df_k733_2018_cuid_grouped, ['x','y'])"
   ]
  },
  {
   "cell_type": "code",
   "execution_count": 4,
   "metadata": {},
   "outputs": [],
   "source": [
    "def knn_dtw_unsupervised(data, k, sakoe_chiba_radius=1, metric='euclidian', **metric_parameters):\n",
    "    \"\"\"\n",
    "    k-NN outlier detection using DTW as the distance measure with a custom metric\n",
    "\n",
    "    :param data: List of time series (input data)\n",
    "    :param k: Number of nearest neighbors to consider\n",
    "    :param metric: string compatible with sklearn.metrics.DistanceMetric\n",
    "    \n",
    "    :return: A list of average distances for each time series, which can be used to identify outliers\n",
    "    \"\"\"\n",
    "    n = len(data)\n",
    "    distances = np.zeros((n, n))\n",
    "    \n",
    "\n",
    "\n",
    "    # Compute all-pair DTW distances\n",
    "    for i in range(n):\n",
    "        for j in range(i + 1, n):\n",
    "            if not metric_parameters:\n",
    "                path, dist = dtw_path_from_metric(data[i], data[j], sakoe_chiba_radius=sakoe_chiba_radius, metric=metric)\n",
    "            else:\n",
    "                path, dist = dtw_path_from_metric(data[i], data[j], sakoe_chiba_radius=sakoe_chiba_radius, metric=metric, kwds=metric_parameters)\n",
    "            distances[i][j] = dist\n",
    "            distances[j][i] = dist\n",
    "    \n",
    "    # For each time series, find the average distance to its k nearest neighbors\n",
    "    avg_distances = []\n",
    "    for i in range(n):\n",
    "        sorted_distances = np.sort(distances[i])\n",
    "        avg_distance = np.mean(sorted_distances[1:k + 1])  # skip the first one since it's the distance to itself\n",
    "        avg_distances.append(avg_distance)\n",
    "    \n",
    "    return avg_distances"
   ]
  },
  {
   "cell_type": "code",
   "execution_count": 5,
   "metadata": {},
   "outputs": [],
   "source": [
    "def detect_outliers(avg_distances, threshold):\n",
    "    \"\"\"\n",
    "    Detect outliers based on average distances and a given threshold.\n",
    "    \n",
    "    :param avg_distances: List of average distances for each time series\n",
    "    :param threshold: Threshold above which a time series is considered an outlier\n",
    "    \n",
    "    :return: List of indices that are considered outliers\n",
    "    \"\"\"\n",
    "    outliers = [i for i, distance in enumerate(avg_distances) if distance > threshold]\n",
    "    return outliers"
   ]
  },
  {
   "cell_type": "code",
   "execution_count": 6,
   "metadata": {},
   "outputs": [],
   "source": [
    "from importable_functions.render_vehicle_tracks import render_vehicle_tracks_highlight_tracks\n",
    "def render_outliers(df_cuid, df_cuid_grouped, list_x_y_tuples, k_start, k_stop, intersection_name='undefined_intersection', metric='euclidean', sakoe_chiba_radius=1, **metric_params):\n",
    "\n",
    "    '''\n",
    "    Computes k-NN outlier detection using DTW (optional with a custom metric) and renders all outliers higlighted in a plot of the intersection.\n",
    "    Saves the plot as a file in intersection_name/knn_dtw/render_outliers/metric_name/sakoe_radius/metric_params/\n",
    "\n",
    "\n",
    "    :param metric: string compatible with sklearn.metrics.DistanceMetric\n",
    "    '''\n",
    "\n",
    "\n",
    "\n",
    "    file_path_suffix = ''\n",
    "    title = ''\n",
    "    if metric_params!=None and metric!='mahalanobis':\n",
    "        formatted_items = [f'{k.lower()}_{v.lower()}' for k, v in metric_params.items()]\n",
    "        file_path_suffix = '_'.join(formatted_items)\n",
    "        title = ' - '.join(formatted_items)\n",
    "\n",
    "    file_path = f'knn_dtw/render_outliers/{metric}/radius_{sakoe_chiba_radius}/{file_path_suffix}' \n",
    "\n",
    "    for k in range(k_start,k_stop):\n",
    "        \n",
    "        if not metric_params:\n",
    "            avg_dtw_distance = knn_dtw_unsupervised(list_x_y_tuples, k, sakoe_chiba_radius, metric)\n",
    "        else:\n",
    "            avg_dtw_distance = knn_dtw_unsupervised(list_x_y_tuples, k, sakoe_chiba_radius, metric, **metric_params)\n",
    "\n",
    "        threshold = np.mean(avg_dtw_distance) + 2 * np.std(avg_dtw_distance)\n",
    "\n",
    "        list_outliers = detect_outliers(avg_dtw_distance, threshold)\n",
    "\n",
    "\n",
    "        suptitle= f'Outliers highglighted for k={k} with metric {metric}'\n",
    "        file_name=f'outliers_{metric}_k_{k}'\n",
    "        list_outliers_strings = [str(x) for x in list_outliers]\n",
    "        render_vehicle_tracks_highlight_tracks(df_cuid, df_cuid_grouped, list_outliers_strings, title=title, suptitle=suptitle, file_name=file_name, intersection_name=intersection_name, file_path=file_path)"
   ]
  },
  {
   "cell_type": "code",
   "execution_count": 7,
   "metadata": {},
   "outputs": [],
   "source": [
    "def filter_array_indices(list_of_arrays, threshold):\n",
    "    # List to store indices of arrays where any value is greater than the threshold\n",
    "    indices = []\n",
    "\n",
    "    # Iterate through each array in the list\n",
    "    for i, array in enumerate(list_of_arrays):\n",
    "        # Convert the array to a NumPy array if it's not already\n",
    "        np_array = np.array(array)\n",
    "\n",
    "        # Check if any value in the array is greater than the threshold\n",
    "        if np.any(np_array > threshold):\n",
    "            # Append the index of the array to the result list\n",
    "            indices.append(i)\n",
    "\n",
    "    return indices"
   ]
  },
  {
   "cell_type": "code",
   "execution_count": 8,
   "metadata": {},
   "outputs": [],
   "source": [
    "# %%capture\n",
    "# # SAKOBE RADIUS R=3\n",
    "# # k733 2018\n",
    "# render_outliers(df_k733_2018_cuid, df_k733_2018_cuid_grouped,list_k733_2018_x_y_tuples,1,20,intersection_name='k733_2018', file_prefix='sakobe_r_3', title_prefix='Sakobe radius 3: ')\n",
    "# render_outliers(df_k733_2018_cuid, df_k733_2018_cuid_grouped,list_k733_2018_x_y_tuples,1,20,intersection_name='k733_2018', metric='canberra', file_prefix='sakobe_r_3', title_prefix='Sakobe radius 3: ')\n",
    "# render_outliers(df_k733_2018_cuid, df_k733_2018_cuid_grouped,list_k733_2018_x_y_tuples,1,20,intersection_name='k733_2018', metric='minkowski', file_prefix='sakobe_r_3', title_prefix='Sakobe radius 3: ')\n",
    "# # k733 2020\n",
    "# render_outliers(df_k733_2020_cuid, df_k733_2020_cuid_grouped,list_k733_2020_x_y_tuples,1,10,intersection_name='k733_2020', file_prefix='sakobe_r_3', title_prefix='Sakobe radius 3: ')\n",
    "# render_outliers(df_k733_2020_cuid, df_k733_2020_cuid_grouped,list_k733_2020_x_y_tuples,1,10,intersection_name='k733_2020', metric='canberra', file_prefix='sakobe_r_3', title_prefix='Sakobe radius 3: ')\n",
    "# render_outliers(df_k733_2020_cuid, df_k733_2020_cuid_grouped,list_k733_2020_x_y_tuples,1,10,intersection_name='k733_2020', metric='minkowski', file_prefix='sakobe_r_3', title_prefix='Sakobe radius 3: ')\n",
    "# # k729 2022\n",
    "# render_outliers(df_k729_2022_cuid, df_k729_2022_cuid_grouped,list_k729_2022_x_y_tuples,1,20,intersection_name='k729_2022', file_prefix='sakobe_r_3', title_prefix='Sakobe radius 3: ')\n",
    "# render_outliers(df_k729_2022_cuid, df_k729_2022_cuid_grouped,list_k729_2022_x_y_tuples,1,20,intersection_name='k729_2022', metric='canberra', file_prefix='sakobe_r_3', title_prefix='Sakobe radius 3: ')\n",
    "# render_outliers(df_k729_2022_cuid, df_k729_2022_cuid_grouped,list_k729_2022_x_y_tuples,1,20,intersection_name='k729_2022', metric='minkowski', file_prefix='sakobe_r_3', title_prefix='Sakobe radius 3: ')"
   ]
  },
  {
   "cell_type": "code",
   "execution_count": 9,
   "metadata": {},
   "outputs": [],
   "source": [
    "# %%capture\n",
    "# # VANILLA\n",
    "# # k733 2018\n",
    "# render_outliers(df_k733_2018_cuid, df_k733_2018_cuid_grouped,list_k733_2018_x_y_tuples,1,10,intersection_name='k733_2018')\n",
    "# render_outliers(df_k733_2018_cuid, df_k733_2018_cuid_grouped,list_k733_2018_x_y_tuples,1,10,intersection_name='k733_2018', metric='canberra')\n",
    "# render_outliers(df_k733_2018_cuid, df_k733_2018_cuid_grouped,list_k733_2018_x_y_tuples,1,10,intersection_name='k733_2018', metric='minkowski')\n",
    "# # k733 2020\n",
    "# render_outliers(df_k733_2020_cuid, df_k733_2020_cuid_grouped,list_k733_2020_x_y_tuples,1,10,intersection_name='k733_2020')\n",
    "# render_outliers(df_k733_2020_cuid, df_k733_2020_cuid_grouped,list_k733_2020_x_y_tuples,1,10,intersection_name='k733_2020', metric='canberra')\n",
    "# render_outliers(df_k733_2020_cuid, df_k733_2020_cuid_grouped,list_k733_2020_x_y_tuples,1,10,intersection_name='k733_2020', metric='minkowski')\n",
    "# # k729 2022\n",
    "# render_outliers(df_k729_2022_cuid, df_k729_2022_cuid_grouped,list_k729_2022_x_y_tuples,1,10,intersection_name='k729_2022')\n",
    "# render_outliers(df_k729_2022_cuid, df_k729_2022_cuid_grouped,list_k729_2022_x_y_tuples,1,10,intersection_name='k729_2022', metric='canberra')\n",
    "# render_outliers(df_k729_2022_cuid, df_k729_2022_cuid_grouped,list_k729_2022_x_y_tuples,1,10,intersection_name='k729_2022', metric='minkowski')"
   ]
  },
  {
   "cell_type": "code",
   "execution_count": 10,
   "metadata": {},
   "outputs": [],
   "source": [
    "# %%capture\n",
    "# # SAKOBE RADIUS R=0.5\n",
    "# # k733 2018\n",
    "# render_outliers(df_k733_2018_cuid, df_k733_2018_cuid_grouped,list_k733_2018_x_y_tuples,1,10,intersection_name='k733_2018', file_prefix='sakobe_r_0.5', title_prefix='Sakobe radius 0.5: ')\n",
    "# render_outliers(df_k733_2018_cuid, df_k733_2018_cuid_grouped,list_k733_2018_x_y_tuples,1,10,intersection_name='k733_2018', metric='canberra', file_prefix='sakobe_r_0.5', title_prefix='Sakobe radius 0.5: ')\n",
    "# render_outliers(df_k733_2018_cuid, df_k733_2018_cuid_grouped,list_k733_2018_x_y_tuples,1,10,intersection_name='k733_2018', metric='minkowski', file_prefix='sakobe_r_0.5', title_prefix='Sakobe radius 0.5: ')\n",
    "# # k733 2020\n",
    "# render_outliers(df_k733_2020_cuid, df_k733_2020_cuid_grouped,list_k733_2020_x_y_tuples,1,10,intersection_name='k733_2020', file_prefix='sakobe_r_0.5', title_prefix='Sakobe radius 0.5: ')\n",
    "# render_outliers(df_k733_2020_cuid, df_k733_2020_cuid_grouped,list_k733_2020_x_y_tuples,1,10,intersection_name='k733_2020', metric='canberra', file_prefix='sakobe_r_0.5', title_prefix='Sakobe radius 0.5: ')\n",
    "# render_outliers(df_k733_2020_cuid, df_k733_2020_cuid_grouped,list_k733_2020_x_y_tuples,1,10,intersection_name='k733_2020', metric='minkowski', file_prefix='sakobe_r_0.5', title_prefix='Sakobe radius 0.5: ')\n",
    "# # k729 2022\n",
    "# render_outliers(df_k729_2022_cuid, df_k729_2022_cuid_grouped,list_k729_2022_x_y_tuples,1,10,intersection_name='k729_2022', file_prefix='sakobe_r_0.5', title_prefix='Sakobe radius 0.5: ')\n",
    "# render_outliers(df_k729_2022_cuid, df_k729_2022_cuid_grouped,list_k729_2022_x_y_tuples,1,10,intersection_name='k729_2022', metric='canberra', file_prefix='sakobe_r_0.5', title_prefix='Sakobe radius 0.5: ')\n",
    "# render_outliers(df_k729_2022_cuid, df_k729_2022_cuid_grouped,list_k729_2022_x_y_tuples,1,10,intersection_name='k729_2022', metric='minkowski', file_prefix='sakobe_r_0.5', title_prefix='Sakobe radius 0.5: ')"
   ]
  },
  {
   "cell_type": "code",
   "execution_count": 11,
   "metadata": {},
   "outputs": [],
   "source": [
    "# %%capture\n",
    "# render_outliers(df_k729_2022_cuid, df_k729_2022_cuid_grouped, list_k729_2022_x_y_tuples, 0, 10, 'k729_2022', 'manhattan', 1)\n",
    "# render_outliers(df_k729_2022_cuid, df_k729_2022_cuid_grouped, list_k729_2022_x_y_tuples, 0, 10, 'k729_2022', 'euclidean', 1)\n",
    "# render_outliers(df_k729_2022_cuid, df_k729_2022_cuid_grouped, list_k729_2022_x_y_tuples, 0, 10, 'k729_2022', 'chebyshev', 1)"
   ]
  },
  {
   "cell_type": "code",
   "execution_count": 12,
   "metadata": {},
   "outputs": [],
   "source": [
    "# cov_matr = np.identity(len(df_k729_2022_cuid_grouped['x']))\n",
    "# render_outliers(df_k729_2022_cuid, df_k729_2022_cuid_grouped, list_k729_2022_x_y_tuples, 0, 10, 'k729_2022', 'mahalanobis', 1, VI=cov_matr)"
   ]
  },
  {
   "cell_type": "code",
   "execution_count": 8,
   "metadata": {},
   "outputs": [],
   "source": [
    "def compute_dtw_distance_matrix(data, **metric_parameters):\n",
    "    \"\"\"\n",
    "\n",
    "    :param data: List of time series (input data)\n",
    "    :param k: Number of nearest neighbors to consider\n",
    "    :param metric: string compatible with sklearn.metrics.DistanceMetric\n",
    "    \n",
    "    :return: A list of average distances for each time series, which can be used to identify outliers\n",
    "    \"\"\"\n",
    "    n = len(data)\n",
    "    distances = np.zeros((n, n))\n",
    "    \n",
    "\n",
    "\n",
    "    # Compute all-pair DTW distances\n",
    "    for i in range(n):\n",
    "        for j in range(i + 1, n):\n",
    "            if not metric_parameters:\n",
    "                path, dist = dtw_path_from_metric(data[i], data[j])\n",
    "            else:\n",
    "                path, dist = dtw_path_from_metric(data[i], data[j], **metric_parameters)\n",
    "            distances[i][j] = dist\n",
    "            distances[j][i] = dist\n",
    "\n",
    "    return distances\n",
    "    "
   ]
  },
  {
   "cell_type": "code",
   "execution_count": 9,
   "metadata": {},
   "outputs": [],
   "source": [
    "distances = compute_dtw_distance_matrix(list_k729_2022_x_y_tuples)"
   ]
  },
  {
   "cell_type": "code",
   "execution_count": null,
   "metadata": {},
   "outputs": [],
   "source": []
  }
 ],
 "metadata": {
  "kernelspec": {
   "display_name": "ba_thesis",
   "language": "python",
   "name": "python3"
  },
  "language_info": {
   "codemirror_mode": {
    "name": "ipython",
    "version": 3
   },
   "file_extension": ".py",
   "mimetype": "text/x-python",
   "name": "python",
   "nbconvert_exporter": "python",
   "pygments_lexer": "ipython3",
   "version": "3.12.2"
  }
 },
 "nbformat": 4,
 "nbformat_minor": 2
}
