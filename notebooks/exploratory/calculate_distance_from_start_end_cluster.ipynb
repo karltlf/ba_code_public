{
 "cells": [
  {
   "cell_type": "code",
   "execution_count": null,
   "metadata": {},
   "outputs": [],
   "source": [
    "# PASTE THIS TO THE FIRST CELL OF THE NOTEBOOK IN ORDER TO HAVE WORKING IMPORTS\n",
    "import sys\n",
    "import os\n",
    "current_dir = os.getcwd()\n",
    "parent_parent_dir = os.path.abspath(os.path.join(current_dir, '../..')) # tweak so that you get the root project folder\n",
    "\n",
    "sys.path.append(parent_parent_dir)"
   ]
  },
  {
   "cell_type": "code",
   "execution_count": null,
   "metadata": {},
   "outputs": [],
   "source": [
    "from sklearn.cluster import OPTICS\n",
    "import numpy as np\n",
    "import pandas as pd\n",
    "import ast"
   ]
  },
  {
   "cell_type": "markdown",
   "metadata": {},
   "source": [
    "## data import"
   ]
  },
  {
   "cell_type": "code",
   "execution_count": null,
   "metadata": {},
   "outputs": [],
   "source": [
    "from src.features.get_x_y_tuple_list import get_x_y_tuple_list   \n",
    "from src.features.get_first_and_last_x_y_coordinates import get_first_and_last_x_y_coordinates \n",
    "from src.features.get_first_x_y_coordinates import get_first_x_y_coordinates\n",
    "from src.features.get_last_x_y_coordinates import get_last_x_y_coordinates\n",
    "def import_data(df_path):\n",
    "    df_cuid = pd.read_csv(df_path)\n",
    "    df_cuid_grouped_path = df_path.replace('.csv', '_grouped.csv')\n",
    "    df_cuid_grouped = pd.read_csv(df_cuid_grouped_path)\n",
    "    # 1.1 CONVERT FEATURES TO NUMBERS\n",
    "    df_cuid_grouped['x'] = df_cuid_grouped['x'].apply(lambda x: ast.literal_eval(x))\n",
    "    df_cuid_grouped['y'] = df_cuid_grouped['y'].apply(lambda y: ast.literal_eval(y))\n",
    "    list_x_y_tuples = get_x_y_tuple_list(df_cuid_grouped, ['x','y'])\n",
    "    first_last_x_coords, first_last_y_coords = get_first_and_last_x_y_coordinates(list_x_y_tuples)\n",
    "    X = np.array([first_last_x_coords, first_last_y_coords]).T\n",
    "\n",
    "    first_x_coords, first_y_coords = get_first_x_y_coordinates(list_x_y_tuples)\n",
    "    first_coordinates = np.array([first_x_coords, first_y_coords]).T\n",
    "\n",
    "    last_x_coords, last_y_coords = get_last_x_y_coordinates(list_x_y_tuples)\n",
    "    last_coordinates = np.array([last_x_coords, last_y_coords]).T\n",
    "    return df_cuid, df_cuid_grouped, X, first_coordinates, last_coordinates\n",
    "        "
   ]
  },
  {
   "cell_type": "code",
   "execution_count": null,
   "metadata": {},
   "outputs": [],
   "source": [
    "df_path_k729_2022 = '../../data/processed/k729_2022_cuid.csv'\n",
    "df_path_k733_2020 = '../../data/processed/k733_2020_cuid.csv'\n",
    "df_path_k733_2018 = '../../data/processed/k733_2018_cuid.csv'\n",
    "\n",
    "df_cuid_k729_2022, df_cuid_grouped_k729_2022, X_k729_2022, first_coordinates_k729_2022, last_coordinates_k729_2022 = import_data(df_path_k729_2022)\n",
    "df_cuid_k733_2020, df_cuid_grouped_k733_2020, X_k733_2020, first_coordinates_k733_2020, last_coordinates_k733_2020 = import_data(df_path_k733_2020)\n",
    "df_cuid_k733_2018, df_cuid_grouped_k733_2018, X_k733_2018, first_coordinates_k733_2018, last_coordinates_k733_2018 = import_data(df_path_k733_2018)"
   ]
  },
  {
   "cell_type": "markdown",
   "metadata": {},
   "source": [
    "## get necessary optimization parameters"
   ]
  },
  {
   "cell_type": "code",
   "execution_count": null,
   "metadata": {},
   "outputs": [],
   "source": [
    "import json\n",
    "\n",
    "from sklearn.metrics import calinski_harabasz_score\n",
    "\n",
    "# Path to your JSON file\n",
    "path_k729_2022_optimized_optics = f'{parent_parent_dir}/src/models/optimized_optics_clustering_parameters/k729_2022_optics_optimized.json'\n",
    "path_k733_2020_optimized_optics = f'{parent_parent_dir}/src/models/optimized_optics_clustering_parameters/k733_2020_optics_optimized.json'\n",
    "path_k733_2018_optimized_optics = f'{parent_parent_dir}/src/models/optimized_optics_clustering_parameters/k733_2018_optics_optimized.json'\n",
    "\n",
    "# Open the JSON file and load it into a dictionary\n",
    "with open(path_k729_2022_optimized_optics, 'r') as json_file:\n",
    "    optics_params_k729_2022 = json.load(json_file)\n",
    "with open(path_k733_2020_optimized_optics, 'r') as json_file:\n",
    "    optics_params_k733_2020 = json.load(json_file)\n",
    "with open(path_k733_2018_optimized_optics, 'r') as json_file:\n",
    "    optics_params_k733_2018 = json.load(json_file)"
   ]
  },
  {
   "cell_type": "code",
   "execution_count": null,
   "metadata": {},
   "outputs": [],
   "source": [
    "silhouette_params_k729_2022 = optics_params_k729_2022['silhouette']\n",
    "calinski_harabasz_params_k729_2022 = optics_params_k729_2022['calinski_harabasz']\n",
    "davies_bouldin_params_k729_2022 = optics_params_k729_2022['davies_bouldin']\n",
    "silhouette_params_k733_2020 = optics_params_k733_2020['silhouette']\n",
    "calinski_harabasz_params_k733_2020 = optics_params_k733_2020['calinski_harabasz']\n",
    "davies_bouldin_params_k733_2020 = optics_params_k733_2020['davies_bouldin']\n",
    "silhouette_params_k733_2018 = optics_params_k733_2018['silhouette']\n",
    "calinski_harabasz_params_k733_2018 = optics_params_k733_2018['calinski_harabasz']\n",
    "davies_bouldin_params_k733_2018 = optics_params_k733_2018['davies_bouldin']"
   ]
  },
  {
   "cell_type": "code",
   "execution_count": null,
   "metadata": {},
   "outputs": [],
   "source": [
    "from src.models.clustering_optimization.ensure_distance_metric_params import ensure_distance_metric_params\n",
    "k729_2020_silhouette_metric_params = ensure_distance_metric_params(X_k729_2022, [silhouette_params_k729_2022['metric']])\n",
    "k729_2020_calinski_harabasz_metric_params = ensure_distance_metric_params(X_k729_2022, [calinski_harabasz_params_k729_2022['metric']])\n",
    "k729_2020_davies_bouldin_metric_params = ensure_distance_metric_params(X_k729_2022, [davies_bouldin_params_k729_2022['metric']])\n",
    "k733_2020_silhouette_metric_params = ensure_distance_metric_params(X_k733_2020, [silhouette_params_k733_2020['metric']])\n",
    "k733_2020_calinski_harabasz_metric_params = ensure_distance_metric_params(X_k733_2020, [calinski_harabasz_params_k733_2020['metric']])\n",
    "k733_2020_davies_bouldin_metric_params = ensure_distance_metric_params(X_k733_2020, [davies_bouldin_params_k733_2020['metric']])\n",
    "k733_2018_silhouette_metric_params = ensure_distance_metric_params(X_k733_2018, [silhouette_params_k733_2018['metric']])\n",
    "k733_2018_calinski_harabasz_metric_params = ensure_distance_metric_params(X_k733_2018, [calinski_harabasz_params_k733_2018['metric']])\n",
    "k733_2018_davies_bouldin_metric_params = ensure_distance_metric_params(X_k733_2018, [davies_bouldin_params_k733_2018['metric']])"
   ]
  },
  {
   "cell_type": "markdown",
   "metadata": {},
   "source": [
    "## fit optimized model"
   ]
  },
  {
   "cell_type": "code",
   "execution_count": null,
   "metadata": {},
   "outputs": [],
   "source": [
    "def fit_optics(X, eps, min_samples, metric, cluster_method, metric_params, xi):\n",
    "\n",
    "    if cluster_method == 'xi':\n",
    "        optics = OPTICS(eps=eps, min_samples=min_samples, metric=metric, cluster_method=cluster_method, xi=xi, metric_params=metric_params).fit(X)\n",
    "    else:\n",
    "        optics = OPTICS(eps=eps, min_samples=min_samples, metric=metric, cluster_method=cluster_method, metric_params=metric_params).fit(X)\n",
    "        \n",
    "    return optics"
   ]
  },
  {
   "cell_type": "markdown",
   "metadata": {},
   "source": [
    "#### k729_2022"
   ]
  },
  {
   "cell_type": "code",
   "execution_count": null,
   "metadata": {},
   "outputs": [],
   "source": [
    "optics_model_silhouette_k729_2022 = fit_optics(X=X_k729_2022, \n",
    "                                               eps=silhouette_params_k729_2022['epsilon'], \n",
    "                                               min_samples=silhouette_params_k729_2022['min_samples'], \n",
    "                                               metric=silhouette_params_k729_2022['metric'], \n",
    "                                               cluster_method=silhouette_params_k729_2022['cluster_method'], \n",
    "                                               metric_params=k729_2020_silhouette_metric_params[silhouette_params_k729_2022['metric']],\n",
    "                                               xi=silhouette_params_k729_2022['xi'])\n",
    "optics_model_silhouette_k729_2022"
   ]
  },
  {
   "cell_type": "code",
   "execution_count": null,
   "metadata": {},
   "outputs": [],
   "source": [
    "optics_model_calinski_harabasz_k729_2022 = fit_optics(X=X_k729_2022,\n",
    "                                                         eps=calinski_harabasz_params_k729_2022['epsilon'],\n",
    "                                                         min_samples=calinski_harabasz_params_k729_2022['min_samples'],\n",
    "                                                         metric=calinski_harabasz_params_k729_2022['metric'],\n",
    "                                                         cluster_method=calinski_harabasz_params_k729_2022['cluster_method'],\n",
    "                                                         metric_params=k729_2020_calinski_harabasz_metric_params[calinski_harabasz_params_k729_2022['metric']],\n",
    "                                                         xi=calinski_harabasz_params_k729_2022['xi'])\n",
    "optics_model_calinski_harabasz_k729_2022"
   ]
  },
  {
   "cell_type": "code",
   "execution_count": null,
   "metadata": {},
   "outputs": [],
   "source": [
    "optics_model_davies_bouldin_k729_2022 = fit_optics(X=X_k729_2022,\n",
    "                                                    eps=davies_bouldin_params_k729_2022['epsilon'],\n",
    "                                                    min_samples=davies_bouldin_params_k729_2022['min_samples'],\n",
    "                                                    metric=davies_bouldin_params_k729_2022['metric'],\n",
    "                                                    cluster_method=davies_bouldin_params_k729_2022['cluster_method'],\n",
    "                                                    metric_params=k729_2020_davies_bouldin_metric_params[davies_bouldin_params_k729_2022['metric']],\n",
    "                                                    xi=davies_bouldin_params_k729_2022['xi'])\n",
    "optics_model_davies_bouldin_k729_2022"
   ]
  },
  {
   "cell_type": "markdown",
   "metadata": {},
   "source": [
    "#### k733_2020"
   ]
  },
  {
   "cell_type": "code",
   "execution_count": null,
   "metadata": {},
   "outputs": [],
   "source": [
    "optics_model_silhouette_k733_2020 = fit_optics(X=X_k733_2020,\n",
    "                                                  eps=silhouette_params_k733_2020['epsilon'],\n",
    "                                                  min_samples=silhouette_params_k733_2020['min_samples'],\n",
    "                                                  metric=silhouette_params_k733_2020['metric'],\n",
    "                                                  cluster_method=silhouette_params_k733_2020['cluster_method'],\n",
    "                                                  metric_params=k733_2020_silhouette_metric_params[silhouette_params_k733_2020['metric']],\n",
    "                                                  xi=silhouette_params_k733_2020['xi'])\n",
    "optics_model_silhouette_k733_2020"
   ]
  },
  {
   "cell_type": "code",
   "execution_count": null,
   "metadata": {},
   "outputs": [],
   "source": [
    "print(calinski_harabasz_params_k733_2020)\n",
    "optics_model_calinski_harabasz_k733_2020 = fit_optics(X=X_k733_2020,\n",
    "                                                        eps=calinski_harabasz_params_k733_2020['epsilon'],\n",
    "                                                        min_samples=calinski_harabasz_params_k733_2020['min_samples'],\n",
    "                                                        metric=calinski_harabasz_params_k733_2020['metric'],\n",
    "                                                        cluster_method=calinski_harabasz_params_k733_2020['cluster_method'],\n",
    "                                                        metric_params=k733_2020_calinski_harabasz_metric_params[calinski_harabasz_params_k733_2020['metric']],\n",
    "                                                        xi=calinski_harabasz_params_k733_2020['xi'])\n",
    "optics_model_calinski_harabasz_k733_2020"
   ]
  },
  {
   "cell_type": "code",
   "execution_count": null,
   "metadata": {},
   "outputs": [],
   "source": [
    "optics_model_davies_bouldin_k733_2020 = fit_optics(X=X_k733_2020,\n",
    "                                                    eps=davies_bouldin_params_k733_2020['epsilon'],\n",
    "                                                    min_samples=davies_bouldin_params_k733_2020['min_samples'],\n",
    "                                                    metric=davies_bouldin_params_k733_2020['metric'],\n",
    "                                                    cluster_method=davies_bouldin_params_k733_2020['cluster_method'],\n",
    "                                                    metric_params=k733_2020_davies_bouldin_metric_params[davies_bouldin_params_k733_2020['metric']],\n",
    "                                                    xi=davies_bouldin_params_k733_2020['xi'])\n",
    "optics_model_davies_bouldin_k733_2020"
   ]
  },
  {
   "cell_type": "markdown",
   "metadata": {},
   "source": [
    "#### k733_2018"
   ]
  },
  {
   "cell_type": "code",
   "execution_count": null,
   "metadata": {},
   "outputs": [],
   "source": [
    "optics_model_silhouette_k733_2018 = fit_optics(X=X_k733_2018,\n",
    "                                                    eps=silhouette_params_k733_2018['epsilon'],\n",
    "                                                    min_samples=silhouette_params_k733_2018['min_samples'],\n",
    "                                                    metric=silhouette_params_k733_2018['metric'],\n",
    "                                                    cluster_method=silhouette_params_k733_2018['cluster_method'],\n",
    "                                                    metric_params=k733_2018_silhouette_metric_params[silhouette_params_k733_2018['metric']],\n",
    "                                                    xi=silhouette_params_k733_2018['xi'])\n",
    "optics_model_silhouette_k733_2018"
   ]
  },
  {
   "cell_type": "code",
   "execution_count": null,
   "metadata": {},
   "outputs": [],
   "source": [
    "optics_model_calinski_harabasz_k733_2018 = fit_optics(X=X_k733_2018,\n",
    "                                                        eps=calinski_harabasz_params_k733_2018['epsilon'],\n",
    "                                                        min_samples=calinski_harabasz_params_k733_2018['min_samples'],\n",
    "                                                        metric=calinski_harabasz_params_k733_2018['metric'],\n",
    "                                                        cluster_method=calinski_harabasz_params_k733_2018['cluster_method'],\n",
    "                                                        metric_params=k733_2018_calinski_harabasz_metric_params[calinski_harabasz_params_k733_2018['metric']],\n",
    "                                                        xi=calinski_harabasz_params_k733_2018['xi']) \n",
    "optics_model_calinski_harabasz_k733_2018"
   ]
  },
  {
   "cell_type": "code",
   "execution_count": null,
   "metadata": {},
   "outputs": [],
   "source": [
    "optics_model_davies_bouldin_k733_2018 = fit_optics(X=X_k733_2018,\n",
    "                                                    eps=davies_bouldin_params_k733_2018['epsilon'],\n",
    "                                                    min_samples=davies_bouldin_params_k733_2018['min_samples'],\n",
    "                                                    metric=davies_bouldin_params_k733_2018['metric'],\n",
    "                                                    cluster_method=davies_bouldin_params_k733_2018['cluster_method'],\n",
    "                                                    metric_params=k733_2018_davies_bouldin_metric_params[davies_bouldin_params_k733_2018['metric']],\n",
    "                                                    xi=davies_bouldin_params_k733_2018['xi'])\n",
    "optics_model_davies_bouldin_k733_2018"
   ]
  },
  {
   "cell_type": "markdown",
   "metadata": {},
   "source": [
    "## calculate cluster centers"
   ]
  },
  {
   "cell_type": "code",
   "execution_count": null,
   "metadata": {},
   "outputs": [],
   "source": [
    "def calculate_cluster_centers(X, labels, unique_labels):\n",
    "    cluster_centers = {}\n",
    "    for unique_label in unique_labels:\n",
    "        if unique_label != -1:\n",
    "            cluster_centers[unique_label] = np.mean(X[labels == unique_label], axis=0)\n",
    "\n",
    "    return cluster_centers"
   ]
  },
  {
   "cell_type": "markdown",
   "metadata": {},
   "source": [
    "#### k729_2022"
   ]
  },
  {
   "cell_type": "code",
   "execution_count": null,
   "metadata": {},
   "outputs": [],
   "source": [
    "labels_silhouette_k729_2022 = optics_model_silhouette_k729_2022.labels_\n",
    "unique_labels_silhouette_k729_2022 = np.unique(labels_silhouette_k729_2022)\n",
    "cluster_centers_silhouette_k729_2022 = calculate_cluster_centers(X_k729_2022, labels_silhouette_k729_2022, unique_labels_silhouette_k729_2022)\n",
    "\n",
    "labels_calinski_harabasz_k729_2022 = optics_model_calinski_harabasz_k729_2022.labels_\n",
    "unique_labels_calinski_harabasz_k729_2022 = np.unique(labels_calinski_harabasz_k729_2022)\n",
    "cluster_centers_calinski_harabasz_k729_2022 = calculate_cluster_centers(X_k729_2022, labels_calinski_harabasz_k729_2022, unique_labels_calinski_harabasz_k729_2022)\n",
    "\n",
    "labels_davies_bouldin_k729_2022 = optics_model_davies_bouldin_k729_2022.labels_\n",
    "unique_labels_davies_bouldin_k729_2022 = np.unique(labels_davies_bouldin_k729_2022)\n",
    "cluster_centers_davies_bouldin_k729_2022 = calculate_cluster_centers(X_k729_2022, labels_davies_bouldin_k729_2022, unique_labels_davies_bouldin_k729_2022)\n"
   ]
  },
  {
   "cell_type": "markdown",
   "metadata": {},
   "source": [
    "#### k733_2020"
   ]
  },
  {
   "cell_type": "code",
   "execution_count": null,
   "metadata": {},
   "outputs": [],
   "source": [
    "labels_silhouette_k733_2020 = optics_model_silhouette_k733_2020.labels_\n",
    "unique_labels_silhouette_k733_2020 = np.unique(labels_silhouette_k733_2020)\n",
    "cluster_centers_silhouette_k733_2020 = calculate_cluster_centers(X_k733_2020, labels_silhouette_k733_2020, unique_labels_silhouette_k733_2020)\n",
    "\n",
    "labels_calinski_harabasz_k733_2020 = optics_model_calinski_harabasz_k733_2020.labels_\n",
    "unique_labels_calinski_harabasz_k733_2020 = np.unique(labels_calinski_harabasz_k733_2020)\n",
    "cluster_centers_calinski_harabasz_k733_2020 = calculate_cluster_centers(X_k733_2020, labels_calinski_harabasz_k733_2020, unique_labels_calinski_harabasz_k733_2020)\n",
    "\n",
    "labels_davies_bouldin_k733_2020 = optics_model_davies_bouldin_k733_2020.labels_\n",
    "unique_labels_davies_bouldin_k733_2020 = np.unique(labels_davies_bouldin_k733_2020)\n",
    "cluster_centers_davies_bouldin_k733_2020 = calculate_cluster_centers(X_k733_2020, labels_davies_bouldin_k733_2020, unique_labels_davies_bouldin_k733_2020)"
   ]
  },
  {
   "cell_type": "markdown",
   "metadata": {},
   "source": [
    "#### k733_2018"
   ]
  },
  {
   "cell_type": "code",
   "execution_count": null,
   "metadata": {},
   "outputs": [],
   "source": [
    "labels_silhouette_k733_2018 = optics_model_silhouette_k733_2018.labels_\n",
    "unique_labels_silhouette_k733_2018 = np.unique(labels_silhouette_k733_2018)\n",
    "cluster_centers_silhouette_k733_2018 = calculate_cluster_centers(X_k733_2018, labels_silhouette_k733_2018, unique_labels_silhouette_k733_2018)\n",
    "\n",
    "labels_calinski_harabasz_k733_2018 = optics_model_calinski_harabasz_k733_2018.labels_\n",
    "unique_labels_calinski_harabasz_k733_2018 = np.unique(labels_calinski_harabasz_k733_2018)\n",
    "cluster_centers_calinski_harabasz_k733_2018 = calculate_cluster_centers(X_k733_2018, labels_calinski_harabasz_k733_2018, unique_labels_calinski_harabasz_k733_2018)\n",
    "\n",
    "labels_davies_bouldin_k733_2018 = optics_model_davies_bouldin_k733_2018.labels_\n",
    "unique_labels_davies_bouldin_k733_2018 = np.unique(labels_davies_bouldin_k733_2018)\n",
    "cluster_centers_davies_bouldin_k733_2018 = calculate_cluster_centers(X_k733_2018, labels_davies_bouldin_k733_2018, unique_labels_davies_bouldin_k733_2018)"
   ]
  },
  {
   "cell_type": "markdown",
   "metadata": {},
   "source": [
    "## calculate distances of points from cluster centers"
   ]
  },
  {
   "cell_type": "code",
   "execution_count": null,
   "metadata": {},
   "outputs": [],
   "source": [
    "def calculate_cluster_centers_distances(X, cluster_centers):\n",
    "    distances = {}\n",
    "    for key, value in cluster_centers.items():\n",
    "        distances[key] = []\n",
    "        for coord in X:\n",
    "            distances[key].append(np.linalg.norm(coord - value))\n",
    "    return distances"
   ]
  },
  {
   "cell_type": "markdown",
   "metadata": {},
   "source": [
    "#### k729_2022"
   ]
  },
  {
   "cell_type": "code",
   "execution_count": null,
   "metadata": {},
   "outputs": [],
   "source": [
    "distances_first_coords_silhouette_k729_2022 = calculate_cluster_centers_distances(first_coordinates_k729_2022, cluster_centers_silhouette_k729_2022)\n",
    "distances_last_coords_silhouette_k729_2022 = calculate_cluster_centers_distances(last_coordinates_k729_2022, cluster_centers_silhouette_k729_2022)\n",
    "\n",
    "distances_first_coords_calinski_harabasz_k729_2022 = calculate_cluster_centers_distances(first_coordinates_k729_2022, cluster_centers_calinski_harabasz_k729_2022)\n",
    "distances_last_coords_calinski_harabasz_k729_2022 = calculate_cluster_centers_distances(last_coordinates_k729_2022, cluster_centers_calinski_harabasz_k729_2022)\n",
    "\n",
    "distances_first_coords_davies_bouldin_k729_2022 = calculate_cluster_centers_distances(first_coordinates_k729_2022, cluster_centers_davies_bouldin_k729_2022)\n",
    "distances_last_coords_davies_bouldin_k729_2022 = calculate_cluster_centers_distances(last_coordinates_k729_2022, cluster_centers_davies_bouldin_k729_2022)"
   ]
  },
  {
   "cell_type": "markdown",
   "metadata": {},
   "source": [
    "#### k733_2020"
   ]
  },
  {
   "cell_type": "code",
   "execution_count": null,
   "metadata": {},
   "outputs": [],
   "source": [
    "distances_first_coords_silhouette_k733_2020 = calculate_cluster_centers_distances(first_coordinates_k733_2020, cluster_centers_silhouette_k733_2020)\n",
    "distances_last_coords_silhouette_k733_2020 = calculate_cluster_centers_distances(last_coordinates_k733_2020, cluster_centers_silhouette_k733_2020)\n",
    "\n",
    "distances_first_coords_calinski_harabasz_k733_2020 = calculate_cluster_centers_distances(first_coordinates_k733_2020, cluster_centers_calinski_harabasz_k733_2020)\n",
    "distances_last_coords_calinski_harabasz_k733_2020 = calculate_cluster_centers_distances(last_coordinates_k733_2020, cluster_centers_calinski_harabasz_k733_2020)\n",
    "\n",
    "distances_first_coords_davies_bouldin_k733_2020 = calculate_cluster_centers_distances(first_coordinates_k733_2020, cluster_centers_davies_bouldin_k733_2020)\n",
    "distances_last_coords_davies_bouldin_k733_2020 = calculate_cluster_centers_distances(last_coordinates_k733_2020, cluster_centers_davies_bouldin_k733_2020)"
   ]
  },
  {
   "cell_type": "markdown",
   "metadata": {},
   "source": [
    "#### k733_2018"
   ]
  },
  {
   "cell_type": "code",
   "execution_count": null,
   "metadata": {},
   "outputs": [],
   "source": [
    "distances_first_coords_silhouette_k733_2018 = calculate_cluster_centers_distances(first_coordinates_k733_2018, cluster_centers_silhouette_k733_2018)\n",
    "distances_last_coords_silhouette_k733_2018 = calculate_cluster_centers_distances(last_coordinates_k733_2018, cluster_centers_silhouette_k733_2018)\n",
    "\n",
    "distances_first_coords_calinski_harabasz_k733_2018 = calculate_cluster_centers_distances(first_coordinates_k733_2018, cluster_centers_calinski_harabasz_k733_2018)\n",
    "distances_last_coords_calinski_harabasz_k733_2018 = calculate_cluster_centers_distances(last_coordinates_k733_2018, cluster_centers_calinski_harabasz_k733_2018)\n",
    "\n",
    "distances_first_coords_davies_bouldin_k733_2018 = calculate_cluster_centers_distances(first_coordinates_k733_2018, cluster_centers_davies_bouldin_k733_2018)\n",
    "distances_last_coords_davies_bouldin_k733_2018 = calculate_cluster_centers_distances(last_coordinates_k733_2018, cluster_centers_davies_bouldin_k733_2018)"
   ]
  },
  {
   "cell_type": "markdown",
   "metadata": {},
   "source": [
    "## get indices where both start and endpoint are within certain threshold from cluster centers"
   ]
  },
  {
   "cell_type": "code",
   "execution_count": null,
   "metadata": {},
   "outputs": [],
   "source": [
    "def get_indices_first_last_coords_below_threshold(distances_first, distances_last, threshold):\n",
    "    indices_first_coords = []\n",
    "    indices_last_coords = []\n",
    "    for (key_first, values_first), (key_last, values_last) in zip(distances_first.items(), distances_last.items()):\n",
    "        current_cluster_indices = []\n",
    "        # print(f'--------------Checking cluster {key_first} and {key_last}--------------')\n",
    "        if len(values_first) != len(values_last):\n",
    "            raise ValueError(\"Length of values_first and values_last do not match\")\n",
    "        for i in range(len(values_first)):\n",
    "            if values_first[i] < threshold :\n",
    "                # print(f'Index {i} is below threshold')\n",
    "                indices_first_coords.append(i)\n",
    "                current_cluster_indices.append(i)\n",
    "        for i in range(len(values_last)):\n",
    "            if values_last[i] < threshold:\n",
    "                # print(f'Index {i} is below threshold')\n",
    "                indices_last_coords.append(i)\n",
    "                if i in current_cluster_indices:\n",
    "                    # print(f'Index {i} is in both lists')\n",
    "                    # remove index from both lists\n",
    "                    indices_first_coords = [index for index in indices_first_coords if index != i]\n",
    "                    indices_last_coords = [index for index in indices_last_coords if index != i]\n",
    "        \n",
    "\n",
    "\n",
    "    return np.intersect1d(indices_first_coords, indices_last_coords)    "
   ]
  },
  {
   "cell_type": "markdown",
   "metadata": {},
   "source": [
    "### adjust threshold for each intersection"
   ]
  },
  {
   "cell_type": "code",
   "execution_count": null,
   "metadata": {},
   "outputs": [],
   "source": [
    "threshold_k729_2022 = 4\n",
    "threshold_k733_2020 = 8\n",
    "threshold_k733_2018 = 5"
   ]
  },
  {
   "cell_type": "markdown",
   "metadata": {},
   "source": [
    "#### k729_2022"
   ]
  },
  {
   "cell_type": "code",
   "execution_count": null,
   "metadata": {},
   "outputs": [],
   "source": [
    "indices_silhouette_k729_2022 = get_indices_first_last_coords_below_threshold(distances_first_coords_silhouette_k729_2022, \n",
    "                                                                             distances_last_coords_silhouette_k729_2022, \n",
    "                                                                             threshold_k729_2022)\n",
    "indices_calinski_harabasz_k729_2022 = get_indices_first_last_coords_below_threshold(distances_first_coords_calinski_harabasz_k729_2022,\n",
    "                                                                                    distances_last_coords_calinski_harabasz_k729_2022,\n",
    "                                                                                    threshold_k729_2022)\n",
    "indices_davies_bouldin_k729_2022 = get_indices_first_last_coords_below_threshold(distances_first_coords_davies_bouldin_k729_2022,\n",
    "                                                                                    distances_last_coords_davies_bouldin_k729_2022,\n",
    "                                                                                    threshold_k729_2022)"
   ]
  },
  {
   "cell_type": "markdown",
   "metadata": {},
   "source": [
    "#### k733_2020"
   ]
  },
  {
   "cell_type": "code",
   "execution_count": null,
   "metadata": {},
   "outputs": [],
   "source": [
    "indices_silhouette_k733_2020 = get_indices_first_last_coords_below_threshold(distances_first_coords_silhouette_k733_2020,\n",
    "                                                                                distances_last_coords_silhouette_k733_2020,\n",
    "                                                                                threshold_k733_2020)\n",
    "indices_calinski_harabasz_k733_2020 = get_indices_first_last_coords_below_threshold(distances_first_coords_calinski_harabasz_k733_2020,\n",
    "                                                                                    distances_last_coords_calinski_harabasz_k733_2020,\n",
    "                                                                                    threshold_k733_2020)\n",
    "indices_davies_bouldin_k733_2020 = get_indices_first_last_coords_below_threshold(distances_first_coords_davies_bouldin_k733_2020,\n",
    "                                                                                    distances_last_coords_davies_bouldin_k733_2020,\n",
    "                                                                                    threshold_k733_2020)"
   ]
  },
  {
   "cell_type": "markdown",
   "metadata": {},
   "source": [
    "#### k733_2018"
   ]
  },
  {
   "cell_type": "code",
   "execution_count": null,
   "metadata": {},
   "outputs": [],
   "source": [
    "indices_silhouette_k733_2018 = get_indices_first_last_coords_below_threshold(distances_first_coords_silhouette_k733_2018,\n",
    "                                                                                distances_last_coords_silhouette_k733_2018,\n",
    "                                                                                threshold_k733_2018)\n",
    "indices_calinski_harabasz_k733_2018 = get_indices_first_last_coords_below_threshold(distances_first_coords_calinski_harabasz_k733_2018,\n",
    "                                                                                    distances_last_coords_calinski_harabasz_k733_2018,\n",
    "                                                                                    threshold_k733_2018)\n",
    "indices_davies_bouldin_k733_2018 = get_indices_first_last_coords_below_threshold(distances_first_coords_davies_bouldin_k733_2018,\n",
    "                                                                                    distances_last_coords_davies_bouldin_k733_2018,\n",
    "                                                                                    threshold_k733_2018)"
   ]
  },
  {
   "cell_type": "markdown",
   "metadata": {},
   "source": [
    "## plot all tracks where distance of start and end points to cluster is below threshold"
   ]
  },
  {
   "cell_type": "markdown",
   "metadata": {},
   "source": [
    "#### k729_2022"
   ]
  },
  {
   "cell_type": "code",
   "execution_count": null,
   "metadata": {},
   "outputs": [],
   "source": [
    "# create a dataframe which only includes the indices \n",
    "df_cuid_grouped_k729_2022_filtered_silhouette = df_cuid_grouped_k729_2022.iloc[indices_silhouette_k729_2022]\n",
    "df_cuid_k729_2022_filtered_silhouette = df_cuid_k729_2022.iloc[indices_silhouette_k729_2022]\n",
    "\n",
    "df_cuid_grouped_k729_2022_filtered_calinski_harabasz = df_cuid_grouped_k729_2022.iloc[indices_calinski_harabasz_k729_2022]\n",
    "df_cuid_k729_2022_filtered_calinski_harabasz = df_cuid_k729_2022.iloc[indices_calinski_harabasz_k729_2022]\n",
    "\n",
    "df_cuid_grouped_k729_2022_filtered_davies_bouldin = df_cuid_grouped_k729_2022.iloc[indices_davies_bouldin_k729_2022]\n",
    "df_cuid_k729_2022_filtered_davies_bouldin = df_cuid_k729_2022.iloc[indices_davies_bouldin_k729_2022]\n"
   ]
  },
  {
   "cell_type": "code",
   "execution_count": null,
   "metadata": {},
   "outputs": [],
   "source": [
    "from matplotlib import pyplot as plt\n",
    "from src.visualization.plot_vehicle_tracks_in_notebook import plot_vehicle_tracks_in_notebook\n",
    "\n",
    "fig, axs = plt.subplots(1, 3, figsize=(15, 5))\n",
    "\n",
    "plot_vehicle_tracks_in_notebook(axs[0], df_cuid_k729_2022, df_cuid_grouped_k729_2022_filtered_silhouette, 'Silhouette filtered tracks')\n",
    "plot_vehicle_tracks_in_notebook(axs[1], df_cuid_k729_2022, df_cuid_grouped_k729_2022_filtered_calinski_harabasz, 'Calinski Harabasz filtered tracks')\n",
    "plot_vehicle_tracks_in_notebook(axs[2], df_cuid_k729_2022, df_cuid_grouped_k729_2022_filtered_davies_bouldin, 'Davies Bouldin filtered tracks')\n",
    "plt.gcf().suptitle(f'k729_2022 Vehicle Tracks with Start and Endpoints below {threshold_k729_2022}')\n",
    "plt.show()"
   ]
  },
  {
   "cell_type": "markdown",
   "metadata": {},
   "source": [
    "#### k733_2020"
   ]
  },
  {
   "cell_type": "code",
   "execution_count": null,
   "metadata": {},
   "outputs": [],
   "source": [
    "fig, axs = plt.subplots(1, 3, figsize=(15, 5))\n",
    "\n",
    "plot_vehicle_tracks_in_notebook(axs[0], df_cuid_k733_2020, df_cuid_grouped_k733_2020.iloc[indices_silhouette_k733_2020], 'Silhouette filtered tracks')\n",
    "plot_vehicle_tracks_in_notebook(axs[1], df_cuid_k733_2020, df_cuid_grouped_k733_2020.iloc[indices_calinski_harabasz_k733_2020], 'Calinski Harabasz filtered tracks')\n",
    "plot_vehicle_tracks_in_notebook(axs[2], df_cuid_k733_2020, df_cuid_grouped_k733_2020.iloc[indices_davies_bouldin_k733_2020], 'Davies Bouldin filtered tracks')\n",
    "plt.gcf().suptitle(f'k733_2020 Vehicle Tracks with Start and Endpoints below {threshold_k733_2020}')\n",
    "plt.show()"
   ]
  },
  {
   "cell_type": "markdown",
   "metadata": {},
   "source": [
    "#### k733_2018"
   ]
  },
  {
   "cell_type": "code",
   "execution_count": null,
   "metadata": {},
   "outputs": [],
   "source": [
    "fig, axs = plt.subplots(1, 3, figsize=(15, 5))\n",
    "\n",
    "plot_vehicle_tracks_in_notebook(axs[0], df_cuid_k733_2018, df_cuid_grouped_k733_2018.iloc[indices_silhouette_k733_2018], 'Silhouette filtered tracks')\n",
    "plot_vehicle_tracks_in_notebook(axs[1], df_cuid_k733_2018, df_cuid_grouped_k733_2018.iloc[indices_calinski_harabasz_k733_2018], 'Calinski Harabasz filtered tracks')\n",
    "plot_vehicle_tracks_in_notebook(axs[2], df_cuid_k733_2018, df_cuid_grouped_k733_2018.iloc[indices_davies_bouldin_k733_2018], 'Davies Bouldin filtered tracks')\n",
    "plt.gcf().suptitle(f'k733_2018 Vehicle Tracks with Start and Endpoints below {threshold_k733_2018}')\n",
    "plt.show()"
   ]
  },
  {
   "cell_type": "code",
   "execution_count": null,
   "metadata": {},
   "outputs": [],
   "source": []
  }
 ],
 "metadata": {
  "kernelspec": {
   "display_name": "ba_thesis",
   "language": "python",
   "name": "python3"
  },
  "language_info": {
   "codemirror_mode": {
    "name": "ipython",
    "version": 3
   },
   "file_extension": ".py",
   "mimetype": "text/x-python",
   "name": "python",
   "nbconvert_exporter": "python",
   "pygments_lexer": "ipython3",
   "version": "3.12.2"
  }
 },
 "nbformat": 4,
 "nbformat_minor": 2
}
