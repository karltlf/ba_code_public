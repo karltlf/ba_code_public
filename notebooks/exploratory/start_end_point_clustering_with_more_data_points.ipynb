{
 "cells": [
  {
   "cell_type": "code",
   "execution_count": null,
   "metadata": {},
   "outputs": [],
   "source": [
    "# PASTE THIS TO THE FIRST CELL OF THE NOTEBOOK IN ORDER TO HAVE WORKING IMPORTS\n",
    "import sys\n",
    "import os\n",
    "current_dir = os.getcwd()\n",
    "parent_parent_dir = os.path.abspath(os.path.join(current_dir, '../..')) # tweak so that you get dir of code project\n",
    "\n",
    "sys.path.append(parent_parent_dir)"
   ]
  },
  {
   "cell_type": "code",
   "execution_count": null,
   "metadata": {},
   "outputs": [],
   "source": [
    "from sklearn.cluster import OPTICS\n",
    "import numpy as np\n",
    "import pandas as pd\n",
    "import ast\n",
    "import matplotlib.pyplot as plt"
   ]
  },
  {
   "cell_type": "markdown",
   "metadata": {},
   "source": [
    "## data import"
   ]
  },
  {
   "cell_type": "code",
   "execution_count": null,
   "metadata": {},
   "outputs": [],
   "source": [
    "from src.features.get_x_y_tuple_list import get_x_y_tuple_list\n",
    "from src.features.get_first_and_last_x_y_coordinates import get_first_and_last_x_y_coordinates \n",
    "from src.features.get_first_x_y_coordinates import get_first_x_y_coordinates\n",
    "from src.features.get_last_x_y_coordinates import get_last_x_y_coordinates\n",
    "def import_data(df_path):\n",
    "    df_cuid = pd.read_csv(df_path)\n",
    "    df_cuid_grouped_path = df_path.replace('.csv', '_grouped.csv')\n",
    "    df_cuid_grouped = pd.read_csv(df_cuid_grouped_path)\n",
    "    # 1.1 CONVERT FEATURES TO NUMBERS\n",
    "    df_cuid_grouped['x'] = df_cuid_grouped['x'].apply(lambda x: ast.literal_eval(x))\n",
    "    df_cuid_grouped['y'] = df_cuid_grouped['y'].apply(lambda y: ast.literal_eval(y))\n",
    "    list_x_y_tuples = get_x_y_tuple_list(df_cuid_grouped, ['x','y'])\n",
    "    first_last_x_coords, first_last_y_coords = get_first_and_last_x_y_coordinates(list_x_y_tuples)\n",
    "    X = np.array([first_last_x_coords, first_last_y_coords]).T\n",
    "\n",
    "    first_x_coords, first_y_coords = get_first_x_y_coordinates(list_x_y_tuples)\n",
    "    first_coordinates = np.array([first_x_coords, first_y_coords]).T\n",
    "\n",
    "    last_x_coords, last_y_coords = get_last_x_y_coordinates(list_x_y_tuples)\n",
    "    last_coordinates = np.array([last_x_coords, last_y_coords]).T\n",
    "    return df_cuid, df_cuid_grouped, X, first_coordinates, last_coordinates, list_x_y_tuples\n",
    "        "
   ]
  },
  {
   "cell_type": "code",
   "execution_count": null,
   "metadata": {},
   "outputs": [],
   "source": [
    "df_path_k729_2022 = f'{parent_parent_dir}/data/processed/k729_2022_cuid.csv'\n",
    "df_path_k733_2020 = f'{parent_parent_dir}/data/processed/k733_2020_cuid.csv'\n",
    "df_path_k733_2018 = f'{parent_parent_dir}/data/processed/k733_2018_cuid.csv'\n",
    "\n",
    "df_cuid_k729_2022, df_cuid_grouped_k729_2022, X_k729_2022, first_coordinates_k729_2022, last_coordinates_k729_2022, list_x_y_tuples_k729_2022 = import_data(df_path_k729_2022)\n",
    "df_cuid_k733_2020, df_cuid_grouped_k733_2020, X_k733_2020, first_coordinates_k733_2020, last_coordinates_k733_2020, list_x_y_tuples_k733_2020 = import_data(df_path_k733_2020)\n",
    "df_cuid_k733_2018, df_cuid_grouped_k733_2018, X_k733_2018, first_coordinates_k733_2018, last_coordinates_k733_2018, list_x_y_tuples_k733_2018 = import_data(df_path_k733_2018)"
   ]
  },
  {
   "cell_type": "code",
   "execution_count": null,
   "metadata": {},
   "outputs": [],
   "source": [
    "from src.visualization.plot_vehicle_tracks_in_notebook import plot_vehicle_tracks_in_notebook\n",
    "plot_vehicle_tracks_in_notebook(plt.gca(), df_cuid_k729_2022, df_cuid_grouped_k729_2022)"
   ]
  },
  {
   "cell_type": "markdown",
   "metadata": {},
   "source": [
    "indices top right -> top middle\n",
    "\n",
    "2 4\n",
    "\n",
    "indices bottom mid -> top left\n",
    "\n",
    "9 10 70 71 "
   ]
  },
  {
   "cell_type": "code",
   "execution_count": null,
   "metadata": {},
   "outputs": [],
   "source": [
    "indices_group_1 = [9, 10, 70, 71]\n",
    "indices_group_2 = [2, 4]\n",
    "# filter dataframe for indices of interest\n",
    "df_cuid_grouped_k729_2022_group_1 = df_cuid_grouped_k729_2022[df_cuid_grouped_k729_2022['track_id'].isin(indices_group_1)]\n",
    "df_cuid_grouped_k729_2022_group_2 = df_cuid_grouped_k729_2022[df_cuid_grouped_k729_2022['track_id'].isin(indices_group_2)]\n",
    "\n",
    "# create x y tuple lists for each group\n",
    "df_cuid_grouped_k729_2022_group_1 = df_cuid_grouped_k729_2022_group_1.reset_index(drop=True)\n",
    "df_cuid_grouped_k729_2022_group_2 = df_cuid_grouped_k729_2022_group_2.reset_index(drop=True)\n",
    "list_x_y_tuples_group_1 = get_x_y_tuple_list(df_cuid_grouped_k729_2022_group_1, ['x','y'])\n",
    "list_x_y_tuples_group_2 = get_x_y_tuple_list(df_cuid_grouped_k729_2022_group_2, ['x','y'])"
   ]
  },
  {
   "cell_type": "code",
   "execution_count": null,
   "metadata": {},
   "outputs": [],
   "source": [
    "from sklearn.mixture import GaussianMixture\n",
    "import numpy as np\n",
    "\n",
    "def generate_new_paths(paths, num_new_paths):\n",
    "    # Flatten the paths (each path is a sequence of (x, y) points)\n",
    "    flattened_data = np.vstack(paths)\n",
    "\n",
    "    # Fit a Gaussian Mixture Model\n",
    "    gmm = GaussianMixture(n_components=5, covariance_type='full')\n",
    "    gmm.fit(flattened_data)\n",
    "\n",
    "    # Generate new points from the GMM\n",
    "    new_paths = []\n",
    "    for _ in range(num_new_paths):\n",
    "        new_path = gmm.sample(flattened_data.shape[0])[0]  # Generate new samples\n",
    "        \n",
    "        # Split the new_path into x and y components\n",
    "        x_values = new_path[:, 0]  # First column corresponds to x values\n",
    "        y_values = new_path[:, 1]  # Second column corresponds to y values\n",
    "        \n",
    "        # Append the x and y lists as tuples to the new_paths list\n",
    "        new_paths.append((x_values.tolist(), y_values.tolist()))\n",
    "\n",
    "    return new_paths\n"
   ]
  },
  {
   "cell_type": "code",
   "execution_count": null,
   "metadata": {},
   "outputs": [],
   "source": [
    "new_paths_group_1 = generate_new_paths(list_x_y_tuples_group_1, 10)\n",
    "new_paths_group_2 = generate_new_paths(list_x_y_tuples_group_2, 10)"
   ]
  },
  {
   "cell_type": "code",
   "execution_count": null,
   "metadata": {},
   "outputs": [],
   "source": [
    "# append new paths to df\n",
    "df_new_paths_group_1 = pd.DataFrame(new_paths_group_1, columns=['x', 'y'])\n",
    "df_new_paths_group_2 = pd.DataFrame(new_paths_group_2, columns=['x', 'y'])\n",
    "# append new df to old df\n",
    "df_additional_paths = pd.concat([df_cuid_grouped_k729_2022, df_new_paths_group_1, df_new_paths_group_2], ignore_index=True)\n",
    "df_additional_paths = df_additional_paths.reset_index(drop=True)\n",
    "df_additional_paths['track_id'] = df_additional_paths.index\n",
    "df_additional_paths = df_additional_paths.loc[:, ~df_additional_paths.columns.str.contains('^Unnamed')]"
   ]
  },
  {
   "cell_type": "code",
   "execution_count": null,
   "metadata": {},
   "outputs": [],
   "source": [
    "# additional_paths_optimization\n",
    "from src.models.optics.optimize_optics_parallelized_no_aic_bic import optimize_optics_parallelized_no_aic_bic\n",
    "list_x_y_tuples_additional_paths = get_x_y_tuple_list(df_additional_paths, ['x','y'])\n",
    "first_last_x_coords_additional_paths, first_last_y_coords_additional_paths = get_first_and_last_x_y_coordinates(list_x_y_tuples_additional_paths)\n",
    "X_additional_paths = np.array([first_last_x_coords_additional_paths, first_last_y_coords_additional_paths]).T"
   ]
  },
  {
   "cell_type": "code",
   "execution_count": null,
   "metadata": {},
   "outputs": [],
   "source": [
    "import json \n",
    "with open(f'{parent_parent_dir}/src/models/optics/optimized_optics_clustering_parameters/optimization_parameters_clustering_start_end_report_notebook.json') as f:\n",
    "    optimization_parameters = json.load(f)\n",
    "print(optimization_parameters)"
   ]
  },
  {
   "cell_type": "code",
   "execution_count": null,
   "metadata": {},
   "outputs": [],
   "source": [
    "optimization_results_additional_paths = optimize_optics_parallelized_no_aic_bic(X_additional_paths, \n",
    "                                        max_eps_range=optimization_parameters['max_eps_range'], \n",
    "                                        min_samples_range=optimization_parameters['min_samples_range'], \n",
    "                                        metrics=optimization_parameters['metrics'],\n",
    "                                        cluster_methods=optimization_parameters['cluster_methods'],\n",
    "                                        xis=optimization_parameters['xis']\n",
    ")"
   ]
  },
  {
   "cell_type": "code",
   "execution_count": null,
   "metadata": {},
   "outputs": [],
   "source": [
    "print(optimization_results_additional_paths)"
   ]
  },
  {
   "cell_type": "code",
   "execution_count": null,
   "metadata": {},
   "outputs": [],
   "source": [
    "from src.models.ensure_distance_metric_params import ensure_distance_metric_params\n",
    "from src.models.DISTANCE_METRICS_WITH_ADDITIONAL_ARGS import DISTANCE_METRICS_WITH_ADDITIONAL_ARGS\n",
    "def get_optimized_model_from_eval_metric(X, eval_metric, optimized_params):\n",
    "    if optimized_params[eval_metric]['metric'] in DISTANCE_METRICS_WITH_ADDITIONAL_ARGS: \n",
    "        metric_params = ensure_distance_metric_params(X, [optimized_params[eval_metric]['metric']])[optimized_params[eval_metric]['metric']]\n",
    "    else:\n",
    "        metric_params = {}\n",
    "    xi_kwarg = {'xi': optimized_params[eval_metric]['xi']} if optimized_params[eval_metric]['xi'] is not None else {}\n",
    "    return OPTICS(max_eps=optimized_params[eval_metric]['epsilon'],\n",
    "                  min_samples=optimized_params[eval_metric]['min_samples'],\n",
    "                  metric=optimized_params[eval_metric]['metric'],\n",
    "                  cluster_method=optimized_params[eval_metric]['cluster_method'],\n",
    "                  metric_params=metric_params,\n",
    "                  **xi_kwarg)\n",
    "\n",
    "optics_model_additional_paths = get_optimized_model_from_eval_metric(X_additional_paths, 'silhouette', optimization_results_additional_paths)\n",
    "optics_model_additional_paths.fit(X_additional_paths)"
   ]
  },
  {
   "cell_type": "code",
   "execution_count": null,
   "metadata": {},
   "outputs": [],
   "source": [
    "from src.models.optics.calculate_cluster_medoids import calculate_cluster_medoids\n",
    "medoids_additional_paths = calculate_cluster_medoids(X_additional_paths, optics_model_additional_paths)"
   ]
  },
  {
   "cell_type": "code",
   "execution_count": null,
   "metadata": {},
   "outputs": [],
   "source": [
    "plot_vehicle_tracks_in_notebook(plt.gca(), df_cuid_k729_2022, df_additional_paths, 'k729_2022 vehicle tracks and optics medoids for additional paths', color='gray')\n",
    "plt.gca().scatter(medoids_additional_paths[:,0], medoids_additional_paths[:,1], c='red', s=100)\n",
    "# plot radius around medoids\n",
    "for medoid in medoids_additional_paths:\n",
    "    plt.gca().add_artist(plt.Circle(medoid, optics_model_additional_paths.get_params()['max_eps'], color='red', fill=False))"
   ]
  },
  {
   "cell_type": "code",
   "execution_count": null,
   "metadata": {},
   "outputs": [],
   "source": []
  }
 ],
 "metadata": {
  "kernelspec": {
   "display_name": "ba_thesis",
   "language": "python",
   "name": "python3"
  },
  "language_info": {
   "codemirror_mode": {
    "name": "ipython",
    "version": 3
   },
   "file_extension": ".py",
   "mimetype": "text/x-python",
   "name": "python",
   "nbconvert_exporter": "python",
   "pygments_lexer": "ipython3",
   "version": "3.12.2"
  }
 },
 "nbformat": 4,
 "nbformat_minor": 2
}
