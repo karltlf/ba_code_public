{
 "cells": [
  {
   "cell_type": "code",
   "execution_count": null,
   "metadata": {},
   "outputs": [],
   "source": [
    "# PASTE THIS TO THE FIRST CELL OF THE NOTEBOOK IN ORDER TO HAVE WORKING IMPORTS\n",
    "import sys\n",
    "import os\n",
    "current_dir = os.getcwd()\n",
    "parent_parent_dir = os.path.abspath(os.path.join(current_dir, '../..')) # tweak so that you get dir of code project\n",
    "\n",
    "sys.path.append(parent_parent_dir)"
   ]
  },
  {
   "cell_type": "code",
   "execution_count": null,
   "metadata": {},
   "outputs": [],
   "source": [
    "from sklearn.cluster import OPTICS\n",
    "import numpy as np\n",
    "import pandas as pd\n",
    "import ast"
   ]
  },
  {
   "cell_type": "markdown",
   "metadata": {},
   "source": [
    "## data import"
   ]
  },
  {
   "cell_type": "code",
   "execution_count": null,
   "metadata": {},
   "outputs": [],
   "source": [
    "from src.features.get_x_y_tuples import get_x_y_tuple_list\n",
    "from src.features.get_first_and_last_x_y_coordinates import get_first_and_last_x_y_coordinates \n",
    "from src.features.get_first_x_y_coordinates import get_first_x_y_coordinates\n",
    "from src.features.get_last_x_y_coordinates import get_last_x_y_coordinates\n",
    "def import_data(df_path):\n",
    "    df_cuid = pd.read_csv(df_path)\n",
    "    df_cuid_grouped_path = df_path.replace('.csv', '_grouped.csv')\n",
    "    df_cuid_grouped = pd.read_csv(df_cuid_grouped_path)\n",
    "    # 1.1 CONVERT FEATURES TO NUMBERS\n",
    "    df_cuid_grouped['x'] = df_cuid_grouped['x'].apply(lambda x: ast.literal_eval(x))\n",
    "    df_cuid_grouped['y'] = df_cuid_grouped['y'].apply(lambda y: ast.literal_eval(y))\n",
    "    list_x_y_tuples = get_x_y_tuple_list(df_cuid_grouped, ['x','y'])\n",
    "    first_last_x_coords, first_last_y_coords = get_first_and_last_x_y_coordinates(list_x_y_tuples)\n",
    "    X = np.array([first_last_x_coords, first_last_y_coords]).T\n",
    "\n",
    "    first_x_coords, first_y_coords = get_first_x_y_coordinates(list_x_y_tuples)\n",
    "    first_coordinates = np.array([first_x_coords, first_y_coords]).T\n",
    "\n",
    "    last_x_coords, last_y_coords = get_last_x_y_coordinates(list_x_y_tuples)\n",
    "    last_coordinates = np.array([last_x_coords, last_y_coords]).T\n",
    "    return df_cuid, df_cuid_grouped, X, first_coordinates, last_coordinates\n",
    "        "
   ]
  },
  {
   "cell_type": "code",
   "execution_count": null,
   "metadata": {},
   "outputs": [],
   "source": [
    "df_path_k729_2022 = f'{parent_parent_dir}/data/processed/k729_2022_cuid.csv'\n",
    "df_path_k733_2020 = f'{parent_parent_dir}/data/processed/k733_2020_cuid.csv'\n",
    "df_path_k733_2018 = f'{parent_parent_dir}/data/processed/k733_2018_cuid.csv'\n",
    "\n",
    "df_cuid_k729_2022, df_cuid_grouped_k729_2022, X_k729_2022, first_coordinates_k729_2022, last_coordinates_k729_2022 = import_data(df_path_k729_2022)\n",
    "df_cuid_k733_2020, df_cuid_grouped_k733_2020, X_k733_2020, first_coordinates_k733_2020, last_coordinates_k733_2020 = import_data(df_path_k733_2020)\n",
    "df_cuid_k733_2018, df_cuid_grouped_k733_2018, X_k733_2018, first_coordinates_k733_2018, last_coordinates_k733_2018 = import_data(df_path_k733_2018)"
   ]
  },
  {
   "cell_type": "code",
   "execution_count": null,
   "metadata": {},
   "outputs": [],
   "source": [
    "import json\n",
    "def get_optics_params(path):\n",
    "    with open(path) as f:\n",
    "        optics_params = json.load(f)\n",
    "    return optics_params"
   ]
  },
  {
   "cell_type": "markdown",
   "metadata": {},
   "source": [
    "#### get optimized optics params"
   ]
  },
  {
   "cell_type": "code",
   "execution_count": null,
   "metadata": {},
   "outputs": [],
   "source": [
    "# import optimized clustering parameters using the json file\n",
    "k729_2022_optics_params = get_optics_params(f'{parent_parent_dir}/src/models/optimized_optics_clustering_parameters/k729_2022_optics_optimized.json')\n",
    "k733_2020_optics_params = get_optics_params(f'{parent_parent_dir}/src/models/optimized_optics_clustering_parameters/k733_2020_optics_optimized.json')\n",
    "k733_2018_optics_params = get_optics_params(f'{parent_parent_dir}/src/models/optimized_optics_clustering_parameters/k733_2018_optics_optimized.json')"
   ]
  },
  {
   "cell_type": "code",
   "execution_count": null,
   "metadata": {},
   "outputs": [],
   "source": [
    "def extract_optic_params_from_dict(params):\n",
    "    max_eps = params['epsilon']\n",
    "    min_samples = params['min_samples']\n",
    "    metric = params['metric']\n",
    "    cluster_method = params['cluster_method']\n",
    "    xi = params['xi']\n",
    "    return max_eps, min_samples, metric, cluster_method, xi"
   ]
  },
  {
   "cell_type": "code",
   "execution_count": null,
   "metadata": {},
   "outputs": [],
   "source": [
    "k729_2022_silhouette_params = k729_2022_optics_params['silhouette']\n",
    "k733_2020_silhouette_params = k733_2020_optics_params['silhouette']\n",
    "k733_2018_silhouette_params = k733_2018_optics_params['silhouette']"
   ]
  },
  {
   "cell_type": "markdown",
   "metadata": {},
   "source": [
    "#### fit optimized optics model\n"
   ]
  },
  {
   "cell_type": "code",
   "execution_count": null,
   "metadata": {},
   "outputs": [],
   "source": [
    "from src.models.DISTANCE_METRICS_WITH_ADDITIONAL_ARGS import DISTANCE_METRICS_WITH_ADDITIONAL_ARGS\n",
    "from src.models.clustering_optimization.ensure_distance_metric_params import ensure_distance_metric_params\n",
    "def fit_optics(X, max_eps, min_samples, metric, cluster_method, xi):\n",
    "    if metric in DISTANCE_METRICS_WITH_ADDITIONAL_ARGS:\n",
    "        metric_params = ensure_distance_metric_params(X, metric)\n",
    "        print(f\"metric_params: {metric_params}\")\n",
    "    else:   \n",
    "        metric_params = None\n",
    "    if cluster_method == 'xi':\n",
    "        optics = OPTICS(max_eps=max_eps, min_samples=min_samples, metric=metric, cluster_method=cluster_method, xi=xi, metric_params=metric_params)\n",
    "    else:\n",
    "        optics = OPTICS(max_eps=max_eps, min_samples=min_samples, metric=metric, cluster_method=cluster_method, metric_params=metric_params)\n",
    "    optics.fit(X)\n",
    "    return optics"
   ]
  },
  {
   "cell_type": "code",
   "execution_count": null,
   "metadata": {},
   "outputs": [],
   "source": [
    "optics_k729_2022_silhouette = fit_optics(X_k729_2022, \n",
    "                                         max_eps=k729_2022_silhouette_params['epsilon'],\n",
    "                                         min_samples=k729_2022_silhouette_params['min_samples'],\n",
    "                                         metric=k729_2022_silhouette_params['metric'],\n",
    "                                         cluster_method=k729_2022_silhouette_params['cluster_method'],\n",
    "                                         xi=k729_2022_silhouette_params['xi'])\n",
    "optics_k729_2022_silhouette"
   ]
  },
  {
   "cell_type": "markdown",
   "metadata": {},
   "source": [
    "#### calculate cluster medoids and convex hulls"
   ]
  },
  {
   "cell_type": "code",
   "execution_count": null,
   "metadata": {},
   "outputs": [],
   "source": [
    "from src.models.optics.calculate_cluster_medoids import calculate_cluster_medoids\n",
    "from src.models.optics.calculate_cluster_convex_hulls import calculate_cluster_convex_hulls\n",
    "k729_2022_optics_silhouette_medoids = calculate_cluster_medoids(X_k729_2022, optics_k729_2022_silhouette)\n",
    "k729_2022_optics_silhouette_hulls = calculate_cluster_convex_hulls(X_k729_2022, optics_k729_2022_silhouette)"
   ]
  },
  {
   "cell_type": "markdown",
   "metadata": {},
   "source": [
    "#### plot vehicle tracks and cluster medoids"
   ]
  },
  {
   "cell_type": "code",
   "execution_count": null,
   "metadata": {},
   "outputs": [],
   "source": [
    "from src.visualization.plot_vehicle_tracks_in_notebook import plot_vehicle_tracks_in_notebook\n",
    "import matplotlib.pyplot as plt\n",
    "\n",
    "plot_vehicle_tracks_in_notebook(plt.gca(), df_cuid_k729_2022, df_cuid_grouped_k729_2022, 'k729_2022 vehicle tracks and optics medoids')\n",
    "plt.gca().scatter(k729_2022_optics_silhouette_medoids[:,0], k729_2022_optics_silhouette_medoids[:,1], c='red', s=100)\n",
    "# Now, plot the hulls by looping through each convex hull\n",
    "for hull in k729_2022_optics_silhouette_hulls:\n",
    "    # Create a closed loop for the convex hull by appending the first point at the end\n",
    "    hull_with_closure = np.vstack([hull, hull[0]])\n",
    "    plt.gca().plot(hull_with_closure[:, 0], hull_with_closure[:, 1], c='green', linestyle='--', linewidth=2)  # Dotted green lines\n",
    "\n",
    "plt.show()\n"
   ]
  },
  {
   "cell_type": "markdown",
   "metadata": {},
   "source": [
    "#### optimize with hull size"
   ]
  },
  {
   "cell_type": "code",
   "execution_count": null,
   "metadata": {},
   "outputs": [],
   "source": [
    "from src.models.clustering_optimization.optimize_optics_parallelized_with_hull_size_optimization import optimize_optics_parallelized_with_hull_size_optimization\n",
    "max_eps_range = np.arange(0.1, 10, 0.1)\n",
    "min_samples_range = np.arange(5, 10, 1)\n",
    "metrics = [\n",
    "    #'cosine', \n",
    "    'euclidean', \n",
    "    'manhattan', \n",
    "    'braycurtis', \n",
    "    'canberra', \n",
    "    'chebyshev', \n",
    "    'correlation', \n",
    "    'mahalanobis', \n",
    "    'minkowski', \n",
    "    'seuclidean', \n",
    "    'sqeuclidean'\n",
    "]\n",
    "xis = np.arange(0.01, 0.1, 0.01)\n",
    "cluster_methods = ['dbscan', 'xi']\n",
    "k729_2022_hull_optimization_results = optimize_optics_parallelized_with_hull_size_optimization(X_k729_2022,max_eps_range=max_eps_range, min_samples_range=min_samples_range, metrics=metrics, cluster_methods=cluster_methods, xis=xis, alpha=0.9, beta=0.1)"
   ]
  },
  {
   "cell_type": "code",
   "execution_count": null,
   "metadata": {},
   "outputs": [],
   "source": [
    "print(k729_2022_hull_optimization_results)"
   ]
  },
  {
   "cell_type": "markdown",
   "metadata": {},
   "source": [
    "#### silhouette"
   ]
  },
  {
   "cell_type": "code",
   "execution_count": null,
   "metadata": {},
   "outputs": [],
   "source": [
    "optics_k729_2022_silhouette_hull_optimized = fit_optics(X_k729_2022,\n",
    "                                                        max_eps=k729_2022_hull_optimization_results['combined_silhouette']['epsilon'],\n",
    "                                                        min_samples=k729_2022_hull_optimization_results['combined_silhouette']['min_samples'],\n",
    "                                                        metric=k729_2022_hull_optimization_results['combined_silhouette']['metric'],\n",
    "                                                        cluster_method=k729_2022_hull_optimization_results['combined_silhouette']['cluster_method'],\n",
    "                                                        xi=k729_2022_hull_optimization_results['combined_silhouette']['xi'])\n",
    "optics_k729_2022_silhouette_hull_optimized"
   ]
  },
  {
   "cell_type": "code",
   "execution_count": null,
   "metadata": {},
   "outputs": [],
   "source": [
    "k729_2022_optics_silhouette_hull_optimized_hulls = calculate_cluster_convex_hulls(X_k729_2022, optics_k729_2022_silhouette_hull_optimized)\n",
    "k729_2022_optics_silhouette_hull_optimized_medoids = calculate_cluster_medoids(X_k729_2022, optics_k729_2022_silhouette_hull_optimized)"
   ]
  },
  {
   "cell_type": "code",
   "execution_count": null,
   "metadata": {},
   "outputs": [],
   "source": [
    "plot_vehicle_tracks_in_notebook(plt.gca(), df_cuid_k729_2022, df_cuid_grouped_k729_2022, 'k729_2022 vehicle tracks and optics medoids')\n",
    "plt.gca().scatter(k729_2022_optics_silhouette_hull_optimized_medoids[:,0], k729_2022_optics_silhouette_hull_optimized_medoids[:,1], c='red', s=100)\n",
    "# Now, plot the hulls by looping through each convex hull\n",
    "for hull in k729_2022_optics_silhouette_hull_optimized_hulls:\n",
    "    # Create a closed loop for the convex hull by appending the first point at the end\n",
    "    hull_with_closure = np.vstack([hull, hull[0]])\n",
    "    plt.gca().plot(hull_with_closure[:, 0], hull_with_closure[:, 1], c='green', linestyle='--', linewidth=2)  # Dotted green lines\n",
    "\n",
    "plt.show()\n"
   ]
  },
  {
   "cell_type": "markdown",
   "metadata": {},
   "source": [
    "#### Calinski Harabasz"
   ]
  },
  {
   "cell_type": "code",
   "execution_count": null,
   "metadata": {},
   "outputs": [],
   "source": [
    "optics_k729_2022_combined_calinski_harabasz_hull_optimized = fit_optics(X_k729_2022,\n",
    "                                                        max_eps=k729_2022_hull_optimization_results['combined_calinski_harabasz']['epsilon'],\n",
    "                                                        min_samples=k729_2022_hull_optimization_results['combined_calinski_harabasz']['min_samples'],\n",
    "                                                        metric=k729_2022_hull_optimization_results['combined_calinski_harabasz']['metric'],\n",
    "                                                        cluster_method=k729_2022_hull_optimization_results['combined_calinski_harabasz']['cluster_method'],\n",
    "                                                        xi=k729_2022_hull_optimization_results['combined_calinski_harabasz']['xi'])\n",
    "optics_k729_2022_combined_calinski_harabasz_hull_optimized"
   ]
  },
  {
   "cell_type": "code",
   "execution_count": null,
   "metadata": {},
   "outputs": [],
   "source": [
    "k729_2022_optics_combined_calinski_harabasz_hull_optimized_hulls = calculate_cluster_convex_hulls(X_k729_2022, optics_k729_2022_combined_calinski_harabasz_hull_optimized)\n",
    "k729_2022_optics_combined_calinski_harabasz_hull_optimized_medoids = calculate_cluster_medoids(X_k729_2022, optics_k729_2022_combined_calinski_harabasz_hull_optimized)"
   ]
  },
  {
   "cell_type": "code",
   "execution_count": null,
   "metadata": {},
   "outputs": [],
   "source": [
    "plot_vehicle_tracks_in_notebook(plt.gca(), df_cuid_k729_2022, df_cuid_grouped_k729_2022, 'k729_2022 vehicle tracks and optics medoids')\n",
    "plt.gca().scatter(k729_2022_optics_combined_calinski_harabasz_hull_optimized_medoids[:,0], k729_2022_optics_combined_calinski_harabasz_hull_optimized_medoids[:,1], c='red', s=100)\n",
    "# Now, plot the hulls by looping through each convex hull\n",
    "for hull in k729_2022_optics_combined_calinski_harabasz_hull_optimized_hulls:\n",
    "    # Create a closed loop for the convex hull by appending the first point at the end\n",
    "    hull_with_closure = np.vstack([hull, hull[0]])\n",
    "    plt.gca().plot(hull_with_closure[:, 0], hull_with_closure[:, 1], c='green', linestyle='--', linewidth=2)  # Dotted green lines\n",
    "\n",
    "plt.show()\n"
   ]
  },
  {
   "cell_type": "markdown",
   "metadata": {},
   "source": [
    "#### Davies Bouldin"
   ]
  },
  {
   "cell_type": "code",
   "execution_count": null,
   "metadata": {},
   "outputs": [],
   "source": [
    "optics_k729_2022_combined_davies_bouldin_hull_optimized = fit_optics(X_k729_2022,\n",
    "                                                        max_eps=k729_2022_hull_optimization_results['combined_davies_bouldin']['epsilon'],\n",
    "                                                        min_samples=k729_2022_hull_optimization_results['combined_davies_bouldin']['min_samples'],\n",
    "                                                        metric=k729_2022_hull_optimization_results['combined_davies_bouldin']['metric'],\n",
    "                                                        cluster_method=k729_2022_hull_optimization_results['combined_davies_bouldin']['cluster_method'],\n",
    "                                                        xi=k729_2022_hull_optimization_results['combined_davies_bouldin']['xi'])\n",
    "optics_k729_2022_combined_davies_bouldin_hull_optimized"
   ]
  },
  {
   "cell_type": "code",
   "execution_count": null,
   "metadata": {},
   "outputs": [],
   "source": [
    "k729_2022_optics_combined_davies_bouldin_hull_optimized_hulls = calculate_cluster_convex_hulls(X_k729_2022, optics_k729_2022_combined_davies_bouldin_hull_optimized)\n",
    "k729_2022_optics_combined_davies_bouldin_hull_optimized_medoids = calculate_cluster_medoids(X_k729_2022, optics_k729_2022_combined_davies_bouldin_hull_optimized)"
   ]
  },
  {
   "cell_type": "code",
   "execution_count": null,
   "metadata": {},
   "outputs": [],
   "source": [
    "plot_vehicle_tracks_in_notebook(plt.gca(), df_cuid_k729_2022, df_cuid_grouped_k729_2022, 'k729_2022 vehicle tracks and optics medoids')\n",
    "plt.gca().scatter(k729_2022_optics_combined_davies_bouldin_hull_optimized_medoids[:,0], k729_2022_optics_combined_davies_bouldin_hull_optimized_medoids[:,1], c='red', s=100)\n",
    "# Now, plot the hulls by looping through each convex hull\n",
    "for hull in k729_2022_optics_combined_davies_bouldin_hull_optimized_hulls:\n",
    "    # Create a closed loop for the convex hull by appending the first point at the end\n",
    "    hull_with_closure = np.vstack([hull, hull[0]])\n",
    "    plt.gca().plot(hull_with_closure[:, 0], hull_with_closure[:, 1], c='green', linestyle='--', linewidth=2)  # Dotted green lines\n",
    "\n",
    "plt.show()\n"
   ]
  },
  {
   "cell_type": "code",
   "execution_count": null,
   "metadata": {},
   "outputs": [],
   "source": []
  },
  {
   "cell_type": "markdown",
   "metadata": {},
   "source": [
    "#### optimize with hull size"
   ]
  },
  {
   "cell_type": "code",
   "execution_count": null,
   "metadata": {},
   "outputs": [],
   "source": [
    "from src.models.clustering_optimization.optimize_optics_parallelized_with_hull_size_optimization import optimize_optics_parallelized_with_hull_size_optimization\n",
    "max_eps_range = np.arange(0.1, 10, 0.1)\n",
    "min_samples_range = np.arange(5, 10, 1)\n",
    "metrics = [\n",
    "    #'cosine', \n",
    "    'euclidean', \n",
    "    'manhattan', \n",
    "    'braycurtis', \n",
    "    'canberra', \n",
    "    'chebyshev', \n",
    "    'correlation', \n",
    "    'mahalanobis', \n",
    "    'minkowski', \n",
    "    'seuclidean', \n",
    "    'sqeuclidean'\n",
    "]\n",
    "xis = np.arange(0.01, 0.1, 0.01)\n",
    "cluster_methods = ['dbscan', 'xi']\n",
    "alpha=0.9\n",
    "beta=0.01\n",
    "k729_2022_hull_optimization_results = optimize_optics_parallelized_with_hull_size_optimization(X_k729_2022,max_eps_range=max_eps_range, min_samples_range=min_samples_range, metrics=metrics, cluster_methods=cluster_methods, xis=xis, alpha=alpha, beta=beta)"
   ]
  },
  {
   "cell_type": "code",
   "execution_count": null,
   "metadata": {},
   "outputs": [],
   "source": [
    "print(k729_2022_hull_optimization_results)"
   ]
  },
  {
   "cell_type": "markdown",
   "metadata": {},
   "source": [
    "#### silhouette"
   ]
  },
  {
   "cell_type": "code",
   "execution_count": null,
   "metadata": {},
   "outputs": [],
   "source": [
    "optics_k729_2022_silhouette_hull_optimized = fit_optics(X_k729_2022,\n",
    "                                                        max_eps=k729_2022_hull_optimization_results['combined_silhouette']['epsilon'],\n",
    "                                                        min_samples=k729_2022_hull_optimization_results['combined_silhouette']['min_samples'],\n",
    "                                                        metric=k729_2022_hull_optimization_results['combined_silhouette']['metric'],\n",
    "                                                        cluster_method=k729_2022_hull_optimization_results['combined_silhouette']['cluster_method'],\n",
    "                                                        xi=k729_2022_hull_optimization_results['combined_silhouette']['xi'])\n",
    "optics_k729_2022_silhouette_hull_optimized"
   ]
  },
  {
   "cell_type": "code",
   "execution_count": null,
   "metadata": {},
   "outputs": [],
   "source": [
    "k729_2022_optics_silhouette_hull_optimized_hulls = calculate_cluster_convex_hulls(X_k729_2022, optics_k729_2022_silhouette_hull_optimized)\n",
    "k729_2022_optics_silhouette_hull_optimized_medoids = calculate_cluster_medoids(X_k729_2022, optics_k729_2022_silhouette_hull_optimized)"
   ]
  },
  {
   "cell_type": "code",
   "execution_count": null,
   "metadata": {},
   "outputs": [],
   "source": [
    "plot_vehicle_tracks_in_notebook(plt.gca(), df_cuid_k729_2022, df_cuid_grouped_k729_2022, 'k729_2022 vehicle tracks and optics medoids')\n",
    "plt.gca().scatter(k729_2022_optics_silhouette_hull_optimized_medoids[:,0], k729_2022_optics_silhouette_hull_optimized_medoids[:,1], c='red', s=100)\n",
    "# Now, plot the hulls by looping through each convex hull\n",
    "for hull in k729_2022_optics_silhouette_hull_optimized_hulls:\n",
    "    # Create a closed loop for the convex hull by appending the first point at the end\n",
    "    hull_with_closure = np.vstack([hull, hull[0]])\n",
    "    plt.gca().plot(hull_with_closure[:, 0], hull_with_closure[:, 1], c='green', linestyle='--', linewidth=2)  # Dotted green lines\n",
    "\n",
    "plt.show()\n"
   ]
  },
  {
   "cell_type": "markdown",
   "metadata": {},
   "source": [
    "#### Calinski Harabasz"
   ]
  },
  {
   "cell_type": "code",
   "execution_count": null,
   "metadata": {},
   "outputs": [],
   "source": [
    "optics_k729_2022_combined_calinski_harabasz_hull_optimized = fit_optics(X_k729_2022,\n",
    "                                                        max_eps=k729_2022_hull_optimization_results['combined_calinski_harabasz']['epsilon'],\n",
    "                                                        min_samples=k729_2022_hull_optimization_results['combined_calinski_harabasz']['min_samples'],\n",
    "                                                        metric=k729_2022_hull_optimization_results['combined_calinski_harabasz']['metric'],\n",
    "                                                        cluster_method=k729_2022_hull_optimization_results['combined_calinski_harabasz']['cluster_method'],\n",
    "                                                        xi=k729_2022_hull_optimization_results['combined_calinski_harabasz']['xi'])\n",
    "optics_k729_2022_combined_calinski_harabasz_hull_optimized"
   ]
  },
  {
   "cell_type": "code",
   "execution_count": null,
   "metadata": {},
   "outputs": [],
   "source": [
    "k729_2022_optics_combined_calinski_harabasz_hull_optimized_hulls = calculate_cluster_convex_hulls(X_k729_2022, optics_k729_2022_combined_calinski_harabasz_hull_optimized)\n",
    "k729_2022_optics_combined_calinski_harabasz_hull_optimized_medoids = calculate_cluster_medoids(X_k729_2022, optics_k729_2022_combined_calinski_harabasz_hull_optimized)"
   ]
  },
  {
   "cell_type": "code",
   "execution_count": null,
   "metadata": {},
   "outputs": [],
   "source": [
    "plot_vehicle_tracks_in_notebook(plt.gca(), df_cuid_k729_2022, df_cuid_grouped_k729_2022, 'k729_2022 vehicle tracks and optics medoids')\n",
    "plt.gca().scatter(k729_2022_optics_combined_calinski_harabasz_hull_optimized_medoids[:,0], k729_2022_optics_combined_calinski_harabasz_hull_optimized_medoids[:,1], c='red', s=100)\n",
    "# Now, plot the hulls by looping through each convex hull\n",
    "for hull in k729_2022_optics_combined_calinski_harabasz_hull_optimized_hulls:\n",
    "    # Create a closed loop for the convex hull by appending the first point at the end\n",
    "    hull_with_closure = np.vstack([hull, hull[0]])\n",
    "    plt.gca().plot(hull_with_closure[:, 0], hull_with_closure[:, 1], c='green', linestyle='--', linewidth=2)  # Dotted green lines\n",
    "\n",
    "plt.show()\n"
   ]
  },
  {
   "cell_type": "markdown",
   "metadata": {},
   "source": [
    "#### Davies Bouldin"
   ]
  },
  {
   "cell_type": "code",
   "execution_count": null,
   "metadata": {},
   "outputs": [],
   "source": [
    "optics_k729_2022_combined_davies_bouldin_hull_optimized = fit_optics(X_k729_2022,\n",
    "                                                        max_eps=k729_2022_hull_optimization_results['combined_davies_bouldin']['epsilon'],\n",
    "                                                        min_samples=k729_2022_hull_optimization_results['combined_davies_bouldin']['min_samples'],\n",
    "                                                        metric=k729_2022_hull_optimization_results['combined_davies_bouldin']['metric'],\n",
    "                                                        cluster_method=k729_2022_hull_optimization_results['combined_davies_bouldin']['cluster_method'],\n",
    "                                                        xi=k729_2022_hull_optimization_results['combined_davies_bouldin']['xi'])\n",
    "optics_k729_2022_combined_davies_bouldin_hull_optimized"
   ]
  },
  {
   "cell_type": "code",
   "execution_count": null,
   "metadata": {},
   "outputs": [],
   "source": [
    "k729_2022_optics_combined_davies_bouldin_hull_optimized_hulls = calculate_cluster_convex_hulls(X_k729_2022, optics_k729_2022_combined_davies_bouldin_hull_optimized)\n",
    "k729_2022_optics_combined_davies_bouldin_hull_optimized_medoids = calculate_cluster_medoids(X_k729_2022, optics_k729_2022_combined_davies_bouldin_hull_optimized)"
   ]
  },
  {
   "cell_type": "code",
   "execution_count": null,
   "metadata": {},
   "outputs": [],
   "source": [
    "plot_vehicle_tracks_in_notebook(plt.gca(), df_cuid_k729_2022, df_cuid_grouped_k729_2022, 'k729_2022 vehicle tracks and optics medoids')\n",
    "plt.gca().scatter(k729_2022_optics_combined_davies_bouldin_hull_optimized_medoids[:,0], k729_2022_optics_combined_davies_bouldin_hull_optimized_medoids[:,1], c='red', s=100)\n",
    "# Now, plot the hulls by looping through each convex hull\n",
    "for hull in k729_2022_optics_combined_davies_bouldin_hull_optimized_hulls:\n",
    "    # Create a closed loop for the convex hull by appending the first point at the end\n",
    "    hull_with_closure = np.vstack([hull, hull[0]])\n",
    "    plt.gca().plot(hull_with_closure[:, 0], hull_with_closure[:, 1], c='green', linestyle='--', linewidth=2)  # Dotted green lines\n",
    "\n",
    "plt.show()\n"
   ]
  },
  {
   "cell_type": "code",
   "execution_count": null,
   "metadata": {},
   "outputs": [],
   "source": []
  }
 ],
 "metadata": {
  "kernelspec": {
   "display_name": "ba_thesis",
   "language": "python",
   "name": "python3"
  },
  "language_info": {
   "codemirror_mode": {
    "name": "ipython",
    "version": 3
   },
   "file_extension": ".py",
   "mimetype": "text/x-python",
   "name": "python",
   "nbconvert_exporter": "python",
   "pygments_lexer": "ipython3",
   "version": "3.12.2"
  }
 },
 "nbformat": 4,
 "nbformat_minor": 2
}
