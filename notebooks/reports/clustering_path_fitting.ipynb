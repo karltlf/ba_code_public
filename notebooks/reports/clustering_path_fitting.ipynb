{
 "cells": [
  {
   "cell_type": "code",
   "execution_count": null,
   "metadata": {},
   "outputs": [],
   "source": [
    "# PASTE THIS TO THE FIRST CELL OF THE NOTEBOOK IN ORDER TO HAVE WORKING IMPORTS\n",
    "import sys\n",
    "import os\n",
    "current_dir = os.getcwd()\n",
    "parent_parent_dir = os.path.abspath(os.path.join(current_dir, '../..')) # tweak so that you get the parent of the root project folder\n",
    "\n",
    "sys.path.append(parent_parent_dir)"
   ]
  },
  {
   "cell_type": "code",
   "execution_count": null,
   "metadata": {},
   "outputs": [],
   "source": [
    "import numpy as np\n",
    "import pandas as pd\n",
    "from src.features.get_x_y_tuples import *\n",
    "import ast\n",
    "from sklearn.cluster import OPTICS\n",
    "from src.models.optics_functions import get_clusters_from_optics\n",
    "from src.visualization.render_vehicle_track_clusters import *"
   ]
  },
  {
   "cell_type": "markdown",
   "metadata": {},
   "source": [
    "1. Load the k729_2022 dataset\n",
    "2. Transform values into number types\n",
    "3. Create tuple lists of certain values"
   ]
  },
  {
   "cell_type": "code",
   "execution_count": null,
   "metadata": {},
   "outputs": [],
   "source": [
    "# 1. load into dataframe\n",
    "df_k729_2022_cuid = pd.read_csv('../../data/processed/k729_2022_cuid_lat_lon.csv')\n",
    "df_k729_2022_cuid_grouped = pd.read_csv('../../data/processed/k729_2022_cuid_grouped_lat_lon.csv')\n",
    "# 2. transform values to numbers\n",
    "df_k729_2022_cuid_grouped['x'] = df_k729_2022_cuid_grouped['x'].apply(lambda x: ast.literal_eval(x))\n",
    "df_k729_2022_cuid_grouped['y'] = df_k729_2022_cuid_grouped['y'].apply(lambda y: ast.literal_eval(y))\n",
    "df_k729_2022_cuid_grouped['vx'] = df_k729_2022_cuid_grouped['vx'].apply(lambda vx: ast.literal_eval(vx))\n",
    "df_k729_2022_cuid_grouped['vy'] = df_k729_2022_cuid_grouped['vy'].apply(lambda vy: ast.literal_eval(vy))\n",
    "df_k729_2022_cuid_grouped['lat'] = df_k729_2022_cuid_grouped['lat'].apply(lambda lat: ast.literal_eval(lat))\n",
    "df_k729_2022_cuid_grouped['lon'] = df_k729_2022_cuid_grouped['lon'].apply(lambda lon: ast.literal_eval(lon))\n",
    "# 3. create tuple lists\n",
    "list_k729_2022_x_y_tuples = get_x_y_tuple_list(df_k729_2022_cuid_grouped, ['x','y'])\n",
    "k729_2022_vx_vy_tuples = get_x_y_tuple_list(df_k729_2022_cuid_grouped, ['vx','vy'])\n",
    "k729_2022_lat_lon_tuples = get_x_y_tuple_list(df_k729_2022_cuid_grouped,['lat','lon'])"
   ]
  },
  {
   "cell_type": "markdown",
   "metadata": {},
   "source": [
    "4. Calculate the DTW distance matrix for all paths in the dataset"
   ]
  },
  {
   "cell_type": "code",
   "execution_count": null,
   "metadata": {},
   "outputs": [],
   "source": [
    "%%capture\n",
    "from src.models.calculate_dtw_distance_matrix import *\n",
    "dtw_distance_matrix = calculate_dtw_distance_matrix(list_k729_2022_x_y_tuples)"
   ]
  },
  {
   "cell_type": "markdown",
   "metadata": {},
   "source": [
    "5. Assign `OPTICS dbscan` clustering parameters\n",
    "6. Run `OPTICS dbscan` and render the paths in clusters"
   ]
  },
  {
   "cell_type": "code",
   "execution_count": null,
   "metadata": {},
   "outputs": [],
   "source": [
    "#5. assign parameters\n",
    "run_no = 5\n",
    "min_samples = 5\n",
    "max_eps = 60\n",
    "metric='precomputed'\n",
    "cluster_method = 'dbscan'\n",
    "metrics_description = f'with min samples: {min_samples}\\nmax_eps: {max_eps}\\nmetric: DTW\\nclustermethod: {cluster_method}'\n"
   ]
  },
  {
   "cell_type": "code",
   "execution_count": null,
   "metadata": {},
   "outputs": [],
   "source": [
    "# 6. Fit OPTICS clusters and \n",
    "optics_clustering = OPTICS(min_samples=min_samples,\n",
    "                           max_eps=max_eps,\n",
    "                           cluster_method=cluster_method,\n",
    "                           metric=metric,\n",
    "                           ).fit(dtw_distance_matrix)\n",
    "\n",
    "clusters = get_clusters_from_optics(optics_clustering.labels_)\n",
    "\n",
    "\n",
    "render_vehicle_track_clusters(df_k729_2022_cuid,\n",
    "                                       df_k729_2022_cuid_grouped,\n",
    "                                       clusters,\n",
    "                                       'Clusters w/ OPTICS for intersection k729', \n",
    "                                       metrics_description)\n",
    "\n",
    "plt.show()"
   ]
  },
  {
   "cell_type": "code",
   "execution_count": null,
   "metadata": {},
   "outputs": [],
   "source": [
    "# 1. load into dataframe\n",
    "df_k733_2020_cuid = pd.read_csv('../../data/processed/k733_2020_cuid.csv')\n",
    "df_k733_2020_cuid_grouped = pd.read_csv('../../data/processed/k733_2020_cuid_grouped.csv')\n",
    "# 2. transform values to numbers\n",
    "df_k733_2020_cuid_grouped['x'] = df_k733_2020_cuid_grouped['x'].apply(lambda x: ast.literal_eval(x))\n",
    "df_k733_2020_cuid_grouped['y'] = df_k733_2020_cuid_grouped['y'].apply(lambda y: ast.literal_eval(y))\n",
    "df_k733_2020_cuid_grouped['vx'] = df_k733_2020_cuid_grouped['vx'].apply(lambda vx: ast.literal_eval(vx))\n",
    "df_k733_2020_cuid_grouped['vy'] = df_k733_2020_cuid_grouped['vy'].apply(lambda vy: ast.literal_eval(vy))\n",
    "# 3. create tuple lists\n",
    "list_k733_2020_x_y_tuples = get_x_y_tuple_list(df_k733_2020_cuid_grouped, ['x','y'])\n",
    "k733_2020_vx_vy_tuples = get_x_y_tuple_list(df_k733_2020_cuid_grouped, ['vx','vy'])"
   ]
  },
  {
   "cell_type": "code",
   "execution_count": null,
   "metadata": {},
   "outputs": [],
   "source": [
    "%%capture\n",
    "from src.models.calculate_dtw_distance_matrix import *\n",
    "dtw_distance_matrix = calculate_dtw_distance_matrix(list_k733_2020_x_y_tuples)"
   ]
  },
  {
   "cell_type": "code",
   "execution_count": null,
   "metadata": {},
   "outputs": [],
   "source": [
    "#5. assign parameters\n",
    "run_no = 5\n",
    "min_samples = 5\n",
    "max_eps = 60\n",
    "metric='precomputed'\n",
    "cluster_method = 'dbscan'\n",
    "metrics_description = f'with min samples: {min_samples}\\nmax_eps: {max_eps}\\nmetric: DTW\\nclustermethod: {cluster_method}'\n"
   ]
  },
  {
   "cell_type": "code",
   "execution_count": null,
   "metadata": {},
   "outputs": [],
   "source": [
    "# 6. Fit OPTICS clusters and \n",
    "optics_clustering = OPTICS(min_samples=min_samples,\n",
    "                           max_eps=max_eps,\n",
    "                           cluster_method=cluster_method,\n",
    "                           metric=metric,\n",
    "                           ).fit(dtw_distance_matrix)\n",
    "\n",
    "clusters = get_clusters_from_optics(optics_clustering.labels_)\n",
    "\n",
    "\n",
    "render_vehicle_track_clusters(df_k733_2020_cuid,\n",
    "                                       df_k733_2020_cuid_grouped,\n",
    "                                       clusters,\n",
    "                                       'Clusters w/ OPTICS for intersection k733_2020', \n",
    "                                       metrics_description)\n",
    "\n",
    "plt.show()"
   ]
  },
  {
   "cell_type": "code",
   "execution_count": null,
   "metadata": {},
   "outputs": [],
   "source": [
    "# 1. load into dataframe\n",
    "df_k733_2018_cuid = pd.read_csv('../../data/processed/k733_2018_cuid.csv')\n",
    "df_k733_2018_cuid_grouped = pd.read_csv('../../data/processed/k733_2018_cuid_grouped.csv')\n",
    "# 2. transform values to numbers\n",
    "df_k733_2018_cuid_grouped['x'] = df_k733_2018_cuid_grouped['x'].apply(lambda x: ast.literal_eval(x))\n",
    "df_k733_2018_cuid_grouped['y'] = df_k733_2018_cuid_grouped['y'].apply(lambda y: ast.literal_eval(y))\n",
    "df_k733_2018_cuid_grouped['vx'] = df_k733_2018_cuid_grouped['vx'].apply(lambda vx: ast.literal_eval(vx))\n",
    "df_k733_2018_cuid_grouped['vy'] = df_k733_2018_cuid_grouped['vy'].apply(lambda vy: ast.literal_eval(vy))\n",
    "# 3. create tuple lists\n",
    "list_k733_2018_x_y_tuples = get_x_y_tuple_list(df_k733_2018_cuid_grouped, ['x','y'])\n",
    "k733_2018_vx_vy_tuples = get_x_y_tuple_list(df_k733_2018_cuid_grouped, ['vx','vy'])"
   ]
  },
  {
   "cell_type": "code",
   "execution_count": null,
   "metadata": {},
   "outputs": [],
   "source": [
    "%%capture\n",
    "from src.models.calculate_dtw_distance_matrix import *\n",
    "dtw_distance_matrix = calculate_dtw_distance_matrix(list_k733_2018_x_y_tuples)"
   ]
  },
  {
   "cell_type": "code",
   "execution_count": null,
   "metadata": {},
   "outputs": [],
   "source": [
    "#5. assign parameters\n",
    "run_no = 5\n",
    "min_samples = 5\n",
    "max_eps = 60\n",
    "metric='precomputed'\n",
    "cluster_method = 'dbscan'\n",
    "metrics_description = f'with min samples: {min_samples}\\nmax_eps: {max_eps}\\nmetric: DTW\\nclustermethod: {cluster_method}'\n"
   ]
  },
  {
   "cell_type": "code",
   "execution_count": null,
   "metadata": {},
   "outputs": [],
   "source": [
    "# 6. Fit OPTICS clusters and \n",
    "optics_clustering = OPTICS(min_samples=min_samples,\n",
    "                           max_eps=max_eps,\n",
    "                           cluster_method=cluster_method,\n",
    "                           metric=metric,\n",
    "                           ).fit(dtw_distance_matrix)\n",
    "\n",
    "clusters = get_clusters_from_optics(optics_clustering.labels_)\n",
    "\n",
    "\n",
    "render_vehicle_track_clusters(df_k733_2018_cuid,\n",
    "                                       df_k733_2018_cuid_grouped,\n",
    "                                       clusters,\n",
    "                                       'Clusters w/ OPTICS for intersection k733_2018', \n",
    "                                       metrics_description)\n",
    "\n",
    "plt.show()"
   ]
  },
  {
   "cell_type": "code",
   "execution_count": null,
   "metadata": {},
   "outputs": [],
   "source": []
  }
 ],
 "metadata": {
  "kernelspec": {
   "display_name": "ba_thesis",
   "language": "python",
   "name": "python3"
  },
  "language_info": {
   "codemirror_mode": {
    "name": "ipython",
    "version": 3
   },
   "file_extension": ".py",
   "mimetype": "text/x-python",
   "name": "python",
   "nbconvert_exporter": "python",
   "pygments_lexer": "ipython3",
   "version": "3.12.2"
  }
 },
 "nbformat": 4,
 "nbformat_minor": 2
}
