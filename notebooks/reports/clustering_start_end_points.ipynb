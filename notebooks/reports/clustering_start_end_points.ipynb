{
 "cells": [
  {
   "cell_type": "code",
   "execution_count": null,
   "metadata": {},
   "outputs": [],
   "source": [
    "# PASTE THIS TO THE FIRST CELL OF THE NOTEBOOK IN ORDER TO HAVE WORKING IMPORTS\n",
    "import sys\n",
    "import os\n",
    "current_dir = os.getcwd()\n",
    "parent_parent_dir = os.path.abspath(os.path.join(current_dir, '../..')) # tweak so that you get the root project folder\n",
    "\n",
    "sys.path.append(parent_parent_dir)"
   ]
  },
  {
   "cell_type": "code",
   "execution_count": null,
   "metadata": {},
   "outputs": [],
   "source": [
    "from src.visualization import plot_optics_optimized as plopopt\n",
    "from src.models.ensure_distance_metric_params import ensure_distance_metric_params\n",
    "import numpy as np"
   ]
  },
  {
   "cell_type": "code",
   "execution_count": null,
   "metadata": {},
   "outputs": [],
   "source": [
    "path_df_k733_2020 = '../../data/processed/k733_2020_cuid.csv'\n",
    "path_df_k729_2022 = '../../data/processed/k729_2022_cuid.csv'\n",
    "path_df_k733_2018 = '../../data/processed/k733_2018_cuid.csv'"
   ]
  },
  {
   "cell_type": "code",
   "execution_count": null,
   "metadata": {},
   "outputs": [],
   "source": [
    "max_eps_range = np.arange(0.1, 10, 0.1)\n",
    "min_samples_range = np.arange(5, 10, 1)\n",
    "metrics = [\n",
    "    #'cosine', \n",
    "    'euclidean', \n",
    "    'manhattan', \n",
    "    'braycurtis', \n",
    "    'canberra', \n",
    "    'chebyshev', \n",
    "    'correlation', \n",
    "    'mahalanobis', \n",
    "    'minkowski', \n",
    "    'seuclidean', \n",
    "    'sqeuclidean'\n",
    "]\n",
    "xis = np.arange(0.01, 0.97, 0.05)\n",
    "cluster_methods = ['dbscan', 'xi']"
   ]
  },
  {
   "cell_type": "code",
   "execution_count": null,
   "metadata": {},
   "outputs": [],
   "source": [
    "from src.data.save_optimization_parameters_in_json_file import save_optimization_parameters_in_json_file\n",
    "save_optimization_parameters_in_json_file(f'{parent_parent_dir}/src/models/optimized_optics_clustering_parameters/optimization_parameters_clustering_start_end_report_notebook.json', \n",
    "                                          max_eps_range=max_eps_range,\n",
    "                                          min_samples_range=min_samples_range,\n",
    "                                          metrics=metrics,\n",
    "                                          xis=xis,\n",
    "                                          cluster_methods=cluster_methods)"
   ]
  },
  {
   "cell_type": "code",
   "execution_count": null,
   "metadata": {},
   "outputs": [],
   "source": [
    "k729_2022_optics_optimized = plopopt.plot_optics_optimized(path_df_k729_2022, max_eps_range, min_samples_range, metrics, cluster_methods, xis, p=2)\n",
    "\n"
   ]
  },
  {
   "cell_type": "code",
   "execution_count": null,
   "metadata": {},
   "outputs": [],
   "source": [
    "k733_2020_optics_optimized = plopopt.plot_optics_optimized(path_df_k733_2020, max_eps_range, min_samples_range, metrics, cluster_methods, xis, p=2)\n"
   ]
  },
  {
   "cell_type": "code",
   "execution_count": null,
   "metadata": {},
   "outputs": [],
   "source": [
    "k733_2018_optics_optimized = plopopt.plot_optics_optimized(path_df_k733_2018, max_eps_range, min_samples_range, metrics, cluster_methods, xis, p=2)"
   ]
  },
  {
   "cell_type": "code",
   "execution_count": null,
   "metadata": {},
   "outputs": [],
   "source": [
    "import json\n",
    "import os\n",
    "import numpy as np\n",
    "\n",
    "def convert_numpy_types(obj):\n",
    "    \"\"\"\n",
    "    Recursively converts numpy types to native Python types in a dictionary.\n",
    "    \n",
    "    :param obj: The object to convert\n",
    "    :return: The converted object\n",
    "    \"\"\"\n",
    "    if isinstance(obj, dict):\n",
    "        return {key: convert_numpy_types(value) for key, value in obj.items()}\n",
    "    elif isinstance(obj, list):\n",
    "        return [convert_numpy_types(item) for item in obj]\n",
    "    elif isinstance(obj, np.integer):\n",
    "        return int(obj)\n",
    "    elif isinstance(obj, np.floating):\n",
    "        return float(obj)\n",
    "    elif isinstance(obj, np.ndarray):\n",
    "        return obj.tolist()  # Convert numpy arrays to lists\n",
    "    else:\n",
    "        return obj\n",
    "\n",
    "def save_dict_to_json(file_path, dict_data):\n",
    "    \"\"\"\n",
    "    Saves a dictionary to a JSON file at the specified path, ensuring that numpy types are converted.\n",
    "    \n",
    "    :param file_path: The path to the file to save the dictionary to\n",
    "    :param dict_data: The dictionary to save to the file\n",
    "    \"\"\"\n",
    "    \n",
    "    # Ensure the directory exists\n",
    "    os.makedirs(os.path.dirname(file_path), exist_ok=True)\n",
    "\n",
    "    # Convert any numpy types to native Python types\n",
    "    dict_data = convert_numpy_types(dict_data)\n",
    "\n",
    "    # Save the dictionary to the file as JSON\n",
    "    with open(file_path, 'w') as json_file:\n",
    "        json.dump(dict_data, json_file, indent=4)\n",
    "    \n",
    "    print(f\"Dictionary saved to {file_path}\")\n"
   ]
  },
  {
   "cell_type": "code",
   "execution_count": null,
   "metadata": {},
   "outputs": [],
   "source": [
    "save_dict_to_json(f'{parent_parent_dir}/src/models/optics/optimized_optics_clustering_parameters/k729_2022_optics_optimized_w_max_eps.json', k729_2022_optics_optimized)\n",
    "save_dict_to_json(f'{parent_parent_dir}/src/models/optics/optimized_optics_clustering_parameters/k733_2020_optics_optimized_w_max_eps.json', k733_2020_optics_optimized)\n",
    "save_dict_to_json(f'{parent_parent_dir}/src/models/optics/optimized_optics_clustering_parameters/k733_2018_optics_optimized_w_max_eps.json', k733_2018_optics_optimized)"
   ]
  },
  {
   "cell_type": "code",
   "execution_count": null,
   "metadata": {},
   "outputs": [],
   "source": []
  }
 ],
 "metadata": {
  "kernelspec": {
   "display_name": "ba_thesis",
   "language": "python",
   "name": "python3"
  },
  "language_info": {
   "codemirror_mode": {
    "name": "ipython",
    "version": 3
   },
   "file_extension": ".py",
   "mimetype": "text/x-python",
   "name": "python",
   "nbconvert_exporter": "python",
   "pygments_lexer": "ipython3",
   "version": "3.12.2"
  }
 },
 "nbformat": 4,
 "nbformat_minor": 2
}
