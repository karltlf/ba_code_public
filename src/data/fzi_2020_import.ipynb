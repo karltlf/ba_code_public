{
 "cells": [
  {
   "cell_type": "code",
   "execution_count": 2,
   "metadata": {},
   "outputs": [
    {
     "name": "stdout",
     "output_type": "stream",
     "text": [
      "Non-grouped file removed\n",
      "Grouped file removed\n"
     ]
    }
   ],
   "source": [
    "import pandas as pd\n",
    "from PATHS import FZI_DATASET_DIRS\n",
    "import os\n",
    "\n",
    "# import data from csv\n",
    "df_fzi_2022 = pd.read_csv(FZI_DATASET_DIRS + \"/k733_2020-09-15/vehicle_tracks_000.csv\")\n",
    "# filter for vehicles only\n",
    "df_fzi_2022 = df_fzi_2022.loc[df_fzi_2022['agent_type'].isin(['Truck', 'Car', 'Bike'])]\n",
    "# group by track_id (= unique vehicle id)\n",
    "df_fzi_2022_grouped = df_fzi_2022.groupby('track_id').agg(list)\n",
    "\n",
    "try:\n",
    "    os.remove('../datasets/df_fzi_2020.csv')\n",
    "    print(\"Non-grouped file removed\")\n",
    "    os.remove('../datasets/df_fzi_2020_groupedByTrackID.csv')\n",
    "    print(\"Grouped file removed\")\n",
    "except:\n",
    "    print(\"No file removed\")\n",
    "df_fzi_2022_grouped.to_csv('../datasets/df_fzi_2020_groupedByTrackID.csv')\n",
    "df_fzi_2022.to_csv('../datasets/df_fzi_2020.csv', index=False)"
   ]
  },
  {
   "cell_type": "code",
   "execution_count": null,
   "metadata": {},
   "outputs": [],
   "source": []
  }
 ],
 "metadata": {
  "kernelspec": {
   "display_name": "ba_thesis",
   "language": "python",
   "name": "python3"
  },
  "language_info": {
   "codemirror_mode": {
    "name": "ipython",
    "version": 3
   },
   "file_extension": ".py",
   "mimetype": "text/x-python",
   "name": "python",
   "nbconvert_exporter": "python",
   "pygments_lexer": "ipython3",
   "version": "3.12.4"
  }
 },
 "nbformat": 4,
 "nbformat_minor": 2
}
