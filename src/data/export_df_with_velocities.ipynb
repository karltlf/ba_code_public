{
 "cells": [
  {
   "cell_type": "markdown",
   "metadata": {},
   "source": [
    "## Adding velocitiy values to a non-grouped DataFrame\n",
    "1. Import the dataframe\n",
    "2. calculate the dataframe's total velocity values per row using the x and y velocities ($v_{total} = \\sqrt{v_x^2 + v_y^2}$)\n",
    "3. insert the list of velocity values into the fifth column\n",
    "4. overwrite the existing dataframe to contain velocity values"
   ]
  },
  {
   "cell_type": "code",
   "execution_count": null,
   "metadata": {},
   "outputs": [],
   "source": [
    "import pandas as pd\n",
    "import numpy as np"
   ]
  },
  {
   "cell_type": "code",
   "execution_count": null,
   "metadata": {},
   "outputs": [],
   "source": [
    "def calculate_velocities(df:pd.DataFrame)->list[float]:\n",
    "    all_velocities = []\n",
    "    for i in range(len(df['vx'])):\n",
    "        velocity = np.sqrt(df['vx'][i]**2 + df['vy'][i]**2)\n",
    "        all_velocities.append(velocity)\n",
    "\n",
    "    return all_velocities"
   ]
  },
  {
   "cell_type": "code",
   "execution_count": null,
   "metadata": {},
   "outputs": [],
   "source": [
    "def export_df_with_velocities(path_to_df:str) -> None:\n",
    "\n",
    "    df = pd.read_csv(path_to_df)\n",
    "\n",
    "    df.columns = df.columns.str.strip().str.lower()\n",
    "\n",
    "    if 'v' in df.columns:\n",
    "        df = df.drop('v', axis=1)\n",
    "        print('DataFrame already had a \\'v\\' column')\n",
    "    else:\n",
    "        print('DataFrame had no \\'v\\' column')\n",
    "\n",
    "    velocities = calculate_velocities(df)\n",
    "    \n",
    "    df.insert(4,'v',velocities)\n",
    "    df.to_csv(path_to_df)"
   ]
  },
  {
   "cell_type": "code",
   "execution_count": 71,
   "metadata": {},
   "outputs": [
    {
     "name": "stdout",
     "output_type": "stream",
     "text": [
      "DataFrame already had a 'v' column\n",
      "DataFrame already had a 'v' column\n",
      "DataFrame had no 'v' column\n"
     ]
    }
   ],
   "source": [
    "export_df_with_velocities('../datasets/k729_2022_cuid.csv')\n",
    "export_df_with_velocities('../datasets/k733_2020_cuid.csv')\n",
    "export_df_with_velocities('../datasets/k733_2018_cuid.csv')"
   ]
  }
 ],
 "metadata": {
  "kernelspec": {
   "display_name": "ba_thesis",
   "language": "python",
   "name": "python3"
  },
  "language_info": {
   "codemirror_mode": {
    "name": "ipython",
    "version": 3
   },
   "file_extension": ".py",
   "mimetype": "text/x-python",
   "name": "python",
   "nbconvert_exporter": "python",
   "pygments_lexer": "ipython3",
   "version": "3.12.2"
  }
 },
 "nbformat": 4,
 "nbformat_minor": 2
}
