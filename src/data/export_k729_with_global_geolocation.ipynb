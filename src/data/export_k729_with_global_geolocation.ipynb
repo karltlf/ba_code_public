{
 "cells": [
  {
   "cell_type": "code",
   "execution_count": 6,
   "metadata": {},
   "outputs": [],
   "source": [
    "import pandas as pd\n",
    "import numpy as np\n",
    "import ast\n",
    "import math"
   ]
  },
  {
   "cell_type": "code",
   "execution_count": 7,
   "metadata": {},
   "outputs": [],
   "source": [
    "# import k729 regular dataframe\n",
    "df = pd.read_csv('../datasets/k729_2022_cuid.csv')"
   ]
  },
  {
   "cell_type": "code",
   "execution_count": 8,
   "metadata": {},
   "outputs": [],
   "source": [
    "# geolocation hardcoded from 'test-area-autonomous-driving-dataset-master/datasets/recorded_trackfiles/k729_2022-03-16/meta_data.csv'\n",
    "origin_lat = 49.01160993928274\n",
    "origin_lon = 8.43856470258739\n",
    "R = 6371000  # Earth's radius in meters (assuming a spherical Earth)\n"
   ]
  },
  {
   "cell_type": "code",
   "execution_count": 9,
   "metadata": {},
   "outputs": [],
   "source": [
    "# Function to convert from Cartesian (X, Y) to Geodetic (Latitude, Longitude)\n",
    "def metric_to_geodetic(x, y, origin_lat, origin_lon):\n",
    "    \"\"\"\n",
    "    Convert Cartesian coordinates (x, y) to geodetic coordinates (latitude, longitude).\n",
    "    \n",
    "    Parameters:\n",
    "    - x: distance in meters in the east direction (X coordinate)\n",
    "    - y: distance in meters in the north direction (Y coordinate)\n",
    "    - origin_lat: origin latitude in degrees\n",
    "    - origin_lon: origin longitude in degrees\n",
    "    \n",
    "    Returns:\n",
    "    - (lat, lon): tuple of latitude and longitude in degrees\n",
    "    \"\"\"\n",
    "    # Convert origin latitude to radians\n",
    "    origin_lat_rad = math.radians(origin_lat)\n",
    "    \n",
    "    # Calculate latitude\n",
    "    lat = origin_lat + (y / R) * (180 / math.pi)\n",
    "    \n",
    "    # Calculate longitude\n",
    "    lon = origin_lon + (x / (R * math.cos(origin_lat_rad))) * (180 / math.pi)\n",
    "    \n",
    "    return lat, lon\n"
   ]
  },
  {
   "cell_type": "code",
   "execution_count": 11,
   "metadata": {},
   "outputs": [],
   "source": [
    "x_values = df['x']  # Eastward distances\n",
    "y_values = df['y']  # Northward distances\n",
    "\n",
    "list_lat = []\n",
    "list_lon = []\n",
    "# Reconstruct latitude and longitude for each (x, y) pair\n",
    "for x, y in zip(x_values, y_values):\n",
    "    lat, lon = metric_to_geodetic(x, y, origin_lat, origin_lon)\n",
    "    # print(f\"X: {x} m, Y: {y} m -> Latitude: {lat}, Longitude: {lon}\")\n",
    "    list_lat.append(lat)\n",
    "    list_lon.append(lon)"
   ]
  },
  {
   "cell_type": "code",
   "execution_count": 12,
   "metadata": {},
   "outputs": [],
   "source": [
    "df['lat'] = list_lat\n",
    "df['lon'] = list_lon"
   ]
  },
  {
   "cell_type": "code",
   "execution_count": 14,
   "metadata": {},
   "outputs": [],
   "source": [
    "df.to_csv('../datasets/k729_2022_cuid_lat_lon.csv')"
   ]
  },
  {
   "cell_type": "code",
   "execution_count": 15,
   "metadata": {},
   "outputs": [],
   "source": [
    "df_grouped = df.groupby('track_id').agg(list)"
   ]
  },
  {
   "cell_type": "code",
   "execution_count": 16,
   "metadata": {},
   "outputs": [],
   "source": [
    "df_grouped.to_csv('../datasets/k729_2022_cuid_grouped_lat_lon.csv')"
   ]
  },
  {
   "cell_type": "code",
   "execution_count": null,
   "metadata": {},
   "outputs": [],
   "source": []
  }
 ],
 "metadata": {
  "kernelspec": {
   "display_name": "ba_thesis",
   "language": "python",
   "name": "python3"
  },
  "language_info": {
   "codemirror_mode": {
    "name": "ipython",
    "version": 3
   },
   "file_extension": ".py",
   "mimetype": "text/x-python",
   "name": "python",
   "nbconvert_exporter": "python",
   "pygments_lexer": "ipython3",
   "version": "3.12.2"
  }
 },
 "nbformat": 4,
 "nbformat_minor": 2
}
