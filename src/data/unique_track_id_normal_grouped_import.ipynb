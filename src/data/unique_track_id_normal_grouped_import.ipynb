{
 "cells": [
  {
   "cell_type": "code",
   "execution_count": 1,
   "metadata": {},
   "outputs": [],
   "source": [
    "import pandas as pd\n",
    "import os\n",
    "from itertools import count\n",
    "cuid = count()"
   ]
  },
  {
   "cell_type": "code",
   "execution_count": 2,
   "metadata": {},
   "outputs": [],
   "source": [
    "def iterate_files(directory) -> list:\n",
    "    \"\"\"\n",
    "    Iterates through every file in a directory and its subdirectories.\n",
    "    \n",
    "    :param directory: The path of the directory to iterate through.\n",
    "\n",
    "    :return list: returns list of all file paths iterated which includes 'vehicle_tracks'\n",
    "    \"\"\"\n",
    "    file_path_list = []\n",
    "    for root, dirs, files in os.walk(directory):\n",
    "        for file in files:\n",
    "            if str(file).__contains__('vehicle_tracks'):\n",
    "                file_path = os.path.join(root, file)\n",
    "                file_path_list.append(file_path)\n",
    "\n",
    "    return file_path_list\n"
   ]
  },
  {
   "cell_type": "code",
   "execution_count": 3,
   "metadata": {},
   "outputs": [],
   "source": [
    "def get_vehicle_tracks_csvs_from_dir(path:str):\n",
    "    vtl = []\n",
    "    vtl = iterate_files(path)\n",
    "    vtl.sort()\n",
    "    return vtl"
   ]
  },
  {
   "cell_type": "code",
   "execution_count": 4,
   "metadata": {},
   "outputs": [],
   "source": [
    "def get_df_from_file_list(file_path_list):\n",
    "\n",
    "    df_all_files = pd.read_csv(file_path_list[0])\n",
    "    df_all_files = df_all_files.loc[df_all_files['agent_type'].isin(['truck', 'car', 'bike', 'Truck', 'Car', 'Bike'])]\n",
    "    \n",
    "    for path in file_path_list[1:]:\n",
    "        df_current_file = pd.read_csv(path)\n",
    "\n",
    "        # filter only for vehicles\n",
    "        df_current_file = df_current_file.loc[df_current_file['agent_type'].isin(['truck', 'car', 'bike', 'Truck', 'Car', 'Bike'])]\n",
    "\n",
    "        df_all_files = pd.concat([df_all_files, df_current_file], ignore_index=True)\n",
    "\n",
    "    return df_all_files"
   ]
  },
  {
   "cell_type": "code",
   "execution_count": 5,
   "metadata": {},
   "outputs": [],
   "source": [
    "# import k729_2022\n",
    "k729_2022_vehicle_tracks_list = get_vehicle_tracks_csvs_from_dir('../../test-area-autonomous-driving-dataset-master/datasets/recorded_trackfiles/k729_2022-03-16')\n",
    "df_k729_2022 = get_df_from_file_list(k729_2022_vehicle_tracks_list)\n",
    "df_k729_2022_cuid = df_k729_2022.copy()\n",
    "df_k729_2022_cuid['track_id'], unique_ids = pd.factorize(df_k729_2022['track_id'])\n",
    "\n",
    "# import k733_2018\n",
    "k733_2018_vehicle_tracks_list = get_vehicle_tracks_csvs_from_dir('../../test-area-autonomous-driving-dataset-master/datasets/recorded_trackfiles/k733_2018-05-02')\n",
    "df_k733_2018 = get_df_from_file_list(k733_2018_vehicle_tracks_list)\n",
    "df_k733_2018_cuid = df_k733_2018.copy()\n",
    "df_k733_2018_cuid['track_id'], unique_ids = pd.factorize(df_k733_2018['track_id'])\n",
    "\n",
    "# import k733_2020 \n",
    "k733_2020_vehicle_tracks_list = get_vehicle_tracks_csvs_from_dir('../../test-area-autonomous-driving-dataset-master/datasets/recorded_trackfiles/k733_2020-09-15')\n",
    "df_k733_2020 = get_df_from_file_list(k733_2020_vehicle_tracks_list)\n",
    "df_k733_2020_cuid = df_k733_2020.copy()\n",
    "df_k733_2020_cuid['track_id'], unique_ids = pd.factorize(df_k733_2020['track_id'])"
   ]
  },
  {
   "cell_type": "code",
   "execution_count": 6,
   "metadata": {},
   "outputs": [],
   "source": [
    "# makes all k733 intersection track_ids continuous for both 2018 and 2020 measurements\n",
    "def make_k733_cuid_continuous():\n",
    "    max_cuid_k733_2018 = df_k733_2018_cuid['track_id'].max() + 1\n",
    "    df_k733_2020_cuid['track_id'] = df_k733_2020_cuid['track_id'] + max_cuid_k733_2018"
   ]
  },
  {
   "cell_type": "code",
   "execution_count": 7,
   "metadata": {},
   "outputs": [],
   "source": [
    "def overwrite_export_file(file_list: list, df_list: list):\n",
    "    '''\n",
    "    export pandas dataframe to given path as csv.\n",
    "    Path for export file and corresponding dataframe must have matching indices\n",
    "    '''\n",
    "\n",
    "    for path in file_list:\n",
    "        try:\n",
    "            os.remove(path)\n",
    "            print(f'{path} removed')\n",
    "        except:\n",
    "            print(f'{path} not removed')\n",
    "\n",
    "        df_list[file_list.index(path)].to_csv(path_or_buf=path)\n",
    "        print(f'{path} exported')"
   ]
  },
  {
   "cell_type": "code",
   "execution_count": 8,
   "metadata": {},
   "outputs": [
    {
     "name": "stdout",
     "output_type": "stream",
     "text": [
      "../datasets/k729_2022_cuid.csv removed\n",
      "../datasets/k729_2022_cuid.csv exported\n",
      "../datasets/k733_2018_cuid.csv removed\n",
      "../datasets/k733_2018_cuid.csv exported\n",
      "../datasets/k733_2020_cuid.csv removed\n",
      "../datasets/k733_2020_cuid.csv exported\n"
     ]
    }
   ],
   "source": [
    "intersection_file_list = ['../datasets/k729_2022_cuid.csv', '../datasets/k733_2018_cuid.csv', '../datasets/k733_2020_cuid.csv']\n",
    "intersection_df_list = [df_k729_2022_cuid, df_k733_2018_cuid, df_k733_2020_cuid]\n",
    "overwrite_export_file(intersection_file_list, intersection_df_list)"
   ]
  },
  {
   "cell_type": "code",
   "execution_count": 10,
   "metadata": {},
   "outputs": [
    {
     "name": "stdout",
     "output_type": "stream",
     "text": [
      "../datasets/k729_2022_cuid_grouped.csv not removed\n",
      "../datasets/k729_2022_cuid_grouped.csv exported\n",
      "../datasets/k733_2018_cuid_grouped.csv not removed\n",
      "../datasets/k733_2018_cuid_grouped.csv exported\n",
      "../datasets/k733_2020_cuid_grouped.csv not removed\n",
      "../datasets/k733_2020_cuid_grouped.csv exported\n"
     ]
    }
   ],
   "source": [
    "df_k729_2022_cuid_grouped = df_k729_2022_cuid.groupby('track_id').agg(list)\n",
    "df_k733_2018_cuid_grouped = df_k733_2018_cuid.groupby('track_id').agg(list)\n",
    "df_k733_2020_cuid_grouped = df_k733_2020_cuid.groupby('track_id').agg(list)\n",
    "intersection_file_list = ['../datasets/k729_2022_cuid_grouped.csv', '../datasets/k733_2018_cuid_grouped.csv', '../datasets/k733_2020_cuid_grouped.csv']\n",
    "intersection_df_list = [df_k729_2022_cuid_grouped, df_k733_2018_cuid_grouped, df_k733_2020_cuid_grouped]\n",
    "overwrite_export_file(intersection_file_list, intersection_df_list)"
   ]
  },
  {
   "cell_type": "code",
   "execution_count": null,
   "metadata": {},
   "outputs": [],
   "source": []
  }
 ],
 "metadata": {
  "kernelspec": {
   "display_name": "ba_thesis",
   "language": "python",
   "name": "python3"
  },
  "language_info": {
   "codemirror_mode": {
    "name": "ipython",
    "version": 3
   },
   "file_extension": ".py",
   "mimetype": "text/x-python",
   "name": "python",
   "nbconvert_exporter": "python",
   "pygments_lexer": "ipython3",
   "version": "3.12.2"
  }
 },
 "nbformat": 4,
 "nbformat_minor": 2
}
