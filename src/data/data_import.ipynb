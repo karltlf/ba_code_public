{
 "cells": [
  {
   "cell_type": "code",
   "execution_count": 1,
   "id": "d79c6ba8",
   "metadata": {},
   "outputs": [],
   "source": [
    "import pandas as pd\n",
    "import numpy as np\n",
    "import os\n",
    "import PATHS\n",
    "from PATHS import LOCAL_THESIS as local_thesis_path"
   ]
  },
  {
   "cell_type": "code",
   "execution_count": 2,
   "id": "e7fefc2b",
   "metadata": {},
   "outputs": [],
   "source": [
    "def switch_importing_no_formatting(i) -> str:\n",
    "    if i<10:\n",
    "        return \"00\"+str(i)\n",
    "    if i<100:\n",
    "        return \"0\"+str(i)\n",
    "    else:\n",
    "        return i\n",
    "def vehicle_track_path_builder(path:str):\n",
    "    dataset_path = \"test-area-autonomous-driving-dataset-master/datasets/recorded_trackfiles/\"\n",
    "    if \"k729\" in path:\n",
    "        return local_thesis_path+dataset_path+\"k729_2022-03-16\"\n",
    "    elif \"k733_2018\" in path:\n",
    "        return local_thesis_path+dataset_path+\"k733_2018-05-02\"\n",
    "    elif \"k733_2020\" in path:\n",
    "        return local_thesis_path+dataset_path+\"k733_2020-09-15\"\n",
    "    else:\n",
    "        raise Exception(\"No correct path provided. Path must contain one of the following:\\n k729_2022-03-16 \\n k733_2018-05-02 \\n k733_2020-09-15\") \n"
   ]
  },
  {
   "cell_type": "code",
   "execution_count": 3,
   "id": "33920031",
   "metadata": {},
   "outputs": [],
   "source": [
    "def import_func(start:int=0, stop:int=0, path:str=PATHS.FZI_TRACKFILES_K729_2022):\n",
    "    # local_path = vehicle_track_path_builder(path)\n",
    "    local_path = path\n",
    "    # get first file regardless, filter for cars only\n",
    "    df_accumulated =pd.read_csv(local_path + \"/vehicle_tracks_000.csv\")\n",
    "    df_accumulated = df_accumulated.loc[df_accumulated['agent_type'].isin(['Truck', 'Car', 'Bike'])]\n",
    "    # if needed, add other files\n",
    "    if stop == 0:\n",
    "        return df_accumulated\n",
    "    for i in np.arange(start=start+1, stop=stop+1):\n",
    "        formatted_import_number = switch_importing_no_formatting(i)\n",
    "        #print(f\"Formatted number: {formatted_import_number}\")\n",
    "        import_string = local_path + \"/vehicle_tracks_\" + formatted_import_number + \".csv\"\n",
    "        import_df = pd.read_csv(import_string)\n",
    "        #print(f\"importing: {import_string} \\n{import_df.head(3)}\")\n",
    "        import_df_filtered_cars = import_df[import_df['agent_type'].isin(['Truck', 'Car', 'Bike'])]\n",
    "        #print(f\"imported: {data_car_only.head}\")\n",
    "        df_accumulated = pd.concat([df_accumulated,import_df_filtered_cars], ignore_index=True)\n",
    "    return df_accumulated"
   ]
  },
  {
   "cell_type": "code",
   "execution_count": 4,
   "id": "89464160",
   "metadata": {},
   "outputs": [],
   "source": [
    "df_k729 = import_func(0,24,\"k729\")\n",
    "df_k733_2018 = import_func(path=\"k733_2018\")\n",
    "df_k733_2020 = import_func(path=\"k733_2020\")\n",
    "df_vehicles_accumulated = pd.concat([df_k729,df_k733_2018,df_k733_2020], ignore_index=True)"
   ]
  },
  {
   "cell_type": "code",
   "execution_count": null,
   "id": "6568d277",
   "metadata": {},
   "outputs": [],
   "source": [
    "# Write acccumulated car data to csv file\n",
    "try:\n",
    "    os.remove(local_thesis_path + \"vehicle-tracks-accumulated.csv\")\n",
    "except:\n",
    "    print(\"no file was removed\")\n",
    "df_vehicles_accumulated.to_csv(path_or_buf=local_thesis_path + \"vehicle-tracks-accumulated.csv\")"
   ]
  },
  {
   "cell_type": "code",
   "execution_count": null,
   "id": "91dfb0bb",
   "metadata": {},
   "outputs": [],
   "source": []
  }
 ],
 "metadata": {
  "kernelspec": {
   "display_name": "Python 3 (ipykernel)",
   "language": "python",
   "name": "python3"
  },
  "language_info": {
   "codemirror_mode": {
    "name": "ipython",
    "version": 3
   },
   "file_extension": ".py",
   "mimetype": "text/x-python",
   "name": "python",
   "nbconvert_exporter": "python",
   "pygments_lexer": "ipython3",
   "version": "3.12.4"
  }
 },
 "nbformat": 4,
 "nbformat_minor": 5
}
