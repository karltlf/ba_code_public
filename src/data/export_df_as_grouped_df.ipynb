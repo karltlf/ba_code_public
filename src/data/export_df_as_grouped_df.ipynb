{
 "cells": [
  {
   "cell_type": "code",
   "execution_count": 1,
   "metadata": {},
   "outputs": [],
   "source": [
    "import pandas as pd"
   ]
  },
  {
   "cell_type": "code",
   "execution_count": 4,
   "metadata": {},
   "outputs": [],
   "source": [
    "def export_df_grouped(path:str, path_grouped:str, group_id:str):\n",
    "    df = pd.read_csv(path, index_col=0)\n",
    "    df_grouped = df.groupby(group_id).agg(list)\n",
    "    df_grouped.to_csv(path_grouped)"
   ]
  },
  {
   "cell_type": "code",
   "execution_count": 5,
   "metadata": {},
   "outputs": [],
   "source": [
    "export_df_grouped('../datasets/k729_2022_cuid.csv', '../datasets/k729_2022_cuid_grouped.csv', 'track_id')\n",
    "export_df_grouped('../datasets/k733_2020_cuid.csv', '../datasets/k733_2020_cuid_grouped.csv', 'track_id')\n",
    "export_df_grouped('../datasets/k733_2018_cuid.csv', '../datasets/k733_2018_cuid_grouped.csv', 'track_id')"
   ]
  },
  {
   "cell_type": "code",
   "execution_count": null,
   "metadata": {},
   "outputs": [],
   "source": []
  }
 ],
 "metadata": {
  "kernelspec": {
   "display_name": "ba_thesis",
   "language": "python",
   "name": "python3"
  },
  "language_info": {
   "codemirror_mode": {
    "name": "ipython",
    "version": 3
   },
   "file_extension": ".py",
   "mimetype": "text/x-python",
   "name": "python",
   "nbconvert_exporter": "python",
   "pygments_lexer": "ipython3",
   "version": "3.12.2"
  }
 },
 "nbformat": 4,
 "nbformat_minor": 2
}
