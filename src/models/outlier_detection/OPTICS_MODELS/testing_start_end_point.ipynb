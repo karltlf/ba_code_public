{
 "cells": [
  {
   "cell_type": "code",
   "execution_count": 1,
   "metadata": {},
   "outputs": [],
   "source": [
    "import os\n",
    "import sys\n",
    "import matplotlib.pyplot as plt\n",
    "current_dir = os.getcwd()\n",
    "parent_parent_dir = os.path.abspath(os.path.join(current_dir, '../../../..')) # tweak so that you get dir of code project\n",
    "\n",
    "sys.path.append(parent_parent_dir)"
   ]
  },
  {
   "cell_type": "code",
   "execution_count": 19,
   "metadata": {},
   "outputs": [],
   "source": [
    "import json\n",
    "import numpy as np\n",
    "import pandas as pd\n",
    "import ast\n",
    "from sklearn.cluster import OPTICS\n",
    "from src.features.get_first_and_last_x_y_coordinates import get_first_and_last_x_y_coordinates\n",
    "from src.features.get_x_y_tuple_list import get_x_y_tuple_list\n",
    "from src.models.DISTANCE_METRICS_WITH_ADDITIONAL_ARGS import DISTANCE_METRICS_WITH_ADDITIONAL_ARGS\n",
    "from src.models.ensure_distance_metric_params import ensure_distance_metric_params\n",
    "from scipy.spatial.distance import cdist\n",
    "from scipy.optimize import linprog\n",
    "from scipy.spatial import ConvexHull\n",
    "import re"
   ]
  },
  {
   "cell_type": "code",
   "execution_count": 20,
   "metadata": {},
   "outputs": [],
   "source": [
    "# to access while testing\n",
    "intersection_name = 'k729_2022'\n",
    "data_path = f'{parent_parent_dir}/data/processed/{intersection_name}_cuid.csv'\n",
    "\n",
    "df_cuid = pd.read_csv(data_path)\n",
    "df_cuid_grouped_path = data_path.replace('.csv', '_grouped.csv')\n",
    "df_cuid_grouped = pd.read_csv(df_cuid_grouped_path)\n",
    "df_cuid_grouped['x'] = df_cuid_grouped['x'].apply(lambda x: ast.literal_eval(x))\n",
    "df_cuid_grouped['y'] = df_cuid_grouped['y'].apply(lambda y: ast.literal_eval(y))\n",
    "list_x_y_tuples = get_x_y_tuple_list(df_cuid_grouped, ['x','y'])\n",
    "first_last_x_coords, first_last_y_coords = get_first_and_last_x_y_coordinates(list_x_y_tuples)\n",
    "X = np.array([first_last_x_coords, first_last_y_coords]).T"
   ]
  },
  {
   "cell_type": "code",
   "execution_count": 21,
   "metadata": {},
   "outputs": [],
   "source": [
    "%matplotlib qt5\n",
    "import matplotlib.pyplot as plt\n",
    "from src.visualization.interactive_path_drawer.interactive_drawer import launch_interactive_drawer\n",
    "from src.features.get_global_dataframe_limits import get_global_dataframe_limits\n",
    "\n",
    "limits = get_global_dataframe_limits(df_cuid, ['x','y'])\n",
    "drawer = launch_interactive_drawer(xlim=(limits['x_min'], limits['x_max']), ylim=(limits['y_min'],limits['y_max']), background_lines=df_cuid_grouped)\n",
    "fig = plt.gcf()\n",
    "axes = fig.get_axes()\n",
    "axes[0].scatter(first_last_x_coords, first_last_y_coords, c='gray', s=5, alpha=0.6)\n",
    "plt.show(block=True)"
   ]
  },
  {
   "cell_type": "code",
   "execution_count": 22,
   "metadata": {},
   "outputs": [
    {
     "name": "stdout",
     "output_type": "stream",
     "text": [
      "(4.272076192568793, -2.1795037415776406) ,  (4.272076192568793, -2.1795037415776406)\n",
      "25.923623730118475 ,  -4.741659347511334\n"
     ]
    }
   ],
   "source": [
    "point = drawer.get_interpolated_points()\n",
    "print(point[0][0], ', ' , point[0][0])\n",
    "print(point[0][-1][0], ', ', point[0][-1][1])"
   ]
  },
  {
   "cell_type": "code",
   "execution_count": 23,
   "metadata": {},
   "outputs": [
    {
     "name": "stdout",
     "output_type": "stream",
     "text": [
      "Density of start point: 0.0015200862269112779\n",
      "Density percentile: 11.409395973154362%\n",
      "Outlier score based on KDE: 0.8859060402684564\n",
      "Density of end point: 0.0018820572021808594\n",
      "Density percentile: 15.436241610738255%\n",
      "Outlier score based on KDE: 0.8456375838926175\n",
      "{'outlier_score_start': 0.8859060402684564, 'outlier_score_end': 0.8456375838926175, 'density_start': 0.0015200862269112779, 'density_end': 0.0018820572021808594, 'density_start_percentile': 11.409395973154362, 'density_end_percentile': 15.436241610738255, 'same_cluster_penalty': False}\n"
     ]
    }
   ],
   "source": [
    "from src.models.OUTLIER_DETECTION.start_end_point_probability_handler import start_end_point_probability_handler\n",
    "# print(f'Point: {point[0][0]}')\n",
    "point_list = point[0]\n",
    "start_point_x, start_point_y = point[0][0][0], point[0][0][1]\n",
    "end_point_x, end_point_y = point[0][-1][0], point[0][-1][1]\n",
    "# start_point_x, start_point_y = 2.700988842905323 ,  -0.5216383495029007\n",
    "# end_point_x, end_point_y = 8.052505127696516 ,  -27.047484622698768\n",
    "# start_point_x, start_point_y = -1.8649837670541327 ,  -12.42812616531241\n",
    "# end_point_x, end_point_y = 0.5898402167950376 ,  -17.929224966287688\n",
    "outlier_results = start_end_point_probability_handler(f'{intersection_name}', 'silhouette', point_list)\n",
    "print(outlier_results)"
   ]
  },
  {
   "cell_type": "code",
   "execution_count": 24,
   "metadata": {},
   "outputs": [
    {
     "data": {
      "text/plain": [
       "<matplotlib.legend.Legend at 0x31565bfe0>"
      ]
     },
     "execution_count": 24,
     "metadata": {},
     "output_type": "execute_result"
    },
    {
     "data": {
      "image/png": "[encoded data removed]",
      "text/plain": [
       "<Figure size 640x480 with 1 Axes>"
      ]
     },
     "metadata": {},
     "output_type": "display_data"
    }
   ],
   "source": [
    "%matplotlib inline\n",
    "_, ax = plt.subplots()\n",
    "ax.scatter(first_last_x_coords, first_last_y_coords, c='gray', s=5, alpha=0.6)\n",
    "ax.scatter(start_point_x, start_point_y, c='red', s=10, label='Start Point')\n",
    "ax.scatter(end_point_x, end_point_y, c='blue', s=10, label='End Point')\n",
    "ax.legend()"
   ]
  },
  {
   "cell_type": "code",
   "execution_count": 25,
   "metadata": {},
   "outputs": [],
   "source": [
    "# from src.visualization.plot_vehicle_tracks_in_notebook import plot_vehicle_tracks_in_notebook\n",
    "# plot_vehicle_tracks_in_notebook(plt.gca(), df_cuid=df_cuid, df_cuid_grouped=df_cuid_grouped, color='gray')\n",
    "\n",
    "# point_label = 'Inlier' if outlier_results.in_hull == True and outlier_results.medoid_distance_similarity >= 2 else 'Outlier'\n",
    "# plt.gca().scatter(*point[0][0], color='red', zorder=1000, label=point_label)\n",
    "\n",
    "# for i in range(len(medoids)):\n",
    "#     plt.gca().scatter(medoids[i][0], medoids[i][1], color='green', zorder=100, edgecolor='white')\n",
    "\n",
    "# for i, hull in enumerate(hulls):\n",
    "#     hull_with_closure = np.vstack([hull, hull[0]])  \n",
    "#     plt.gca().plot(hull_with_closure[:,0], hull_with_closure[:,1], color='green', linestyle='--', zorder=100)\n",
    "# plt.show()"
   ]
  },
  {
   "cell_type": "code",
   "execution_count": 26,
   "metadata": {},
   "outputs": [
    {
     "ename": "NameError",
     "evalue": "name 'medoids' is not defined",
     "output_type": "error",
     "traceback": [
      "\u001b[0;31m---------------------------------------------------------------------------\u001b[0m",
      "\u001b[0;31mNameError\u001b[0m                                 Traceback (most recent call last)",
      "Cell \u001b[0;32mIn[26], line 8\u001b[0m\n\u001b[1;32m      6\u001b[0m  \u001b[38;5;66;03m# calculate cluster with lowest distance to medoid for x_input and y_input\u001b[39;00m\n\u001b[1;32m      7\u001b[0m input_point \u001b[38;5;241m=\u001b[39m [x, y]\n\u001b[0;32m----> 8\u001b[0m distances_to_medoids \u001b[38;5;241m=\u001b[39m cdist([input_point], medoids, \u001b[38;5;124m'\u001b[39m\u001b[38;5;124meuclidean\u001b[39m\u001b[38;5;124m'\u001b[39m)\n\u001b[1;32m      9\u001b[0m closest_medoid_cluster_index \u001b[38;5;241m=\u001b[39m np\u001b[38;5;241m.\u001b[39margmin(distances_to_medoids)\n\u001b[1;32m     10\u001b[0m closest_medoid_distance \u001b[38;5;241m=\u001b[39m distances_to_medoids[\u001b[38;5;241m0\u001b[39m][closest_medoid_cluster_index]\n",
      "\u001b[0;31mNameError\u001b[0m: name 'medoids' is not defined"
     ]
    }
   ],
   "source": [
    "# calculate the medoid distance similarity for all start and end points\n",
    "medoid_distance_similarities = []\n",
    "for i in range(len(X)):\n",
    "    x = X[i][0]\n",
    "    y = X[i][1]\n",
    "     # calculate cluster with lowest distance to medoid for x_input and y_input\n",
    "    input_point = [x, y]\n",
    "    distances_to_medoids = cdist([input_point], medoids, 'euclidean')\n",
    "    closest_medoid_cluster_index = np.argmin(distances_to_medoids)\n",
    "    closest_medoid_distance = distances_to_medoids[0][closest_medoid_cluster_index]\n",
    "    \n",
    "\n",
    "    # get cluster index of second to lowest distance to medoid\n",
    "    distances_to_medoids[0][closest_medoid_cluster_index] = np.inf\n",
    "    second_closest_medoid_medoid_index = np.argmin(distances_to_medoids)\n",
    "    second_clostes_medoid_distance = distances_to_medoids[0][second_closest_medoid_medoid_index]\n",
    "\n",
    "    if closest_medoid_distance == 0:\n",
    "        distance_similarity = np.inf\n",
    "        medoid_distance_similarities.append(distance_similarity)\n",
    "        continue\n",
    "\n",
    "    distance_similarity = second_clostes_medoid_distance / closest_medoid_distance # ≥ 1\n",
    "\n",
    "    medoid_distance_similarities.append(distance_similarity)"
   ]
  },
  {
   "cell_type": "code",
   "execution_count": 11,
   "metadata": {},
   "outputs": [],
   "source": [
    "# filter out np.inf values\n",
    "medoid_distance_similarities = np.array(medoid_distance_similarities)\n",
    "medoid_distance_similarities_finite = medoid_distance_similarities[np.isfinite(medoid_distance_similarities)]\n",
    "medoid_distance_similarities_finite_80_percentile = np.percentile(medoid_distance_similarities_finite, 80)\n",
    "medoid_distance_similarities_finite_75_percentile = np.percentile(medoid_distance_similarities_finite, 75)\n",
    "medoid_distance_similarities_finite_80_percentile_filtered = medoid_distance_similarities_finite[medoid_distance_similarities_finite <= medoid_distance_similarities_finite_80_percentile]\n",
    "medoid_distance_similarities_infinite = medoid_distance_similarities[np.isinf(medoid_distance_similarities)]\n",
    "inf_count = np.sum(np.isinf(medoid_distance_similarities))"
   ]
  },
  {
   "cell_type": "code",
   "execution_count": 12,
   "metadata": {},
   "outputs": [],
   "source": [
    "\n",
    "# hist_fig = plt.figure()\n",
    "# hist_fig = plt.hist(medoid_distance_similarities_finite_80_percentile_filtered, bins=200, label='finite distance similarities')\n",
    "# hist_fig = plt.bar(max(medoid_distance_similarities_finite_80_percentile_filtered + 1), inf_count, color='red', width = 0.5, label = 'inf')\n",
    "# plt.xlim(left=min(medoid_distance_similarities_finite_80_percentile_filtered), right = max(medoid_distance_similarities_finite_80_percentile_filtered) + 2)\n",
    "# plt.show()"
   ]
  },
  {
   "cell_type": "code",
   "execution_count": null,
   "metadata": {},
   "outputs": [],
   "source": [
    "print(f'Max similarity: {np.max(medoid_distance_similarities_finite)} in index {np.argmax(medoid_distance_similarities_finite)}')"
   ]
  },
  {
   "cell_type": "code",
   "execution_count": null,
   "metadata": {},
   "outputs": [],
   "source": [
    "from matplotlib.colors import BoundaryNorm\n",
    "from src.visualization.plot_vehicle_tracks_in_notebook import plot_vehicle_tracks_in_notebook\n",
    "\n",
    "\n",
    "colored_dist_sim_fig = plt.figure()\n",
    "color_cutoff = medoid_distance_similarities_finite_75_percentile\n",
    "print(color_cutoff)\n",
    "boundaries = np.concatenate([np.linspace(1, color_cutoff, 100), [max(medoid_distance_similarities_finite)]])\n",
    "norm = BoundaryNorm(boundaries, ncolors=256, extend='max')\n",
    "colored_dist_sim_fig = plt.scatter(X[:,0], X[:,1], c=medoid_distance_similarities, cmap='viridis', norm=norm, zorder=100, label='distance similarity of start and end points')\n",
    "cbar = plt.colorbar(colored_dist_sim_fig)\n",
    "cbar.set_label('Distance Similarity')\n",
    "for i, hull in enumerate(hulls):\n",
    "    hull_with_closure = np.vstack([hull, hull[0]])  \n",
    "    if i == 0:\n",
    "        plt.gca().plot(hull_with_closure[:,0], hull_with_closure[:,1], color='red', linestyle='--', zorder=1000, label='convex hulls')\n",
    "    else:\n",
    "        plt.gca().plot(hull_with_closure[:,0], hull_with_closure[:,1], color='red', linestyle='--', zorder=1000)\n",
    "        \n",
    "\n",
    "for i in range(len(medoids)):\n",
    "    if i == 0:\n",
    "        plt.gca().scatter(medoids[i][0], medoids[i][1], color='red', zorder=50, edgecolor='white', label='medoids', s=200)\n",
    "    else:\n",
    "        plt.gca().scatter(medoids[i][0], medoids[i][1], color='red', zorder=50, edgecolor='white', s=200)\n",
    "\n",
    "plot_vehicle_tracks_in_notebook(plt.gca(), df_cuid=df_cuid, df_cuid_grouped=df_cuid_grouped, color='gray')\n",
    "plt.gca().set_title('Distance similarity: $\\\\frac{d(x, medoid_{second closest})}{d(x, medoid_{closest})}$ \\n \\n color cutoff at 75th percentile')\n",
    "plt.gcf().suptitle('Distance similarity of points to closest and second closest medoids with the clusters\\' convex hulls')\n",
    "plt.gca().scatter(*point[0][0], color='black', zorder=1000, label='Drawn Point', s=200, edgecolors='white')\n",
    "plt.legend()\n",
    "plt.show()"
   ]
  },
  {
   "cell_type": "markdown",
   "metadata": {},
   "source": [
    "## testing dtw path fitting"
   ]
  },
  {
   "cell_type": "code",
   "execution_count": 12,
   "metadata": {},
   "outputs": [],
   "source": [
    "# import dtw distance matrix\n",
    "dtw_distance_matrix_path = f'{parent_parent_dir}/src/models/OUTLIER_DETECTION/OPTICS_MODELS/{intersection_name}_dtw_distance_matrix.json'\n",
    "with open(dtw_distance_matrix_path) as f:\n",
    "    dtw_distance_matrix = json.load(f)"
   ]
  },
  {
   "cell_type": "code",
   "execution_count": 13,
   "metadata": {},
   "outputs": [],
   "source": [
    "min_samples = 5\n",
    "max_eps = 60\n",
    "metric='precomputed'\n",
    "cluster_method = 'dbscan'\n",
    "metrics_description = f'with min samples: {min_samples}\\nmax_eps: {max_eps}\\nmetric: DTW\\nclustermethod: {cluster_method}'\n",
    "optics_dtw_clustering = OPTICS(min_samples=min_samples,\n",
    "                           max_eps=max_eps,\n",
    "                           cluster_method=cluster_method,\n",
    "                           metric=metric,\n",
    "                           ).fit(dtw_distance_matrix)"
   ]
  },
  {
   "cell_type": "code",
   "execution_count": null,
   "metadata": {},
   "outputs": [],
   "source": [
    "from src.models.optics.get_clusters_from_optics_labels import get_clusters_from_optics_labels\n",
    "from src.visualization.render_vehicle_track_cluster_in_notebook import render_vehicle_track_cluster_in_notebook\n",
    "\n",
    "clusters_dtw = get_clusters_from_optics_labels(optics_dtw_clustering.labels_)\n",
    "\n",
    "render_vehicle_track_cluster_in_notebook(plt.gca(), df_cuid, df_cuid_grouped, clusters_dtw)\n"
   ]
  },
  {
   "cell_type": "code",
   "execution_count": null,
   "metadata": {},
   "outputs": [],
   "source": []
  }
 ],
 "metadata": {
  "kernelspec": {
   "display_name": "ba_thesis",
   "language": "python",
   "name": "python3"
  },
  "language_info": {
   "codemirror_mode": {
    "name": "ipython",
    "version": 3
   },
   "file_extension": ".py",
   "mimetype": "text/x-python",
   "name": "python",
   "nbconvert_exporter": "python",
   "pygments_lexer": "ipython3",
   "version": "3.12.2"
  }
 },
 "nbformat": 4,
 "nbformat_minor": 2
}
